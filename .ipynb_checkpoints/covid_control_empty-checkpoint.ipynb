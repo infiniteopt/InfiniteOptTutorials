{
 "cells": [
  {
   "cell_type": "markdown",
   "metadata": {},
   "source": [
    "# Optimal Control of Covid-19 Spread\n",
    "---------------------------------------------------------------------------------------------------\n",
    "---------------------------------------------------------------------------------------------------\n",
    "\n",
    "## Problem Statement and Model \n",
    "---------------------------------------------------------------------------------------------------\n",
    "We wish to determine optimal social distancing policy to control spread of Covid-19 and minimize the economic impact of doing so. We'll model the spread of the virus through a given population using the SEIR Model which considers 4 population subsets that follow:\n",
    "$$\\text{Susceptible} \\rightarrow \\text{Exposed} \\rightarrow \\text{Infectious} \\rightarrow \\text{Recovered}$$\n",
    "This model is formalized as:\n",
    "$$\n",
    "\\begin{gather*}\n",
    "\\frac{ds(t)}{dt} = (u(t) - 1)\\beta si(t) \\\\\n",
    "\\frac{de(t)}{dt} = (1 - u(t))\\beta si(t) - \\xi e(t) \\\\\n",
    "\\frac{di(t)}{dt} = \\xi e(t) - \\gamma i(t)\\\\\n",
    "\\frac{dr(t)}{dt} = \\gamma i(t) \\\\\n",
    "si(t) = s(t) i(t)\n",
    "\\end{gather*}\n",
    "$$\n",
    "where $s(t)$ is the susceptible population, $e(t)$ is the exposed population, $i(t)$ is the infectious population, $r(t)$ is the recovered population, and $u(t) \\in [0, 1]$ is the enforced population isolation (social distancing). The other values denote model parameters that will be specific to the contagion in question. \n",
    "\n",
    "For our case study, we'll consider the incubation constant $\\xi$ to be an uncertain parameter $\\xi \\sim \\mathcal{U}(\\underline{\\xi}, \\overline{\\xi})$. This introduces to infinite dependencies into our model: time $t$ and uncertain incubation $\\xi$. Moreover we'll seek to minimize the isolation measures $u(t)$ that are implemented while limiting the amount of infected individuals $i(t)$ to be below a threshold $i_{max}$ to a certain tolerance $\\epsilon$. Thus, the optimization problem becomes:\n",
    "$$\n",
    "\\begin{aligned}\n",
    "&&\\min_{} &&& \\int_{t \\in \\mathcal{D}_{t}} u(t) dt \\\\\n",
    "&& \\text{s.t.} &&& \\frac{\\partial s(t, \\xi)}{\\partial t} = (u(t) - 1)\\beta si(t, \\xi), && \\forall t \\in \\mathcal{D}_{t}, \\xi \\in \\mathcal{D}_{\\xi} \\\\\n",
    "&&&&& \\frac{\\partial e(t, \\xi)}{\\partial t} = (1 - u(t))\\beta si(t, \\xi) - \\xi e(t, \\xi), && \\forall t \\in \\mathcal{D}_{t}, \\xi \\in \\mathcal{D}_{\\xi} \\\\\n",
    "&&&&& \\frac{\\partial i(t, \\xi)}{\\partial t} = \\xi e(t, \\xi) - \\gamma i(t, \\xi), && \\forall t \\in \\mathcal{D}_{t}, \\xi \\in \\mathcal{D}_{\\xi} \\\\\n",
    "&&&&& \\frac{\\partial r(t, \\xi)}{\\partial t} = \\gamma i(t, \\xi), && \\forall t \\in \\mathcal{D}_{t}, \\xi \\in \\mathcal{D}_{\\xi} \\\\\n",
    "&&&&& si(t, \\xi) = s(t, \\xi) i(t, \\xi), && \\forall \\forall t \\in \\mathcal{D}_{t}, \\xi \\in \\mathcal{D}_{\\xi} \\\\\n",
    "&&&&& s(0, \\xi) = s_0, e(0, \\xi) = e_0, i(0, \\xi) = i_0, r(0, \\xi) = r_0, && \\forall \\xi \\in \\mathcal{D}_{\\xi} \\\\\n",
    "&&&&& \\mathbb{E}_{t}\\left[i(t, \\xi) - i_{max} \\right]_+ \\leq \\epsilon, && \\forall \\xi \\in \\mathcal{D}_{\\xi} \\\\\n",
    "&&&&& u(t) \\in [0, 0.8] \\\\\n",
    "&&&&& \\xi \\sim \\mathcal{U}(\\underline{\\xi}, \\overline{\\xi})\n",
    "\\end{aligned}\n",
    "$$\n",
    "Notice that the SEIR model variables now all depend on both $t$ and $\\xi$, except $u(t)$ which means we need to decide our policy before knowing the true value of $\\xi$. We also enforce a fairly exotic constraint $$\\mathbb{E}_{t}\\left[i(t, \\xi) - i_{max} \\right]_+ \\leq \\epsilon$$ that enforces the acceptable threshold of infected individuals to a certain tolerance over time as explained above. \n",
    "\n",
    "## Modeling in InfiniteOpt \n",
    "---------------------------------------------------------------------------------------------------\n",
    "Traditional modeling frameworks like JuMP cannot be used to solve this model directly because it is infinite, contains partial difference equations, and contains a time expectation. We would first have to transform it into a transcripted (discretized) variant by applying all the necessary techniques (e.g., orthogonal collocation over finite elements, trapezoid rule, etc.) which is very combersome and nontrivial in this case. \n",
    "\n",
    "However, we can directly model the above form in InfiniteOpt and it will take care of the rest! Let's get started by importing the needed packages and specifying the model parameters that we'll need."
   ]
  },
  {
   "cell_type": "code",
   "execution_count": null,
   "metadata": {},
   "outputs": [],
   "source": [
    "using JuMP, InfiniteOpt, Ipopt, Distributions, Plots"
   ]
  },
  {
   "cell_type": "code",
   "execution_count": null,
   "metadata": {},
   "outputs": [],
   "source": [
    "# Set the SEIR parameters\n",
    "γ = 0.303\n",
    "β = 0.727\n",
    "N = 1e5\n",
    "ξ_min = 0.1 \n",
    "ξ_max = 0.6\n",
    "\n",
    "# Set the domain information\n",
    "i_max = 0.02\n",
    "ϵ = 0.005\n",
    "t0 = 0\n",
    "tf = 200\n",
    "extra_ts = [0.001, 0.002, 0.004, 0.008, 0.02, 0.04, 0.08, 0.2, 0.4, 0.8]\n",
    "num_samples = 20\n",
    "\n",
    "# Set the intial condition values\n",
    "e0 = 1 / N\n",
    "i0 = 0\n",
    "r0 = 0\n",
    "s0 = 1 - 1 / N;"
   ]
  },
  {
   "cell_type": "markdown",
   "metadata": {},
   "source": [
    "## Model Initialization\n",
    "---------------------------------------------------------------------------------------------------\n",
    "Now let's setup our infinite model and select Ipopt as our optimizer that will be used to solve it. This is accomplished making an `InfiniteModel`."
   ]
  },
  {
   "cell_type": "code",
   "execution_count": null,
   "metadata": {},
   "outputs": [],
   "source": []
  },
  {
   "cell_type": "markdown",
   "metadata": {},
   "source": [
    "## Infinite Parameter Definition \n",
    "---------------------------------------------------------------------------------------------------\n",
    "We now need to define the infinite parameters $t \\in [t_0, t_f]$ and $\\xi \\sim \\mathcal{U}(\\underline{\\xi}, \\overline{\\xi})$. This is accomplished with `@infinite_parameter`. We'll also include the following specifications:\n",
    "* use `tf - t0 - 1` equidistant time points\n",
    "* specify that orgothonal collocation using 2 nodes should be used for time derivatives\n",
    "* specify that the number of random scenarios whoudl equal `num_saamples`\n",
    "* add `extra_ts` as extra time points"
   ]
  },
  {
   "cell_type": "code",
   "execution_count": null,
   "metadata": {},
   "outputs": [],
   "source": []
  },
  {
   "cell_type": "markdown",
   "metadata": {},
   "source": [
    "## Infinite Variable Definition \n",
    "---------------------------------------------------------------------------------------------------\n",
    "With our infinite parameters defined, we can now define our infintie variables:\n",
    "* $s(t, \\xi) \\geq 0$\n",
    "* $e(t, \\xi) \\geq 0$\n",
    "* $i(t, \\xi) \\geq 0$\n",
    "* $r(t, \\xi) \\geq 0$\n",
    "* $si(t, \\xi)$\n",
    "* $0 \\leq u(t) \\leq 0.8$"
   ]
  },
  {
   "cell_type": "code",
   "execution_count": null,
   "metadata": {},
   "outputs": [],
   "source": []
  },
  {
   "cell_type": "markdown",
   "metadata": {},
   "source": [
    "## Objective Definition \n",
    "---------------------------------------------------------------------------------------------------\n",
    "Now its time to add the objective $\\min \\ \\int_{t \\in \\mathcal{D}_{t}} u(t) dt$ using `@objective`."
   ]
  },
  {
   "cell_type": "code",
   "execution_count": null,
   "metadata": {},
   "outputs": [],
   "source": []
  },
  {
   "cell_type": "markdown",
   "metadata": {},
   "source": [
    "## Constraint Definition\n",
    "---------------------------------------------------------------------------------------------------\n",
    "The last step now to defining our model is to define the constraints using `@constraint` and `@BDconstraint`. This will involve defining the initial conditions:\n",
    "$$s(0, \\xi) = s_0, e(0, \\xi) = e_0, i(0, \\xi) = i_0, r(0, \\xi) = r_0, \\ \\forall \\xi \\in \\mathcal{D}_{\\xi},$$\n",
    "the model equations:\n",
    "$$\n",
    "\\begin{aligned}\n",
    "&&& \\frac{\\partial s(t, \\xi)}{\\partial t} = (u(t) - 1)\\beta si(t, \\xi), && \\forall t \\in \\mathcal{D}_{t}, \\xi \\in \\mathcal{D}_{\\xi} \\\\\n",
    "&&& \\frac{\\partial e(t, \\xi)}{\\partial t} = (1 - u(t))\\beta si(t, \\xi) - \\xi e(t, \\xi), && \\forall t \\in \\mathcal{D}_{t}, \\xi \\in \\mathcal{D}_{\\xi} \\\\\n",
    "&&& \\frac{\\partial i(t, \\xi)}{\\partial t} = \\xi e(t, \\xi) - \\gamma i(t, \\xi), && \\forall t \\in \\mathcal{D}_{t}, \\xi \\in \\mathcal{D}_{\\xi} \\\\\n",
    "&&& \\frac{\\partial r(t, \\xi)}{\\partial t} = \\gamma i(t, \\xi), && \\forall t \\in \\mathcal{D}_{t}, \\xi \\in \\mathcal{D}_{\\xi} \\\\\n",
    "&&& si(t, \\xi) = s(t, \\xi) i(t, \\xi), && \\forall \\forall t \\in \\mathcal{D}_{t}, \\xi \\in \\mathcal{D}_{\\xi}, \\\\\n",
    "\\end{aligned}\n",
    "$$\n",
    "and the expectation constraint:\n",
    "$$\\mathbb{E}_{t}\\left[i(t, \\xi) - i_{max} \\right]_+ \\leq \\epsilon, \\ \\forall \\xi \\in \\mathcal{D}_{\\xi}.$$\n",
    "\n",
    "Here the maximization in the final constraint can be dealt with by introducing a variable $y(t)$ and transforming it into:\n",
    "$$\n",
    "\\begin{aligned}\n",
    "&&& y(t) \\geq 0, && \\forall t \\in \\mathcal{D}_t \\\\\n",
    "&&& i(t, \\xi) - i_{max} \\leq y(t), && \\forall t \\in \\mathcal{D}_t, \\xi \\in \\mathcal{D}_\\xi \\\\\n",
    "&&& \\mathbb{E}_t\\left[ y(t) \\right] \\leq \\epsilon, && \\forall \\xi \\in \\mathcal{D}_\\xi \\\\\n",
    "\\end{aligned}\n",
    "$$"
   ]
  },
  {
   "cell_type": "code",
   "execution_count": null,
   "metadata": {},
   "outputs": [],
   "source": []
  },
  {
   "cell_type": "markdown",
   "metadata": {},
   "source": [
    "## Display the Infinite Model \n",
    "---------------------------------------------------------------------------------------------------\n",
    "Let's display `model` now that it is fully defined."
   ]
  },
  {
   "cell_type": "code",
   "execution_count": null,
   "metadata": {},
   "outputs": [],
   "source": []
  },
  {
   "cell_type": "markdown",
   "metadata": {},
   "source": [
    "## Optimize the Model\n",
    "---------------------------------------------------------------------------------------------------\n",
    "Let's solve our model and find the optimal policy. All we have to do is invoke `optimize!` and the model will automatically be transformed solved behind the scenes."
   ]
  },
  {
   "cell_type": "code",
   "execution_count": null,
   "metadata": {},
   "outputs": [],
   "source": []
  },
  {
   "cell_type": "markdown",
   "metadata": {},
   "source": [
    "## Retrieve and Plot the Results\n",
    "---------------------------------------------------------------------------------------------------\n",
    "Now we can retrieve the optimal results and plot them to visualize the optimal policy. Note that the values of infinite variables will be returned as arrays corresponding to how the supports were used to discretize our model. We can retrieve our values using `value`."
   ]
  },
  {
   "cell_type": "code",
   "execution_count": null,
   "metadata": {},
   "outputs": [],
   "source": [
    "# Get results (fill in the needed functions)\n",
    "r_opt = \n",
    "s_opt = \n",
    "i_opt = \n",
    "e_opt = \n",
    "u_opt = \n",
    "obj_opt = \n",
    "ts = \n",
    "ξs = "
   ]
  },
  {
   "cell_type": "code",
   "execution_count": null,
   "metadata": {},
   "outputs": [],
   "source": [
    "# Plot the values r(t, ξ) over time with confidence bounds\n",
    "r_mean = mean(r_opt, dims = 2)\n",
    "r_std = std(r_opt, dims = 2)\n",
    "plot(ts, r_mean, label = \"r(t, ξ)\", linecolor = :red)\n",
    "plot!(ts, r_mean + r_std, linecolor = :red, linestyle = :dash, linealpha = 0.4, label = \"\")\n",
    "plot!(ts, r_mean - r_std, linecolor = :red, linestyle = :dash, linealpha = 0.4, label = \"\")\n",
    "\n",
    "# Plot the values s(t, ξ) over time with confidence bounds\n",
    "s_mean = mean(s_opt, dims = 2)\n",
    "s_std = std(s_opt, dims = 2)\n",
    "plot!(ts, s_mean, label = \"s(t, ξ)\", linecolor = :blue)\n",
    "plot!(ts, s_mean + s_std, linecolor = :blue, linestyle = :dash, linealpha = 0.4, label = \"\")\n",
    "plot!(ts, s_mean - s_std, linecolor = :blue, linestyle = :dash, linealpha = 0.4, label = \"\")\n",
    "ylabel!(\"Pop. (%)\")\n",
    "xlabel!(\"Time (Days)\")"
   ]
  },
  {
   "cell_type": "code",
   "execution_count": null,
   "metadata": {},
   "outputs": [],
   "source": [
    "# Plot the values i(t, ξ) over time with confidence bounds\n",
    "i_mean = mean(i_opt, dims = 2)\n",
    "i_std = std(i_opt, dims = 2)\n",
    "plot(ts, i_mean, label = \"i(t, ξ)\", linecolor = :green)\n",
    "plot!(ts, i_mean + i_std, linecolor = :green, linestyle = :dash, linealpha = 0.4, label = \"\")\n",
    "plot!(ts, i_mean - i_std, linecolor = :green, linestyle = :dash, linealpha = 0.4, label = \"\")\n",
    "\n",
    "# Plot the values e(t, ξ) over time with confidence bounds\n",
    "e_mean = mean(e_opt, dims = 2)\n",
    "e_std = std(e_opt, dims = 2)\n",
    "plot!(ts, e_mean, label = \"e(t, ξ)\", linecolor = :purple)\n",
    "plot!(ts, e_mean + e_std, linecolor = :purple, linestyle = :dash, linealpha = 0.4, label = \"\")\n",
    "plot!(ts, e_mean - e_std, linecolor = :purple, linestyle = :dash, linealpha = 0.4, label = \"\")\n",
    "ylabel!(\"Pop. (%)\")\n",
    "xlabel!(\"Time (Days)\")"
   ]
  },
  {
   "cell_type": "code",
   "execution_count": null,
   "metadata": {},
   "outputs": [],
   "source": [
    "# Plot the values of u(t) over time\n",
    "plot(ts, u_opt, linecolor = :orange, label = \"u(t)\", ylims = (-0.02, 1.02))\n",
    "xlabel!(\"Time (Days)\")\n",
    "ylabel!(\"Distancing Ratio\")"
   ]
  }
 ],
 "metadata": {
  "kernelspec": {
   "display_name": "Julia 1.2.0",
   "language": "julia",
   "name": "julia-1.2"
  },
  "language_info": {
   "file_extension": ".jl",
   "mimetype": "application/julia",
   "name": "julia",
   "version": "1.2.0"
  }
 },
 "nbformat": 4,
 "nbformat_minor": 2
}
