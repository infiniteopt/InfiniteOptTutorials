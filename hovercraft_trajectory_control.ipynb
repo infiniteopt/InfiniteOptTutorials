{
 "cells": [
  {
   "cell_type": "markdown",
   "metadata": {},
   "source": [
    "# Hovercraft Path Planning \n",
    "------------------------------------------------------------------------------------------------\n",
    "------------------------------------------------------------------------------------------------\n",
    "## Problem Statement and Model\n",
    "------------------------------------------------------------------------------------------------\n",
    "In this case study, we seek to determine an optimal control policy for the trajectory of a hovercraft that travels to a set of dynamic waypoints $p$ while trying to minimize the thrust input $u$. Let's model this problem using a point mass Newtonian equations (assuming the mass to be 1):\n",
    "$$ \\frac{dx(t)}{dt} = v(t) $$\n",
    "$$ \\frac{dv(t)}{dt} = u(t). $$\n",
    " \n",
    "Here $x(t)$ is the Cartesian position and $v(t)$ is the velocity. \n",
    "\n",
    "With this model we can now formulate a dynamic optimization problem that minimizes the necessary thrust to reach all of our waypoints at the alotted times in a time horizon $T$:\n",
    "$$\n",
    "\\begin{aligned}\n",
    "\t&&\\underset{x(t), v(t), u(t)}{\\text{min}} &&& \\int_{t \\in T} \\sum_{i \\in I} u_i^2(t) dt  \\\\\n",
    "\t&&\\text{s.t.} &&& v_i(0) = v0_i, && \\forall i \\in I\\\\\n",
    "\t&&&&& \\frac{dx_i(t)}{dt} = v_i(t), && \\forall i \\in I\\\\\n",
    "    &&&&& \\frac{dv_i(t)}{dt} = u_i(t), && \\forall i \\in I\\\\\n",
    "    &&&&& x_i(t_w) = p_{iw}, && \\forall i \\in I, w \\in W.\n",
    "\\end{aligned}\n",
    "$$\n",
    "\n",
    "## Modeling Preliminaries\n",
    "--------------------------------------------------------------------------------------------------\n",
    "Now let's model this using InfiniteOpt.jl! We'll get started by loading in the needed packages and by specifiying our desired problem parameters."
   ]
  },
  {
   "cell_type": "code",
   "execution_count": 2,
   "metadata": {},
   "outputs": [],
   "source": [
    "using InfiniteOpt, JuMP, Ipopt, Plots"
   ]
  },
  {
   "cell_type": "code",
   "execution_count": 3,
   "metadata": {},
   "outputs": [],
   "source": [
    "# Specify waypoint information\n",
    "p = [1 4 6 1; 1 3 0 1] # positions\n",
    "tw = [0, 25, 50, 60]    # times\n",
    "\n",
    "# Specify the problem sets \n",
    "I = 1:2 # cartesian indices\n",
    "W = 1:4 # waypoint indices\n",
    "\n",
    "# Specify the time horizon parameters \n",
    "t0 = 0\n",
    "tf = 60\n",
    "\n",
    "# Specify the initial condition values \n",
    "v0 = [0, 0];"
   ]
  },
  {
   "cell_type": "markdown",
   "metadata": {},
   "source": [
    "## Model Initialization\n",
    "---------------------------------------------------------------------------------------------------\n",
    "Now let's setup our infinite model and select Ipopt as our optimizer that will be used to solve it. This is accomplished using `InfiniteModel`."
   ]
  },
  {
   "cell_type": "code",
   "execution_count": 4,
   "metadata": {},
   "outputs": [],
   "source": [
    "model = InfiniteModel(Ipopt.Optimizer);"
   ]
  },
  {
   "cell_type": "markdown",
   "metadata": {},
   "source": [
    "## Parameter & Variable Definition\n",
    "---------------------------------------------------------------------------------------------------\n",
    "We have a model now, so let's add our infinite parameters and decision variables. In this problem, we have 1 infinite parameter $t \\in T = [t_0, t_f]$ and 3 decision variables: \n",
    "* $x_i(t), \\ \\forall i \\in I$\n",
    "* $v_i(t), \\ \\forall i \\in I$\n",
    "* $u_i(t), \\ \\forall i \\in I$\n",
    "\n",
    "We define these in InfiniteOpt.jl using `@infinite_parameter` and `@infinite_variable`."
   ]
  },
  {
   "cell_type": "code",
   "execution_count": 5,
   "metadata": {},
   "outputs": [
    {
     "data": {
      "text/plain": [
       "1-dimensional DenseAxisArray{GeneralVariableRef,1,...} with index sets:\n",
       "    Dimension 1, 1:2\n",
       "And data, a 2-element Array{GeneralVariableRef,1}:\n",
       " u[1](t)\n",
       " u[2](t)"
      ]
     },
     "execution_count": 5,
     "metadata": {},
     "output_type": "execute_result"
    }
   ],
   "source": [
    "@infinite_parameter(model, t in [t0, tf], num_supports = 61)\n",
    "@infinite_variable(model, x[i in I](t), start = 1) # position\n",
    "@infinite_variable(model, v[i in I](t), start = 0) # velocity\n",
    "@infinite_variable(model, u[i in I](t), start = 0) # thruster input"
   ]
  },
  {
   "cell_type": "markdown",
   "metadata": {},
   "source": [
    "## Objective Definition \n",
    "---------------------------------------------------------------------------------------------------\n",
    "Now let's define the objective function:\n",
    "$$\\min \\ \\int_{t \\in T} \\sum_{i \\in I} u_i^2(t) dt$$\n",
    "Principally, this is accomplished with `@objective`."
   ]
  },
  {
   "cell_type": "code",
   "execution_count": 6,
   "metadata": {},
   "outputs": [
    {
     "data": {
      "text/latex": [
       "$$ \\int_{t \\in [0, 60]}u_{1}(t)^2 + u_{2}(t)^2dt $$"
      ],
      "text/plain": [
       "integral{t in [0, 60]}[u[1](t)² + u[2](t)²]"
      ]
     },
     "execution_count": 6,
     "metadata": {},
     "output_type": "execute_result"
    }
   ],
   "source": [
    "@objective(model, Min, integral(sum(u[i]^2 for i in I), t))"
   ]
  },
  {
   "cell_type": "markdown",
   "metadata": {},
   "source": [
    "## Constraint Definition \n",
    "---------------------------------------------------------------------------------------------------\n",
    "The final step of model definition will be adding our constraints. These are comprised of our initial conditions,\n",
    "$$v_i(0) = v0_i, \\ \\forall i \\in I$$\n",
    "the physics equation constraints,\n",
    "$$\\frac{dx_i(t)}{dt} = v_i(t), \\ \\forall i \\in I$$\n",
    "$$\\frac{dv_i(t)}{dt} = u_i(t), \\ \\forall i \\in I$$\n",
    "and the waypoint constraints\n",
    "$$x_i(t_w) = p_{iw}, \\ \\forall i \\in I, w \\in W.$$\n",
    "\n",
    "In InfiniteOpt this is accomplished via `@constraint` and `@BDconstraint`."
   ]
  },
  {
   "cell_type": "code",
   "execution_count": 7,
   "metadata": {},
   "outputs": [
    {
     "data": {
      "text/plain": [
       "2-dimensional DenseAxisArray{InfOptConstraintRef,2,...} with index sets:\n",
       "    Dimension 1, 1:2\n",
       "    Dimension 2, 1:4\n",
       "And data, a 2×4 Array{InfOptConstraintRef,2}:\n",
       " x[1](t) == 1.0, for all t == 0  …  x[1](t) == 1.0, for all t == 60\n",
       " x[2](t) == 1.0, for all t == 0     x[2](t) == 1.0, for all t == 60"
      ]
     },
     "execution_count": 7,
     "metadata": {},
     "output_type": "execute_result"
    }
   ],
   "source": [
    "# Set the initial conditions\n",
    "@BDconstraint(model, initial_velocity[i in I](t == 0), v[i] == 0)\n",
    "\n",
    "# Define the point physics\n",
    "@constraint(model, [i in I], deriv(x[i], t) == v[i])\n",
    "@constraint(model, [i in I], deriv(v[i], t) == u[i])\n",
    "\n",
    "# Hit all the waypoints\n",
    "@BDconstraint(model, [i in I, w in W](t == tw[w]), x[i] == p[i, w])"
   ]
  },
  {
   "cell_type": "markdown",
   "metadata": {},
   "source": [
    "## Solution and Analysis\n",
    "---------------------------------------------------------------------------------------------------\n",
    "Our model is now fully defined! Let's solve it using `optimize!` and extract the optimal variable values using `value`."
   ]
  },
  {
   "cell_type": "code",
   "execution_count": 8,
   "metadata": {},
   "outputs": [
    {
     "name": "stdout",
     "output_type": "stream",
     "text": [
      "\n",
      "******************************************************************************\n",
      "This program contains Ipopt, a library for large-scale nonlinear optimization.\n",
      " Ipopt is released as open source code under the Eclipse Public License (EPL).\n",
      "         For more information visit http://projects.coin-or.org/Ipopt\n",
      "******************************************************************************\n",
      "\n",
      "This is Ipopt version 3.13.2, running with linear solver mumps.\n",
      "NOTE: Other linear solvers might be more efficient (see Ipopt documentation).\n",
      "\n",
      "Number of nonzeros in equality constraint Jacobian...:     1218\n",
      "Number of nonzeros in inequality constraint Jacobian.:        0\n",
      "Number of nonzeros in Lagrangian Hessian.............:      122\n",
      "\n",
      "Total number of variables............................:      610\n",
      "                     variables with only lower bounds:        0\n",
      "                variables with lower and upper bounds:        0\n",
      "                     variables with only upper bounds:        0\n",
      "Total number of equality constraints.................:      494\n",
      "Total number of inequality constraints...............:        0\n",
      "        inequality constraints with only lower bounds:        0\n",
      "   inequality constraints with lower and upper bounds:        0\n",
      "        inequality constraints with only upper bounds:        0\n",
      "\n",
      "iter    objective    inf_pr   inf_du lg(mu)  ||d||  lg(rg) alpha_du alpha_pr  ls\n",
      "   0  0.0000000e+00 5.00e+00 0.00e+00  -1.0 0.00e+00    -  0.00e+00 0.00e+00   0\n",
      "   1  4.3685293e-02 8.88e-16 1.39e-17  -1.0 6.11e+00    -  1.00e+00 1.00e+00h  1\n",
      "\n",
      "Number of Iterations....: 1\n",
      "\n",
      "                                   (scaled)                 (unscaled)\n",
      "Objective...............:   4.3685293177035435e-02    4.3685293177035435e-02\n",
      "Dual infeasibility......:   1.3877787807814457e-17    1.3877787807814457e-17\n",
      "Constraint violation....:   8.8817841970012523e-16    8.8817841970012523e-16\n",
      "Complementarity.........:   0.0000000000000000e+00    0.0000000000000000e+00\n",
      "Overall NLP error.......:   8.8817841970012523e-16    8.8817841970012523e-16\n",
      "\n",
      "\n",
      "Number of objective function evaluations             = 2\n",
      "Number of objective gradient evaluations             = 2\n",
      "Number of equality constraint evaluations            = 2\n",
      "Number of inequality constraint evaluations          = 0\n",
      "Number of equality constraint Jacobian evaluations   = 1\n",
      "Number of inequality constraint Jacobian evaluations = 0\n",
      "Number of Lagrangian Hessian evaluations             = 1\n",
      "Total CPU secs in IPOPT (w/o function evaluations)   =      1.721\n",
      "Total CPU secs in NLP function evaluations           =      0.545\n",
      "\n",
      "EXIT: Optimal Solution Found.\n"
     ]
    }
   ],
   "source": [
    "# Optimize the model\n",
    "optimize!(model)"
   ]
  },
  {
   "cell_type": "code",
   "execution_count": 15,
   "metadata": {},
   "outputs": [
    {
     "data": {
      "text/plain": [
       "0.043685293177035435"
      ]
     },
     "execution_count": 15,
     "metadata": {},
     "output_type": "execute_result"
    }
   ],
   "source": [
    "# Extract the results\n",
    "if has_values(model)\n",
    "    x_opt = value.(x)\n",
    "    v_opt = value.(v)\n",
    "    u_opt = value.(u)\n",
    "    t_opt = value(t)\n",
    "    obj_opt = objective_value(model)\n",
    "end"
   ]
  },
  {
   "cell_type": "code",
   "execution_count": 18,
   "metadata": {},
   "outputs": [
    {
     "data": {
      "image/svg+xml": [
       "<?xml version=\"1.0\" encoding=\"utf-8\"?>\n",
       "<svg xmlns=\"http://www.w3.org/2000/svg\" xmlns:xlink=\"http://www.w3.org/1999/xlink\" width=\"600\" height=\"400\" viewBox=\"0 0 2400 1600\">\n",
       "<defs>\n",
       "  <clipPath id=\"clip770\">\n",
       "    <rect x=\"0\" y=\"0\" width=\"2400\" height=\"1600\"/>\n",
       "  </clipPath>\n",
       "</defs>\n",
       "<path clip-path=\"url(#clip770)\" d=\"\n",
       "M0 1600 L2400 1600 L2400 0 L0 0  Z\n",
       "  \" fill=\"#ffffff\" fill-rule=\"evenodd\" fill-opacity=\"1\"/>\n",
       "<defs>\n",
       "  <clipPath id=\"clip771\">\n",
       "    <rect x=\"480\" y=\"0\" width=\"1681\" height=\"1600\"/>\n",
       "  </clipPath>\n",
       "</defs>\n",
       "<path clip-path=\"url(#clip770)\" d=\"\n",
       "M174.149 1423.18 L2352.76 1423.18 L2352.76 47.2441 L174.149 47.2441  Z\n",
       "  \" fill=\"#ffffff\" fill-rule=\"evenodd\" fill-opacity=\"1\"/>\n",
       "<defs>\n",
       "  <clipPath id=\"clip772\">\n",
       "    <rect x=\"174\" y=\"47\" width=\"2180\" height=\"1377\"/>\n",
       "  </clipPath>\n",
       "</defs>\n",
       "<polyline clip-path=\"url(#clip772)\" style=\"stroke:#000000; stroke-width:2; stroke-opacity:0.1; fill:none\" points=\"\n",
       "  235.808,1423.18 235.808,47.2441 \n",
       "  \"/>\n",
       "<polyline clip-path=\"url(#clip772)\" style=\"stroke:#000000; stroke-width:2; stroke-opacity:0.1; fill:none\" points=\"\n",
       "  571.956,1423.18 571.956,47.2441 \n",
       "  \"/>\n",
       "<polyline clip-path=\"url(#clip772)\" style=\"stroke:#000000; stroke-width:2; stroke-opacity:0.1; fill:none\" points=\"\n",
       "  908.105,1423.18 908.105,47.2441 \n",
       "  \"/>\n",
       "<polyline clip-path=\"url(#clip772)\" style=\"stroke:#000000; stroke-width:2; stroke-opacity:0.1; fill:none\" points=\"\n",
       "  1244.25,1423.18 1244.25,47.2441 \n",
       "  \"/>\n",
       "<polyline clip-path=\"url(#clip772)\" style=\"stroke:#000000; stroke-width:2; stroke-opacity:0.1; fill:none\" points=\"\n",
       "  1580.4,1423.18 1580.4,47.2441 \n",
       "  \"/>\n",
       "<polyline clip-path=\"url(#clip772)\" style=\"stroke:#000000; stroke-width:2; stroke-opacity:0.1; fill:none\" points=\"\n",
       "  1916.55,1423.18 1916.55,47.2441 \n",
       "  \"/>\n",
       "<polyline clip-path=\"url(#clip772)\" style=\"stroke:#000000; stroke-width:2; stroke-opacity:0.1; fill:none\" points=\"\n",
       "  2252.7,1423.18 2252.7,47.2441 \n",
       "  \"/>\n",
       "<polyline clip-path=\"url(#clip772)\" style=\"stroke:#000000; stroke-width:2; stroke-opacity:0.1; fill:none\" points=\"\n",
       "  174.149,1384.24 2352.76,1384.24 \n",
       "  \"/>\n",
       "<polyline clip-path=\"url(#clip772)\" style=\"stroke:#000000; stroke-width:2; stroke-opacity:0.1; fill:none\" points=\"\n",
       "  174.149,954.878 2352.76,954.878 \n",
       "  \"/>\n",
       "<polyline clip-path=\"url(#clip772)\" style=\"stroke:#000000; stroke-width:2; stroke-opacity:0.1; fill:none\" points=\"\n",
       "  174.149,525.517 2352.76,525.517 \n",
       "  \"/>\n",
       "<polyline clip-path=\"url(#clip772)\" style=\"stroke:#000000; stroke-width:2; stroke-opacity:0.1; fill:none\" points=\"\n",
       "  174.149,96.157 2352.76,96.157 \n",
       "  \"/>\n",
       "<polyline clip-path=\"url(#clip770)\" style=\"stroke:#000000; stroke-width:4; stroke-opacity:1; fill:none\" points=\"\n",
       "  174.149,1423.18 2352.76,1423.18 \n",
       "  \"/>\n",
       "<polyline clip-path=\"url(#clip770)\" style=\"stroke:#000000; stroke-width:4; stroke-opacity:1; fill:none\" points=\"\n",
       "  174.149,1423.18 174.149,47.2441 \n",
       "  \"/>\n",
       "<polyline clip-path=\"url(#clip770)\" style=\"stroke:#000000; stroke-width:4; stroke-opacity:1; fill:none\" points=\"\n",
       "  235.808,1423.18 235.808,1406.67 \n",
       "  \"/>\n",
       "<polyline clip-path=\"url(#clip770)\" style=\"stroke:#000000; stroke-width:4; stroke-opacity:1; fill:none\" points=\"\n",
       "  571.956,1423.18 571.956,1406.67 \n",
       "  \"/>\n",
       "<polyline clip-path=\"url(#clip770)\" style=\"stroke:#000000; stroke-width:4; stroke-opacity:1; fill:none\" points=\"\n",
       "  908.105,1423.18 908.105,1406.67 \n",
       "  \"/>\n",
       "<polyline clip-path=\"url(#clip770)\" style=\"stroke:#000000; stroke-width:4; stroke-opacity:1; fill:none\" points=\"\n",
       "  1244.25,1423.18 1244.25,1406.67 \n",
       "  \"/>\n",
       "<polyline clip-path=\"url(#clip770)\" style=\"stroke:#000000; stroke-width:4; stroke-opacity:1; fill:none\" points=\"\n",
       "  1580.4,1423.18 1580.4,1406.67 \n",
       "  \"/>\n",
       "<polyline clip-path=\"url(#clip770)\" style=\"stroke:#000000; stroke-width:4; stroke-opacity:1; fill:none\" points=\"\n",
       "  1916.55,1423.18 1916.55,1406.67 \n",
       "  \"/>\n",
       "<polyline clip-path=\"url(#clip770)\" style=\"stroke:#000000; stroke-width:4; stroke-opacity:1; fill:none\" points=\"\n",
       "  2252.7,1423.18 2252.7,1406.67 \n",
       "  \"/>\n",
       "<polyline clip-path=\"url(#clip770)\" style=\"stroke:#000000; stroke-width:4; stroke-opacity:1; fill:none\" points=\"\n",
       "  174.149,1384.24 200.292,1384.24 \n",
       "  \"/>\n",
       "<polyline clip-path=\"url(#clip770)\" style=\"stroke:#000000; stroke-width:4; stroke-opacity:1; fill:none\" points=\"\n",
       "  174.149,954.878 200.292,954.878 \n",
       "  \"/>\n",
       "<polyline clip-path=\"url(#clip770)\" style=\"stroke:#000000; stroke-width:4; stroke-opacity:1; fill:none\" points=\"\n",
       "  174.149,525.517 200.292,525.517 \n",
       "  \"/>\n",
       "<polyline clip-path=\"url(#clip770)\" style=\"stroke:#000000; stroke-width:4; stroke-opacity:1; fill:none\" points=\"\n",
       "  174.149,96.157 200.292,96.157 \n",
       "  \"/>\n",
       "<path clip-path=\"url(#clip770)\" d=\"M 0 0 M226.19 1472.72 L233.828 1472.72 L233.828 1446.35 L225.518 1448.02 L225.518 1443.76 L233.782 1442.09 L238.458 1442.09 L238.458 1472.72 L246.097 1472.72 L246.097 1476.65 L226.19 1476.65 L226.19 1472.72 Z\" fill=\"#000000\" fill-rule=\"evenodd\" fill-opacity=\"1\" /><path clip-path=\"url(#clip770)\" d=\"M 0 0 M566.609 1472.72 L582.928 1472.72 L582.928 1476.65 L560.984 1476.65 L560.984 1472.72 Q563.646 1469.96 568.229 1465.33 Q572.836 1460.68 574.016 1459.34 Q576.262 1456.81 577.141 1455.08 Q578.044 1453.32 578.044 1451.63 Q578.044 1448.87 576.1 1447.14 Q574.178 1445.4 571.076 1445.4 Q568.877 1445.4 566.424 1446.17 Q563.993 1446.93 561.215 1448.48 L561.215 1443.76 Q564.039 1442.62 566.493 1442.05 Q568.947 1441.47 570.984 1441.47 Q576.354 1441.47 579.549 1444.15 Q582.743 1446.84 582.743 1451.33 Q582.743 1453.46 581.933 1455.38 Q581.146 1457.28 579.039 1459.87 Q578.461 1460.54 575.359 1463.76 Q572.257 1466.95 566.609 1472.72 Z\" fill=\"#000000\" fill-rule=\"evenodd\" fill-opacity=\"1\" /><path clip-path=\"url(#clip770)\" d=\"M 0 0 M912.352 1458.02 Q915.709 1458.74 917.584 1461 Q919.482 1463.27 919.482 1466.61 Q919.482 1471.72 915.963 1474.52 Q912.445 1477.32 905.963 1477.32 Q903.787 1477.32 901.473 1476.88 Q899.181 1476.47 896.727 1475.61 L896.727 1471.1 Q898.672 1472.23 900.987 1472.81 Q903.301 1473.39 905.824 1473.39 Q910.223 1473.39 912.514 1471.65 Q914.829 1469.92 914.829 1466.61 Q914.829 1463.55 912.676 1461.84 Q910.547 1460.1 906.727 1460.1 L902.699 1460.1 L902.699 1456.26 L906.912 1456.26 Q910.361 1456.26 912.19 1454.89 Q914.019 1453.5 914.019 1450.91 Q914.019 1448.25 912.121 1446.84 Q910.246 1445.4 906.727 1445.4 Q904.806 1445.4 902.607 1445.82 Q900.408 1446.24 897.769 1447.11 L897.769 1442.95 Q900.431 1442.21 902.746 1441.84 Q905.084 1441.47 907.144 1441.47 Q912.468 1441.47 915.57 1443.9 Q918.672 1446.3 918.672 1450.43 Q918.672 1453.3 917.028 1455.29 Q915.385 1457.25 912.352 1458.02 Z\" fill=\"#000000\" fill-rule=\"evenodd\" fill-opacity=\"1\" /><path clip-path=\"url(#clip770)\" d=\"M 0 0 M1247.26 1446.17 L1235.46 1464.61 L1247.26 1464.61 L1247.26 1446.17 M1246.04 1442.09 L1251.92 1442.09 L1251.92 1464.61 L1256.85 1464.61 L1256.85 1468.5 L1251.92 1468.5 L1251.92 1476.65 L1247.26 1476.65 L1247.26 1468.5 L1231.66 1468.5 L1231.66 1463.99 L1246.04 1442.09 Z\" fill=\"#000000\" fill-rule=\"evenodd\" fill-opacity=\"1\" /><path clip-path=\"url(#clip770)\" d=\"M 0 0 M1570.68 1442.09 L1589.04 1442.09 L1589.04 1446.03 L1574.96 1446.03 L1574.96 1454.5 Q1575.98 1454.15 1577 1453.99 Q1578.02 1453.8 1579.04 1453.8 Q1584.82 1453.8 1588.2 1456.98 Q1591.58 1460.15 1591.58 1465.56 Q1591.58 1471.14 1588.11 1474.24 Q1584.64 1477.32 1578.32 1477.32 Q1576.14 1477.32 1573.87 1476.95 Q1571.63 1476.58 1569.22 1475.84 L1569.22 1471.14 Q1571.3 1472.28 1573.53 1472.83 Q1575.75 1473.39 1578.23 1473.39 Q1582.23 1473.39 1584.57 1471.28 Q1586.91 1469.18 1586.91 1465.56 Q1586.91 1461.95 1584.57 1459.85 Q1582.23 1457.74 1578.23 1457.74 Q1576.35 1457.74 1574.48 1458.16 Q1572.62 1458.57 1570.68 1459.45 L1570.68 1442.09 Z\" fill=\"#000000\" fill-rule=\"evenodd\" fill-opacity=\"1\" /><path clip-path=\"url(#clip770)\" d=\"M 0 0 M1916.96 1457.51 Q1913.81 1457.51 1911.96 1459.66 Q1910.13 1461.81 1910.13 1465.56 Q1910.13 1469.29 1911.96 1471.47 Q1913.81 1473.62 1916.96 1473.62 Q1920.1 1473.62 1921.93 1471.47 Q1923.78 1469.29 1923.78 1465.56 Q1923.78 1461.81 1921.93 1459.66 Q1920.1 1457.51 1916.96 1457.51 M1926.24 1442.86 L1926.24 1447.11 Q1924.48 1446.28 1922.67 1445.84 Q1920.89 1445.4 1919.13 1445.4 Q1914.5 1445.4 1912.05 1448.53 Q1909.62 1451.65 1909.27 1457.97 Q1910.64 1455.96 1912.7 1454.89 Q1914.76 1453.8 1917.23 1453.8 Q1922.44 1453.8 1925.45 1456.98 Q1928.48 1460.12 1928.48 1465.56 Q1928.48 1470.89 1925.33 1474.11 Q1922.19 1477.32 1916.96 1477.32 Q1910.96 1477.32 1907.79 1472.74 Q1904.62 1468.13 1904.62 1459.41 Q1904.62 1451.21 1908.51 1446.35 Q1912.39 1441.47 1918.95 1441.47 Q1920.71 1441.47 1922.49 1441.81 Q1924.29 1442.16 1926.24 1442.86 Z\" fill=\"#000000\" fill-rule=\"evenodd\" fill-opacity=\"1\" /><path clip-path=\"url(#clip770)\" d=\"M 0 0 M2241.59 1442.09 L2263.81 1442.09 L2263.81 1444.08 L2251.26 1476.65 L2246.38 1476.65 L2258.18 1446.03 L2241.59 1446.03 L2241.59 1442.09 Z\" fill=\"#000000\" fill-rule=\"evenodd\" fill-opacity=\"1\" /><path clip-path=\"url(#clip770)\" d=\"M 0 0 M138.205 1370.04 Q134.593 1370.04 132.765 1373.6 Q130.959 1377.14 130.959 1384.27 Q130.959 1391.38 132.765 1394.94 Q134.593 1398.49 138.205 1398.49 Q141.839 1398.49 143.644 1394.94 Q145.473 1391.38 145.473 1384.27 Q145.473 1377.14 143.644 1373.6 Q141.839 1370.04 138.205 1370.04 M138.205 1366.33 Q144.015 1366.33 147.07 1370.94 Q150.149 1375.52 150.149 1384.27 Q150.149 1393 147.07 1397.61 Q144.015 1402.19 138.205 1402.19 Q132.394 1402.19 129.316 1397.61 Q126.26 1393 126.26 1384.27 Q126.26 1375.52 129.316 1370.94 Q132.394 1366.33 138.205 1366.33 Z\" fill=\"#000000\" fill-rule=\"evenodd\" fill-opacity=\"1\" /><path clip-path=\"url(#clip770)\" d=\"M 0 0 M130.242 968.223 L137.88 968.223 L137.88 941.857 L129.57 943.524 L129.57 939.265 L137.834 937.598 L142.51 937.598 L142.51 968.223 L150.149 968.223 L150.149 972.158 L130.242 972.158 L130.242 968.223 Z\" fill=\"#000000\" fill-rule=\"evenodd\" fill-opacity=\"1\" /><path clip-path=\"url(#clip770)\" d=\"M 0 0 M133.83 538.862 L150.149 538.862 L150.149 542.797 L128.205 542.797 L128.205 538.862 Q130.867 536.108 135.45 531.478 Q140.056 526.825 141.237 525.483 Q143.482 522.96 144.362 521.223 Q145.265 519.464 145.265 517.774 Q145.265 515.02 143.32 513.284 Q141.399 511.548 138.297 511.548 Q136.098 511.548 133.644 512.311 Q131.214 513.075 128.436 514.626 L128.436 509.904 Q131.26 508.77 133.714 508.191 Q136.168 507.612 138.205 507.612 Q143.575 507.612 146.769 510.298 Q149.964 512.983 149.964 517.473 Q149.964 519.603 149.154 521.524 Q148.367 523.423 146.26 526.015 Q145.681 526.686 142.58 529.904 Q139.478 533.098 133.83 538.862 Z\" fill=\"#000000\" fill-rule=\"evenodd\" fill-opacity=\"1\" /><path clip-path=\"url(#clip770)\" d=\"M 0 0 M143.019 94.8029 Q146.376 95.5205 148.251 97.789 Q150.149 100.057 150.149 103.391 Q150.149 108.506 146.63 111.307 Q143.112 114.108 136.63 114.108 Q134.455 114.108 132.14 113.669 Q129.848 113.252 127.394 112.395 L127.394 107.881 Q129.339 109.016 131.654 109.594 Q133.968 110.173 136.492 110.173 Q140.89 110.173 143.181 108.437 Q145.496 106.701 145.496 103.391 Q145.496 100.335 143.343 98.6223 Q141.214 96.8862 137.394 96.8862 L133.367 96.8862 L133.367 93.0436 L137.58 93.0436 Q141.029 93.0436 142.857 91.6779 Q144.686 90.289 144.686 87.6964 Q144.686 85.0344 142.788 83.6224 Q140.913 82.1872 137.394 82.1872 Q135.473 82.1872 133.274 82.6039 Q131.075 83.0205 128.436 83.9001 L128.436 79.7335 Q131.098 78.9928 133.413 78.6224 Q135.751 78.252 137.811 78.252 Q143.135 78.252 146.237 80.6826 Q149.339 83.09 149.339 87.2103 Q149.339 90.0807 147.695 92.0714 Q146.052 94.039 143.019 94.8029 Z\" fill=\"#000000\" fill-rule=\"evenodd\" fill-opacity=\"1\" /><path clip-path=\"url(#clip770)\" d=\"M 0 0 M1262.34 1520.4 L1249.45 1537.74 L1263.01 1556.04 L1256.1 1556.04 L1245.72 1542.04 L1235.35 1556.04 L1228.44 1556.04 L1242.29 1537.39 L1229.62 1520.4 L1236.53 1520.4 L1245.98 1533.1 L1255.43 1520.4 L1262.34 1520.4 Z\" fill=\"#000000\" fill-rule=\"evenodd\" fill-opacity=\"1\" /><path clip-path=\"url(#clip770)\" d=\"M 0 0 M1271.09 1550.63 L1281.59 1550.63 L1281.59 1514.38 L1270.17 1516.67 L1270.17 1510.82 L1281.53 1508.52 L1287.96 1508.52 L1287.96 1550.63 L1298.46 1550.63 L1298.46 1556.04 L1271.09 1556.04 L1271.09 1550.63 Z\" fill=\"#000000\" fill-rule=\"evenodd\" fill-opacity=\"1\" /><path clip-path=\"url(#clip770)\" d=\"M 0 0 M52.3562 736.071 L69.7028 748.962 L88.0042 735.403 L88.0042 742.31 L73.9996 752.686 L88.0042 763.062 L88.0042 769.969 L69.3526 756.123 L52.3562 768.791 L52.3562 761.884 L65.0558 752.431 L52.3562 742.978 L52.3562 736.071 Z\" fill=\"#000000\" fill-rule=\"evenodd\" fill-opacity=\"1\" /><path clip-path=\"url(#clip770)\" d=\"M 0 0 M82.5933 722.894 L82.5933 700.455 L88.0042 700.455 L88.0042 730.629 L82.5933 730.629 Q78.8057 726.968 72.44 720.666 Q66.0425 714.332 64.1964 712.709 Q60.7271 709.622 58.34 708.412 Q55.921 707.171 53.5975 707.171 Q49.8099 707.171 47.4228 709.845 Q45.0356 712.486 45.0356 716.751 Q45.0356 719.775 46.086 723.149 Q47.1363 726.491 49.2688 730.31 L42.7758 730.31 Q41.2162 726.427 40.4205 723.053 Q39.6248 719.68 39.6248 716.879 Q39.6248 709.495 43.3169 705.102 Q47.009 700.71 53.1837 700.71 Q56.112 700.71 58.7537 701.824 Q61.3637 702.906 64.9285 705.802 Q65.8515 706.598 70.2757 710.863 Q74.668 715.128 82.5933 722.894 Z\" fill=\"#000000\" fill-rule=\"evenodd\" fill-opacity=\"1\" /><circle clip-path=\"url(#clip772)\" cx=\"235.808\" cy=\"954.878\" r=\"14\" fill=\"#009af9\" fill-rule=\"evenodd\" fill-opacity=\"1\" stroke=\"#000000\" stroke-opacity=\"1\" stroke-width=\"3.2\"/>\n",
       "<circle clip-path=\"url(#clip772)\" cx=\"1244.25\" cy=\"96.157\" r=\"14\" fill=\"#009af9\" fill-rule=\"evenodd\" fill-opacity=\"1\" stroke=\"#000000\" stroke-opacity=\"1\" stroke-width=\"3.2\"/>\n",
       "<circle clip-path=\"url(#clip772)\" cx=\"1916.55\" cy=\"1384.24\" r=\"14\" fill=\"#009af9\" fill-rule=\"evenodd\" fill-opacity=\"1\" stroke=\"#000000\" stroke-opacity=\"1\" stroke-width=\"3.2\"/>\n",
       "<circle clip-path=\"url(#clip772)\" cx=\"235.808\" cy=\"954.878\" r=\"14\" fill=\"#009af9\" fill-rule=\"evenodd\" fill-opacity=\"1\" stroke=\"#000000\" stroke-opacity=\"1\" stroke-width=\"3.2\"/>\n",
       "<polyline clip-path=\"url(#clip772)\" style=\"stroke:#e26f46; stroke-width:4; stroke-opacity:1; fill:none\" points=\"\n",
       "  235.808,954.878 239.06,946.173 245.545,929.521 255.246,905.68 268.142,875.408 284.217,839.462 303.45,798.6 325.823,753.581 351.318,705.161 379.916,654.1 \n",
       "  411.598,601.154 446.345,547.081 484.14,492.64 524.962,438.587 568.795,385.682 615.618,334.681 665.414,286.343 718.164,241.425 773.848,200.686 832.449,164.882 \n",
       "  893.947,134.773 958.325,111.115 1025.56,94.6667 1095.64,86.1857 1168.55,86.4298 1244.25,96.157 1322.75,116.125 1403.21,145.456 1484.82,183.271 1566.76,228.692 \n",
       "  1648.22,280.841 1728.38,338.84 1806.42,401.81 1881.52,468.874 1952.87,539.153 2019.64,611.768 2081.02,685.843 2136.2,760.497 2184.35,834.854 2224.65,908.035 \n",
       "  2256.3,979.162 2278.47,1047.36 2290.34,1111.74 2291.1,1171.43 2279.92,1225.56 2256,1273.24 2218.52,1313.6 2166.64,1345.76 2099.57,1368.84 2016.48,1381.96 \n",
       "  1916.55,1384.24 1798.97,1374.81 1665.5,1354.83 1517.9,1325.48 1357.95,1287.94 1187.4,1243.36 1008.03,1192.93 821.593,1137.81 629.862,1079.17 434.6,1018.2 \n",
       "  235.808,954.878 \n",
       "  \"/>\n",
       "<path clip-path=\"url(#clip770)\" d=\"\n",
       "M1820.16 312.204 L2280.76 312.204 L2280.76 130.764 L1820.16 130.764  Z\n",
       "  \" fill=\"#ffffff\" fill-rule=\"evenodd\" fill-opacity=\"1\"/>\n",
       "<polyline clip-path=\"url(#clip770)\" style=\"stroke:#000000; stroke-width:4; stroke-opacity:1; fill:none\" points=\"\n",
       "  1820.16,312.204 2280.76,312.204 2280.76,130.764 1820.16,130.764 1820.16,312.204 \n",
       "  \"/>\n",
       "<circle clip-path=\"url(#clip770)\" cx=\"1928.16\" cy=\"191.244\" r=\"23\" fill=\"#009af9\" fill-rule=\"evenodd\" fill-opacity=\"1\" stroke=\"#000000\" stroke-opacity=\"1\" stroke-width=\"5.12\"/>\n",
       "<path clip-path=\"url(#clip770)\" d=\"M 0 0 M2012.16 173.964 L2016.88 173.964 L2024.15 203.177 L2031.39 173.964 L2036.65 173.964 L2043.91 203.177 L2051.16 173.964 L2055.91 173.964 L2047.22 208.524 L2041.34 208.524 L2034.05 178.524 L2026.69 208.524 L2020.81 208.524 L2012.16 173.964 Z\" fill=\"#000000\" fill-rule=\"evenodd\" fill-opacity=\"1\" /><path clip-path=\"url(#clip770)\" d=\"M 0 0 M2069.12 195.492 Q2063.96 195.492 2061.97 196.672 Q2059.98 197.853 2059.98 200.7 Q2059.98 202.969 2061.46 204.311 Q2062.97 205.631 2065.53 205.631 Q2069.08 205.631 2071.21 203.131 Q2073.36 200.607 2073.36 196.441 L2073.36 195.492 L2069.12 195.492 M2077.62 193.733 L2077.62 208.524 L2073.36 208.524 L2073.36 204.589 Q2071.9 206.95 2069.72 208.084 Q2067.55 209.195 2064.4 209.195 Q2060.42 209.195 2058.06 206.973 Q2055.72 204.728 2055.72 200.978 Q2055.72 196.603 2058.64 194.381 Q2061.58 192.158 2067.39 192.158 L2073.36 192.158 L2073.36 191.742 Q2073.36 188.802 2071.41 187.205 Q2069.49 185.584 2066 185.584 Q2063.78 185.584 2061.67 186.117 Q2059.56 186.649 2057.62 187.714 L2057.62 183.779 Q2059.96 182.876 2062.15 182.436 Q2064.35 181.973 2066.44 181.973 Q2072.06 181.973 2074.84 184.89 Q2077.62 187.807 2077.62 193.733 Z\" fill=\"#000000\" fill-rule=\"evenodd\" fill-opacity=\"1\" /><path clip-path=\"url(#clip770)\" d=\"M 0 0 M2092.87 210.931 Q2091.07 215.561 2089.35 216.973 Q2087.64 218.385 2084.77 218.385 L2081.37 218.385 L2081.37 214.82 L2083.87 214.82 Q2085.63 214.82 2086.6 213.987 Q2087.57 213.154 2088.75 210.052 L2089.52 208.107 L2079.03 182.598 L2083.54 182.598 L2091.65 202.876 L2099.75 182.598 L2104.26 182.598 L2092.87 210.931 Z\" fill=\"#000000\" fill-rule=\"evenodd\" fill-opacity=\"1\" /><path clip-path=\"url(#clip770)\" d=\"M 0 0 M2112.85 204.635 L2112.85 218.385 L2108.57 218.385 L2108.57 182.598 L2112.85 182.598 L2112.85 186.533 Q2114.19 184.219 2116.23 183.108 Q2118.29 181.973 2121.14 181.973 Q2125.86 181.973 2128.8 185.723 Q2131.76 189.473 2131.76 195.584 Q2131.76 201.695 2128.8 205.445 Q2125.86 209.195 2121.14 209.195 Q2118.29 209.195 2116.23 208.084 Q2114.19 206.95 2112.85 204.635 M2127.34 195.584 Q2127.34 190.885 2125.4 188.223 Q2123.47 185.538 2120.09 185.538 Q2116.71 185.538 2114.77 188.223 Q2112.85 190.885 2112.85 195.584 Q2112.85 200.283 2114.77 202.969 Q2116.71 205.631 2120.09 205.631 Q2123.47 205.631 2125.4 202.969 Q2127.34 200.283 2127.34 195.584 Z\" fill=\"#000000\" fill-rule=\"evenodd\" fill-opacity=\"1\" /><path clip-path=\"url(#clip770)\" d=\"M 0 0 M2146.27 185.584 Q2142.85 185.584 2140.86 188.27 Q2138.87 190.932 2138.87 195.584 Q2138.87 200.237 2140.84 202.922 Q2142.83 205.584 2146.27 205.584 Q2149.68 205.584 2151.67 202.899 Q2153.66 200.214 2153.66 195.584 Q2153.66 190.978 2151.67 188.293 Q2149.68 185.584 2146.27 185.584 M2146.27 181.973 Q2151.83 181.973 2155 185.584 Q2158.17 189.195 2158.17 195.584 Q2158.17 201.95 2155 205.584 Q2151.83 209.195 2146.27 209.195 Q2140.7 209.195 2137.52 205.584 Q2134.38 201.95 2134.38 195.584 Q2134.38 189.195 2137.52 185.584 Q2140.7 181.973 2146.27 181.973 Z\" fill=\"#000000\" fill-rule=\"evenodd\" fill-opacity=\"1\" /><path clip-path=\"url(#clip770)\" d=\"M 0 0 M2162.64 182.598 L2166.9 182.598 L2166.9 208.524 L2162.64 208.524 L2162.64 182.598 M2162.64 172.506 L2166.9 172.506 L2166.9 177.899 L2162.64 177.899 L2162.64 172.506 Z\" fill=\"#000000\" fill-rule=\"evenodd\" fill-opacity=\"1\" /><path clip-path=\"url(#clip770)\" d=\"M 0 0 M2192.92 192.876 L2192.92 208.524 L2188.66 208.524 L2188.66 193.015 Q2188.66 189.334 2187.22 187.506 Q2185.79 185.677 2182.92 185.677 Q2179.47 185.677 2177.48 187.876 Q2175.49 190.075 2175.49 193.871 L2175.49 208.524 L2171.21 208.524 L2171.21 182.598 L2175.49 182.598 L2175.49 186.626 Q2177.02 184.288 2179.08 183.131 Q2181.16 181.973 2183.87 181.973 Q2188.33 181.973 2190.63 184.751 Q2192.92 187.506 2192.92 192.876 Z\" fill=\"#000000\" fill-rule=\"evenodd\" fill-opacity=\"1\" /><path clip-path=\"url(#clip770)\" d=\"M 0 0 M2201.6 175.237 L2201.6 182.598 L2210.37 182.598 L2210.37 185.908 L2201.6 185.908 L2201.6 199.982 Q2201.6 203.154 2202.46 204.057 Q2203.33 204.959 2206 204.959 L2210.37 204.959 L2210.37 208.524 L2206 208.524 Q2201.07 208.524 2199.19 206.695 Q2197.32 204.844 2197.32 199.982 L2197.32 185.908 L2194.19 185.908 L2194.19 182.598 L2197.32 182.598 L2197.32 175.237 L2201.6 175.237 Z\" fill=\"#000000\" fill-rule=\"evenodd\" fill-opacity=\"1\" /><path clip-path=\"url(#clip770)\" d=\"M 0 0 M2231.37 183.362 L2231.37 187.39 Q2229.56 186.464 2227.62 186.001 Q2225.67 185.538 2223.59 185.538 Q2220.42 185.538 2218.82 186.51 Q2217.25 187.483 2217.25 189.427 Q2217.25 190.908 2218.38 191.765 Q2219.52 192.598 2222.94 193.362 L2224.4 193.686 Q2228.94 194.658 2230.83 196.441 Q2232.76 198.2 2232.76 201.371 Q2232.76 204.982 2229.89 207.089 Q2227.04 209.195 2222.04 209.195 Q2219.96 209.195 2217.69 208.779 Q2215.44 208.385 2212.94 207.575 L2212.94 203.177 Q2215.3 204.404 2217.59 205.029 Q2219.89 205.631 2222.13 205.631 Q2225.14 205.631 2226.76 204.612 Q2228.38 203.57 2228.38 201.695 Q2228.38 199.959 2227.2 199.033 Q2226.04 198.107 2222.08 197.251 L2220.6 196.904 Q2216.64 196.07 2214.89 194.358 Q2213.13 192.621 2213.13 189.612 Q2213.13 185.955 2215.72 183.964 Q2218.31 181.973 2223.08 181.973 Q2225.44 181.973 2227.52 182.321 Q2229.61 182.668 2231.37 183.362 Z\" fill=\"#000000\" fill-rule=\"evenodd\" fill-opacity=\"1\" /><polyline clip-path=\"url(#clip770)\" style=\"stroke:#e26f46; stroke-width:4; stroke-opacity:1; fill:none\" points=\"\n",
       "  1844.16,251.724 1988.16,251.724 \n",
       "  \"/>\n",
       "<path clip-path=\"url(#clip770)\" d=\"M 0 0 M2012.16 234.444 L2041.39 234.444 L2041.39 238.379 L2029.12 238.379 L2029.12 269.004 L2024.42 269.004 L2024.42 238.379 L2012.16 238.379 L2012.16 234.444 Z\" fill=\"#000000\" fill-rule=\"evenodd\" fill-opacity=\"1\" /><path clip-path=\"url(#clip770)\" d=\"M 0 0 M2053.91 247.06 Q2053.2 246.643 2052.34 246.458 Q2051.51 246.25 2050.49 246.25 Q2046.88 246.25 2044.93 248.611 Q2043.01 250.949 2043.01 255.347 L2043.01 269.004 L2038.73 269.004 L2038.73 243.078 L2043.01 243.078 L2043.01 247.106 Q2044.35 244.745 2046.51 243.611 Q2048.66 242.453 2051.74 242.453 Q2052.18 242.453 2052.71 242.523 Q2053.24 242.569 2053.89 242.685 L2053.91 247.06 Z\" fill=\"#000000\" fill-rule=\"evenodd\" fill-opacity=\"1\" /><path clip-path=\"url(#clip770)\" d=\"M 0 0 M2070.16 255.972 Q2065 255.972 2063.01 257.152 Q2061.02 258.333 2061.02 261.18 Q2061.02 263.449 2062.5 264.791 Q2064.01 266.111 2066.58 266.111 Q2070.12 266.111 2072.25 263.611 Q2074.4 261.087 2074.4 256.921 L2074.4 255.972 L2070.16 255.972 M2078.66 254.213 L2078.66 269.004 L2074.4 269.004 L2074.4 265.069 Q2072.94 267.43 2070.77 268.564 Q2068.59 269.675 2065.44 269.675 Q2061.46 269.675 2059.1 267.453 Q2056.76 265.208 2056.76 261.458 Q2056.76 257.083 2059.68 254.861 Q2062.62 252.638 2068.43 252.638 L2074.4 252.638 L2074.4 252.222 Q2074.4 249.282 2072.46 247.685 Q2070.53 246.064 2067.04 246.064 Q2064.82 246.064 2062.71 246.597 Q2060.6 247.129 2058.66 248.194 L2058.66 244.259 Q2061 243.356 2063.2 242.916 Q2065.4 242.453 2067.48 242.453 Q2073.1 242.453 2075.88 245.37 Q2078.66 248.287 2078.66 254.213 Z\" fill=\"#000000\" fill-rule=\"evenodd\" fill-opacity=\"1\" /><path clip-path=\"url(#clip770)\" d=\"M 0 0 M2083.13 243.078 L2087.39 243.078 L2087.39 269.467 Q2087.39 274.421 2085.49 276.643 Q2083.61 278.865 2079.42 278.865 L2077.8 278.865 L2077.8 275.254 L2078.94 275.254 Q2081.37 275.254 2082.25 274.12 Q2083.13 273.009 2083.13 269.467 L2083.13 243.078 M2083.13 232.986 L2087.39 232.986 L2087.39 238.379 L2083.13 238.379 L2083.13 232.986 Z\" fill=\"#000000\" fill-rule=\"evenodd\" fill-opacity=\"1\" /><path clip-path=\"url(#clip770)\" d=\"M 0 0 M2114.03 254.976 L2114.03 257.06 L2094.45 257.06 Q2094.72 261.458 2097.09 263.773 Q2099.47 266.064 2103.71 266.064 Q2106.16 266.064 2108.45 265.462 Q2110.77 264.861 2113.03 263.657 L2113.03 267.685 Q2110.74 268.657 2108.34 269.166 Q2105.93 269.675 2103.45 269.675 Q2097.25 269.675 2093.61 266.064 Q2090 262.453 2090 256.296 Q2090 249.93 2093.43 246.203 Q2096.88 242.453 2102.71 242.453 Q2107.94 242.453 2110.97 245.833 Q2114.03 249.189 2114.03 254.976 M2109.77 253.726 Q2109.72 250.231 2107.8 248.148 Q2105.9 246.064 2102.76 246.064 Q2099.19 246.064 2097.04 248.078 Q2094.91 250.092 2094.59 253.75 L2109.77 253.726 Z\" fill=\"#000000\" fill-rule=\"evenodd\" fill-opacity=\"1\" /><path clip-path=\"url(#clip770)\" d=\"M 0 0 M2137.15 244.074 L2137.15 248.055 Q2135.35 247.06 2133.52 246.574 Q2131.71 246.064 2129.86 246.064 Q2125.72 246.064 2123.43 248.703 Q2121.14 251.319 2121.14 256.064 Q2121.14 260.81 2123.43 263.449 Q2125.72 266.064 2129.86 266.064 Q2131.71 266.064 2133.52 265.578 Q2135.35 265.069 2137.15 264.074 L2137.15 268.009 Q2135.37 268.842 2133.45 269.259 Q2131.55 269.675 2129.4 269.675 Q2123.54 269.675 2120.09 265.995 Q2116.65 262.314 2116.65 256.064 Q2116.65 249.722 2120.12 246.088 Q2123.61 242.453 2129.68 242.453 Q2131.65 242.453 2133.52 242.87 Q2135.4 243.263 2137.15 244.074 Z\" fill=\"#000000\" fill-rule=\"evenodd\" fill-opacity=\"1\" /><path clip-path=\"url(#clip770)\" d=\"M 0 0 M2145.84 235.717 L2145.84 243.078 L2154.61 243.078 L2154.61 246.388 L2145.84 246.388 L2145.84 260.462 Q2145.84 263.634 2146.69 264.537 Q2147.57 265.439 2150.23 265.439 L2154.61 265.439 L2154.61 269.004 L2150.23 269.004 Q2145.3 269.004 2143.43 267.175 Q2141.55 265.324 2141.55 260.462 L2141.55 246.388 L2138.43 246.388 L2138.43 243.078 L2141.55 243.078 L2141.55 235.717 L2145.84 235.717 Z\" fill=\"#000000\" fill-rule=\"evenodd\" fill-opacity=\"1\" /><path clip-path=\"url(#clip770)\" d=\"M 0 0 M2169.12 246.064 Q2165.7 246.064 2163.71 248.75 Q2161.71 251.412 2161.71 256.064 Q2161.71 260.717 2163.68 263.402 Q2165.67 266.064 2169.12 266.064 Q2172.52 266.064 2174.52 263.379 Q2176.51 260.694 2176.51 256.064 Q2176.51 251.458 2174.52 248.773 Q2172.52 246.064 2169.12 246.064 M2169.12 242.453 Q2174.68 242.453 2177.85 246.064 Q2181.02 249.675 2181.02 256.064 Q2181.02 262.43 2177.85 266.064 Q2174.68 269.675 2169.12 269.675 Q2163.54 269.675 2160.37 266.064 Q2157.22 262.43 2157.22 256.064 Q2157.22 249.675 2160.37 246.064 Q2163.54 242.453 2169.12 242.453 Z\" fill=\"#000000\" fill-rule=\"evenodd\" fill-opacity=\"1\" /><path clip-path=\"url(#clip770)\" d=\"M 0 0 M2200.51 247.06 Q2199.79 246.643 2198.94 246.458 Q2198.1 246.25 2197.08 246.25 Q2193.47 246.25 2191.53 248.611 Q2189.61 250.949 2189.61 255.347 L2189.61 269.004 L2185.33 269.004 L2185.33 243.078 L2189.61 243.078 L2189.61 247.106 Q2190.95 244.745 2193.1 243.611 Q2195.26 242.453 2198.33 242.453 Q2198.77 242.453 2199.31 242.523 Q2199.84 242.569 2200.49 242.685 L2200.51 247.06 Z\" fill=\"#000000\" fill-rule=\"evenodd\" fill-opacity=\"1\" /><path clip-path=\"url(#clip770)\" d=\"M 0 0 M2215.77 271.411 Q2213.96 276.041 2212.25 277.453 Q2210.53 278.865 2207.66 278.865 L2204.26 278.865 L2204.26 275.3 L2206.76 275.3 Q2208.52 275.3 2209.49 274.467 Q2210.46 273.634 2211.64 270.532 L2212.41 268.587 L2201.92 243.078 L2206.44 243.078 L2214.54 263.356 L2222.64 243.078 L2227.15 243.078 L2215.77 271.411 Z\" fill=\"#000000\" fill-rule=\"evenodd\" fill-opacity=\"1\" /></svg>\n"
      ]
     },
     "execution_count": 18,
     "metadata": {},
     "output_type": "execute_result"
    }
   ],
   "source": [
    "# Plot the results\n",
    "scatter(p[1,:], p[2,:], label = \"Waypoints\")\n",
    "plot!(x_opt[1], x_opt[2], label = \"Trajectory\")\n",
    "xlabel!(\"x1\")\n",
    "ylabel!(\"x2\")"
   ]
  }
 ],
 "metadata": {
  "kernelspec": {
   "display_name": "Julia 1.2.0",
   "language": "julia",
   "name": "julia-1.2"
  },
  "language_info": {
   "file_extension": ".jl",
   "mimetype": "application/julia",
   "name": "julia",
   "version": "1.2.0"
  }
 },
 "nbformat": 4,
 "nbformat_minor": 2
}
