{
 "cells": [
  {
   "cell_type": "markdown",
   "metadata": {},
   "source": [
    "# Julia: A Practical Introduction\n",
    "Here we provide a brief tutorial on coding in Julia, focusing on aspects that are helpful for working with models in `JuMP.jl` and `InfiniteOpt.jl`. As such, this is not intended as a comprehensive guide to coding in Julia. Note that this tutorial draws inspiration from the content provided in https://jump.dev/JuMP.jl/dev/tutorials/getting_started/getting_started_with_julia/#Getting-started-with-Julia.\n",
    "\n",
    "## Resources\n",
    "- Julia's compendium of learning resources: https://julialang.org/learning/\n",
    "- Julia's documentation: https://jump.dev/JuMP.jl/stable/\n",
    "- Julia community forum: https://discourse.julialang.org/\n",
    "- The help interface in the REPL (accessed via `?` followed by the function name of interest)"
   ]
  },
  {
   "cell_type": "markdown",
   "metadata": {},
   "source": [
    "## Arithmetic\n",
    "\n",
    "With optimization in mind, we'll be dealing with a lot of mathematical operations (arithmetic). Julia follows a straightforward syntax that is similar to MATLAB."
   ]
  },
  {
   "cell_type": "code",
   "execution_count": 1,
   "metadata": {},
   "outputs": [
    {
     "name": "stdout",
     "output_type": "stream",
     "text": [
      "1 + 1 = 2\n",
      "1 - 2 = -1\n",
      "2 * 2 = 4\n",
      "4 / 5 = 0.8\n",
      "3 ^ 2 = 9\n"
     ]
    }
   ],
   "source": [
    "@show 1 + 1\n",
    "@show 1 - 2\n",
    "@show 2 * 2\n",
    "@show 4 / 5\n",
    "@show 3^2;"
   ]
  },
  {
   "cell_type": "markdown",
   "metadata": {},
   "source": [
    "Like MATLAB and python, Julia is a dynamic language, so we don't have to declare the types of variables explicitly. Notice how some of the above results don't end in `.0`. (Note that `@show` is a macro that prints code and the output, macros are special kinds of functions that begin with `@`.) We can check the types using the `typeof` function."
   ]
  },
  {
   "cell_type": "code",
   "execution_count": 2,
   "metadata": {},
   "outputs": [
    {
     "name": "stdout",
     "output_type": "stream",
     "text": [
      "typeof(1) = Int64\n",
      "typeof(1.0) = Float64\n"
     ]
    }
   ],
   "source": [
    "@show typeof(1)\n",
    "@show typeof(1.0);"
   ]
  },
  {
   "cell_type": "markdown",
   "metadata": {},
   "source": [
    "Here we have an `Int64` and a `Float64` which denote an integer and a floating point number, respectively, each with 64-bits of precision. These are the numerical types we will encounter most often in formulating optimization problems. \n",
    "\n",
    "Julia also provides a suite of common mathematical functions such as those featured below. A complete list is provided at https://docs.julialang.org/en/v1/base/math/#Mathematical-Functions."
   ]
  },
  {
   "cell_type": "code",
   "execution_count": 3,
   "metadata": {},
   "outputs": [
    {
     "name": "stdout",
     "output_type": "stream",
     "text": [
      "sin(0.5π) = 1.0\n",
      "cos(0) = 1.0\n",
      "tanh(0) = 0.0\n",
      "log(10) = 2.302585092994046\n",
      "exp(3) = 20.085536923187668\n",
      "sqrt(4) == √4 = true\n"
     ]
    }
   ],
   "source": [
    "@show sin(0.5π)\n",
    "@show cos(0)\n",
    "@show tanh(0)\n",
    "@show log(10)\n",
    "@show exp(3)\n",
    "@show sqrt(4) == √4; # create `√` via \\sqrt and then pressing [tab]"
   ]
  },
  {
   "cell_type": "markdown",
   "metadata": {},
   "source": [
    "### Floating Point Numbers\n",
    "Before moving on we should emphasize that floating point numbers are an approximation of real valued numbers. This means that computer arithmetic with floating point number is not always exactly the same as the pure mathematical version. For example:"
   ]
  },
  {
   "cell_type": "code",
   "execution_count": 4,
   "metadata": {},
   "outputs": [
    {
     "name": "stdout",
     "output_type": "stream",
     "text": [
      "0.1 * 3 == 0.3 = false\n",
      "0.1 * 3 - 0.3 = 5.551115123125783e-17\n",
      "sin((2π) / 3) == √3 / 2 = false\n",
      "sin((2π) / 3) - √3 / 2 = 1.1102230246251565e-16\n"
     ]
    }
   ],
   "source": [
    "@show 0.1 * 3 == 0.3\n",
    "@show 0.1 * 3 - 0.3 # the difference\n",
    "@show sin(2π / 3) == √3 / 2\n",
    "@show sin(2π / 3) - √3 / 2; # the difference"
   ]
  },
  {
   "cell_type": "markdown",
   "metadata": {},
   "source": [
    "The error is small, but nonzero. One way of explaining this difference is to consider how we would write $\\frac{1}{3}$ and $\\frac{2}{3}$ using only four digits after the decimal point. We would write $\\frac{1}{3} = 0.3333$ and $\\frac{2}{3} = 0.6667$. So, despite the fact that $2 \\frac{1}{3} = \\frac{2}{3}$, `2 * 0.3333 == 0.6666 != 0.6667`.\n",
    "\n",
    "For better comparisons, we can use `≈` (\\approx + [tab]) instead of `==`:"
   ]
  },
  {
   "cell_type": "code",
   "execution_count": 5,
   "metadata": {},
   "outputs": [
    {
     "name": "stdout",
     "output_type": "stream",
     "text": [
      "0.1 * 3 ≈ 0.3 = true\n",
      "sin((2π) / 3) ≈ √3 / 2 = true\n"
     ]
    }
   ],
   "source": [
    "@show 0.1 * 3 ≈ 0.3\n",
    "@show sin(2π / 3) ≈ √3 / 2;"
   ]
  },
  {
   "cell_type": "markdown",
   "metadata": {},
   "source": [
    "Here `≈` is just a convenient syntax for the `isapprox` function which compares floating point number relative to a certain tolerance `atol`."
   ]
  },
  {
   "cell_type": "code",
   "execution_count": 6,
   "metadata": {},
   "outputs": [
    {
     "data": {
      "text/plain": [
       "true"
      ]
     },
     "metadata": {},
     "output_type": "display_data"
    }
   ],
   "source": [
    "isapprox(0.1 * 3, 0.3, atol = 1e-8) # syntax `1e-8` is the same as `1 * 10^-8`"
   ]
  },
  {
   "cell_type": "markdown",
   "metadata": {},
   "source": [
    "This motivates the use of numerical tolerances in optimization solvers. For instance, the value of a binary variable may not be exactly equal to `1` or `0`.\n",
    "\n",
    "Some illustrative pitfalls are:"
   ]
  },
  {
   "cell_type": "code",
   "execution_count": 7,
   "metadata": {},
   "outputs": [
    {
     "name": "stdout",
     "output_type": "stream",
     "text": [
      "1 + 1.0e-16 == 1 = true\n",
      "(1 + 1.0e-16) - 1.0e-16 == 1 + (1.0e-16 - 1.0e-16) = false\n"
     ]
    }
   ],
   "source": [
    "@show 1 + 1e-16 == 1 # adding 2 values with very different orders of magnitude\n",
    "@show (1 + 1e-16) - 1e-16 == 1 + (1e-16 - 1e-16); # floating point arithmetic is not associative"
   ]
  },
  {
   "cell_type": "markdown",
   "metadata": {},
   "source": [
    "This is not a Julia-specific issue, but is true of every programming language."
   ]
  },
  {
   "cell_type": "markdown",
   "metadata": {},
   "source": [
    "## Julia Variables\n",
    "As we start to build scripts of operations, we will typically store the results in a Julia variable. A Julia variable will store the value of a number (or other data type as we discuss further below). This is accomplished in like manner to other dynamic languages like python and MATLAB. "
   ]
  },
  {
   "cell_type": "code",
   "execution_count": 8,
   "metadata": {},
   "outputs": [
    {
     "data": {
      "text/plain": [
       "-0.9165215479156338"
      ]
     },
     "metadata": {},
     "output_type": "display_data"
    }
   ],
   "source": [
    "x = 42\n",
    "sin(x)"
   ]
  },
  {
   "cell_type": "markdown",
   "metadata": {},
   "source": [
    "This is a simple concept, but it is important to make this distinction now before we start talking about the decision variables associated with `JuMP.jl` and `InfiniteOpt.jl` models. \n",
    "\n",
    "Another cool thing we can do in Julia is use unicode characters as variables. These can be inserted by typing `\\name` and then pressing [TAB]. A list of supported characters is provided at https://docs.julialang.org/en/v1/manual/unicode-input/#Unicode-Input."
   ]
  },
  {
   "cell_type": "code",
   "execution_count": 9,
   "metadata": {},
   "outputs": [],
   "source": [
    "λ = 1e-4\n",
    "δ = 0.1\n",
    "🐟 = 42\n",
    "🚚 = 10;"
   ]
  },
  {
   "cell_type": "markdown",
   "metadata": {},
   "source": [
    "## Vectors, Matrices, and Arrays\n",
    "Like MATLAB, Julia supports array objects (i.e., vectors in 1D and matrices in 2D). The simplest way to create a vector is using comma-separated elements in square brackets:"
   ]
  },
  {
   "cell_type": "code",
   "execution_count": 10,
   "metadata": {},
   "outputs": [
    {
     "data": {
      "text/plain": [
       "2-element Vector{Int64}:\n",
       " 5\n",
       " 6"
      ]
     },
     "metadata": {},
     "output_type": "display_data"
    }
   ],
   "source": [
    "b = [5, 6]"
   ]
  },
  {
   "cell_type": "markdown",
   "metadata": {},
   "source": [
    "Matrices can be made with spaces separating columns and semicolons separating rows:"
   ]
  },
  {
   "cell_type": "code",
   "execution_count": 11,
   "metadata": {},
   "outputs": [
    {
     "data": {
      "text/plain": [
       "2×2 Matrix{Float64}:\n",
       " 1.0  2.0\n",
       " 3.0  4.0"
      ]
     },
     "metadata": {},
     "output_type": "display_data"
    }
   ],
   "source": [
    "A = [1.0 2.0; 3.0 4.0]"
   ]
  },
  {
   "cell_type": "markdown",
   "metadata": {},
   "source": [
    "Note that like MATLAB (and unlike python) these arrays are 1-indexed. We can extract particular value(s) from the arrays by indexing them with bracketed values:"
   ]
  },
  {
   "cell_type": "code",
   "execution_count": 12,
   "metadata": {},
   "outputs": [
    {
     "name": "stdout",
     "output_type": "stream",
     "text": [
      "b[1] = 5\n",
      "A[2, 1] = 3.0\n",
      "A[:, 1] = [1.0, 3.0]\n",
      "A[2, 2:end] = [4.0]\n"
     ]
    }
   ],
   "source": [
    "@show b[1] # access the first element of b\n",
    "@show A[2, 1] # access the second row and first column of A \n",
    "@show A[:, 1] # access the first column of A \n",
    "@show A[2, 2:end]; # access the second row from the 2nd column to the last column"
   ]
  },
  {
   "cell_type": "markdown",
   "metadata": {},
   "source": [
    "Notice that when we index with `:` we end up getting back another array instead of a single value. This is called array slicing (we are accessing some sliced portion of it).\n",
    "\n",
    "### Array Arithmetic\n",
    "Like MATLAB, the usual operators respect the dimensions of the arrays to do arithmetic that is consistent with linear algebra."
   ]
  },
  {
   "cell_type": "code",
   "execution_count": 13,
   "metadata": {},
   "outputs": [
    {
     "name": "stdout",
     "output_type": "stream",
     "text": [
      "x = A \\ b = [-3.9999999999999987, 4.499999999999999]\n",
      "A * x = [5.0, 6.0]\n",
      "b - b = [0, 0]\n",
      "A + 2A = [3.0 6.0; 9.0 12.0]\n",
      "b' * b = 61\n",
      "b * b' = [25 30; 30 36]\n"
     ]
    },
    {
     "data": {
      "text/plain": [
       "2×2 Matrix{Int64}:\n",
       " 25  30\n",
       " 30  36"
      ]
     },
     "metadata": {},
     "output_type": "display_data"
    }
   ],
   "source": [
    "@show x = A \\ b # solve for x in A * x = b\n",
    "@show A * x # matrix-vector multiplication\n",
    "@show b - b\n",
    "@show A + 2A\n",
    "@show b' * b # inner product \n",
    "@show b * b'; # outer product"
   ]
  },
  {
   "cell_type": "markdown",
   "metadata": {},
   "source": [
    "We can also do element-wise operations by adding a `.` in front of arithmetic operators in like manner to MATLAB:"
   ]
  },
  {
   "cell_type": "code",
   "execution_count": 14,
   "metadata": {},
   "outputs": [
    {
     "name": "stdout",
     "output_type": "stream",
     "text": [
      "b .* b = [25, 36]\n",
      "A ./ A = [1.0 1.0; 1.0 1.0]\n",
      "b .^ 2 = [25, 36]\n"
     ]
    }
   ],
   "source": [
    "@show b .* b\n",
    "@show A ./ A \n",
    "@show b .^ 2;"
   ]
  },
  {
   "cell_type": "markdown",
   "metadata": {},
   "source": [
    "## Comparisons and Logical Operators\n",
    "As we work with numbers/arrays, we will commonly want to compare their values. Here the syntax is similar MATLAB:"
   ]
  },
  {
   "cell_type": "code",
   "execution_count": 15,
   "metadata": {},
   "outputs": [
    {
     "name": "stdout",
     "output_type": "stream",
     "text": [
      "typeof(result) = Bool\n",
      "1 == 1 = true\n",
      "1 >= 3 = false\n",
      "1 < 1 = false\n",
      "2 > -1 = true\n",
      "1 != 3 = true\n",
      "b .<= 5 = Bool[1, 0]\n"
     ]
    }
   ],
   "source": [
    "result = 1 <= 3\n",
    "@show typeof(result)\n",
    "@show 1 == 1\n",
    "@show 1 >= 3\n",
    "@show 1 < 1\n",
    "@show 2 > -1\n",
    "@show 1 != 3\n",
    "@show b .<= 5; # apply comparisons element-wise for arrays"
   ]
  },
  {
   "cell_type": "markdown",
   "metadata": {},
   "source": [
    "Moreover, we can aggregate boolean results with logical operators:"
   ]
  },
  {
   "cell_type": "code",
   "execution_count": 16,
   "metadata": {},
   "outputs": [
    {
     "name": "stdout",
     "output_type": "stream",
     "text": [
      "1 <= 3 && 4 != 2 = true\n",
      "1 <= 3 || 1 != 1 = true\n",
      "!(1 < 3) = false\n"
     ]
    }
   ],
   "source": [
    "@show 1 <= 3 && 4 != 2 # logical and\n",
    "@show 1 <= 3 || 1 != 1 # logical or\n",
    "@show !(1 < 3); # negation"
   ]
  },
  {
   "cell_type": "markdown",
   "metadata": {},
   "source": [
    "## Other Common Types\n",
    "In addition to numbers and arrays, there are a few other types we will commonly use to define optimization models.\n",
    "\n",
    "### Strings\n",
    "These store text and are defined using double quotes (not single quotes like python):"
   ]
  },
  {
   "cell_type": "code",
   "execution_count": 17,
   "metadata": {},
   "outputs": [
    {
     "data": {
      "text/plain": [
       "String"
      ]
     },
     "metadata": {},
     "output_type": "display_data"
    }
   ],
   "source": [
    "typeof(\"I love optimization!\")"
   ]
  },
  {
   "cell_type": "markdown",
   "metadata": {},
   "source": [
    "We can also embed unicode characters"
   ]
  },
  {
   "cell_type": "code",
   "execution_count": 18,
   "metadata": {},
   "outputs": [
    {
     "data": {
      "text/plain": [
       "\"I ❤ optimization!\""
      ]
     },
     "metadata": {},
     "output_type": "display_data"
    }
   ],
   "source": [
    "my_str = \"I ❤ optimization!\""
   ]
  },
  {
   "cell_type": "markdown",
   "metadata": {},
   "source": [
    "We can print strings using `println` which will combine strings together if we give multiple:"
   ]
  },
  {
   "cell_type": "code",
   "execution_count": 19,
   "metadata": {},
   "outputs": [
    {
     "name": "stdout",
     "output_type": "stream",
     "text": [
      "The answer to life, the universe, and everything is 42!\n"
     ]
    }
   ],
   "source": [
    "x = 42\n",
    "println(\"The answer to life, the universe, and everything is \", x, \"!\") # we can embed numbers as individual arguments"
   ]
  },
  {
   "cell_type": "markdown",
   "metadata": {},
   "source": [
    "`String`s can be indexed and sliced like vectors. However, unlike python, Julia `String`s are not mutable. "
   ]
  },
  {
   "cell_type": "code",
   "execution_count": 20,
   "metadata": {},
   "outputs": [
    {
     "name": "stdout",
     "output_type": "stream",
     "text": [
      "my_str[1:2] = \"I \"\n"
     ]
    },
    {
     "ename": "MethodError",
     "evalue": "MethodError: no method matching setindex!(::String, ::String, ::Int64)",
     "output_type": "error",
     "traceback": [
      "MethodError: no method matching setindex!(::String, ::String, ::Int64)\n",
      "\n",
      "Stacktrace:\n",
      " [1] top-level scope\n",
      "   @ c:\\Users\\Pulsipher\\Documents\\InfiniteOptTutorials\\short_course\\completed_exercises\\1-julia_overview.ipynb:2"
     ]
    }
   ],
   "source": [
    "@show my_str[1:2]\n",
    "my_str[8] = \"s\" # throws an error since we cannot modify a String in-place"
   ]
  },
  {
   "cell_type": "markdown",
   "metadata": {},
   "source": [
    "### Symbols\n",
    "`Symbol`s are a special Julia type that is uses internally to store names (these are used a lot with metaprogramming). In this introductory context, symbols can serve as labels that use less memory than `String`s. Note however, that Symbols are often misused where `@enum` or a `String` should be used instead. "
   ]
  },
  {
   "cell_type": "code",
   "execution_count": 21,
   "metadata": {},
   "outputs": [
    {
     "data": {
      "text/plain": [
       "Symbol"
      ]
     },
     "metadata": {},
     "output_type": "display_data"
    }
   ],
   "source": [
    "typeof(:x)"
   ]
  },
  {
   "cell_type": "markdown",
   "metadata": {},
   "source": [
    "We can convert `Symbol`s into `String`s and vice versa:"
   ]
  },
  {
   "cell_type": "code",
   "execution_count": 22,
   "metadata": {},
   "outputs": [
    {
     "name": "stdout",
     "output_type": "stream",
     "text": [
      "String(:x) = \"x\"\n",
      "Symbol(\"x\") = :x\n"
     ]
    }
   ],
   "source": [
    "@show String(:x)\n",
    "@show Symbol(\"x\");"
   ]
  },
  {
   "cell_type": "markdown",
   "metadata": {},
   "source": [
    "### Tuples\n",
    "`Tuple`s are a memory efficient way of storing things that Julia uses a lot. A `Tuple` is am immutable collection of values. For instance,"
   ]
  },
  {
   "cell_type": "code",
   "execution_count": 23,
   "metadata": {},
   "outputs": [
    {
     "data": {
      "text/plain": [
       "Tuple{Int64, String, Symbol}"
      ]
     },
     "metadata": {},
     "output_type": "display_data"
    }
   ],
   "source": [
    "t = (42, \"cat\", :x)\n",
    "typeof(t)"
   ]
  },
  {
   "cell_type": "markdown",
   "metadata": {},
   "source": [
    "These are indexed just like vectors:"
   ]
  },
  {
   "cell_type": "code",
   "execution_count": 24,
   "metadata": {},
   "outputs": [
    {
     "data": {
      "text/plain": [
       "\"cat\""
      ]
     },
     "metadata": {},
     "output_type": "display_data"
    }
   ],
   "source": [
    "t[2]"
   ]
  },
  {
   "cell_type": "markdown",
   "metadata": {},
   "source": [
    "We can also unpack them:"
   ]
  },
  {
   "cell_type": "code",
   "execution_count": 25,
   "metadata": {},
   "outputs": [
    {
     "name": "stdout",
     "output_type": "stream",
     "text": [
      "a = 42, b = cat, c = x\n"
     ]
    }
   ],
   "source": [
    "a, b, c = t # define a variable for each tuple element\n",
    "println(\"a = \", a, \", b = \", b, \", c = \", c)"
   ]
  },
  {
   "cell_type": "markdown",
   "metadata": {},
   "source": [
    "We can also light-weight data structures called named tuples:"
   ]
  },
  {
   "cell_type": "code",
   "execution_count": 26,
   "metadata": {},
   "outputs": [
    {
     "data": {
      "text/plain": [
       "\"hello\""
      ]
     },
     "metadata": {},
     "output_type": "display_data"
    }
   ],
   "source": [
    "t = (word = \"hello\", num = 1.2, sym = :foo)\n",
    "t.word # access the names via the dot syntax"
   ]
  },
  {
   "cell_type": "markdown",
   "metadata": {},
   "source": [
    "### Dictionaries\n",
    "Like python, Julia supports dictionaries. Dictionaries are a very useful tool for storing data that can be accessed with arbitrary keys to values. For instance, mapping strings to integers:"
   ]
  },
  {
   "cell_type": "code",
   "execution_count": 27,
   "metadata": {},
   "outputs": [
    {
     "data": {
      "text/plain": [
       "Dict{String, Int64} with 3 entries:\n",
       "  \"c\" => 3\n",
       "  \"b\" => 2\n",
       "  \"a\" => 1"
      ]
     },
     "metadata": {},
     "output_type": "display_data"
    }
   ],
   "source": [
    "d = Dict(\"a\" => 1, \"b\" => 2, \"c\" => 3)"
   ]
  },
  {
   "cell_type": "markdown",
   "metadata": {},
   "source": [
    "We can access dictionary values with square bracket indexing, and we can change/add values."
   ]
  },
  {
   "cell_type": "code",
   "execution_count": 28,
   "metadata": {},
   "outputs": [
    {
     "name": "stdout",
     "output_type": "stream",
     "text": [
      "d[\"a\"] = 1\n"
     ]
    },
    {
     "data": {
      "text/plain": [
       "Dict{String, Int64} with 4 entries:\n",
       "  \"c\" => 3\n",
       "  \"b\" => 42\n",
       "  \"a\" => 1\n",
       "  \"d\" => -2"
      ]
     },
     "metadata": {},
     "output_type": "display_data"
    }
   ],
   "source": [
    "@show d[\"a\"]\n",
    "d[\"b\"] = 42 # change the value of \"b\"\n",
    "d[\"d\"] = -2 # add a new mapping \"d\" => -2\n",
    "d"
   ]
  },
  {
   "cell_type": "markdown",
   "metadata": {},
   "source": [
    "Dictionaries can stored varied input, including other dictionaries:"
   ]
  },
  {
   "cell_type": "code",
   "execution_count": 29,
   "metadata": {},
   "outputs": [
    {
     "data": {
      "text/plain": [
       "Dict{String, Any} with 3 entries:\n",
       "  \"c\" => Dict(:y=>4, :x=>3)\n",
       "  \"b\" => 2\n",
       "  \"a\" => 1"
      ]
     },
     "metadata": {},
     "output_type": "display_data"
    }
   ],
   "source": [
    "d2 = Dict(\"a\" => 1, \"b\" => 2, \"c\" => Dict(:x => 3, :y => 4))"
   ]
  },
  {
   "cell_type": "markdown",
   "metadata": {},
   "source": [
    "This gives a very flexible way to store data. Notice however that now the supports values of type `Any` which allows it to hold heterogeneous values, but this will be less performant that dictionaries where the value types match."
   ]
  },
  {
   "cell_type": "markdown",
   "metadata": {},
   "source": [
    "### Structs\n",
    "We can define our own custom data structure via `struct`:"
   ]
  },
  {
   "cell_type": "code",
   "execution_count": 30,
   "metadata": {},
   "outputs": [
    {
     "data": {
      "text/plain": [
       "MyStruct(1, \"a\", Dict(2 => 3))"
      ]
     },
     "metadata": {},
     "output_type": "display_data"
    }
   ],
   "source": [
    "struct MyStruct\n",
    "    x::Int\n",
    "    y::String\n",
    "    z::Dict{Int,Int}\n",
    "end\n",
    "\n",
    "a = MyStruct(1, \"a\", Dict(2 => 3))"
   ]
  },
  {
   "cell_type": "markdown",
   "metadata": {},
   "source": [
    "The fields are accessed via dot syntax, but these are not mutable by default:"
   ]
  },
  {
   "cell_type": "code",
   "execution_count": 31,
   "metadata": {},
   "outputs": [
    {
     "name": "stdout",
     "output_type": "stream",
     "text": [
      "a.x = 1\n"
     ]
    },
    {
     "ename": "ErrorException",
     "evalue": "setfield!: immutable struct of type MyStruct cannot be changed",
     "output_type": "error",
     "traceback": [
      "setfield!: immutable struct of type MyStruct cannot be changed\n",
      "\n",
      "Stacktrace:\n",
      " [1] setproperty!(x::MyStruct, f::Symbol, v::Int64)\n",
      "   @ Base .\\Base.jl:38\n",
      " [2] top-level scope\n",
      "   @ c:\\Users\\Pulsipher\\Documents\\InfiniteOptTutorials\\short_course\\completed_exercises\\1-julia_overview.ipynb:2"
     ]
    }
   ],
   "source": [
    "@show a.x\n",
    "a.x = 2 # throws an error"
   ]
  },
  {
   "cell_type": "markdown",
   "metadata": {},
   "source": [
    "However, we can make a mutable `struct` by adding the `mutable` keyword: "
   ]
  },
  {
   "cell_type": "code",
   "execution_count": 32,
   "metadata": {},
   "outputs": [
    {
     "data": {
      "text/plain": [
       "2"
      ]
     },
     "metadata": {},
     "output_type": "display_data"
    }
   ],
   "source": [
    "mutable struct MyStructMutable\n",
    "    x::Int\n",
    "    y::String\n",
    "    z::Dict{Int,Int}\n",
    "end\n",
    "\n",
    "a = MyStructMutable(1, \"a\", Dict(2 => 3))\n",
    "a.x = 2"
   ]
  },
  {
   "cell_type": "markdown",
   "metadata": {},
   "source": [
    "Notice in the above examples, that we explicitly typed each field. This is optional but highly recommended for performance. See https://docs.julialang.org/en/v1/manual/types/#Composite-Types and https://docs.julialang.org/en/v1/manual/performance-tips/#Type-declarations for more information."
   ]
  },
  {
   "cell_type": "markdown",
   "metadata": {},
   "source": [
    "## Loops\n",
    "Julia supports for loops and while loops. We will focus on the use of for loops which are of the form `for <value> in <collection> end`. A common collection (i.e., iterator) is a range which is formatted `<start>:<end>` or `<start>:<step>:<end>`. For example,"
   ]
  },
  {
   "cell_type": "code",
   "execution_count": 33,
   "metadata": {},
   "outputs": [
    {
     "name": "stdout",
     "output_type": "stream",
     "text": [
      "1\n",
      "2\n",
      "3\n",
      "4\n",
      "5\n",
      "1.2\n",
      "2.3\n",
      "3.4\n",
      "4.5\n",
      "5.6\n"
     ]
    }
   ],
   "source": [
    "for i in 1:5\n",
    "    println(i)\n",
    "end\n",
    "\n",
    "for i in 1.2:1.1:5.6\n",
    "    println(i)\n",
    "end"
   ]
  },
  {
   "cell_type": "markdown",
   "metadata": {},
   "source": [
    "This also works with dictionaries\n",
    "\n",
    "\n"
   ]
  },
  {
   "cell_type": "code",
   "execution_count": 34,
   "metadata": {},
   "outputs": [
    {
     "name": "stdout",
     "output_type": "stream",
     "text": [
      "B : 2.5\n",
      "A : 1\n",
      "C : 2 - 3im\n"
     ]
    }
   ],
   "source": [
    "for (key, value) in Dict(\"A\" => 1, \"B\" => 2.5, \"C\" => 2 - 3im)\n",
    "    println(key, \" : \", value)\n",
    "end"
   ]
  },
  {
   "cell_type": "markdown",
   "metadata": {},
   "source": [
    "Iterating over arrays is also common and easy"
   ]
  },
  {
   "cell_type": "code",
   "execution_count": 35,
   "metadata": {},
   "outputs": [
    {
     "data": {
      "text/plain": [
       "2×4 Matrix{Float64}:\n",
       " 2.0  3.0  4.0  5.0\n",
       " 3.0  4.0  5.0  6.0"
      ]
     },
     "metadata": {},
     "output_type": "display_data"
    }
   ],
   "source": [
    "A = zeros(2, 4)\n",
    "for j in 1:4\n",
    "    for i in 1:2\n",
    "        A[i, j] = i + j\n",
    "    end\n",
    "end \n",
    "A"
   ]
  },
  {
   "cell_type": "markdown",
   "metadata": {},
   "source": [
    "Unlike languages like MATLAB, R, and python, for loops are actually performant in Julia. There is no need to call a lot of convoluted numpy functions for performance. "
   ]
  },
  {
   "cell_type": "markdown",
   "metadata": {},
   "source": [
    "## Control Flow\n",
    "Julia control flow is similar to MATLAB, using keywords `if-elseif-else-end`:"
   ]
  },
  {
   "cell_type": "code",
   "execution_count": 36,
   "metadata": {},
   "outputs": [
    {
     "name": "stdout",
     "output_type": "stream",
     "text": [
      "0 is less than 5\n",
      "5 is less than 10\n",
      "the value is 10\n",
      "15 is bigger than 10\n"
     ]
    }
   ],
   "source": [
    "for i in 0:5:15\n",
    "    if i < 5\n",
    "        println(i, \" is less than 5\")\n",
    "    elseif i < 10\n",
    "        println(i, \" is less than 10\")\n",
    "    else\n",
    "        if i == 10\n",
    "            println(\"the value is 10\")\n",
    "        else\n",
    "            println(i, \" is bigger than 10\")\n",
    "        end\n",
    "    end\n",
    "end"
   ]
  },
  {
   "cell_type": "markdown",
   "metadata": {},
   "source": [
    "## Comprehensions\n",
    "Similar to languages like Haskell and Python, Julia supports the use of simple loops in the construction of arrays and dictionaries, called comprehensions. \n",
    "\n",
    "A list of increasing integers:"
   ]
  },
  {
   "cell_type": "code",
   "execution_count": 37,
   "metadata": {},
   "outputs": [
    {
     "data": {
      "text/plain": [
       "3-element Vector{Int64}:\n",
       " 1\n",
       " 2\n",
       " 3"
      ]
     },
     "metadata": {},
     "output_type": "display_data"
    }
   ],
   "source": [
    "[i for i in 1:3]"
   ]
  },
  {
   "cell_type": "markdown",
   "metadata": {},
   "source": [
    "Matrices can be built by including multiple indices:"
   ]
  },
  {
   "cell_type": "code",
   "execution_count": 38,
   "metadata": {},
   "outputs": [
    {
     "data": {
      "text/plain": [
       "3×6 Matrix{Int64}:\n",
       "  5   6   7   8   9  10\n",
       " 10  12  14  16  18  20\n",
       " 15  18  21  24  27  30"
      ]
     },
     "metadata": {},
     "output_type": "display_data"
    }
   ],
   "source": [
    "[i * j for i in 1:3, j in 5:10]"
   ]
  },
  {
   "cell_type": "markdown",
   "metadata": {},
   "source": [
    "Conditional statements can be used to filter out some values:"
   ]
  },
  {
   "cell_type": "code",
   "execution_count": 39,
   "metadata": {},
   "outputs": [
    {
     "data": {
      "text/plain": [
       "3-element Vector{Int64}:\n",
       " 1\n",
       " 3\n",
       " 5"
      ]
     },
     "metadata": {},
     "output_type": "display_data"
    }
   ],
   "source": [
    "[i for i in 1:5 if i % 2 == 1] # the `%` operator is the modulo operator in Julia"
   ]
  },
  {
   "cell_type": "markdown",
   "metadata": {},
   "source": [
    "A similar syntax can be used for building dictionaries:"
   ]
  },
  {
   "cell_type": "code",
   "execution_count": 40,
   "metadata": {},
   "outputs": [
    {
     "data": {
      "text/plain": [
       "Dict{String, Int64} with 5 entries:\n",
       "  \"1\" => 1\n",
       "  \"5\" => 5\n",
       "  \"7\" => 7\n",
       "  \"9\" => 9\n",
       "  \"3\" => 3"
      ]
     },
     "metadata": {},
     "output_type": "display_data"
    }
   ],
   "source": [
    "Dict(string(i) => i for i in 1:10 if i % 2 == 1)"
   ]
  },
  {
   "cell_type": "markdown",
   "metadata": {},
   "source": [
    "## Functions\n",
    "Functions are declared using the `function` keyword and the final value (if any) is returned via the `return` keyword. Let's begin with a simple function:"
   ]
  },
  {
   "cell_type": "code",
   "execution_count": 41,
   "metadata": {},
   "outputs": [
    {
     "name": "stdout",
     "output_type": "stream",
     "text": [
      "Hi there!\n"
     ]
    }
   ],
   "source": [
    "function say_hi()\n",
    "    return println(\"Hi there!\")\n",
    "end\n",
    "say_hi()"
   ]
  },
  {
   "cell_type": "markdown",
   "metadata": {},
   "source": [
    "We can also add arguments:"
   ]
  },
  {
   "cell_type": "code",
   "execution_count": 42,
   "metadata": {},
   "outputs": [
    {
     "data": {
      "text/plain": [
       "4"
      ]
     },
     "metadata": {},
     "output_type": "display_data"
    }
   ],
   "source": [
    "function my_square(x)\n",
    "    return x^2\n",
    "end\n",
    "my_square(2)"
   ]
  },
  {
   "cell_type": "markdown",
   "metadata": {},
   "source": [
    "We can even add optional keyword arguments if we want:"
   ]
  },
  {
   "cell_type": "code",
   "execution_count": 43,
   "metadata": {},
   "outputs": [
    {
     "name": "stdout",
     "output_type": "stream",
     "text": [
      "mult(4.0) = 8.0\n",
      "mult(4.0, y = 5.0) = 20.0\n"
     ]
    }
   ],
   "source": [
    "function mult(x; y = 2.0)\n",
    "    return x * y\n",
    "end\n",
    "@show mult(4.0)\n",
    "@show mult(4.0, y = 5.0);"
   ]
  },
  {
   "cell_type": "markdown",
   "metadata": {},
   "source": [
    "### Anonymous Function\n",
    "The syntax `input -> output` creates an anonymous function. These are most useful when passed to other functions. For example:"
   ]
  },
  {
   "cell_type": "code",
   "execution_count": 44,
   "metadata": {},
   "outputs": [
    {
     "data": {
      "text/plain": [
       "4"
      ]
     },
     "metadata": {},
     "output_type": "display_data"
    }
   ],
   "source": [
    "f = x -> x^2\n",
    "f(2)"
   ]
  },
  {
   "cell_type": "code",
   "execution_count": 45,
   "metadata": {},
   "outputs": [
    {
     "data": {
      "text/plain": [
       "3-element Vector{Int64}:\n",
       " 1\n",
       " 3\n",
       " 4"
      ]
     },
     "metadata": {},
     "output_type": "display_data"
    }
   ],
   "source": [
    "findall(x -> x >= 0, [0, -3, 4, 8, -9]) # find all the indices of the nonnegative values"
   ]
  },
  {
   "cell_type": "markdown",
   "metadata": {},
   "source": [
    "### Typed Functions\n",
    "We can constrain the inputs to a function using type parameters, which are :: followed by the type of the input we want. This allows us to overload a function based on type and is a core programming paradigm used in Julia. For example:"
   ]
  },
  {
   "cell_type": "code",
   "execution_count": 46,
   "metadata": {},
   "outputs": [
    {
     "name": "stdout",
     "output_type": "stream",
     "text": [
      "g(2) = 4\n",
      "g(2.0) = 7.38905609893065\n",
      "g(1 + 1im) = 2 + 1im\n"
     ]
    }
   ],
   "source": [
    "function g(x::Int)\n",
    "    return x^2\n",
    "end\n",
    "\n",
    "function g(x::Float64)\n",
    "    return exp(x)\n",
    "end\n",
    "\n",
    "function g(x::Number)\n",
    "    return x + 1\n",
    "end\n",
    "\n",
    "@show g(2)\n",
    "@show g(2.0)\n",
    "@show g(1 + 1im);"
   ]
  },
  {
   "cell_type": "markdown",
   "metadata": {},
   "source": [
    "But what happens if we call `foo` with something we haven't defined it for?"
   ]
  },
  {
   "cell_type": "code",
   "execution_count": 47,
   "metadata": {},
   "outputs": [
    {
     "ename": "MethodError",
     "evalue": "MethodError: no method matching g(::Vector{Int64})\n\nClosest candidates are:\n  g(!Matched::Int64)\n   @ Main c:\\Users\\Pulsipher\\Documents\\InfiniteOptTutorials\\short_course\\completed_exercises\\1-julia_overview.ipynb:1\n  g(!Matched::Float64)\n   @ Main c:\\Users\\Pulsipher\\Documents\\InfiniteOptTutorials\\short_course\\completed_exercises\\1-julia_overview.ipynb:5\n  g(!Matched::Number)\n   @ Main c:\\Users\\Pulsipher\\Documents\\InfiniteOptTutorials\\short_course\\completed_exercises\\1-julia_overview.ipynb:9\n",
     "output_type": "error",
     "traceback": [
      "MethodError: no method matching g(::Vector{Int64})\n",
      "\n",
      "Closest candidates are:\n",
      "  g(!Matched::Int64)\n",
      "   @ Main c:\\Users\\Pulsipher\\Documents\\InfiniteOptTutorials\\short_course\\completed_exercises\\1-julia_overview.ipynb:1\n",
      "  g(!Matched::Float64)\n",
      "   @ Main c:\\Users\\Pulsipher\\Documents\\InfiniteOptTutorials\\short_course\\completed_exercises\\1-julia_overview.ipynb:5\n",
      "  g(!Matched::Number)\n",
      "   @ Main c:\\Users\\Pulsipher\\Documents\\InfiniteOptTutorials\\short_course\\completed_exercises\\1-julia_overview.ipynb:9\n",
      "\n",
      "\n",
      "Stacktrace:\n",
      " [1] top-level scope\n",
      "   @ c:\\Users\\Pulsipher\\Documents\\InfiniteOptTutorials\\short_course\\completed_exercises\\1-julia_overview.ipynb:1"
     ]
    }
   ],
   "source": [
    "g([1, 2, 3])"
   ]
  },
  {
   "cell_type": "markdown",
   "metadata": {},
   "source": [
    "We get a dreaded `MethodError`! A `MethodError` means that you passed a function something that didn't match the type that it was expecting. In this case, the error message says that it doesn't know how to handle a `Vector{Int64}`, but it does know how to handle `Float64`, `Int64`, and `Number`."
   ]
  },
  {
   "cell_type": "markdown",
   "metadata": {},
   "source": [
    "### Broadcasting\n",
    "In the example above, we didn't define what to do if f was passed a `Vector`. Luckily, Julia provides a convenient syntax for mapping f element-wise over arrays! Just add a `.` between the name of the function and the opening `(`. This works for any function, including functions with multiple arguments. For example:"
   ]
  },
  {
   "cell_type": "code",
   "execution_count": 48,
   "metadata": {},
   "outputs": [
    {
     "data": {
      "text/plain": [
       "3-element Vector{Int64}:\n",
       " 1\n",
       " 4\n",
       " 9"
      ]
     },
     "metadata": {},
     "output_type": "display_data"
    }
   ],
   "source": [
    "g.([1, 2, 3])"
   ]
  },
  {
   "cell_type": "markdown",
   "metadata": {},
   "source": [
    "This will be a common paradigm when dealing with arrays in `JuMP.jl` and `InfiniteOpt.jl`."
   ]
  },
  {
   "cell_type": "markdown",
   "metadata": {},
   "source": [
    "### Mutable Arguments\n",
    "Some types in Julia are *mutable*, which means you can change the values inside them. A good example is an array. You can modify the contents of an array without having to make a new array.\n",
    "\n",
    "In contrast, types like `Float64` are immutable. You can't modify the contents of a `Float64`.\n",
    "\n",
    "This is something to be aware of when passing types into functions. For example:"
   ]
  },
  {
   "cell_type": "code",
   "execution_count": 49,
   "metadata": {},
   "outputs": [
    {
     "name": "stdout",
     "output_type": "stream",
     "text": [
      "mutable_type = [2, 2, 3]\n",
      "immutable_type = 1\n"
     ]
    }
   ],
   "source": [
    "function mutability_example(mutable_type::Vector{Int}, immutable_type::Int)\n",
    "    mutable_type[1] += 1\n",
    "    immutable_type += 1\n",
    "    return\n",
    "end\n",
    "\n",
    "mutable_type = [1, 2, 3]\n",
    "immutable_type = 1\n",
    "\n",
    "mutability_example(mutable_type, immutable_type)\n",
    "\n",
    "@show mutable_type\n",
    "@show immutable_type;"
   ]
  },
  {
   "cell_type": "markdown",
   "metadata": {},
   "source": [
    "Because `Vector{Int}` is a mutable type, modifying the variable inside the function changed the value outside the function. In contrast, the change to `immutable_type` didn't modify the value outside the function. We can check mutability via `isimmutable`:"
   ]
  },
  {
   "cell_type": "code",
   "execution_count": 50,
   "metadata": {},
   "outputs": [
    {
     "name": "stdout",
     "output_type": "stream",
     "text": [
      "isimmutable(mutable_type) = false\n",
      "isimmutable(immutable_type) = true\n"
     ]
    }
   ],
   "source": [
    "@show isimmutable(mutable_type)\n",
    "@show isimmutable(immutable_type);"
   ]
  },
  {
   "cell_type": "markdown",
   "metadata": {},
   "source": [
    "Note that Julia functions that change the inputs are typically annotated with an `!` at the end of the function name (e.g., `append!`). However, functions that obviously mutate their input in `JuMP.jl` and `InfiniteOpt.jl` (e.g., `JuMP.delete`) drop this convention. "
   ]
  },
  {
   "cell_type": "markdown",
   "metadata": {},
   "source": [
    "## Package Manager\n",
    "\n",
    "### Installing Packages\n",
    "No matter how wonderful Julia's base language is, at some point you will want to use an extension package. Some of these are built-in, for example random number generation is available in the Random package in the standard library. These packages are loaded with the commands `using` and `import`."
   ]
  },
  {
   "cell_type": "code",
   "execution_count": 51,
   "metadata": {},
   "outputs": [
    {
     "data": {
      "text/plain": [
       "4-element Vector{Float64}:\n",
       " 0.4745319377345316\n",
       " 0.9650392357070774\n",
       " 0.8194019096093067\n",
       " 0.9297749959069098"
      ]
     },
     "metadata": {},
     "output_type": "display_data"
    }
   ],
   "source": [
    "using Random  # The equivalent of Python's `from Random import *`\n",
    "import Random  # The equivalent of Python's `import Random`\n",
    "\n",
    "Random.seed!(33)\n",
    "\n",
    "[rand() for i in 1:4]"
   ]
  },
  {
   "cell_type": "markdown",
   "metadata": {},
   "source": [
    "The Package Manager is used to install packages that are not part of the standard library. This is accomplished using the `add` command. I recommend doing this via the REPL. For more information see https://pkgdocs.julialang.org/v1/getting-started/."
   ]
  },
  {
   "cell_type": "markdown",
   "metadata": {},
   "source": [
    "```julia\n",
    "julia> ]\n",
    "\n",
    "(@v1.10) pkg> add InfiniteOpt\n",
    "```"
   ]
  },
  {
   "cell_type": "markdown",
   "metadata": {},
   "source": [
    "### Virtual Environments\n",
    "By default, packages are added in Julia's global environment. Installing a wide variety of packages can lead to compatibility problems. Hence, we highly recommend creating a new environment for each project you work on. Note that this very short course has its own environment as directed by the `Project.toml` file."
   ]
  },
  {
   "cell_type": "markdown",
   "metadata": {},
   "source": [
    "```julia\n",
    "julia> pwd()\n",
    "/Users/MyAccount\n",
    "\n",
    "julia> mkdir(\"MyProject\")\n",
    "\n",
    "julia> cd(\"MyProject\")\n",
    "/Users/MyAccount/MyProject\n",
    "\n",
    "julia> ]\n",
    "\n",
    "(@v1.10) pkg> activate .\n",
    "\n",
    "(@MyProject) pkg> add InfiniteOpt\n",
    "```"
   ]
  },
  {
   "cell_type": "markdown",
   "metadata": {},
   "source": [
    "For more information, see https://pkgdocs.julialang.org/v1/environments/."
   ]
  },
  {
   "cell_type": "markdown",
   "metadata": {},
   "source": [
    "## Latency in Julia\n",
    "As you may have already noticed, the first time we run code in Julia it isn't very fast. This is because functions need to be compiled the first time they are called. From then on, they will be much faster. In many applications, this isn't a big problem. However, sometimes this can be a barrier. Here we will discuss 2 ways to avoid this.\n",
    "\n",
    "### Don't use the command line\n",
    "In other languages, you might be used to the workflow:\n",
    "```\n",
    "$ julia my_script.jl\n",
    "```\n",
    "This doesn't work well for Julia since we will have to pay the compilation latency every time. Instead, it is better to do repeated calls in the same REPL session (VS Code does this automatically).\n",
    "\n",
    "### Use PackageCompiler\n",
    "In cases where we would like to remove the latency completely, we can use `PackageCompiler.jl` to cache the compilation for future runs and thus avoid most of the start-up latency. For instance, if we have a script `model.jl` that uses `JuMP.jl` and `HiGHS.jl` we can do the following:\n",
    "\n",
    "```julia\n",
    "using PackageCompiler, Libdl\n",
    "PackageCompiler.create_sysimage(\n",
    "    [\"JuMP\", \"HiGHS\"],\n",
    "    sysimage_path = \"customimage.\" * Libdl.dlext,\n",
    "    precompile_execution_file = \"model.jl\",\n",
    ")\n",
    "```\n",
    "\n",
    "Then we can use `customimage` when we run `model.jl` and get a great speedup:\n",
    "```\n",
    "$ time julia model.jl\n",
    "15.78s user 0.48s system 100% cpu 16.173 total\n",
    "\n",
    "$ time julia --sysimage customimage model.jl\n",
    "0.68s user 0.22s system 153% cpu 0.587 total\n",
    "```\n",
    "\n",
    "We only need to build `customimage` once, and it can even be used with other Julia scripts to remove some latency. Note that system images are system specific and cannot be transferred between computers."
   ]
  },
  {
   "cell_type": "markdown",
   "metadata": {},
   "source": [
    "## Exercise: Monte Carlo Pi\n",
    "**Problem**\n",
    "- Estimate the value of π using Monte Carlo sampling\n",
    "- Estimate π using 100, 1000, 10000, and 100000 samples\n",
    "\n",
    "**Algorithm**\n",
    "- Generate random 2D points between in the interval [-1, 1] x [-1, 1]\n",
    "- Determine the number of points inside the unit circle\n",
    "- The estimate is $\\pi = 4 \\frac{\\text{number of points in the circle}}{\\text{total number of points}}$\n",
    "\n",
    "**Hints**\n",
    "- A random 2D vector in [-1, 1] x [-1, 1] is `rand(2) * 2 .- 1`\n",
    "- Should put code inside a function that takes the number of samples as input\n",
    "\n"
   ]
  },
  {
   "cell_type": "code",
   "execution_count": 52,
   "metadata": {},
   "outputs": [
    {
     "name": "stdout",
     "output_type": "stream",
     "text": [
      "my_pi(i) = 3.0\n",
      "my_pi(i) = 3.1\n",
      "my_pi(i) = 3.1076\n",
      "my_pi(i) = 3.14036\n"
     ]
    }
   ],
   "source": [
    "# PUT SOLUTION HERE\n",
    "function my_pi(n)\n",
    "    counter = 0\n",
    "    for i in 1:n\n",
    "        pt = rand(2) * 2 .- 1\n",
    "        if pt[1]^2 + pt[2]^2 <= 1\n",
    "            counter += 1\n",
    "        end\n",
    "    end\n",
    "    return 4 * counter / n\n",
    "end\n",
    "\n",
    "for i in [100, 1000, 10000, 100000]\n",
    "    @show my_pi(i)\n",
    "end"
   ]
  }
 ],
 "metadata": {
  "kernelspec": {
   "display_name": "Julia 1.9.2",
   "language": "julia",
   "name": "julia-1.9"
  },
  "language_info": {
   "file_extension": ".jl",
   "mimetype": "application/julia",
   "name": "julia",
   "version": "1.9.2"
  },
  "orig_nbformat": 4
 },
 "nbformat": 4,
 "nbformat_minor": 2
}
