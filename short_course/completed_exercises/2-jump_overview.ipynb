{
 "cells": [
  {
   "cell_type": "markdown",
   "metadata": {},
   "source": [
    "# `JuMP.jl`: A Brief Initial Introduction\n",
    "Here we present an initial introduction to using `JuMP.jl`. We will focus on the core modeling aspects as motivated by a simple linear programming problem. Note that this content takes inspiration from https://jump.dev/JuMP.jl/stable/tutorials/getting_started/getting_started_with_JuMP/.\n",
    "\n",
    "## Resources\n",
    "We will not be able to cover all of `JuMP.jl`'s capabilities today. Good references are:\n",
    "- The tutorials, examples, manuals, and guides in `JuMP.jl`'s documentation: https://jump.dev/JuMP.jl/stable/\n",
    "- The Julia optimization forum: https://discourse.julialang.org/c/domain/opt/13\n",
    "- Julia Programming for Operations Research 2/e (not always up-to-date): https://www.softcover.io/read/7b8eb7d0/juliabook2/introduction\n",
    "\n",
    "## Installation\n",
    "This short course project already has `JuMP.jl` installed with the necessary solver packages. For reference, let's consider how to add `JuMP` and appropriate solvers to a project environment:\n",
    "\n",
    "```julia\n",
    "julia> cd(\"PATH/MyProject\")\n",
    "\n",
    "julia> ]\n",
    "\n",
    "(@v1.7) pkg> activate .\n",
    "\n",
    "(@MyProject) pkg> add JuMP, HiGHS, Ipopt\n",
    "```\n",
    "Here `HiGHS` acts an appropriate LP solver and `Ipopt` acts as an appropriate NLP solver. The list of supported solvers and the problems types they can solve is provided at https://jump.dev/JuMP.jl/stable/installation/#Supported-solvers.\n",
    "\n",
    "## Motivating Example\n",
    "Consider the following linear program (LP):\n",
    "$$\n",
    "\\begin{aligned}\n",
    "& \\min && 12x + 20y \\\\\n",
    "& \\;\\;\\text{s.t.} && 6x + 8y \\geq 100 \\\\\n",
    "&&& 7x + 12y \\geq 120 \\\\\n",
    "&&& x \\geq 0 \\\\\n",
    "&&& y \\in [0, 3] \\\\\n",
    "\\end{aligned}\n",
    "$$\n",
    "Let's formulate this problem in `JuMP.jl` and use the HiGHS solver:"
   ]
  },
  {
   "cell_type": "code",
   "execution_count": 1,
   "metadata": {},
   "outputs": [
    {
     "name": "stdout",
     "output_type": "stream",
     "text": [
      "Min 12 x + 20 y\n",
      "Subject to\n",
      " c1 : 6 x + 8 y >= 100.0\n",
      " c2 : 7 x + 12 y >= 120.0\n",
      " x >= 0.0\n",
      " y >= 0.0\n",
      " y <= 3.0\n"
     ]
    },
    {
     "data": {
      "text/latex": [
       "$$ \\begin{aligned}\n",
       "\\min\\quad & 12 x + 20 y\\\\\n",
       "\\text{Subject to} \\quad & 6 x + 8 y \\geq 100.0\\\\\n",
       " & 7 x + 12 y \\geq 120.0\\\\\n",
       " & x \\geq 0.0\\\\\n",
       " & y \\geq 0.0\\\\\n",
       " & y \\leq 3.0\\\\\n",
       "\\end{aligned} $$"
      ],
      "text/plain": [
       "$$ \\begin{aligned}\n",
       "\\min\\quad & 12 x + 20 y\\\\\n",
       "\\text{Subject to} \\quad & 6 x + 8 y \\geq 100.0\\\\\n",
       " & 7 x + 12 y \\geq 120.0\\\\\n",
       " & x \\geq 0.0\\\\\n",
       " & y \\geq 0.0\\\\\n",
       " & y \\leq 3.0\\\\\n",
       "\\end{aligned} $$"
      ]
     },
     "metadata": {},
     "output_type": "display_data"
    }
   ],
   "source": [
    "using JuMP, HiGHS\n",
    "\n",
    "model = Model(HiGHS.Optimizer)\n",
    "\n",
    "@variable(model, x >= 0)\n",
    "@variable(model, 0 <= y <= 3)\n",
    "\n",
    "@objective(model, Min, 12x + 20y)\n",
    "\n",
    "@constraint(model, c1, 6x + 8y >= 100)\n",
    "@constraint(model, c2, 7x + 12y >= 120)\n",
    "\n",
    "print(model)\n",
    "\n",
    "latex_formulation(model)"
   ]
  },
  {
   "cell_type": "markdown",
   "metadata": {},
   "source": [
    "That's all we have to do formulate the model and view it. Now let's optimize it!"
   ]
  },
  {
   "cell_type": "code",
   "execution_count": 2,
   "metadata": {},
   "outputs": [
    {
     "name": "stdout",
     "output_type": "stream",
     "text": [
      "Presolving model\n",
      "2 rows, 2 cols, 4 nonzeros\n",
      "2 rows, 2 cols, 4 nonzeros\n",
      "Presolve : Reductions: rows 2(-0); columns 2(-0); elements 4(-0)\n",
      "Solving the presolved LP\n",
      "Using EKK dual simplex solver - serial\n",
      "  Iteration        Objective     Infeasibilities num(sum)\n",
      "          0     0.0000000000e+00 Pr: 2(220) 0s\n",
      "          2     2.0500000000e+02 Pr: 0(0) 0s\n",
      "Solving the original LP from the solution after postsolve\n",
      "Model   status      : Optimal\n",
      "Simplex   iterations: 2\n",
      "Objective value     :  2.0500000000e+02\n",
      "HiGHS run time      :          0.01\n",
      "termination_status(model) = MathOptInterface.OPTIMAL\n",
      "primal_status(model) = MathOptInterface.FEASIBLE_POINT\n",
      "dual_status(model) = MathOptInterface.FEASIBLE_POINT\n",
      "objective_value(model) = 205.0\n",
      "value(x) = 15.0\n",
      "value(y) = 1.25\n",
      "shadow_price(c1) = -0.25\n",
      "shadow_price(c2) = -1.5\n"
     ]
    }
   ],
   "source": [
    "optimize!(model)\n",
    "\n",
    "@show termination_status(model)\n",
    "@show primal_status(model)\n",
    "@show dual_status(model)\n",
    "@show objective_value(model)\n",
    "@show value(x)\n",
    "@show value(y)\n",
    "@show shadow_price(c1)\n",
    "@show shadow_price(c2);"
   ]
  },
  {
   "cell_type": "markdown",
   "metadata": {},
   "source": [
    "That was pretty easy and all the results can be queried with a solver independent API. Below let's go over what we just did, step by step.\n",
    "\n",
    "## Package Importing\n",
    "To write `JuMP.jl` programs, we'll need to import `JuMP` and an appropriate solver package to solve to the model. Hence, in this case we import `JuMP` and `HiGHS`: "
   ]
  },
  {
   "cell_type": "code",
   "execution_count": 3,
   "metadata": {},
   "outputs": [],
   "source": [
    "using JuMP, HiGHS"
   ]
  },
  {
   "cell_type": "markdown",
   "metadata": {},
   "source": [
    "## `JuMP.jl` Models\n",
    "`JuMP` builds problems incrementally in a `Model` object. Create a model by passing an optimizer to the `Model` function:"
   ]
  },
  {
   "cell_type": "code",
   "execution_count": 4,
   "metadata": {},
   "outputs": [
    {
     "data": {
      "text/plain": [
       "A JuMP Model\n",
       "Feasibility problem with:\n",
       "Variables: 0\n",
       "Model mode: AUTOMATIC\n",
       "CachingOptimizer state: EMPTY_OPTIMIZER\n",
       "Solver name: HiGHS"
      ]
     },
     "metadata": {},
     "output_type": "display_data"
    }
   ],
   "source": [
    "model = Model(HiGHS.Optimizer)"
   ]
  },
  {
   "cell_type": "markdown",
   "metadata": {},
   "source": [
    "Here, the convention for the optimizer input is `SolverName.Optimizer`."
   ]
  },
  {
   "cell_type": "markdown",
   "metadata": {},
   "source": [
    "## Decision Variables\n",
    "`JuMP.jl`'s modeling API principally uses macros to provide an intuitive symbolic interface. For adding/creating optimization variables, we use the `@variable` macro. To define, $x \\geq 0$ we write:"
   ]
  },
  {
   "cell_type": "code",
   "execution_count": 5,
   "metadata": {},
   "outputs": [
    {
     "data": {
      "text/latex": [
       "$$ x $$"
      ],
      "text/plain": [
       "x"
      ]
     },
     "metadata": {},
     "output_type": "display_data"
    }
   ],
   "source": [
    "@variable(model, x >= 0)"
   ]
  },
  {
   "cell_type": "markdown",
   "metadata": {},
   "source": [
    "To add $0 \\leq y \\leq 30$, we can write:"
   ]
  },
  {
   "cell_type": "code",
   "execution_count": 6,
   "metadata": {},
   "outputs": [
    {
     "data": {
      "text/latex": [
       "$$ y $$"
      ],
      "text/plain": [
       "y"
      ]
     },
     "metadata": {},
     "output_type": "display_data"
    }
   ],
   "source": [
    "@variable(model, 0 ≤ y ≤ 30)"
   ]
  },
  {
   "cell_type": "markdown",
   "metadata": {},
   "source": [
    "Notice that we used `≤` (from `\\leq` and pressing [TAB]) instead of `<=` to highlight how we can use unicode characters instead if we prefer."
   ]
  },
  {
   "cell_type": "markdown",
   "metadata": {},
   "source": [
    "## Objective\n",
    "The objective function is specified via `@objective`. Hence, to set $\\text{min} \\; 12x + 20y$ we write:"
   ]
  },
  {
   "cell_type": "code",
   "execution_count": 7,
   "metadata": {},
   "outputs": [
    {
     "data": {
      "text/latex": [
       "$$ 12 x + 20 y $$"
      ],
      "text/plain": [
       "12 x + 20 y"
      ]
     },
     "metadata": {},
     "output_type": "display_data"
    }
   ],
   "source": [
    "@objective(model, Min, 12x + 20y)"
   ]
  },
  {
   "cell_type": "markdown",
   "metadata": {},
   "source": [
    "## Constraints\n",
    "Constraints are added via `@constraint`. Here, we name our constraints `c1` and `c2` for convenience in querying results later on (this is optional and the argument can be omitted if wanted)."
   ]
  },
  {
   "cell_type": "code",
   "execution_count": 8,
   "metadata": {},
   "outputs": [
    {
     "data": {
      "text/latex": [
       "c1 : $ 6 x + 8 y \\geq 100.0 $"
      ],
      "text/plain": [
       "c1 : 6 x + 8 y >= 100.0"
      ]
     },
     "metadata": {},
     "output_type": "display_data"
    }
   ],
   "source": [
    "@constraint(model, c1, 6x + 8y >= 100)"
   ]
  },
  {
   "cell_type": "code",
   "execution_count": 9,
   "metadata": {},
   "outputs": [
    {
     "data": {
      "text/latex": [
       "c2 : $ 7 x + 12 y \\geq 120.0 $"
      ],
      "text/plain": [
       "c2 : 7 x + 12 y >= 120.0"
      ]
     },
     "metadata": {},
     "output_type": "display_data"
    }
   ],
   "source": [
    "@constraint(model, c2, 7x + 12y >= 120)"
   ]
  },
  {
   "cell_type": "markdown",
   "metadata": {},
   "source": [
    "## Printing the Model\n",
    "Simply showing the model results in a summary of what components it has:"
   ]
  },
  {
   "cell_type": "code",
   "execution_count": 10,
   "metadata": {},
   "outputs": [
    {
     "data": {
      "text/plain": [
       "A JuMP Model\n",
       "Minimization problem with:\n",
       "Variables: 2\n",
       "Objective function type: AffExpr\n",
       "`AffExpr`-in-`MathOptInterface.GreaterThan{Float64}`: 2 constraints\n",
       "`VariableRef`-in-`MathOptInterface.GreaterThan{Float64}`: 2 constraints\n",
       "`VariableRef`-in-`MathOptInterface.LessThan{Float64}`: 1 constraint\n",
       "Model mode: AUTOMATIC\n",
       "CachingOptimizer state: EMPTY_OPTIMIZER\n",
       "Solver name: HiGHS\n",
       "Names registered in the model: c1, c2, x, y"
      ]
     },
     "metadata": {},
     "output_type": "display_data"
    }
   ],
   "source": [
    "model"
   ]
  },
  {
   "cell_type": "markdown",
   "metadata": {},
   "source": [
    "We have model with 2 optimization variables, an affine minimization objective, and 5 constraints of three different types. \n",
    "\n",
    "More conveniently we can print the model using `print`:"
   ]
  },
  {
   "cell_type": "code",
   "execution_count": 11,
   "metadata": {},
   "outputs": [
    {
     "name": "stdout",
     "output_type": "stream",
     "text": [
      "Min 12 x + 20 y\n",
      "Subject to\n",
      " c1 : 6 x + 8 y >= 100.0\n",
      " c2 : 7 x + 12 y >= 120.0\n",
      " x >= 0.0\n",
      " y >= 0.0\n",
      " y <= 30.0\n"
     ]
    }
   ],
   "source": [
    "print(model)"
   ]
  },
  {
   "cell_type": "markdown",
   "metadata": {},
   "source": [
    "That is certainly more human-readable. Since, we are using a Jupyter notebook, we can even print the latex formulation of our model using `latex_formulation`:"
   ]
  },
  {
   "cell_type": "code",
   "execution_count": 12,
   "metadata": {},
   "outputs": [
    {
     "data": {
      "text/latex": [
       "$$ \\begin{aligned}\n",
       "\\min\\quad & 12 x + 20 y\\\\\n",
       "\\text{Subject to} \\quad & 6 x + 8 y \\geq 100.0\\\\\n",
       " & 7 x + 12 y \\geq 120.0\\\\\n",
       " & x \\geq 0.0\\\\\n",
       " & y \\geq 0.0\\\\\n",
       " & y \\leq 30.0\\\\\n",
       "\\end{aligned} $$"
      ],
      "text/plain": [
       "$$ \\begin{aligned}\n",
       "\\min\\quad & 12 x + 20 y\\\\\n",
       "\\text{Subject to} \\quad & 6 x + 8 y \\geq 100.0\\\\\n",
       " & 7 x + 12 y \\geq 120.0\\\\\n",
       " & x \\geq 0.0\\\\\n",
       " & y \\geq 0.0\\\\\n",
       " & y \\leq 30.0\\\\\n",
       "\\end{aligned} $$"
      ]
     },
     "metadata": {},
     "output_type": "display_data"
    }
   ],
   "source": [
    "latex_formulation(model)"
   ]
  },
  {
   "cell_type": "markdown",
   "metadata": {},
   "source": [
    "## Optimization\n",
    "Now that we have a model, let's optimize it using `optimize!`:"
   ]
  },
  {
   "cell_type": "code",
   "execution_count": 13,
   "metadata": {},
   "outputs": [
    {
     "name": "stdout",
     "output_type": "stream",
     "text": [
      "Presolving model\n",
      "2 rows, 2 cols, 4 nonzeros\n",
      "2 rows, 2 cols, 4 nonzeros\n",
      "Presolve : Reductions: rows 2(-0); columns 2(-0); elements 4(-0)\n",
      "Solving the presolved LP\n",
      "Using EKK dual simplex solver - serial\n",
      "  Iteration        Objective     Infeasibilities num(sum)\n",
      "          0     0.0000000000e+00 Pr: 2(220) 0s\n",
      "          2     2.0500000000e+02 Pr: 0(0) 0s\n",
      "Solving the original LP from the solution after postsolve\n",
      "Model   status      : Optimal\n",
      "Simplex   iterations: 2\n",
      "Objective value     :  2.0500000000e+02\n",
      "HiGHS run time      :          0.00\n"
     ]
    }
   ],
   "source": [
    "optimize!(model)"
   ]
  },
  {
   "cell_type": "markdown",
   "metadata": {},
   "source": [
    "We will review methods later to specify solver options. One common one is `set_silent` which turns off the raw solver output:"
   ]
  },
  {
   "cell_type": "code",
   "execution_count": 14,
   "metadata": {},
   "outputs": [],
   "source": [
    "set_silent(model)\n",
    "optimize!(model)"
   ]
  },
  {
   "cell_type": "markdown",
   "metadata": {},
   "source": [
    "## Querying Results\n",
    "Our model is now optimized, so let's see what happened using `JuMP.jl`'s general purpose query API. \n",
    "\n",
    "We can see the final status of the solver (i.e., why it stopped) using `termination_status`:"
   ]
  },
  {
   "cell_type": "code",
   "execution_count": 15,
   "metadata": {},
   "outputs": [
    {
     "data": {
      "text/plain": [
       "OPTIMAL::TerminationStatusCode = 1"
      ]
     },
     "metadata": {},
     "output_type": "display_data"
    }
   ],
   "source": [
    "termination_status(model)"
   ]
  },
  {
   "cell_type": "markdown",
   "metadata": {},
   "source": [
    "Here, it stopped because it found the optimal solution. For a list of the possible statuses see https://jump.dev/JuMP.jl/stable/moi/reference/models/#MathOptInterface.TerminationStatusCode.\n",
    "\n",
    "We can also check whether the solver found a primal feasible point using `primal_status`:"
   ]
  },
  {
   "cell_type": "code",
   "execution_count": 16,
   "metadata": {},
   "outputs": [
    {
     "data": {
      "text/plain": [
       "FEASIBLE_POINT::ResultStatusCode = 1"
      ]
     },
     "metadata": {},
     "output_type": "display_data"
    }
   ],
   "source": [
    "primal_status(model)"
   ]
  },
  {
   "cell_type": "markdown",
   "metadata": {},
   "source": [
    "It did find a feasible point. We can make the same check for the dual problem via `dual_status`:"
   ]
  },
  {
   "cell_type": "code",
   "execution_count": 17,
   "metadata": {},
   "outputs": [
    {
     "data": {
      "text/plain": [
       "FEASIBLE_POINT::ResultStatusCode = 1"
      ]
     },
     "metadata": {},
     "output_type": "display_data"
    }
   ],
   "source": [
    "dual_status(model)"
   ]
  },
  {
   "cell_type": "markdown",
   "metadata": {},
   "source": [
    "We also found a dual feasible point. The list of possible statuses is provided at https://jump.dev/JuMP.jl/stable/moi/reference/models/#MathOptInterface.ResultStatusCode.\n",
    "\n",
    "Now we know that we have an optimal solution with feasible primal and dual solutions that we can interrogate.\n",
    "\n",
    "Query the objective value via `objective_value`:"
   ]
  },
  {
   "cell_type": "code",
   "execution_count": 18,
   "metadata": {},
   "outputs": [
    {
     "data": {
      "text/plain": [
       "205.0"
      ]
     },
     "metadata": {},
     "output_type": "display_data"
    }
   ],
   "source": [
    "objective_value(model)"
   ]
  },
  {
   "cell_type": "markdown",
   "metadata": {},
   "source": [
    "Now find the variable values using `value`:"
   ]
  },
  {
   "cell_type": "code",
   "execution_count": 19,
   "metadata": {},
   "outputs": [
    {
     "name": "stdout",
     "output_type": "stream",
     "text": [
      "value(x) = 15.0\n",
      "value(y) = 1.25\n"
     ]
    }
   ],
   "source": [
    "@show value(x)\n",
    "@show value(y);"
   ]
  },
  {
   "cell_type": "markdown",
   "metadata": {},
   "source": [
    "Finally, we can learn about the dual solution using `shadow_price`:"
   ]
  },
  {
   "cell_type": "code",
   "execution_count": 20,
   "metadata": {},
   "outputs": [
    {
     "name": "stdout",
     "output_type": "stream",
     "text": [
      "value(c1) = 100.0\n",
      "value(c2) = 120.0\n"
     ]
    }
   ],
   "source": [
    "@show value(c1)\n",
    "@show value(c2);"
   ]
  },
  {
   "cell_type": "markdown",
   "metadata": {},
   "source": [
    "We could have instead used `dual` to get the raw dual values, but `shadow_price` corrects the signs in accordance with the objective sense to have a consistent interpretation."
   ]
  },
  {
   "cell_type": "markdown",
   "metadata": {},
   "source": [
    "## Exercise: Simple QP Model\n",
    "**Problem**\n",
    "- Solve the following model using `JuMP.jl` using the `HiGHS` solver\n",
    "\n",
    "$$\n",
    "\\begin{aligned}\n",
    "& \\min && 3x^2 + 2y^2 - 4x \\\\\n",
    "& \\;\\;\\text{s.t.} && 6x - 8y \\geq 100 \\\\\n",
    "&&& x + 12y = 120 \\\\\n",
    "&&& x \\geq 0 \\\\\n",
    "&&& y \\in [0, 3] \\\\\n",
    "\\end{aligned}\n",
    "$$"
   ]
  },
  {
   "cell_type": "code",
   "execution_count": 22,
   "metadata": {},
   "outputs": [
    {
     "name": "stdout",
     "output_type": "stream",
     "text": [
      "0, 20850.000353, 0, 0.000000, 0.000000, 0, 0.000000, 0.000000\n",
      "1, 20850.000353, 0, 0.000000, 0.000000, 0, 0.000000, 0.000000\n",
      "Model   status      : Optimal\n",
      "QP ASM    iterations: 1\n",
      "Objective value     :  2.0850000000e+04\n",
      "HiGHS run time      :          0.00\n",
      "value(x) = 84.0\n",
      "value(y) = 3.0\n"
     ]
    }
   ],
   "source": [
    "# PUT CODE HERE\n",
    "model = Model(HiGHS.Optimizer)\n",
    "@variable(model, x ≥ 0)\n",
    "@variable(model, 0 ≤ y ≤ 3)\n",
    "@objective(model, Min, 3x^2 + 2y^2 - 4x)\n",
    "@constraint(model, 6x - 8y ≥ 100)\n",
    "@constraint(model, x + 12y == 120)\n",
    "optimize!(model)\n",
    "@show value(x)\n",
    "@show value(y);"
   ]
  }
 ],
 "metadata": {
  "kernelspec": {
   "display_name": "Julia 1.7.1",
   "language": "julia",
   "name": "julia-1.7"
  },
  "language_info": {
   "file_extension": ".jl",
   "mimetype": "application/julia",
   "name": "julia",
   "version": "1.7.1"
  },
  "orig_nbformat": 4
 },
 "nbformat": 4,
 "nbformat_minor": 2
}
