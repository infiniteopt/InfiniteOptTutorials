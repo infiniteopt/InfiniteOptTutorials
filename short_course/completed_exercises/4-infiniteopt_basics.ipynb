{
 "cells": [
  {
   "cell_type": "markdown",
   "metadata": {},
   "source": [
    "# `InfiniteOpt.jl`: The Basics\n",
    "Now that we are familiarized with Julia and `JuMP.jl`, let's talk about how `InfiniteOpt.jl` builds upon `JuMP.jl` to allow us to intuitively model infinite-dimensional optimization problems.\n",
    "\n",
    "## Resources\n",
    "Again, there is only so much that we can cover in a tutorial. Helpful resources include:\n",
    "- The documentation: https://pulsipher.github.io/InfiniteOpt.jl/stable/.\n",
    "- The paper: https://www.sciencedirect.com/science/article/pii/S0098135421003458?via%3Dihub \n",
    "- The open-source paper: https://arxiv.org/abs/2106.12689\n",
    "- The `InfiniteOpt.jl` forum: https://github.com/pulsipher/InfiniteOpt.jl/discussions"
   ]
  },
  {
   "cell_type": "markdown",
   "metadata": {},
   "source": [
    "## Optimal Control in `JuMP.jl`\n",
    "To motivate `InfiniteOpt.jl`, let's consider modeling a simple optimal control problem in `JuMP.jl`.\n",
    "\n",
    "### The Formulation\n",
    "We'll take a look at a trajectory control problem:\n",
    "$$\n",
    "\\begin{aligned}\n",
    "&&\\underset{x(t), v(t), u(t)}{\\text{min}} &&& \\int_{t \\in \\mathcal{D}_t} ||u(t)||_2^2 dt  \\\\\n",
    "&&\\text{s.t.} &&& \\frac{dx}{dt} = v(t), && t \\in \\mathcal{D}_t\\\\\n",
    "&&&&& \\frac{dv}{dt} = u(t), && t \\in \\mathcal{D}_t\\\\\n",
    "&&&&& x(t) = xw(t), && t \\in \\mathcal{D}_{tw} \\\\\n",
    "&&&&& v(0) = 0\n",
    "\\end{aligned}\n",
    "$$\n",
    "Here position $x(t) \\in \\mathbb{R}^2$ and velocity $v(t) \\in \\mathbb{R}^2$ are state variables. The control variable $u(t) \\in \\mathbb{R}^2$ controls the acceleration (thrust) of the vehicle. Here we wish to plan a path that passes through all the waypoints $xw_i$ and minimizes the thrust used.\n",
    "\n",
    "We cannot directly model this with `JuMP.jl` because the variables are functions of time $t$ and the formulation contains an integrals/derivatives. This is an infinite-dimensional problem.\n",
    "\n",
    "### Discretize\n",
    "We can transform it into a finite optimization `JuMP.jl` can handle by discretizing the variables over time and applying appropriate approximations to the integral/derivatives. \n",
    "\n",
    "We will transform the model via:\n",
    "- let $\\mathcal{D}_t = [0, T]$ and choose $n$ time steps such that $\\Delta t = \\frac{T}{n}$\n",
    "- discretize each infinite variable (e.g., $\\{x_t: t \\in \\{0, 1, \\dots, n\\}$)\n",
    "- replace the integral with a sum over time\n",
    "- approximate the derivatives via implicit Euler\n",
    "\n",
    "With these steps, we obtain:\n",
    "$$\n",
    "\\begin{aligned}\n",
    "&&\\underset{x_t, v_t, u_t}{\\text{min}} &&& \\sum_{t \\in \\{1, \\dots, n\\}} u_{1,t}^2 + u_{2,t}^2  \\\\\n",
    "&&\\text{s.t.} &&& x_{i,t+1} = x_{i,t} + \\Delta t v_{i,t+1}, && i \\in I, t \\in \\{0, 1, \\dots, n-1\\}\\\\\n",
    "&&&&& v_{i,t+1} = v_{i,t} + \\Delta t u_{i,t+1}, && i \\in I, t \\in \\{0, 1, \\dots, n-1\\}\\\\\n",
    "&&&&& x_{i,t} = xw_{i,t}, && i \\in I, t \\in \\mathcal{D}_{tw} \\\\\n",
    "&&&&& v_{i,0} = 0, && i \\in I \\\\\n",
    "\\end{aligned}\n",
    "$$\n",
    "\n",
    "This is a discrete time model that we can formulate with `JuMP.jl`, let's try it out!"
   ]
  },
  {
   "cell_type": "markdown",
   "metadata": {},
   "source": [
    "### Exercise: Optimal Control in `JuMP.jl`\n",
    "**Problem**\n",
    "- Implement the above model in `JuMP.jl`\n",
    "- Complete the code below"
   ]
  },
  {
   "cell_type": "code",
   "execution_count": 3,
   "metadata": {},
   "outputs": [
    {
     "name": "stdout",
     "output_type": "stream",
     "text": [
      "0, 372.000028, 114, 0.000000, 0.000000, 0, 0.000000, 0.000000\n",
      "314, 0.043793, 114, 0.009442, 0.000000, 0, 0.000000, 0.050038\n",
      "Model   status      : Optimal\n",
      "QP ASM    iterations: 314\n",
      "Objective value     :  4.3720356210e-02\n",
      "HiGHS run time      :          0.01\n"
     ]
    }
   ],
   "source": [
    "using JuMP, HiGHS\n",
    "\n",
    "# Set the parameters\n",
    "n = 60\n",
    "Δt = 60 / n \n",
    "I = 1:2\n",
    "\n",
    "# Set the waypoint data\n",
    "p = [1 4 6 1; 1 3 0 1]\n",
    "Dtw = [0, 25, 50, 60]\n",
    "xw = JuMP.Containers.DenseAxisArray(p, I, Dtw)\n",
    "\n",
    "# Define the model (finish using the HiGHS optimizer)\n",
    "model = Model(HiGHS.Optimizer)\n",
    "\n",
    "# Add the variables (finish for each)\n",
    "@variable(model, x[i ∈ I, t ∈ 0:n]) # x[i, t], i ∈ I, t ∈ {0, 1, ..., n}\n",
    "@variable(model, v[i ∈ I, t ∈ 0:n]) # v[i, t], i ∈ I, t ∈ {0, 1, ..., n}\n",
    "@variable(model, u[i ∈ I, t ∈ 1:n]) # u[i, t], i ∈ I, t ∈ {1, ..., n}\n",
    "\n",
    "# Add the objective (finish)\n",
    "@objective(model, Min, sum(u[1, t]^2 + u[2, t]^2 for t in 1:n)) # minimize Σ_{t ∈ 1:n} u[1, t]^2 + u[2, t]^2\n",
    "\n",
    "# Add the constraints (finish)\n",
    "@constraint(model, [i ∈ I, t ∈ 0:n-1], x[i, t+1] == x[i, t] + Δt * v[i, t+1]) # x[i, t+1] = x[i, t] + Δt v[i, t+1], i ∈ I, t ∈ {0, 1, ..., n-1}\n",
    "@constraint(model, [i ∈ I, t ∈ 0:n-1], v[i, t+1] == v[i, t] + Δt * u[i, t+1]) # v[i, t+1] = v[i, t] + Δt u[i, t+1], i ∈ I, t ∈ {0, 1, ..., n-1}\n",
    "@constraint(model, [i ∈ I, t ∈ Dtw], x[i, t] == xw[i, t]) # x[i, t] = xw[i, t], i ∈ I, t ∈ Dtw\n",
    "\n",
    "# Add the initial conditions (finish)\n",
    "fix.(v[:, 0], 0) # set v(0) = 0 hint: recall we can broadcast over a vector of variables\n",
    "\n",
    "# Optimize the model\n",
    "optimize!(model)\n",
    "\n",
    "# Get the results (finish)\n",
    "if has_values(model)\n",
    "    x_opt = value.(x) # extract the values of x \n",
    "end;\n"
   ]
  },
  {
   "cell_type": "code",
   "execution_count": 4,
   "metadata": {},
   "outputs": [
    {
     "data": {
      "image/png": "[encoded data removed]",
      "image/svg+xml": "<?xml version=\"1.0\" encoding=\"utf-8\"?>\n<svg xmlns=\"http://www.w3.org/2000/svg\" xmlns:xlink=\"http://www.w3.org/1999/xlink\" width=\"600\" height=\"400\" viewBox=\"0 0 2400 1600\">\n<defs>\n  <clipPath id=\"clip790\">\n    <rect x=\"0\" y=\"0\" width=\"2400\" height=\"1600\"/>\n  </clipPath>\n</defs>\n<path clip-path=\"url(#clip790)\" d=\"\nM0 1600 L2400 1600 L2400 0 L0 0  Z\n  \" fill=\"#ffffff\" fill-rule=\"evenodd\" fill-opacity=\"1\"/>\n<defs>\n  <clipPath id=\"clip791\">\n    <rect x=\"480\" y=\"0\" width=\"1681\" height=\"1600\"/>\n  </clipPath>\n</defs>\n<path clip-path=\"url(#clip790)\" d=\"\nM174.149 1423.18 L2352.76 1423.18 L2352.76 47.2441 L174.149 47.2441  Z\n  \" fill=\"#ffffff\" fill-rule=\"evenodd\" fill-opacity=\"1\"/>\n<defs>\n  <clipPath id=\"clip792\">\n    <rect x=\"174\" y=\"47\" width=\"2180\" height=\"1377\"/>\n  </clipPath>\n</defs>\n<polyline clip-path=\"url(#clip792)\" style=\"stroke:#000000; stroke-linecap:butt; stroke-linejoin:round; stroke-width:2; stroke-opacity:0.1; fill:none\" points=\"\n  235.808,1423.18 235.808,47.2441 \n  \"/>\n<polyline clip-path=\"url(#clip792)\" style=\"stroke:#000000; stroke-linecap:butt; stroke-linejoin:round; stroke-width:2; stroke-opacity:0.1; fill:none\" points=\"\n  571.901,1423.18 571.901,47.2441 \n  \"/>\n<polyline clip-path=\"url(#clip792)\" style=\"stroke:#000000; stroke-linecap:butt; stroke-linejoin:round; stroke-width:2; stroke-opacity:0.1; fill:none\" points=\"\n  907.995,1423.18 907.995,47.2441 \n  \"/>\n<polyline clip-path=\"url(#clip792)\" style=\"stroke:#000000; stroke-linecap:butt; stroke-linejoin:round; stroke-width:2; stroke-opacity:0.1; fill:none\" points=\"\n  1244.09,1423.18 1244.09,47.2441 \n  \"/>\n<polyline clip-path=\"url(#clip792)\" style=\"stroke:#000000; stroke-linecap:butt; stroke-linejoin:round; stroke-width:2; stroke-opacity:0.1; fill:none\" points=\"\n  1580.18,1423.18 1580.18,47.2441 \n  \"/>\n<polyline clip-path=\"url(#clip792)\" style=\"stroke:#000000; stroke-linecap:butt; stroke-linejoin:round; stroke-width:2; stroke-opacity:0.1; fill:none\" points=\"\n  1916.28,1423.18 1916.28,47.2441 \n  \"/>\n<polyline clip-path=\"url(#clip792)\" style=\"stroke:#000000; stroke-linecap:butt; stroke-linejoin:round; stroke-width:2; stroke-opacity:0.1; fill:none\" points=\"\n  2252.37,1423.18 2252.37,47.2441 \n  \"/>\n<polyline clip-path=\"url(#clip790)\" style=\"stroke:#000000; stroke-linecap:butt; stroke-linejoin:round; stroke-width:4; stroke-opacity:1; fill:none\" points=\"\n  174.149,1423.18 2352.76,1423.18 \n  \"/>\n<polyline clip-path=\"url(#clip790)\" style=\"stroke:#000000; stroke-linecap:butt; stroke-linejoin:round; stroke-width:4; stroke-opacity:1; fill:none\" points=\"\n  235.808,1423.18 235.808,1404.28 \n  \"/>\n<polyline clip-path=\"url(#clip790)\" style=\"stroke:#000000; stroke-linecap:butt; stroke-linejoin:round; stroke-width:4; stroke-opacity:1; fill:none\" points=\"\n  571.901,1423.18 571.901,1404.28 \n  \"/>\n<polyline clip-path=\"url(#clip790)\" style=\"stroke:#000000; stroke-linecap:butt; stroke-linejoin:round; stroke-width:4; stroke-opacity:1; fill:none\" points=\"\n  907.995,1423.18 907.995,1404.28 \n  \"/>\n<polyline clip-path=\"url(#clip790)\" style=\"stroke:#000000; stroke-linecap:butt; stroke-linejoin:round; stroke-width:4; stroke-opacity:1; fill:none\" points=\"\n  1244.09,1423.18 1244.09,1404.28 \n  \"/>\n<polyline clip-path=\"url(#clip790)\" style=\"stroke:#000000; stroke-linecap:butt; stroke-linejoin:round; stroke-width:4; stroke-opacity:1; fill:none\" points=\"\n  1580.18,1423.18 1580.18,1404.28 \n  \"/>\n<polyline clip-path=\"url(#clip790)\" style=\"stroke:#000000; stroke-linecap:butt; stroke-linejoin:round; stroke-width:4; stroke-opacity:1; fill:none\" points=\"\n  1916.28,1423.18 1916.28,1404.28 \n  \"/>\n<polyline clip-path=\"url(#clip790)\" style=\"stroke:#000000; stroke-linecap:butt; stroke-linejoin:round; stroke-width:4; stroke-opacity:1; fill:none\" points=\"\n  2252.37,1423.18 2252.37,1404.28 \n  \"/>\n<path clip-path=\"url(#clip790)\" d=\"M226.19 1481.64 L233.828 1481.64 L233.828 1455.28 L225.518 1456.95 L225.518 1452.69 L233.782 1451.02 L238.458 1451.02 L238.458 1481.64 L246.097 1481.64 L246.097 1485.58 L226.19 1485.58 L226.19 1481.64 Z\" fill=\"#000000\" fill-rule=\"evenodd\" fill-opacity=\"1\" /><path clip-path=\"url(#clip790)\" d=\"M566.554 1481.64 L582.873 1481.64 L582.873 1485.58 L560.929 1485.58 L560.929 1481.64 Q563.591 1478.89 568.174 1474.26 Q572.781 1469.61 573.961 1468.27 Q576.207 1465.74 577.086 1464.01 Q577.989 1462.25 577.989 1460.56 Q577.989 1457.8 576.045 1456.07 Q574.123 1454.33 571.022 1454.33 Q568.823 1454.33 566.369 1455.09 Q563.938 1455.86 561.161 1457.41 L561.161 1452.69 Q563.985 1451.55 566.438 1450.97 Q568.892 1450.39 570.929 1450.39 Q576.299 1450.39 579.494 1453.08 Q582.688 1455.77 582.688 1460.26 Q582.688 1462.39 581.878 1464.31 Q581.091 1466.2 578.985 1468.8 Q578.406 1469.47 575.304 1472.69 Q572.202 1475.88 566.554 1481.64 Z\" fill=\"#000000\" fill-rule=\"evenodd\" fill-opacity=\"1\" /><path clip-path=\"url(#clip790)\" d=\"M912.242 1466.95 Q915.599 1467.66 917.474 1469.93 Q919.372 1472.2 919.372 1475.53 Q919.372 1480.65 915.854 1483.45 Q912.335 1486.25 905.854 1486.25 Q903.678 1486.25 901.363 1485.81 Q899.071 1485.39 896.618 1484.54 L896.618 1480.02 Q898.562 1481.16 900.877 1481.74 Q903.192 1482.32 905.715 1482.32 Q910.113 1482.32 912.405 1480.58 Q914.719 1478.84 914.719 1475.53 Q914.719 1472.48 912.567 1470.77 Q910.437 1469.03 906.617 1469.03 L902.59 1469.03 L902.59 1465.19 L906.803 1465.19 Q910.252 1465.19 912.08 1463.82 Q913.909 1462.43 913.909 1459.84 Q913.909 1457.18 912.011 1455.77 Q910.136 1454.33 906.617 1454.33 Q904.696 1454.33 902.497 1454.75 Q900.298 1455.16 897.659 1456.04 L897.659 1451.88 Q900.321 1451.14 902.636 1450.77 Q904.974 1450.39 907.034 1450.39 Q912.358 1450.39 915.46 1452.83 Q918.562 1455.23 918.562 1459.35 Q918.562 1462.22 916.918 1464.21 Q915.275 1466.18 912.242 1466.95 Z\" fill=\"#000000\" fill-rule=\"evenodd\" fill-opacity=\"1\" /><path clip-path=\"url(#clip790)\" d=\"M1247.1 1455.09 L1235.29 1473.54 L1247.1 1473.54 L1247.1 1455.09 M1245.87 1451.02 L1251.75 1451.02 L1251.75 1473.54 L1256.68 1473.54 L1256.68 1477.43 L1251.75 1477.43 L1251.75 1485.58 L1247.1 1485.58 L1247.1 1477.43 L1231.5 1477.43 L1231.5 1472.92 L1245.87 1451.02 Z\" fill=\"#000000\" fill-rule=\"evenodd\" fill-opacity=\"1\" /><path clip-path=\"url(#clip790)\" d=\"M1570.46 1451.02 L1588.82 1451.02 L1588.82 1454.96 L1574.74 1454.96 L1574.74 1463.43 Q1575.76 1463.08 1576.78 1462.92 Q1577.8 1462.73 1578.82 1462.73 Q1584.6 1462.73 1587.98 1465.9 Q1591.36 1469.08 1591.36 1474.49 Q1591.36 1480.07 1587.89 1483.17 Q1584.42 1486.25 1578.1 1486.25 Q1575.92 1486.25 1573.65 1485.88 Q1571.41 1485.51 1569 1484.77 L1569 1480.07 Q1571.08 1481.2 1573.31 1481.76 Q1575.53 1482.32 1578.01 1482.32 Q1582.01 1482.32 1584.35 1480.21 Q1586.69 1478.1 1586.69 1474.49 Q1586.69 1470.88 1584.35 1468.77 Q1582.01 1466.67 1578.01 1466.67 Q1576.13 1466.67 1574.26 1467.08 Q1572.4 1467.5 1570.46 1468.38 L1570.46 1451.02 Z\" fill=\"#000000\" fill-rule=\"evenodd\" fill-opacity=\"1\" /><path clip-path=\"url(#clip790)\" d=\"M1916.68 1466.44 Q1913.53 1466.44 1911.68 1468.59 Q1909.85 1470.74 1909.85 1474.49 Q1909.85 1478.22 1911.68 1480.39 Q1913.53 1482.55 1916.68 1482.55 Q1919.83 1482.55 1921.66 1480.39 Q1923.51 1478.22 1923.51 1474.49 Q1923.51 1470.74 1921.66 1468.59 Q1919.83 1466.44 1916.68 1466.44 M1925.96 1451.78 L1925.96 1456.04 Q1924.2 1455.21 1922.4 1454.77 Q1920.62 1454.33 1918.86 1454.33 Q1914.23 1454.33 1911.77 1457.45 Q1909.34 1460.58 1909 1466.9 Q1910.36 1464.89 1912.42 1463.82 Q1914.48 1462.73 1916.96 1462.73 Q1922.17 1462.73 1925.18 1465.9 Q1928.21 1469.05 1928.21 1474.49 Q1928.21 1479.82 1925.06 1483.03 Q1921.91 1486.25 1916.68 1486.25 Q1910.69 1486.25 1907.51 1481.67 Q1904.34 1477.06 1904.34 1468.33 Q1904.34 1460.14 1908.23 1455.28 Q1912.12 1450.39 1918.67 1450.39 Q1920.43 1450.39 1922.21 1450.74 Q1924.02 1451.09 1925.96 1451.78 Z\" fill=\"#000000\" fill-rule=\"evenodd\" fill-opacity=\"1\" /><path clip-path=\"url(#clip790)\" d=\"M2241.26 1451.02 L2263.48 1451.02 L2263.48 1453.01 L2250.93 1485.58 L2246.05 1485.58 L2257.86 1454.96 L2241.26 1454.96 L2241.26 1451.02 Z\" fill=\"#000000\" fill-rule=\"evenodd\" fill-opacity=\"1\" /><path clip-path=\"url(#clip790)\" d=\"M1244.98 1532.4 L1232.09 1549.74 L1245.64 1568.04 L1238.74 1568.04 L1228.36 1554.04 L1217.99 1568.04 L1211.08 1568.04 L1224.92 1549.39 L1212.26 1532.4 L1219.16 1532.4 L1228.62 1545.1 L1238.07 1532.4 L1244.98 1532.4 Z\" fill=\"#000000\" fill-rule=\"evenodd\" fill-opacity=\"1\" /><path clip-path=\"url(#clip790)\" d=\"M1281.01 1578.87 L1281.01 1583.42 L1247.14 1583.42 L1247.14 1578.87 L1281.01 1578.87 Z\" fill=\"#000000\" fill-rule=\"evenodd\" fill-opacity=\"1\" /><path clip-path=\"url(#clip790)\" d=\"M1288.45 1562.63 L1298.96 1562.63 L1298.96 1526.38 L1287.53 1528.67 L1287.53 1522.82 L1298.89 1520.52 L1305.32 1520.52 L1305.32 1562.63 L1315.83 1562.63 L1315.83 1568.04 L1288.45 1568.04 L1288.45 1562.63 Z\" fill=\"#000000\" fill-rule=\"evenodd\" fill-opacity=\"1\" /><polyline clip-path=\"url(#clip792)\" style=\"stroke:#000000; stroke-linecap:butt; stroke-linejoin:round; stroke-width:2; stroke-opacity:0.1; fill:none\" points=\"\n  174.149,1384.24 2352.76,1384.24 \n  \"/>\n<polyline clip-path=\"url(#clip792)\" style=\"stroke:#000000; stroke-linecap:butt; stroke-linejoin:round; stroke-width:2; stroke-opacity:0.1; fill:none\" points=\"\n  174.149,954.886 2352.76,954.886 \n  \"/>\n<polyline clip-path=\"url(#clip792)\" style=\"stroke:#000000; stroke-linecap:butt; stroke-linejoin:round; stroke-width:2; stroke-opacity:0.1; fill:none\" points=\"\n  174.149,525.535 2352.76,525.535 \n  \"/>\n<polyline clip-path=\"url(#clip792)\" style=\"stroke:#000000; stroke-linecap:butt; stroke-linejoin:round; stroke-width:2; stroke-opacity:0.1; fill:none\" points=\"\n  174.149,96.1829 2352.76,96.1829 \n  \"/>\n<polyline clip-path=\"url(#clip790)\" style=\"stroke:#000000; stroke-linecap:butt; stroke-linejoin:round; stroke-width:4; stroke-opacity:1; fill:none\" points=\"\n  174.149,1423.18 174.149,47.2441 \n  \"/>\n<polyline clip-path=\"url(#clip790)\" style=\"stroke:#000000; stroke-linecap:butt; stroke-linejoin:round; stroke-width:4; stroke-opacity:1; fill:none\" points=\"\n  174.149,1384.24 193.047,1384.24 \n  \"/>\n<polyline clip-path=\"url(#clip790)\" style=\"stroke:#000000; stroke-linecap:butt; stroke-linejoin:round; stroke-width:4; stroke-opacity:1; fill:none\" points=\"\n  174.149,954.886 193.047,954.886 \n  \"/>\n<polyline clip-path=\"url(#clip790)\" style=\"stroke:#000000; stroke-linecap:butt; stroke-linejoin:round; stroke-width:4; stroke-opacity:1; fill:none\" points=\"\n  174.149,525.535 193.047,525.535 \n  \"/>\n<polyline clip-path=\"url(#clip790)\" style=\"stroke:#000000; stroke-linecap:butt; stroke-linejoin:round; stroke-width:4; stroke-opacity:1; fill:none\" points=\"\n  174.149,96.1829 193.047,96.1829 \n  \"/>\n<path clip-path=\"url(#clip790)\" d=\"M126.205 1370.04 Q122.593 1370.04 120.765 1373.6 Q118.959 1377.14 118.959 1384.27 Q118.959 1391.38 120.765 1394.94 Q122.593 1398.49 126.205 1398.49 Q129.839 1398.49 131.644 1394.94 Q133.473 1391.38 133.473 1384.27 Q133.473 1377.14 131.644 1373.6 Q129.839 1370.04 126.205 1370.04 M126.205 1366.33 Q132.015 1366.33 135.07 1370.94 Q138.149 1375.52 138.149 1384.27 Q138.149 1393 135.07 1397.61 Q132.015 1402.19 126.205 1402.19 Q120.394 1402.19 117.316 1397.61 Q114.26 1393 114.26 1384.27 Q114.26 1375.52 117.316 1370.94 Q120.394 1366.33 126.205 1366.33 Z\" fill=\"#000000\" fill-rule=\"evenodd\" fill-opacity=\"1\" /><path clip-path=\"url(#clip790)\" d=\"M118.242 968.231 L125.88 968.231 L125.88 941.866 L117.57 943.532 L117.57 939.273 L125.834 937.606 L130.51 937.606 L130.51 968.231 L138.149 968.231 L138.149 972.166 L118.242 972.166 L118.242 968.231 Z\" fill=\"#000000\" fill-rule=\"evenodd\" fill-opacity=\"1\" /><path clip-path=\"url(#clip790)\" d=\"M121.83 538.879 L138.149 538.879 L138.149 542.815 L116.205 542.815 L116.205 538.879 Q118.867 536.125 123.45 531.495 Q128.056 526.843 129.237 525.5 Q131.482 522.977 132.362 521.241 Q133.265 519.481 133.265 517.792 Q133.265 515.037 131.32 513.301 Q129.399 511.565 126.297 511.565 Q124.098 511.565 121.644 512.329 Q119.214 513.093 116.436 514.644 L116.436 509.921 Q119.26 508.787 121.714 508.208 Q124.168 507.63 126.205 507.63 Q131.575 507.63 134.769 510.315 Q137.964 513 137.964 517.491 Q137.964 519.62 137.154 521.542 Q136.367 523.44 134.26 526.032 Q133.681 526.704 130.58 529.921 Q127.478 533.116 121.83 538.879 Z\" fill=\"#000000\" fill-rule=\"evenodd\" fill-opacity=\"1\" /><path clip-path=\"url(#clip790)\" d=\"M131.019 94.8287 Q134.376 95.5463 136.251 97.8148 Q138.149 100.083 138.149 103.417 Q138.149 108.532 134.63 111.333 Q131.112 114.134 124.63 114.134 Q122.455 114.134 120.14 113.694 Q117.848 113.278 115.394 112.421 L115.394 107.907 Q117.339 109.042 119.654 109.62 Q121.968 110.199 124.492 110.199 Q128.89 110.199 131.181 108.463 Q133.496 106.727 133.496 103.417 Q133.496 100.361 131.343 98.6481 Q129.214 96.912 125.394 96.912 L121.367 96.912 L121.367 93.0694 L125.58 93.0694 Q129.029 93.0694 130.857 91.7037 Q132.686 90.3148 132.686 87.7223 Q132.686 85.0602 130.788 83.6482 Q128.913 82.213 125.394 82.213 Q123.473 82.213 121.274 82.6297 Q119.075 83.0464 116.436 83.926 L116.436 79.7593 Q119.098 79.0186 121.413 78.6482 Q123.751 78.2779 125.811 78.2779 Q131.135 78.2779 134.237 80.7084 Q137.339 83.1158 137.339 87.2361 Q137.339 90.1065 135.695 92.0972 Q134.052 94.0648 131.019 94.8287 Z\" fill=\"#000000\" fill-rule=\"evenodd\" fill-opacity=\"1\" /><path clip-path=\"url(#clip790)\" d=\"M28.3562 753.434 L45.7028 766.324 L64.0042 752.765 L64.0042 759.672 L49.9996 770.048 L64.0042 780.424 L64.0042 787.331 L45.3526 773.486 L28.3562 786.154 L28.3562 779.247 L41.0558 769.794 L28.3562 760.341 L28.3562 753.434 Z\" fill=\"#000000\" fill-rule=\"evenodd\" fill-opacity=\"1\" /><path clip-path=\"url(#clip790)\" d=\"M74.8259 717.404 L79.3773 717.404 L79.3773 751.269 L74.8259 751.269 L74.8259 717.404 Z\" fill=\"#000000\" fill-rule=\"evenodd\" fill-opacity=\"1\" /><path clip-path=\"url(#clip790)\" d=\"M58.5933 705.532 L58.5933 683.093 L64.0042 683.093 L64.0042 713.266 L58.5933 713.266 Q54.8057 709.606 48.44 703.304 Q42.0425 696.97 40.1964 695.347 Q36.7271 692.259 34.34 691.05 Q31.921 689.809 29.5975 689.809 Q25.8099 689.809 23.4228 692.482 Q21.0356 695.124 21.0356 699.389 Q21.0356 702.413 22.086 705.786 Q23.1363 709.128 25.2688 712.948 L18.7758 712.948 Q17.2162 709.065 16.4205 705.691 Q15.6248 702.317 15.6248 699.516 Q15.6248 692.132 19.3169 687.74 Q23.009 683.347 29.1837 683.347 Q32.112 683.347 34.7537 684.461 Q37.3637 685.544 40.9285 688.44 Q41.8515 689.236 46.2757 693.501 Q50.668 697.766 58.5933 705.532 Z\" fill=\"#000000\" fill-rule=\"evenodd\" fill-opacity=\"1\" /><circle clip-path=\"url(#clip792)\" cx=\"235.808\" cy=\"954.886\" r=\"14\" fill=\"#009af9\" fill-rule=\"evenodd\" fill-opacity=\"1\" stroke=\"#000000\" stroke-opacity=\"1\" stroke-width=\"3.2\"/>\n<circle clip-path=\"url(#clip792)\" cx=\"1244.09\" cy=\"96.1829\" r=\"14\" fill=\"#009af9\" fill-rule=\"evenodd\" fill-opacity=\"1\" stroke=\"#000000\" stroke-opacity=\"1\" stroke-width=\"3.2\"/>\n<circle clip-path=\"url(#clip792)\" cx=\"1916.28\" cy=\"1384.24\" r=\"14\" fill=\"#009af9\" fill-rule=\"evenodd\" fill-opacity=\"1\" stroke=\"#000000\" stroke-opacity=\"1\" stroke-width=\"3.2\"/>\n<circle clip-path=\"url(#clip792)\" cx=\"235.808\" cy=\"954.886\" r=\"14\" fill=\"#009af9\" fill-rule=\"evenodd\" fill-opacity=\"1\" stroke=\"#000000\" stroke-opacity=\"1\" stroke-width=\"3.2\"/>\n<polyline clip-path=\"url(#clip792)\" style=\"stroke:#e26f46; stroke-linecap:butt; stroke-linejoin:round; stroke-width:4; stroke-opacity:1; fill:none\" points=\"\n  235.808,954.886 239.057,946.182 245.537,929.532 255.229,905.692 268.116,875.421 284.179,839.477 303.4,798.616 325.761,753.598 351.242,705.178 379.827,654.116 \n  411.496,601.169 446.231,547.094 484.014,492.65 524.826,438.595 568.649,385.686 615.464,334.682 665.252,286.34 717.996,241.419 773.676,200.677 832.275,164.871 \n  893.772,134.761 958.15,111.104 1025.39,94.6598 1095.47,86.1857 1168.38,86.4405 1244.09,96.1829 1322.59,116.171 1403.05,145.527 1484.67,183.37 1566.62,228.821 \n  1648.09,281.002 1728.25,339.032 1806.3,402.034 1881.42,469.128 1952.77,539.435 2019.56,612.075 2080.96,686.172 2136.15,760.845 2184.31,835.215 2224.63,908.405 \n  2256.29,979.534 2278.46,1047.73 2290.34,1112.1 2291.1,1171.78 2279.92,1225.88 2255.98,1273.53 2218.47,1313.85 2166.56,1345.96 2099.44,1368.98 2016.28,1382.03 \n  1916.28,1384.24 1798.59,1374.72 1665.01,1354.65 1517.28,1325.2 1357.19,1287.54 1186.49,1242.84 1006.96,1192.29 820.354,1137.04 628.45,1078.28 433.012,1017.17 \n  235.808,954.886 \n  \"/>\n<path clip-path=\"url(#clip790)\" d=\"\nM1795.41 248.629 L2280.14 248.629 L2280.14 93.1086 L1795.41 93.1086  Z\n  \" fill=\"#ffffff\" fill-rule=\"evenodd\" fill-opacity=\"1\"/>\n<polyline clip-path=\"url(#clip790)\" style=\"stroke:#000000; stroke-linecap:butt; stroke-linejoin:round; stroke-width:4; stroke-opacity:1; fill:none\" points=\"\n  1795.41,248.629 2280.14,248.629 2280.14,93.1086 1795.41,93.1086 1795.41,248.629 \n  \"/>\n<circle clip-path=\"url(#clip790)\" cx=\"1892.23\" cy=\"144.949\" r=\"23\" fill=\"#009af9\" fill-rule=\"evenodd\" fill-opacity=\"1\" stroke=\"#000000\" stroke-opacity=\"1\" stroke-width=\"5.12\"/>\n<path clip-path=\"url(#clip790)\" d=\"M1989.06 127.669 L1993.78 127.669 L2001.05 156.881 L2008.3 127.669 L2013.55 127.669 L2020.82 156.881 L2028.07 127.669 L2032.81 127.669 L2024.13 162.229 L2018.25 162.229 L2010.96 132.229 L2003.6 162.229 L1997.72 162.229 L1989.06 127.669 Z\" fill=\"#000000\" fill-rule=\"evenodd\" fill-opacity=\"1\" /><path clip-path=\"url(#clip790)\" d=\"M2047.58 149.196 Q2042.42 149.196 2040.43 150.377 Q2038.44 151.557 2038.44 154.405 Q2038.44 156.673 2039.92 158.016 Q2041.42 159.335 2043.99 159.335 Q2047.53 159.335 2049.66 156.835 Q2051.82 154.312 2051.82 150.145 L2051.82 149.196 L2047.58 149.196 M2056.07 147.437 L2056.07 162.229 L2051.82 162.229 L2051.82 158.293 Q2050.36 160.655 2048.18 161.789 Q2046.01 162.9 2042.86 162.9 Q2038.88 162.9 2036.51 160.678 Q2034.18 158.432 2034.18 154.682 Q2034.18 150.307 2037.09 148.085 Q2040.03 145.863 2045.84 145.863 L2051.82 145.863 L2051.82 145.446 Q2051.82 142.507 2049.87 140.909 Q2047.95 139.289 2044.45 139.289 Q2042.23 139.289 2040.13 139.821 Q2038.02 140.354 2036.08 141.419 L2036.08 137.483 Q2038.41 136.581 2040.61 136.141 Q2042.81 135.678 2044.89 135.678 Q2050.52 135.678 2053.3 138.594 Q2056.07 141.511 2056.07 147.437 Z\" fill=\"#000000\" fill-rule=\"evenodd\" fill-opacity=\"1\" /><path clip-path=\"url(#clip790)\" d=\"M2075.64 164.636 Q2073.83 169.266 2072.12 170.678 Q2070.4 172.09 2067.53 172.09 L2064.13 172.09 L2064.13 168.525 L2066.63 168.525 Q2068.39 168.525 2069.36 167.692 Q2070.33 166.858 2071.51 163.756 L2072.28 161.812 L2061.79 136.303 L2066.31 136.303 L2074.41 156.581 L2082.51 136.303 L2087.02 136.303 L2075.64 164.636 Z\" fill=\"#000000\" fill-rule=\"evenodd\" fill-opacity=\"1\" /><path clip-path=\"url(#clip790)\" d=\"M2097.02 158.34 L2097.02 172.09 L2092.74 172.09 L2092.74 136.303 L2097.02 136.303 L2097.02 140.238 Q2098.37 137.923 2100.4 136.812 Q2102.46 135.678 2105.31 135.678 Q2110.03 135.678 2112.97 139.428 Q2115.94 143.178 2115.94 149.289 Q2115.94 155.4 2112.97 159.15 Q2110.03 162.9 2105.31 162.9 Q2102.46 162.9 2100.4 161.789 Q2098.37 160.655 2097.02 158.34 M2111.51 149.289 Q2111.51 144.59 2109.57 141.928 Q2107.65 139.243 2104.27 139.243 Q2100.89 139.243 2098.95 141.928 Q2097.02 144.59 2097.02 149.289 Q2097.02 153.988 2098.95 156.673 Q2100.89 159.335 2104.27 159.335 Q2107.65 159.335 2109.57 156.673 Q2111.51 153.988 2111.51 149.289 Z\" fill=\"#000000\" fill-rule=\"evenodd\" fill-opacity=\"1\" /><path clip-path=\"url(#clip790)\" d=\"M2133.04 139.289 Q2129.62 139.289 2127.63 141.974 Q2125.63 144.636 2125.63 149.289 Q2125.63 153.942 2127.6 156.627 Q2129.59 159.289 2133.04 159.289 Q2136.44 159.289 2138.44 156.604 Q2140.43 153.918 2140.43 149.289 Q2140.43 144.682 2138.44 141.997 Q2136.44 139.289 2133.04 139.289 M2133.04 135.678 Q2138.6 135.678 2141.77 139.289 Q2144.94 142.9 2144.94 149.289 Q2144.94 155.655 2141.77 159.289 Q2138.6 162.9 2133.04 162.9 Q2127.46 162.9 2124.29 159.289 Q2121.14 155.655 2121.14 149.289 Q2121.14 142.9 2124.29 139.289 Q2127.46 135.678 2133.04 135.678 Z\" fill=\"#000000\" fill-rule=\"evenodd\" fill-opacity=\"1\" /><path clip-path=\"url(#clip790)\" d=\"M2152 136.303 L2156.26 136.303 L2156.26 162.229 L2152 162.229 L2152 136.303 M2152 126.21 L2156.26 126.21 L2156.26 131.604 L2152 131.604 L2152 126.21 Z\" fill=\"#000000\" fill-rule=\"evenodd\" fill-opacity=\"1\" /><path clip-path=\"url(#clip790)\" d=\"M2186.72 146.581 L2186.72 162.229 L2182.46 162.229 L2182.46 146.719 Q2182.46 143.039 2181.03 141.21 Q2179.59 139.382 2176.72 139.382 Q2173.27 139.382 2171.28 141.581 Q2169.29 143.78 2169.29 147.576 L2169.29 162.229 L2165.01 162.229 L2165.01 136.303 L2169.29 136.303 L2169.29 140.331 Q2170.82 137.993 2172.88 136.835 Q2174.96 135.678 2177.67 135.678 Q2182.14 135.678 2184.43 138.456 Q2186.72 141.21 2186.72 146.581 Z\" fill=\"#000000\" fill-rule=\"evenodd\" fill-opacity=\"1\" /><path clip-path=\"url(#clip790)\" d=\"M2199.43 128.942 L2199.43 136.303 L2208.2 136.303 L2208.2 139.613 L2199.43 139.613 L2199.43 153.687 Q2199.43 156.858 2200.29 157.761 Q2201.17 158.664 2203.83 158.664 L2208.2 158.664 L2208.2 162.229 L2203.83 162.229 Q2198.9 162.229 2197.02 160.4 Q2195.15 158.548 2195.15 153.687 L2195.15 139.613 L2192.02 139.613 L2192.02 136.303 L2195.15 136.303 L2195.15 128.942 L2199.43 128.942 Z\" fill=\"#000000\" fill-rule=\"evenodd\" fill-opacity=\"1\" /><path clip-path=\"url(#clip790)\" d=\"M2230.33 137.067 L2230.33 141.094 Q2228.53 140.169 2226.58 139.706 Q2224.64 139.243 2222.56 139.243 Q2219.38 139.243 2217.79 140.215 Q2216.21 141.187 2216.21 143.131 Q2216.21 144.613 2217.35 145.469 Q2218.48 146.303 2221.91 147.067 L2223.37 147.391 Q2227.9 148.363 2229.8 150.145 Q2231.72 151.905 2231.72 155.076 Q2231.72 158.687 2228.85 160.793 Q2226 162.9 2221 162.9 Q2218.92 162.9 2216.65 162.483 Q2214.41 162.09 2211.91 161.28 L2211.91 156.881 Q2214.27 158.108 2216.56 158.733 Q2218.85 159.335 2221.1 159.335 Q2224.11 159.335 2225.73 158.317 Q2227.35 157.275 2227.35 155.4 Q2227.35 153.664 2226.17 152.738 Q2225.01 151.812 2221.05 150.956 L2219.57 150.608 Q2215.61 149.775 2213.85 148.062 Q2212.09 146.326 2212.09 143.317 Q2212.09 139.659 2214.69 137.669 Q2217.28 135.678 2222.05 135.678 Q2224.41 135.678 2226.49 136.025 Q2228.57 136.372 2230.33 137.067 Z\" fill=\"#000000\" fill-rule=\"evenodd\" fill-opacity=\"1\" /><polyline clip-path=\"url(#clip790)\" style=\"stroke:#e26f46; stroke-linecap:butt; stroke-linejoin:round; stroke-width:4; stroke-opacity:1; fill:none\" points=\"\n  1819.61,196.789 1964.85,196.789 \n  \"/>\n<path clip-path=\"url(#clip790)\" d=\"M1989.06 179.509 L2018.3 179.509 L2018.3 183.444 L2006.03 183.444 L2006.03 214.069 L2001.33 214.069 L2001.33 183.444 L1989.06 183.444 L1989.06 179.509 Z\" fill=\"#000000\" fill-rule=\"evenodd\" fill-opacity=\"1\" /><path clip-path=\"url(#clip790)\" d=\"M2030.68 192.124 Q2029.96 191.708 2029.11 191.522 Q2028.27 191.314 2027.26 191.314 Q2023.64 191.314 2021.7 193.675 Q2019.78 196.013 2019.78 200.411 L2019.78 214.069 L2015.5 214.069 L2015.5 188.143 L2019.78 188.143 L2019.78 192.171 Q2021.12 189.809 2023.27 188.675 Q2025.43 187.518 2028.51 187.518 Q2028.95 187.518 2029.48 187.587 Q2030.01 187.634 2030.66 187.749 L2030.68 192.124 Z\" fill=\"#000000\" fill-rule=\"evenodd\" fill-opacity=\"1\" /><path clip-path=\"url(#clip790)\" d=\"M2046.93 201.036 Q2041.77 201.036 2039.78 202.217 Q2037.79 203.397 2037.79 206.245 Q2037.79 208.513 2039.27 209.856 Q2040.77 211.175 2043.34 211.175 Q2046.89 211.175 2049.01 208.675 Q2051.17 206.152 2051.17 201.985 L2051.17 201.036 L2046.93 201.036 M2055.43 199.277 L2055.43 214.069 L2051.17 214.069 L2051.17 210.133 Q2049.71 212.495 2047.53 213.629 Q2045.36 214.74 2042.21 214.74 Q2038.23 214.74 2035.87 212.518 Q2033.53 210.272 2033.53 206.522 Q2033.53 202.147 2036.45 199.925 Q2039.39 197.703 2045.2 197.703 L2051.17 197.703 L2051.17 197.286 Q2051.17 194.347 2049.22 192.749 Q2047.3 191.129 2043.81 191.129 Q2041.58 191.129 2039.48 191.661 Q2037.37 192.194 2035.43 193.259 L2035.43 189.323 Q2037.76 188.421 2039.96 187.981 Q2042.16 187.518 2044.25 187.518 Q2049.87 187.518 2052.65 190.434 Q2055.43 193.351 2055.43 199.277 Z\" fill=\"#000000\" fill-rule=\"evenodd\" fill-opacity=\"1\" /><path clip-path=\"url(#clip790)\" d=\"M2064.2 188.143 L2068.46 188.143 L2068.46 214.532 Q2068.46 219.485 2066.56 221.707 Q2064.69 223.93 2060.5 223.93 L2058.88 223.93 L2058.88 220.319 L2060.01 220.319 Q2062.44 220.319 2063.32 219.184 Q2064.2 218.073 2064.2 214.532 L2064.2 188.143 M2064.2 178.05 L2068.46 178.05 L2068.46 183.444 L2064.2 183.444 L2064.2 178.05 Z\" fill=\"#000000\" fill-rule=\"evenodd\" fill-opacity=\"1\" /><path clip-path=\"url(#clip790)\" d=\"M2099.55 200.041 L2099.55 202.124 L2079.96 202.124 Q2080.24 206.522 2082.6 208.837 Q2084.99 211.129 2089.22 211.129 Q2091.68 211.129 2093.97 210.527 Q2096.28 209.925 2098.55 208.721 L2098.55 212.749 Q2096.26 213.721 2093.85 214.231 Q2091.45 214.74 2088.97 214.74 Q2082.76 214.74 2079.13 211.129 Q2075.52 207.518 2075.52 201.36 Q2075.52 194.995 2078.95 191.268 Q2082.39 187.518 2088.23 187.518 Q2093.46 187.518 2096.49 190.897 Q2099.55 194.254 2099.55 200.041 M2095.29 198.791 Q2095.24 195.296 2093.32 193.212 Q2091.42 191.129 2088.27 191.129 Q2084.71 191.129 2082.56 193.143 Q2080.43 195.157 2080.1 198.814 L2095.29 198.791 Z\" fill=\"#000000\" fill-rule=\"evenodd\" fill-opacity=\"1\" /><path clip-path=\"url(#clip790)\" d=\"M2125.19 189.138 L2125.19 193.12 Q2123.39 192.124 2121.56 191.638 Q2119.76 191.129 2117.9 191.129 Q2113.76 191.129 2111.47 193.768 Q2109.18 196.384 2109.18 201.129 Q2109.18 205.874 2111.47 208.513 Q2113.76 211.129 2117.9 211.129 Q2119.76 211.129 2121.56 210.643 Q2123.39 210.133 2125.19 209.138 L2125.19 213.073 Q2123.41 213.907 2121.49 214.323 Q2119.59 214.74 2117.44 214.74 Q2111.58 214.74 2108.13 211.059 Q2104.69 207.379 2104.69 201.129 Q2104.69 194.786 2108.16 191.152 Q2111.65 187.518 2117.72 187.518 Q2119.69 187.518 2121.56 187.935 Q2123.44 188.328 2125.19 189.138 Z\" fill=\"#000000\" fill-rule=\"evenodd\" fill-opacity=\"1\" /><path clip-path=\"url(#clip790)\" d=\"M2136.82 180.782 L2136.82 188.143 L2145.59 188.143 L2145.59 191.453 L2136.82 191.453 L2136.82 205.527 Q2136.82 208.698 2137.67 209.601 Q2138.55 210.504 2141.21 210.504 L2145.59 210.504 L2145.59 214.069 L2141.21 214.069 Q2136.28 214.069 2134.41 212.24 Q2132.53 210.388 2132.53 205.527 L2132.53 191.453 L2129.41 191.453 L2129.41 188.143 L2132.53 188.143 L2132.53 180.782 L2136.82 180.782 Z\" fill=\"#000000\" fill-rule=\"evenodd\" fill-opacity=\"1\" /><path clip-path=\"url(#clip790)\" d=\"M2161.24 191.129 Q2157.81 191.129 2155.82 193.814 Q2153.83 196.476 2153.83 201.129 Q2153.83 205.782 2155.8 208.467 Q2157.79 211.129 2161.24 211.129 Q2164.64 211.129 2166.63 208.444 Q2168.62 205.758 2168.62 201.129 Q2168.62 196.522 2166.63 193.837 Q2164.64 191.129 2161.24 191.129 M2161.24 187.518 Q2166.79 187.518 2169.96 191.129 Q2173.13 194.74 2173.13 201.129 Q2173.13 207.495 2169.96 211.129 Q2166.79 214.74 2161.24 214.74 Q2155.66 214.74 2152.49 211.129 Q2149.34 207.495 2149.34 201.129 Q2149.34 194.74 2152.49 191.129 Q2155.66 187.518 2161.24 187.518 Z\" fill=\"#000000\" fill-rule=\"evenodd\" fill-opacity=\"1\" /><path clip-path=\"url(#clip790)\" d=\"M2195.22 192.124 Q2194.5 191.708 2193.64 191.522 Q2192.81 191.314 2191.79 191.314 Q2188.18 191.314 2186.24 193.675 Q2184.32 196.013 2184.32 200.411 L2184.32 214.069 L2180.03 214.069 L2180.03 188.143 L2184.32 188.143 L2184.32 192.171 Q2185.66 189.809 2187.81 188.675 Q2189.96 187.518 2193.04 187.518 Q2193.48 187.518 2194.01 187.587 Q2194.55 187.634 2195.19 187.749 L2195.22 192.124 Z\" fill=\"#000000\" fill-rule=\"evenodd\" fill-opacity=\"1\" /><path clip-path=\"url(#clip790)\" d=\"M2210.47 216.476 Q2208.67 221.106 2206.95 222.518 Q2205.24 223.93 2202.37 223.93 L2198.97 223.93 L2198.97 220.365 L2201.47 220.365 Q2203.23 220.365 2204.2 219.532 Q2205.17 218.698 2206.35 215.596 L2207.12 213.652 L2196.63 188.143 L2201.14 188.143 L2209.25 208.421 L2217.35 188.143 L2221.86 188.143 L2210.47 216.476 Z\" fill=\"#000000\" fill-rule=\"evenodd\" fill-opacity=\"1\" /></svg>\n",
      "text/html": [
       "<?xml version=\"1.0\" encoding=\"utf-8\"?>\n",
       "<svg xmlns=\"http://www.w3.org/2000/svg\" xmlns:xlink=\"http://www.w3.org/1999/xlink\" width=\"600\" height=\"400\" viewBox=\"0 0 2400 1600\">\n",
       "<defs>\n",
       "  <clipPath id=\"clip840\">\n",
       "    <rect x=\"0\" y=\"0\" width=\"2400\" height=\"1600\"/>\n",
       "  </clipPath>\n",
       "</defs>\n",
       "<path clip-path=\"url(#clip840)\" d=\"\n",
       "M0 1600 L2400 1600 L2400 0 L0 0  Z\n",
       "  \" fill=\"#ffffff\" fill-rule=\"evenodd\" fill-opacity=\"1\"/>\n",
       "<defs>\n",
       "  <clipPath id=\"clip841\">\n",
       "    <rect x=\"480\" y=\"0\" width=\"1681\" height=\"1600\"/>\n",
       "  </clipPath>\n",
       "</defs>\n",
       "<path clip-path=\"url(#clip840)\" d=\"\n",
       "M174.149 1423.18 L2352.76 1423.18 L2352.76 47.2441 L174.149 47.2441  Z\n",
       "  \" fill=\"#ffffff\" fill-rule=\"evenodd\" fill-opacity=\"1\"/>\n",
       "<defs>\n",
       "  <clipPath id=\"clip842\">\n",
       "    <rect x=\"174\" y=\"47\" width=\"2180\" height=\"1377\"/>\n",
       "  </clipPath>\n",
       "</defs>\n",
       "<polyline clip-path=\"url(#clip842)\" style=\"stroke:#000000; stroke-linecap:butt; stroke-linejoin:round; stroke-width:2; stroke-opacity:0.1; fill:none\" points=\"\n",
       "  235.808,1423.18 235.808,47.2441 \n",
       "  \"/>\n",
       "<polyline clip-path=\"url(#clip842)\" style=\"stroke:#000000; stroke-linecap:butt; stroke-linejoin:round; stroke-width:2; stroke-opacity:0.1; fill:none\" points=\"\n",
       "  571.901,1423.18 571.901,47.2441 \n",
       "  \"/>\n",
       "<polyline clip-path=\"url(#clip842)\" style=\"stroke:#000000; stroke-linecap:butt; stroke-linejoin:round; stroke-width:2; stroke-opacity:0.1; fill:none\" points=\"\n",
       "  907.995,1423.18 907.995,47.2441 \n",
       "  \"/>\n",
       "<polyline clip-path=\"url(#clip842)\" style=\"stroke:#000000; stroke-linecap:butt; stroke-linejoin:round; stroke-width:2; stroke-opacity:0.1; fill:none\" points=\"\n",
       "  1244.09,1423.18 1244.09,47.2441 \n",
       "  \"/>\n",
       "<polyline clip-path=\"url(#clip842)\" style=\"stroke:#000000; stroke-linecap:butt; stroke-linejoin:round; stroke-width:2; stroke-opacity:0.1; fill:none\" points=\"\n",
       "  1580.18,1423.18 1580.18,47.2441 \n",
       "  \"/>\n",
       "<polyline clip-path=\"url(#clip842)\" style=\"stroke:#000000; stroke-linecap:butt; stroke-linejoin:round; stroke-width:2; stroke-opacity:0.1; fill:none\" points=\"\n",
       "  1916.28,1423.18 1916.28,47.2441 \n",
       "  \"/>\n",
       "<polyline clip-path=\"url(#clip842)\" style=\"stroke:#000000; stroke-linecap:butt; stroke-linejoin:round; stroke-width:2; stroke-opacity:0.1; fill:none\" points=\"\n",
       "  2252.37,1423.18 2252.37,47.2441 \n",
       "  \"/>\n",
       "<polyline clip-path=\"url(#clip840)\" style=\"stroke:#000000; stroke-linecap:butt; stroke-linejoin:round; stroke-width:4; stroke-opacity:1; fill:none\" points=\"\n",
       "  174.149,1423.18 2352.76,1423.18 \n",
       "  \"/>\n",
       "<polyline clip-path=\"url(#clip840)\" style=\"stroke:#000000; stroke-linecap:butt; stroke-linejoin:round; stroke-width:4; stroke-opacity:1; fill:none\" points=\"\n",
       "  235.808,1423.18 235.808,1404.28 \n",
       "  \"/>\n",
       "<polyline clip-path=\"url(#clip840)\" style=\"stroke:#000000; stroke-linecap:butt; stroke-linejoin:round; stroke-width:4; stroke-opacity:1; fill:none\" points=\"\n",
       "  571.901,1423.18 571.901,1404.28 \n",
       "  \"/>\n",
       "<polyline clip-path=\"url(#clip840)\" style=\"stroke:#000000; stroke-linecap:butt; stroke-linejoin:round; stroke-width:4; stroke-opacity:1; fill:none\" points=\"\n",
       "  907.995,1423.18 907.995,1404.28 \n",
       "  \"/>\n",
       "<polyline clip-path=\"url(#clip840)\" style=\"stroke:#000000; stroke-linecap:butt; stroke-linejoin:round; stroke-width:4; stroke-opacity:1; fill:none\" points=\"\n",
       "  1244.09,1423.18 1244.09,1404.28 \n",
       "  \"/>\n",
       "<polyline clip-path=\"url(#clip840)\" style=\"stroke:#000000; stroke-linecap:butt; stroke-linejoin:round; stroke-width:4; stroke-opacity:1; fill:none\" points=\"\n",
       "  1580.18,1423.18 1580.18,1404.28 \n",
       "  \"/>\n",
       "<polyline clip-path=\"url(#clip840)\" style=\"stroke:#000000; stroke-linecap:butt; stroke-linejoin:round; stroke-width:4; stroke-opacity:1; fill:none\" points=\"\n",
       "  1916.28,1423.18 1916.28,1404.28 \n",
       "  \"/>\n",
       "<polyline clip-path=\"url(#clip840)\" style=\"stroke:#000000; stroke-linecap:butt; stroke-linejoin:round; stroke-width:4; stroke-opacity:1; fill:none\" points=\"\n",
       "  2252.37,1423.18 2252.37,1404.28 \n",
       "  \"/>\n",
       "<path clip-path=\"url(#clip840)\" d=\"M226.19 1481.64 L233.828 1481.64 L233.828 1455.28 L225.518 1456.95 L225.518 1452.69 L233.782 1451.02 L238.458 1451.02 L238.458 1481.64 L246.097 1481.64 L246.097 1485.58 L226.19 1485.58 L226.19 1481.64 Z\" fill=\"#000000\" fill-rule=\"evenodd\" fill-opacity=\"1\" /><path clip-path=\"url(#clip840)\" d=\"M566.554 1481.64 L582.873 1481.64 L582.873 1485.58 L560.929 1485.58 L560.929 1481.64 Q563.591 1478.89 568.174 1474.26 Q572.781 1469.61 573.961 1468.27 Q576.207 1465.74 577.086 1464.01 Q577.989 1462.25 577.989 1460.56 Q577.989 1457.8 576.045 1456.07 Q574.123 1454.33 571.022 1454.33 Q568.823 1454.33 566.369 1455.09 Q563.938 1455.86 561.161 1457.41 L561.161 1452.69 Q563.985 1451.55 566.438 1450.97 Q568.892 1450.39 570.929 1450.39 Q576.299 1450.39 579.494 1453.08 Q582.688 1455.77 582.688 1460.26 Q582.688 1462.39 581.878 1464.31 Q581.091 1466.2 578.985 1468.8 Q578.406 1469.47 575.304 1472.69 Q572.202 1475.88 566.554 1481.64 Z\" fill=\"#000000\" fill-rule=\"evenodd\" fill-opacity=\"1\" /><path clip-path=\"url(#clip840)\" d=\"M912.242 1466.95 Q915.599 1467.66 917.474 1469.93 Q919.372 1472.2 919.372 1475.53 Q919.372 1480.65 915.854 1483.45 Q912.335 1486.25 905.854 1486.25 Q903.678 1486.25 901.363 1485.81 Q899.071 1485.39 896.618 1484.54 L896.618 1480.02 Q898.562 1481.16 900.877 1481.74 Q903.192 1482.32 905.715 1482.32 Q910.113 1482.32 912.405 1480.58 Q914.719 1478.84 914.719 1475.53 Q914.719 1472.48 912.567 1470.77 Q910.437 1469.03 906.617 1469.03 L902.59 1469.03 L902.59 1465.19 L906.803 1465.19 Q910.252 1465.19 912.08 1463.82 Q913.909 1462.43 913.909 1459.84 Q913.909 1457.18 912.011 1455.77 Q910.136 1454.33 906.617 1454.33 Q904.696 1454.33 902.497 1454.75 Q900.298 1455.16 897.659 1456.04 L897.659 1451.88 Q900.321 1451.14 902.636 1450.77 Q904.974 1450.39 907.034 1450.39 Q912.358 1450.39 915.46 1452.83 Q918.562 1455.23 918.562 1459.35 Q918.562 1462.22 916.918 1464.21 Q915.275 1466.18 912.242 1466.95 Z\" fill=\"#000000\" fill-rule=\"evenodd\" fill-opacity=\"1\" /><path clip-path=\"url(#clip840)\" d=\"M1247.1 1455.09 L1235.29 1473.54 L1247.1 1473.54 L1247.1 1455.09 M1245.87 1451.02 L1251.75 1451.02 L1251.75 1473.54 L1256.68 1473.54 L1256.68 1477.43 L1251.75 1477.43 L1251.75 1485.58 L1247.1 1485.58 L1247.1 1477.43 L1231.5 1477.43 L1231.5 1472.92 L1245.87 1451.02 Z\" fill=\"#000000\" fill-rule=\"evenodd\" fill-opacity=\"1\" /><path clip-path=\"url(#clip840)\" d=\"M1570.46 1451.02 L1588.82 1451.02 L1588.82 1454.96 L1574.74 1454.96 L1574.74 1463.43 Q1575.76 1463.08 1576.78 1462.92 Q1577.8 1462.73 1578.82 1462.73 Q1584.6 1462.73 1587.98 1465.9 Q1591.36 1469.08 1591.36 1474.49 Q1591.36 1480.07 1587.89 1483.17 Q1584.42 1486.25 1578.1 1486.25 Q1575.92 1486.25 1573.65 1485.88 Q1571.41 1485.51 1569 1484.77 L1569 1480.07 Q1571.08 1481.2 1573.31 1481.76 Q1575.53 1482.32 1578.01 1482.32 Q1582.01 1482.32 1584.35 1480.21 Q1586.69 1478.1 1586.69 1474.49 Q1586.69 1470.88 1584.35 1468.77 Q1582.01 1466.67 1578.01 1466.67 Q1576.13 1466.67 1574.26 1467.08 Q1572.4 1467.5 1570.46 1468.38 L1570.46 1451.02 Z\" fill=\"#000000\" fill-rule=\"evenodd\" fill-opacity=\"1\" /><path clip-path=\"url(#clip840)\" d=\"M1916.68 1466.44 Q1913.53 1466.44 1911.68 1468.59 Q1909.85 1470.74 1909.85 1474.49 Q1909.85 1478.22 1911.68 1480.39 Q1913.53 1482.55 1916.68 1482.55 Q1919.83 1482.55 1921.66 1480.39 Q1923.51 1478.22 1923.51 1474.49 Q1923.51 1470.74 1921.66 1468.59 Q1919.83 1466.44 1916.68 1466.44 M1925.96 1451.78 L1925.96 1456.04 Q1924.2 1455.21 1922.4 1454.77 Q1920.62 1454.33 1918.86 1454.33 Q1914.23 1454.33 1911.77 1457.45 Q1909.34 1460.58 1909 1466.9 Q1910.36 1464.89 1912.42 1463.82 Q1914.48 1462.73 1916.96 1462.73 Q1922.17 1462.73 1925.18 1465.9 Q1928.21 1469.05 1928.21 1474.49 Q1928.21 1479.82 1925.06 1483.03 Q1921.91 1486.25 1916.68 1486.25 Q1910.69 1486.25 1907.51 1481.67 Q1904.34 1477.06 1904.34 1468.33 Q1904.34 1460.14 1908.23 1455.28 Q1912.12 1450.39 1918.67 1450.39 Q1920.43 1450.39 1922.21 1450.74 Q1924.02 1451.09 1925.96 1451.78 Z\" fill=\"#000000\" fill-rule=\"evenodd\" fill-opacity=\"1\" /><path clip-path=\"url(#clip840)\" d=\"M2241.26 1451.02 L2263.48 1451.02 L2263.48 1453.01 L2250.93 1485.58 L2246.05 1485.58 L2257.86 1454.96 L2241.26 1454.96 L2241.26 1451.02 Z\" fill=\"#000000\" fill-rule=\"evenodd\" fill-opacity=\"1\" /><path clip-path=\"url(#clip840)\" d=\"M1244.98 1532.4 L1232.09 1549.74 L1245.64 1568.04 L1238.74 1568.04 L1228.36 1554.04 L1217.99 1568.04 L1211.08 1568.04 L1224.92 1549.39 L1212.26 1532.4 L1219.16 1532.4 L1228.62 1545.1 L1238.07 1532.4 L1244.98 1532.4 Z\" fill=\"#000000\" fill-rule=\"evenodd\" fill-opacity=\"1\" /><path clip-path=\"url(#clip840)\" d=\"M1281.01 1578.87 L1281.01 1583.42 L1247.14 1583.42 L1247.14 1578.87 L1281.01 1578.87 Z\" fill=\"#000000\" fill-rule=\"evenodd\" fill-opacity=\"1\" /><path clip-path=\"url(#clip840)\" d=\"M1288.45 1562.63 L1298.96 1562.63 L1298.96 1526.38 L1287.53 1528.67 L1287.53 1522.82 L1298.89 1520.52 L1305.32 1520.52 L1305.32 1562.63 L1315.83 1562.63 L1315.83 1568.04 L1288.45 1568.04 L1288.45 1562.63 Z\" fill=\"#000000\" fill-rule=\"evenodd\" fill-opacity=\"1\" /><polyline clip-path=\"url(#clip842)\" style=\"stroke:#000000; stroke-linecap:butt; stroke-linejoin:round; stroke-width:2; stroke-opacity:0.1; fill:none\" points=\"\n",
       "  174.149,1384.24 2352.76,1384.24 \n",
       "  \"/>\n",
       "<polyline clip-path=\"url(#clip842)\" style=\"stroke:#000000; stroke-linecap:butt; stroke-linejoin:round; stroke-width:2; stroke-opacity:0.1; fill:none\" points=\"\n",
       "  174.149,954.886 2352.76,954.886 \n",
       "  \"/>\n",
       "<polyline clip-path=\"url(#clip842)\" style=\"stroke:#000000; stroke-linecap:butt; stroke-linejoin:round; stroke-width:2; stroke-opacity:0.1; fill:none\" points=\"\n",
       "  174.149,525.535 2352.76,525.535 \n",
       "  \"/>\n",
       "<polyline clip-path=\"url(#clip842)\" style=\"stroke:#000000; stroke-linecap:butt; stroke-linejoin:round; stroke-width:2; stroke-opacity:0.1; fill:none\" points=\"\n",
       "  174.149,96.1829 2352.76,96.1829 \n",
       "  \"/>\n",
       "<polyline clip-path=\"url(#clip840)\" style=\"stroke:#000000; stroke-linecap:butt; stroke-linejoin:round; stroke-width:4; stroke-opacity:1; fill:none\" points=\"\n",
       "  174.149,1423.18 174.149,47.2441 \n",
       "  \"/>\n",
       "<polyline clip-path=\"url(#clip840)\" style=\"stroke:#000000; stroke-linecap:butt; stroke-linejoin:round; stroke-width:4; stroke-opacity:1; fill:none\" points=\"\n",
       "  174.149,1384.24 193.047,1384.24 \n",
       "  \"/>\n",
       "<polyline clip-path=\"url(#clip840)\" style=\"stroke:#000000; stroke-linecap:butt; stroke-linejoin:round; stroke-width:4; stroke-opacity:1; fill:none\" points=\"\n",
       "  174.149,954.886 193.047,954.886 \n",
       "  \"/>\n",
       "<polyline clip-path=\"url(#clip840)\" style=\"stroke:#000000; stroke-linecap:butt; stroke-linejoin:round; stroke-width:4; stroke-opacity:1; fill:none\" points=\"\n",
       "  174.149,525.535 193.047,525.535 \n",
       "  \"/>\n",
       "<polyline clip-path=\"url(#clip840)\" style=\"stroke:#000000; stroke-linecap:butt; stroke-linejoin:round; stroke-width:4; stroke-opacity:1; fill:none\" points=\"\n",
       "  174.149,96.1829 193.047,96.1829 \n",
       "  \"/>\n",
       "<path clip-path=\"url(#clip840)\" d=\"M126.205 1370.04 Q122.593 1370.04 120.765 1373.6 Q118.959 1377.14 118.959 1384.27 Q118.959 1391.38 120.765 1394.94 Q122.593 1398.49 126.205 1398.49 Q129.839 1398.49 131.644 1394.94 Q133.473 1391.38 133.473 1384.27 Q133.473 1377.14 131.644 1373.6 Q129.839 1370.04 126.205 1370.04 M126.205 1366.33 Q132.015 1366.33 135.07 1370.94 Q138.149 1375.52 138.149 1384.27 Q138.149 1393 135.07 1397.61 Q132.015 1402.19 126.205 1402.19 Q120.394 1402.19 117.316 1397.61 Q114.26 1393 114.26 1384.27 Q114.26 1375.52 117.316 1370.94 Q120.394 1366.33 126.205 1366.33 Z\" fill=\"#000000\" fill-rule=\"evenodd\" fill-opacity=\"1\" /><path clip-path=\"url(#clip840)\" d=\"M118.242 968.231 L125.88 968.231 L125.88 941.866 L117.57 943.532 L117.57 939.273 L125.834 937.606 L130.51 937.606 L130.51 968.231 L138.149 968.231 L138.149 972.166 L118.242 972.166 L118.242 968.231 Z\" fill=\"#000000\" fill-rule=\"evenodd\" fill-opacity=\"1\" /><path clip-path=\"url(#clip840)\" d=\"M121.83 538.879 L138.149 538.879 L138.149 542.815 L116.205 542.815 L116.205 538.879 Q118.867 536.125 123.45 531.495 Q128.056 526.843 129.237 525.5 Q131.482 522.977 132.362 521.241 Q133.265 519.481 133.265 517.792 Q133.265 515.037 131.32 513.301 Q129.399 511.565 126.297 511.565 Q124.098 511.565 121.644 512.329 Q119.214 513.093 116.436 514.644 L116.436 509.921 Q119.26 508.787 121.714 508.208 Q124.168 507.63 126.205 507.63 Q131.575 507.63 134.769 510.315 Q137.964 513 137.964 517.491 Q137.964 519.62 137.154 521.542 Q136.367 523.44 134.26 526.032 Q133.681 526.704 130.58 529.921 Q127.478 533.116 121.83 538.879 Z\" fill=\"#000000\" fill-rule=\"evenodd\" fill-opacity=\"1\" /><path clip-path=\"url(#clip840)\" d=\"M131.019 94.8287 Q134.376 95.5463 136.251 97.8148 Q138.149 100.083 138.149 103.417 Q138.149 108.532 134.63 111.333 Q131.112 114.134 124.63 114.134 Q122.455 114.134 120.14 113.694 Q117.848 113.278 115.394 112.421 L115.394 107.907 Q117.339 109.042 119.654 109.62 Q121.968 110.199 124.492 110.199 Q128.89 110.199 131.181 108.463 Q133.496 106.727 133.496 103.417 Q133.496 100.361 131.343 98.6481 Q129.214 96.912 125.394 96.912 L121.367 96.912 L121.367 93.0694 L125.58 93.0694 Q129.029 93.0694 130.857 91.7037 Q132.686 90.3148 132.686 87.7223 Q132.686 85.0602 130.788 83.6482 Q128.913 82.213 125.394 82.213 Q123.473 82.213 121.274 82.6297 Q119.075 83.0464 116.436 83.926 L116.436 79.7593 Q119.098 79.0186 121.413 78.6482 Q123.751 78.2779 125.811 78.2779 Q131.135 78.2779 134.237 80.7084 Q137.339 83.1158 137.339 87.2361 Q137.339 90.1065 135.695 92.0972 Q134.052 94.0648 131.019 94.8287 Z\" fill=\"#000000\" fill-rule=\"evenodd\" fill-opacity=\"1\" /><path clip-path=\"url(#clip840)\" d=\"M28.3562 753.434 L45.7028 766.324 L64.0042 752.765 L64.0042 759.672 L49.9996 770.048 L64.0042 780.424 L64.0042 787.331 L45.3526 773.486 L28.3562 786.154 L28.3562 779.247 L41.0558 769.794 L28.3562 760.341 L28.3562 753.434 Z\" fill=\"#000000\" fill-rule=\"evenodd\" fill-opacity=\"1\" /><path clip-path=\"url(#clip840)\" d=\"M74.8259 717.404 L79.3773 717.404 L79.3773 751.269 L74.8259 751.269 L74.8259 717.404 Z\" fill=\"#000000\" fill-rule=\"evenodd\" fill-opacity=\"1\" /><path clip-path=\"url(#clip840)\" d=\"M58.5933 705.532 L58.5933 683.093 L64.0042 683.093 L64.0042 713.266 L58.5933 713.266 Q54.8057 709.606 48.44 703.304 Q42.0425 696.97 40.1964 695.347 Q36.7271 692.259 34.34 691.05 Q31.921 689.809 29.5975 689.809 Q25.8099 689.809 23.4228 692.482 Q21.0356 695.124 21.0356 699.389 Q21.0356 702.413 22.086 705.786 Q23.1363 709.128 25.2688 712.948 L18.7758 712.948 Q17.2162 709.065 16.4205 705.691 Q15.6248 702.317 15.6248 699.516 Q15.6248 692.132 19.3169 687.74 Q23.009 683.347 29.1837 683.347 Q32.112 683.347 34.7537 684.461 Q37.3637 685.544 40.9285 688.44 Q41.8515 689.236 46.2757 693.501 Q50.668 697.766 58.5933 705.532 Z\" fill=\"#000000\" fill-rule=\"evenodd\" fill-opacity=\"1\" /><circle clip-path=\"url(#clip842)\" cx=\"235.808\" cy=\"954.886\" r=\"14\" fill=\"#009af9\" fill-rule=\"evenodd\" fill-opacity=\"1\" stroke=\"#000000\" stroke-opacity=\"1\" stroke-width=\"3.2\"/>\n",
       "<circle clip-path=\"url(#clip842)\" cx=\"1244.09\" cy=\"96.1829\" r=\"14\" fill=\"#009af9\" fill-rule=\"evenodd\" fill-opacity=\"1\" stroke=\"#000000\" stroke-opacity=\"1\" stroke-width=\"3.2\"/>\n",
       "<circle clip-path=\"url(#clip842)\" cx=\"1916.28\" cy=\"1384.24\" r=\"14\" fill=\"#009af9\" fill-rule=\"evenodd\" fill-opacity=\"1\" stroke=\"#000000\" stroke-opacity=\"1\" stroke-width=\"3.2\"/>\n",
       "<circle clip-path=\"url(#clip842)\" cx=\"235.808\" cy=\"954.886\" r=\"14\" fill=\"#009af9\" fill-rule=\"evenodd\" fill-opacity=\"1\" stroke=\"#000000\" stroke-opacity=\"1\" stroke-width=\"3.2\"/>\n",
       "<polyline clip-path=\"url(#clip842)\" style=\"stroke:#e26f46; stroke-linecap:butt; stroke-linejoin:round; stroke-width:4; stroke-opacity:1; fill:none\" points=\"\n",
       "  235.808,954.886 239.057,946.182 245.537,929.532 255.229,905.692 268.116,875.421 284.179,839.477 303.4,798.616 325.761,753.598 351.242,705.178 379.827,654.116 \n",
       "  411.496,601.169 446.231,547.094 484.014,492.65 524.826,438.595 568.649,385.686 615.464,334.682 665.252,286.34 717.996,241.419 773.676,200.677 832.275,164.871 \n",
       "  893.772,134.761 958.15,111.104 1025.39,94.6598 1095.47,86.1857 1168.38,86.4405 1244.09,96.1829 1322.59,116.171 1403.05,145.527 1484.67,183.37 1566.62,228.821 \n",
       "  1648.09,281.002 1728.25,339.032 1806.3,402.034 1881.42,469.128 1952.77,539.435 2019.56,612.075 2080.96,686.172 2136.15,760.845 2184.31,835.215 2224.63,908.405 \n",
       "  2256.29,979.534 2278.46,1047.73 2290.34,1112.1 2291.1,1171.78 2279.92,1225.88 2255.98,1273.53 2218.47,1313.85 2166.56,1345.96 2099.44,1368.98 2016.28,1382.03 \n",
       "  1916.28,1384.24 1798.59,1374.72 1665.01,1354.65 1517.28,1325.2 1357.19,1287.54 1186.49,1242.84 1006.96,1192.29 820.354,1137.04 628.45,1078.28 433.012,1017.17 \n",
       "  235.808,954.886 \n",
       "  \"/>\n",
       "<path clip-path=\"url(#clip840)\" d=\"\n",
       "M1795.41 248.629 L2280.14 248.629 L2280.14 93.1086 L1795.41 93.1086  Z\n",
       "  \" fill=\"#ffffff\" fill-rule=\"evenodd\" fill-opacity=\"1\"/>\n",
       "<polyline clip-path=\"url(#clip840)\" style=\"stroke:#000000; stroke-linecap:butt; stroke-linejoin:round; stroke-width:4; stroke-opacity:1; fill:none\" points=\"\n",
       "  1795.41,248.629 2280.14,248.629 2280.14,93.1086 1795.41,93.1086 1795.41,248.629 \n",
       "  \"/>\n",
       "<circle clip-path=\"url(#clip840)\" cx=\"1892.23\" cy=\"144.949\" r=\"23\" fill=\"#009af9\" fill-rule=\"evenodd\" fill-opacity=\"1\" stroke=\"#000000\" stroke-opacity=\"1\" stroke-width=\"5.12\"/>\n",
       "<path clip-path=\"url(#clip840)\" d=\"M1989.06 127.669 L1993.78 127.669 L2001.05 156.881 L2008.3 127.669 L2013.55 127.669 L2020.82 156.881 L2028.07 127.669 L2032.81 127.669 L2024.13 162.229 L2018.25 162.229 L2010.96 132.229 L2003.6 162.229 L1997.72 162.229 L1989.06 127.669 Z\" fill=\"#000000\" fill-rule=\"evenodd\" fill-opacity=\"1\" /><path clip-path=\"url(#clip840)\" d=\"M2047.58 149.196 Q2042.42 149.196 2040.43 150.377 Q2038.44 151.557 2038.44 154.405 Q2038.44 156.673 2039.92 158.016 Q2041.42 159.335 2043.99 159.335 Q2047.53 159.335 2049.66 156.835 Q2051.82 154.312 2051.82 150.145 L2051.82 149.196 L2047.58 149.196 M2056.07 147.437 L2056.07 162.229 L2051.82 162.229 L2051.82 158.293 Q2050.36 160.655 2048.18 161.789 Q2046.01 162.9 2042.86 162.9 Q2038.88 162.9 2036.51 160.678 Q2034.18 158.432 2034.18 154.682 Q2034.18 150.307 2037.09 148.085 Q2040.03 145.863 2045.84 145.863 L2051.82 145.863 L2051.82 145.446 Q2051.82 142.507 2049.87 140.909 Q2047.95 139.289 2044.45 139.289 Q2042.23 139.289 2040.13 139.821 Q2038.02 140.354 2036.08 141.419 L2036.08 137.483 Q2038.41 136.581 2040.61 136.141 Q2042.81 135.678 2044.89 135.678 Q2050.52 135.678 2053.3 138.594 Q2056.07 141.511 2056.07 147.437 Z\" fill=\"#000000\" fill-rule=\"evenodd\" fill-opacity=\"1\" /><path clip-path=\"url(#clip840)\" d=\"M2075.64 164.636 Q2073.83 169.266 2072.12 170.678 Q2070.4 172.09 2067.53 172.09 L2064.13 172.09 L2064.13 168.525 L2066.63 168.525 Q2068.39 168.525 2069.36 167.692 Q2070.33 166.858 2071.51 163.756 L2072.28 161.812 L2061.79 136.303 L2066.31 136.303 L2074.41 156.581 L2082.51 136.303 L2087.02 136.303 L2075.64 164.636 Z\" fill=\"#000000\" fill-rule=\"evenodd\" fill-opacity=\"1\" /><path clip-path=\"url(#clip840)\" d=\"M2097.02 158.34 L2097.02 172.09 L2092.74 172.09 L2092.74 136.303 L2097.02 136.303 L2097.02 140.238 Q2098.37 137.923 2100.4 136.812 Q2102.46 135.678 2105.31 135.678 Q2110.03 135.678 2112.97 139.428 Q2115.94 143.178 2115.94 149.289 Q2115.94 155.4 2112.97 159.15 Q2110.03 162.9 2105.31 162.9 Q2102.46 162.9 2100.4 161.789 Q2098.37 160.655 2097.02 158.34 M2111.51 149.289 Q2111.51 144.59 2109.57 141.928 Q2107.65 139.243 2104.27 139.243 Q2100.89 139.243 2098.95 141.928 Q2097.02 144.59 2097.02 149.289 Q2097.02 153.988 2098.95 156.673 Q2100.89 159.335 2104.27 159.335 Q2107.65 159.335 2109.57 156.673 Q2111.51 153.988 2111.51 149.289 Z\" fill=\"#000000\" fill-rule=\"evenodd\" fill-opacity=\"1\" /><path clip-path=\"url(#clip840)\" d=\"M2133.04 139.289 Q2129.62 139.289 2127.63 141.974 Q2125.63 144.636 2125.63 149.289 Q2125.63 153.942 2127.6 156.627 Q2129.59 159.289 2133.04 159.289 Q2136.44 159.289 2138.44 156.604 Q2140.43 153.918 2140.43 149.289 Q2140.43 144.682 2138.44 141.997 Q2136.44 139.289 2133.04 139.289 M2133.04 135.678 Q2138.6 135.678 2141.77 139.289 Q2144.94 142.9 2144.94 149.289 Q2144.94 155.655 2141.77 159.289 Q2138.6 162.9 2133.04 162.9 Q2127.46 162.9 2124.29 159.289 Q2121.14 155.655 2121.14 149.289 Q2121.14 142.9 2124.29 139.289 Q2127.46 135.678 2133.04 135.678 Z\" fill=\"#000000\" fill-rule=\"evenodd\" fill-opacity=\"1\" /><path clip-path=\"url(#clip840)\" d=\"M2152 136.303 L2156.26 136.303 L2156.26 162.229 L2152 162.229 L2152 136.303 M2152 126.21 L2156.26 126.21 L2156.26 131.604 L2152 131.604 L2152 126.21 Z\" fill=\"#000000\" fill-rule=\"evenodd\" fill-opacity=\"1\" /><path clip-path=\"url(#clip840)\" d=\"M2186.72 146.581 L2186.72 162.229 L2182.46 162.229 L2182.46 146.719 Q2182.46 143.039 2181.03 141.21 Q2179.59 139.382 2176.72 139.382 Q2173.27 139.382 2171.28 141.581 Q2169.29 143.78 2169.29 147.576 L2169.29 162.229 L2165.01 162.229 L2165.01 136.303 L2169.29 136.303 L2169.29 140.331 Q2170.82 137.993 2172.88 136.835 Q2174.96 135.678 2177.67 135.678 Q2182.14 135.678 2184.43 138.456 Q2186.72 141.21 2186.72 146.581 Z\" fill=\"#000000\" fill-rule=\"evenodd\" fill-opacity=\"1\" /><path clip-path=\"url(#clip840)\" d=\"M2199.43 128.942 L2199.43 136.303 L2208.2 136.303 L2208.2 139.613 L2199.43 139.613 L2199.43 153.687 Q2199.43 156.858 2200.29 157.761 Q2201.17 158.664 2203.83 158.664 L2208.2 158.664 L2208.2 162.229 L2203.83 162.229 Q2198.9 162.229 2197.02 160.4 Q2195.15 158.548 2195.15 153.687 L2195.15 139.613 L2192.02 139.613 L2192.02 136.303 L2195.15 136.303 L2195.15 128.942 L2199.43 128.942 Z\" fill=\"#000000\" fill-rule=\"evenodd\" fill-opacity=\"1\" /><path clip-path=\"url(#clip840)\" d=\"M2230.33 137.067 L2230.33 141.094 Q2228.53 140.169 2226.58 139.706 Q2224.64 139.243 2222.56 139.243 Q2219.38 139.243 2217.79 140.215 Q2216.21 141.187 2216.21 143.131 Q2216.21 144.613 2217.35 145.469 Q2218.48 146.303 2221.91 147.067 L2223.37 147.391 Q2227.9 148.363 2229.8 150.145 Q2231.72 151.905 2231.72 155.076 Q2231.72 158.687 2228.85 160.793 Q2226 162.9 2221 162.9 Q2218.92 162.9 2216.65 162.483 Q2214.41 162.09 2211.91 161.28 L2211.91 156.881 Q2214.27 158.108 2216.56 158.733 Q2218.85 159.335 2221.1 159.335 Q2224.11 159.335 2225.73 158.317 Q2227.35 157.275 2227.35 155.4 Q2227.35 153.664 2226.17 152.738 Q2225.01 151.812 2221.05 150.956 L2219.57 150.608 Q2215.61 149.775 2213.85 148.062 Q2212.09 146.326 2212.09 143.317 Q2212.09 139.659 2214.69 137.669 Q2217.28 135.678 2222.05 135.678 Q2224.41 135.678 2226.49 136.025 Q2228.57 136.372 2230.33 137.067 Z\" fill=\"#000000\" fill-rule=\"evenodd\" fill-opacity=\"1\" /><polyline clip-path=\"url(#clip840)\" style=\"stroke:#e26f46; stroke-linecap:butt; stroke-linejoin:round; stroke-width:4; stroke-opacity:1; fill:none\" points=\"\n",
       "  1819.61,196.789 1964.85,196.789 \n",
       "  \"/>\n",
       "<path clip-path=\"url(#clip840)\" d=\"M1989.06 179.509 L2018.3 179.509 L2018.3 183.444 L2006.03 183.444 L2006.03 214.069 L2001.33 214.069 L2001.33 183.444 L1989.06 183.444 L1989.06 179.509 Z\" fill=\"#000000\" fill-rule=\"evenodd\" fill-opacity=\"1\" /><path clip-path=\"url(#clip840)\" d=\"M2030.68 192.124 Q2029.96 191.708 2029.11 191.522 Q2028.27 191.314 2027.26 191.314 Q2023.64 191.314 2021.7 193.675 Q2019.78 196.013 2019.78 200.411 L2019.78 214.069 L2015.5 214.069 L2015.5 188.143 L2019.78 188.143 L2019.78 192.171 Q2021.12 189.809 2023.27 188.675 Q2025.43 187.518 2028.51 187.518 Q2028.95 187.518 2029.48 187.587 Q2030.01 187.634 2030.66 187.749 L2030.68 192.124 Z\" fill=\"#000000\" fill-rule=\"evenodd\" fill-opacity=\"1\" /><path clip-path=\"url(#clip840)\" d=\"M2046.93 201.036 Q2041.77 201.036 2039.78 202.217 Q2037.79 203.397 2037.79 206.245 Q2037.79 208.513 2039.27 209.856 Q2040.77 211.175 2043.34 211.175 Q2046.89 211.175 2049.01 208.675 Q2051.17 206.152 2051.17 201.985 L2051.17 201.036 L2046.93 201.036 M2055.43 199.277 L2055.43 214.069 L2051.17 214.069 L2051.17 210.133 Q2049.71 212.495 2047.53 213.629 Q2045.36 214.74 2042.21 214.74 Q2038.23 214.74 2035.87 212.518 Q2033.53 210.272 2033.53 206.522 Q2033.53 202.147 2036.45 199.925 Q2039.39 197.703 2045.2 197.703 L2051.17 197.703 L2051.17 197.286 Q2051.17 194.347 2049.22 192.749 Q2047.3 191.129 2043.81 191.129 Q2041.58 191.129 2039.48 191.661 Q2037.37 192.194 2035.43 193.259 L2035.43 189.323 Q2037.76 188.421 2039.96 187.981 Q2042.16 187.518 2044.25 187.518 Q2049.87 187.518 2052.65 190.434 Q2055.43 193.351 2055.43 199.277 Z\" fill=\"#000000\" fill-rule=\"evenodd\" fill-opacity=\"1\" /><path clip-path=\"url(#clip840)\" d=\"M2064.2 188.143 L2068.46 188.143 L2068.46 214.532 Q2068.46 219.485 2066.56 221.707 Q2064.69 223.93 2060.5 223.93 L2058.88 223.93 L2058.88 220.319 L2060.01 220.319 Q2062.44 220.319 2063.32 219.184 Q2064.2 218.073 2064.2 214.532 L2064.2 188.143 M2064.2 178.05 L2068.46 178.05 L2068.46 183.444 L2064.2 183.444 L2064.2 178.05 Z\" fill=\"#000000\" fill-rule=\"evenodd\" fill-opacity=\"1\" /><path clip-path=\"url(#clip840)\" d=\"M2099.55 200.041 L2099.55 202.124 L2079.96 202.124 Q2080.24 206.522 2082.6 208.837 Q2084.99 211.129 2089.22 211.129 Q2091.68 211.129 2093.97 210.527 Q2096.28 209.925 2098.55 208.721 L2098.55 212.749 Q2096.26 213.721 2093.85 214.231 Q2091.45 214.74 2088.97 214.74 Q2082.76 214.74 2079.13 211.129 Q2075.52 207.518 2075.52 201.36 Q2075.52 194.995 2078.95 191.268 Q2082.39 187.518 2088.23 187.518 Q2093.46 187.518 2096.49 190.897 Q2099.55 194.254 2099.55 200.041 M2095.29 198.791 Q2095.24 195.296 2093.32 193.212 Q2091.42 191.129 2088.27 191.129 Q2084.71 191.129 2082.56 193.143 Q2080.43 195.157 2080.1 198.814 L2095.29 198.791 Z\" fill=\"#000000\" fill-rule=\"evenodd\" fill-opacity=\"1\" /><path clip-path=\"url(#clip840)\" d=\"M2125.19 189.138 L2125.19 193.12 Q2123.39 192.124 2121.56 191.638 Q2119.76 191.129 2117.9 191.129 Q2113.76 191.129 2111.47 193.768 Q2109.18 196.384 2109.18 201.129 Q2109.18 205.874 2111.47 208.513 Q2113.76 211.129 2117.9 211.129 Q2119.76 211.129 2121.56 210.643 Q2123.39 210.133 2125.19 209.138 L2125.19 213.073 Q2123.41 213.907 2121.49 214.323 Q2119.59 214.74 2117.44 214.74 Q2111.58 214.74 2108.13 211.059 Q2104.69 207.379 2104.69 201.129 Q2104.69 194.786 2108.16 191.152 Q2111.65 187.518 2117.72 187.518 Q2119.69 187.518 2121.56 187.935 Q2123.44 188.328 2125.19 189.138 Z\" fill=\"#000000\" fill-rule=\"evenodd\" fill-opacity=\"1\" /><path clip-path=\"url(#clip840)\" d=\"M2136.82 180.782 L2136.82 188.143 L2145.59 188.143 L2145.59 191.453 L2136.82 191.453 L2136.82 205.527 Q2136.82 208.698 2137.67 209.601 Q2138.55 210.504 2141.21 210.504 L2145.59 210.504 L2145.59 214.069 L2141.21 214.069 Q2136.28 214.069 2134.41 212.24 Q2132.53 210.388 2132.53 205.527 L2132.53 191.453 L2129.41 191.453 L2129.41 188.143 L2132.53 188.143 L2132.53 180.782 L2136.82 180.782 Z\" fill=\"#000000\" fill-rule=\"evenodd\" fill-opacity=\"1\" /><path clip-path=\"url(#clip840)\" d=\"M2161.24 191.129 Q2157.81 191.129 2155.82 193.814 Q2153.83 196.476 2153.83 201.129 Q2153.83 205.782 2155.8 208.467 Q2157.79 211.129 2161.24 211.129 Q2164.64 211.129 2166.63 208.444 Q2168.62 205.758 2168.62 201.129 Q2168.62 196.522 2166.63 193.837 Q2164.64 191.129 2161.24 191.129 M2161.24 187.518 Q2166.79 187.518 2169.96 191.129 Q2173.13 194.74 2173.13 201.129 Q2173.13 207.495 2169.96 211.129 Q2166.79 214.74 2161.24 214.74 Q2155.66 214.74 2152.49 211.129 Q2149.34 207.495 2149.34 201.129 Q2149.34 194.74 2152.49 191.129 Q2155.66 187.518 2161.24 187.518 Z\" fill=\"#000000\" fill-rule=\"evenodd\" fill-opacity=\"1\" /><path clip-path=\"url(#clip840)\" d=\"M2195.22 192.124 Q2194.5 191.708 2193.64 191.522 Q2192.81 191.314 2191.79 191.314 Q2188.18 191.314 2186.24 193.675 Q2184.32 196.013 2184.32 200.411 L2184.32 214.069 L2180.03 214.069 L2180.03 188.143 L2184.32 188.143 L2184.32 192.171 Q2185.66 189.809 2187.81 188.675 Q2189.96 187.518 2193.04 187.518 Q2193.48 187.518 2194.01 187.587 Q2194.55 187.634 2195.19 187.749 L2195.22 192.124 Z\" fill=\"#000000\" fill-rule=\"evenodd\" fill-opacity=\"1\" /><path clip-path=\"url(#clip840)\" d=\"M2210.47 216.476 Q2208.67 221.106 2206.95 222.518 Q2205.24 223.93 2202.37 223.93 L2198.97 223.93 L2198.97 220.365 L2201.47 220.365 Q2203.23 220.365 2204.2 219.532 Q2205.17 218.698 2206.35 215.596 L2207.12 213.652 L2196.63 188.143 L2201.14 188.143 L2209.25 208.421 L2217.35 188.143 L2221.86 188.143 L2210.47 216.476 Z\" fill=\"#000000\" fill-rule=\"evenodd\" fill-opacity=\"1\" /></svg>\n"
      ]
     },
     "metadata": {},
     "output_type": "display_data"
    }
   ],
   "source": [
    "using Plots\n",
    "\n",
    "# Plot the path\n",
    "scatter(xw[1,:].data, xw[2,:].data, label = \"Waypoints\")\n",
    "plot!(x_opt[1, :].data, x_opt[2, :].data, label = \"Trajectory\")\n",
    "xlabel!(\"x_1\")\n",
    "ylabel!(\"x_2\")"
   ]
  },
  {
   "cell_type": "markdown",
   "metadata": {},
   "source": [
    "This works for this simple case, but we can start to think about some limitations:\n",
    "- What if we want to implement a non-uniform grid?\n",
    "- What about implementing (and switching between) derivative approximations (e.g., orthogonal collocation)?\n",
    "- What about higher fidelity integral approximations?\n",
    "- What about managing differing grid point between varied integral/derivative approximation schemes?\n",
    "- What if we want to solve our model without discretization?\n",
    "- What if we want to add uncertainty and/or PDE constraints?\n",
    "\n",
    "We could resolve the majority of the above points by manually deriving a finite formulation for `JuMP.jl` each time, but this is cumbersome and prone to error. Hence, it is common to define the model once in discrete time and call it good.\n",
    "\n",
    "However, characterizing models in discretized forms makes it likely for us to miss the insights we can gain from the infinite-dimensional form of the problem."
   ]
  },
  {
   "cell_type": "markdown",
   "metadata": {},
   "source": [
    "### Modeling in `InfiniteOpt.jl`\n",
    "`InfiniteOpt.jl` is built upon our unifying abstraction for infinite-dimensional optimization. Moreover, it leverages `JuMP`'s architecture to have an intuitive interface.\n",
    "\n",
    "Let's model the hovercraft optimal control problem in its native infinite-dimensional form using `InfiniteOpt.jl`:"
   ]
  },
  {
   "cell_type": "code",
   "execution_count": 5,
   "metadata": {},
   "outputs": [
    {
     "name": "stdout",
     "output_type": "stream",
     "text": [
      "0, 249.000044, 116, 0.000000, 0.000000, 0, 0.000000, 0.000000\n",
      "496, 0.043758, 116, 0.024121, 0.000000, 0, 0.000000, 0.071913\n",
      "Model   status      : Optimal\n",
      "QP ASM    iterations: 496\n",
      "Objective value     :  4.3685296066e-02\n",
      "HiGHS run time      :          0.02\n"
     ]
    },
    {
     "data": {
      "text/plain": [
       "1-dimensional DenseAxisArray{Vector{Float64},1,...} with index sets:\n",
       "    Dimension 1, 1:2\n",
       "And data, a 2-element Vector{Vector{Float64}}:\n",
       " [1.0, 1.0096738980281634, 1.0289666539247435, 1.0578231780081901, 1.0961883301050024, 1.144006918101388, 1.2012236960194884, 1.2677833616209226, 1.3436305535404203, 1.428709847952302  …  5.650238034895405, 5.253196766570277, 4.814130286582207, 4.338292419626459, 3.8309367460146624, 3.297316625992073, 2.7426852256306833, 2.172295544035541, 1.5914004416016192, 1.0]\n",
       " [1.0, 1.0202691735547387, 1.0590434927421362, 1.1145588804771736, 1.1850512083967695, 1.2687562939075985, 1.3639098964850567, 1.468747713311583, 1.5815053743425487, 1.7004184368879331  …  0.021971808732314156, 0.0684977913482211, 0.13684975714656547, 0.22429951418390093, 0.3281188655840728, 0.44557960489291154, 0.573953510614444, 0.7105123400650357, 0.8525278226818718, 1.0]"
      ]
     },
     "metadata": {},
     "output_type": "display_data"
    }
   ],
   "source": [
    "using InfiniteOpt, HiGHS\n",
    "\n",
    "# Set the parameters\n",
    "v0 = zeros(2)\n",
    "I = 1:2\n",
    "p = [1 4 6 1; 1 3 0 1]\n",
    "Dtw = [0, 25, 50, 60]\n",
    "xw = JuMP.Containers.DenseAxisArray(p, I, Dtw)\n",
    "\n",
    "# Create the model\n",
    "model = InfiniteModel(HiGHS.Optimizer)\n",
    "\n",
    "# Decalare t as an infinite parameter\n",
    "@infinite_parameter(model, t ∈ [0, 60], num_supports = 61)\n",
    "\n",
    "# Add the infinite variables\n",
    "@variable(model, x[I], Infinite(t))\n",
    "@variable(model, v[I], Infinite(t))\n",
    "@variable(model, u[I], Infinite(t))\n",
    "\n",
    "# Set the objective\n",
    "@objective(model, Min, ∫(u[1]^2 + u[2]^2, t))\n",
    "\n",
    "# Add the constraints\n",
    "@constraint(model, ∂.(x, t) .== v)\n",
    "@constraint(model, ∂.(v, t) .== u)\n",
    "@constraint(model, [i ∈ I], v[i](0) == v0[i])\n",
    "@constraint(model, [i ∈ I, tw ∈ Dtw], x[i](tw) == xw[i, tw])\n",
    "\n",
    "# Optimize the model\n",
    "optimize!(model)\n",
    "\n",
    "# Get the results\n",
    "if has_values(model)\n",
    "    x_opt = value.(x)\n",
    "end\n"
   ]
  },
  {
   "cell_type": "code",
   "execution_count": 6,
   "metadata": {},
   "outputs": [
    {
     "data": {
      "image/png": "[encoded data removed]",
      "image/svg+xml": "<?xml version=\"1.0\" encoding=\"utf-8\"?>\n<svg xmlns=\"http://www.w3.org/2000/svg\" xmlns:xlink=\"http://www.w3.org/1999/xlink\" width=\"600\" height=\"400\" viewBox=\"0 0 2400 1600\">\n<defs>\n  <clipPath id=\"clip880\">\n    <rect x=\"0\" y=\"0\" width=\"2400\" height=\"1600\"/>\n  </clipPath>\n</defs>\n<path clip-path=\"url(#clip880)\" d=\"\nM0 1600 L2400 1600 L2400 0 L0 0  Z\n  \" fill=\"#ffffff\" fill-rule=\"evenodd\" fill-opacity=\"1\"/>\n<defs>\n  <clipPath id=\"clip881\">\n    <rect x=\"480\" y=\"0\" width=\"1681\" height=\"1600\"/>\n  </clipPath>\n</defs>\n<path clip-path=\"url(#clip880)\" d=\"\nM174.149 1423.18 L2352.76 1423.18 L2352.76 47.2441 L174.149 47.2441  Z\n  \" fill=\"#ffffff\" fill-rule=\"evenodd\" fill-opacity=\"1\"/>\n<defs>\n  <clipPath id=\"clip882\">\n    <rect x=\"174\" y=\"47\" width=\"2180\" height=\"1377\"/>\n  </clipPath>\n</defs>\n<polyline clip-path=\"url(#clip882)\" style=\"stroke:#000000; stroke-linecap:butt; stroke-linejoin:round; stroke-width:2; stroke-opacity:0.1; fill:none\" points=\"\n  235.808,1423.18 235.808,47.2441 \n  \"/>\n<polyline clip-path=\"url(#clip882)\" style=\"stroke:#000000; stroke-linecap:butt; stroke-linejoin:round; stroke-width:2; stroke-opacity:0.1; fill:none\" points=\"\n  571.98,1423.18 571.98,47.2441 \n  \"/>\n<polyline clip-path=\"url(#clip882)\" style=\"stroke:#000000; stroke-linecap:butt; stroke-linejoin:round; stroke-width:2; stroke-opacity:0.1; fill:none\" points=\"\n  908.152,1423.18 908.152,47.2441 \n  \"/>\n<polyline clip-path=\"url(#clip882)\" style=\"stroke:#000000; stroke-linecap:butt; stroke-linejoin:round; stroke-width:2; stroke-opacity:0.1; fill:none\" points=\"\n  1244.32,1423.18 1244.32,47.2441 \n  \"/>\n<polyline clip-path=\"url(#clip882)\" style=\"stroke:#000000; stroke-linecap:butt; stroke-linejoin:round; stroke-width:2; stroke-opacity:0.1; fill:none\" points=\"\n  1580.5,1423.18 1580.5,47.2441 \n  \"/>\n<polyline clip-path=\"url(#clip882)\" style=\"stroke:#000000; stroke-linecap:butt; stroke-linejoin:round; stroke-width:2; stroke-opacity:0.1; fill:none\" points=\"\n  1916.67,1423.18 1916.67,47.2441 \n  \"/>\n<polyline clip-path=\"url(#clip882)\" style=\"stroke:#000000; stroke-linecap:butt; stroke-linejoin:round; stroke-width:2; stroke-opacity:0.1; fill:none\" points=\"\n  2252.84,1423.18 2252.84,47.2441 \n  \"/>\n<polyline clip-path=\"url(#clip880)\" style=\"stroke:#000000; stroke-linecap:butt; stroke-linejoin:round; stroke-width:4; stroke-opacity:1; fill:none\" points=\"\n  174.149,1423.18 2352.76,1423.18 \n  \"/>\n<polyline clip-path=\"url(#clip880)\" style=\"stroke:#000000; stroke-linecap:butt; stroke-linejoin:round; stroke-width:4; stroke-opacity:1; fill:none\" points=\"\n  235.808,1423.18 235.808,1404.28 \n  \"/>\n<polyline clip-path=\"url(#clip880)\" style=\"stroke:#000000; stroke-linecap:butt; stroke-linejoin:round; stroke-width:4; stroke-opacity:1; fill:none\" points=\"\n  571.98,1423.18 571.98,1404.28 \n  \"/>\n<polyline clip-path=\"url(#clip880)\" style=\"stroke:#000000; stroke-linecap:butt; stroke-linejoin:round; stroke-width:4; stroke-opacity:1; fill:none\" points=\"\n  908.152,1423.18 908.152,1404.28 \n  \"/>\n<polyline clip-path=\"url(#clip880)\" style=\"stroke:#000000; stroke-linecap:butt; stroke-linejoin:round; stroke-width:4; stroke-opacity:1; fill:none\" points=\"\n  1244.32,1423.18 1244.32,1404.28 \n  \"/>\n<polyline clip-path=\"url(#clip880)\" style=\"stroke:#000000; stroke-linecap:butt; stroke-linejoin:round; stroke-width:4; stroke-opacity:1; fill:none\" points=\"\n  1580.5,1423.18 1580.5,1404.28 \n  \"/>\n<polyline clip-path=\"url(#clip880)\" style=\"stroke:#000000; stroke-linecap:butt; stroke-linejoin:round; stroke-width:4; stroke-opacity:1; fill:none\" points=\"\n  1916.67,1423.18 1916.67,1404.28 \n  \"/>\n<polyline clip-path=\"url(#clip880)\" style=\"stroke:#000000; stroke-linecap:butt; stroke-linejoin:round; stroke-width:4; stroke-opacity:1; fill:none\" points=\"\n  2252.84,1423.18 2252.84,1404.28 \n  \"/>\n<path clip-path=\"url(#clip880)\" d=\"M226.19 1481.64 L233.828 1481.64 L233.828 1455.28 L225.518 1456.95 L225.518 1452.69 L233.782 1451.02 L238.458 1451.02 L238.458 1481.64 L246.097 1481.64 L246.097 1485.58 L226.19 1485.58 L226.19 1481.64 Z\" fill=\"#000000\" fill-rule=\"evenodd\" fill-opacity=\"1\" /><path clip-path=\"url(#clip880)\" d=\"M566.632 1481.64 L582.952 1481.64 L582.952 1485.58 L561.007 1485.58 L561.007 1481.64 Q563.669 1478.89 568.253 1474.26 Q572.859 1469.61 574.04 1468.27 Q576.285 1465.74 577.165 1464.01 Q578.068 1462.25 578.068 1460.56 Q578.068 1457.8 576.123 1456.07 Q574.202 1454.33 571.1 1454.33 Q568.901 1454.33 566.447 1455.09 Q564.017 1455.86 561.239 1457.41 L561.239 1452.69 Q564.063 1451.55 566.517 1450.97 Q568.97 1450.39 571.007 1450.39 Q576.378 1450.39 579.572 1453.08 Q582.767 1455.77 582.767 1460.26 Q582.767 1462.39 581.956 1464.31 Q581.169 1466.2 579.063 1468.8 Q578.484 1469.47 575.382 1472.69 Q572.281 1475.88 566.632 1481.64 Z\" fill=\"#000000\" fill-rule=\"evenodd\" fill-opacity=\"1\" /><path clip-path=\"url(#clip880)\" d=\"M912.399 1466.95 Q915.756 1467.66 917.631 1469.93 Q919.529 1472.2 919.529 1475.53 Q919.529 1480.65 916.01 1483.45 Q912.492 1486.25 906.01 1486.25 Q903.835 1486.25 901.52 1485.81 Q899.228 1485.39 896.774 1484.54 L896.774 1480.02 Q898.719 1481.16 901.034 1481.74 Q903.348 1482.32 905.872 1482.32 Q910.27 1482.32 912.561 1480.58 Q914.876 1478.84 914.876 1475.53 Q914.876 1472.48 912.723 1470.77 Q910.594 1469.03 906.774 1469.03 L902.747 1469.03 L902.747 1465.19 L906.96 1465.19 Q910.409 1465.19 912.237 1463.82 Q914.066 1462.43 914.066 1459.84 Q914.066 1457.18 912.168 1455.77 Q910.293 1454.33 906.774 1454.33 Q904.853 1454.33 902.654 1454.75 Q900.455 1455.16 897.816 1456.04 L897.816 1451.88 Q900.478 1451.14 902.793 1450.77 Q905.131 1450.39 907.191 1450.39 Q912.515 1450.39 915.617 1452.83 Q918.719 1455.23 918.719 1459.35 Q918.719 1462.22 917.075 1464.21 Q915.432 1466.18 912.399 1466.95 Z\" fill=\"#000000\" fill-rule=\"evenodd\" fill-opacity=\"1\" /><path clip-path=\"url(#clip880)\" d=\"M1247.33 1455.09 L1235.53 1473.54 L1247.33 1473.54 L1247.33 1455.09 M1246.11 1451.02 L1251.99 1451.02 L1251.99 1473.54 L1256.92 1473.54 L1256.92 1477.43 L1251.99 1477.43 L1251.99 1485.58 L1247.33 1485.58 L1247.33 1477.43 L1231.73 1477.43 L1231.73 1472.92 L1246.11 1451.02 Z\" fill=\"#000000\" fill-rule=\"evenodd\" fill-opacity=\"1\" /><path clip-path=\"url(#clip880)\" d=\"M1570.77 1451.02 L1589.13 1451.02 L1589.13 1454.96 L1575.06 1454.96 L1575.06 1463.43 Q1576.07 1463.08 1577.09 1462.92 Q1578.11 1462.73 1579.13 1462.73 Q1584.92 1462.73 1588.3 1465.9 Q1591.68 1469.08 1591.68 1474.49 Q1591.68 1480.07 1588.2 1483.17 Q1584.73 1486.25 1578.41 1486.25 Q1576.24 1486.25 1573.97 1485.88 Q1571.72 1485.51 1569.32 1484.77 L1569.32 1480.07 Q1571.4 1481.2 1573.62 1481.76 Q1575.84 1482.32 1578.32 1482.32 Q1582.32 1482.32 1584.66 1480.21 Q1587 1478.1 1587 1474.49 Q1587 1470.88 1584.66 1468.77 Q1582.32 1466.67 1578.32 1466.67 Q1576.44 1466.67 1574.57 1467.08 Q1572.72 1467.5 1570.77 1468.38 L1570.77 1451.02 Z\" fill=\"#000000\" fill-rule=\"evenodd\" fill-opacity=\"1\" /><path clip-path=\"url(#clip880)\" d=\"M1917.07 1466.44 Q1913.92 1466.44 1912.07 1468.59 Q1910.24 1470.74 1910.24 1474.49 Q1910.24 1478.22 1912.07 1480.39 Q1913.92 1482.55 1917.07 1482.55 Q1920.22 1482.55 1922.05 1480.39 Q1923.9 1478.22 1923.9 1474.49 Q1923.9 1470.74 1922.05 1468.59 Q1920.22 1466.44 1917.07 1466.44 M1926.36 1451.78 L1926.36 1456.04 Q1924.6 1455.21 1922.79 1454.77 Q1921.01 1454.33 1919.25 1454.33 Q1914.62 1454.33 1912.17 1457.45 Q1909.73 1460.58 1909.39 1466.9 Q1910.75 1464.89 1912.81 1463.82 Q1914.87 1462.73 1917.35 1462.73 Q1922.56 1462.73 1925.57 1465.9 Q1928.6 1469.05 1928.6 1474.49 Q1928.6 1479.82 1925.45 1483.03 Q1922.3 1486.25 1917.07 1486.25 Q1911.08 1486.25 1907.91 1481.67 Q1904.73 1477.06 1904.73 1468.33 Q1904.73 1460.14 1908.62 1455.28 Q1912.51 1450.39 1919.06 1450.39 Q1920.82 1450.39 1922.61 1450.74 Q1924.41 1451.09 1926.36 1451.78 Z\" fill=\"#000000\" fill-rule=\"evenodd\" fill-opacity=\"1\" /><path clip-path=\"url(#clip880)\" d=\"M2241.73 1451.02 L2263.95 1451.02 L2263.95 1453.01 L2251.4 1485.58 L2246.52 1485.58 L2258.33 1454.96 L2241.73 1454.96 L2241.73 1451.02 Z\" fill=\"#000000\" fill-rule=\"evenodd\" fill-opacity=\"1\" /><path clip-path=\"url(#clip880)\" d=\"M1244.98 1532.4 L1232.09 1549.74 L1245.64 1568.04 L1238.74 1568.04 L1228.36 1554.04 L1217.99 1568.04 L1211.08 1568.04 L1224.92 1549.39 L1212.26 1532.4 L1219.16 1532.4 L1228.62 1545.1 L1238.07 1532.4 L1244.98 1532.4 Z\" fill=\"#000000\" fill-rule=\"evenodd\" fill-opacity=\"1\" /><path clip-path=\"url(#clip880)\" d=\"M1281.01 1578.87 L1281.01 1583.42 L1247.14 1583.42 L1247.14 1578.87 L1281.01 1578.87 Z\" fill=\"#000000\" fill-rule=\"evenodd\" fill-opacity=\"1\" /><path clip-path=\"url(#clip880)\" d=\"M1288.45 1562.63 L1298.96 1562.63 L1298.96 1526.38 L1287.53 1528.67 L1287.53 1522.82 L1298.89 1520.52 L1305.32 1520.52 L1305.32 1562.63 L1315.83 1562.63 L1315.83 1568.04 L1288.45 1568.04 L1288.45 1562.63 Z\" fill=\"#000000\" fill-rule=\"evenodd\" fill-opacity=\"1\" /><polyline clip-path=\"url(#clip882)\" style=\"stroke:#000000; stroke-linecap:butt; stroke-linejoin:round; stroke-width:2; stroke-opacity:0.1; fill:none\" points=\"\n  174.149,1384.24 2352.76,1384.24 \n  \"/>\n<polyline clip-path=\"url(#clip882)\" style=\"stroke:#000000; stroke-linecap:butt; stroke-linejoin:round; stroke-width:2; stroke-opacity:0.1; fill:none\" points=\"\n  174.149,954.875 2352.76,954.875 \n  \"/>\n<polyline clip-path=\"url(#clip882)\" style=\"stroke:#000000; stroke-linecap:butt; stroke-linejoin:round; stroke-width:2; stroke-opacity:0.1; fill:none\" points=\"\n  174.149,525.512 2352.76,525.512 \n  \"/>\n<polyline clip-path=\"url(#clip882)\" style=\"stroke:#000000; stroke-linecap:butt; stroke-linejoin:round; stroke-width:2; stroke-opacity:0.1; fill:none\" points=\"\n  174.149,96.149 2352.76,96.149 \n  \"/>\n<polyline clip-path=\"url(#clip880)\" style=\"stroke:#000000; stroke-linecap:butt; stroke-linejoin:round; stroke-width:4; stroke-opacity:1; fill:none\" points=\"\n  174.149,1423.18 174.149,47.2441 \n  \"/>\n<polyline clip-path=\"url(#clip880)\" style=\"stroke:#000000; stroke-linecap:butt; stroke-linejoin:round; stroke-width:4; stroke-opacity:1; fill:none\" points=\"\n  174.149,1384.24 193.047,1384.24 \n  \"/>\n<polyline clip-path=\"url(#clip880)\" style=\"stroke:#000000; stroke-linecap:butt; stroke-linejoin:round; stroke-width:4; stroke-opacity:1; fill:none\" points=\"\n  174.149,954.875 193.047,954.875 \n  \"/>\n<polyline clip-path=\"url(#clip880)\" style=\"stroke:#000000; stroke-linecap:butt; stroke-linejoin:round; stroke-width:4; stroke-opacity:1; fill:none\" points=\"\n  174.149,525.512 193.047,525.512 \n  \"/>\n<polyline clip-path=\"url(#clip880)\" style=\"stroke:#000000; stroke-linecap:butt; stroke-linejoin:round; stroke-width:4; stroke-opacity:1; fill:none\" points=\"\n  174.149,96.149 193.047,96.149 \n  \"/>\n<path clip-path=\"url(#clip880)\" d=\"M126.205 1370.04 Q122.593 1370.04 120.765 1373.6 Q118.959 1377.14 118.959 1384.27 Q118.959 1391.38 120.765 1394.94 Q122.593 1398.49 126.205 1398.49 Q129.839 1398.49 131.644 1394.94 Q133.473 1391.38 133.473 1384.27 Q133.473 1377.14 131.644 1373.6 Q129.839 1370.04 126.205 1370.04 M126.205 1366.33 Q132.015 1366.33 135.07 1370.94 Q138.149 1375.52 138.149 1384.27 Q138.149 1393 135.07 1397.61 Q132.015 1402.19 126.205 1402.19 Q120.394 1402.19 117.316 1397.61 Q114.26 1393 114.26 1384.27 Q114.26 1375.52 117.316 1370.94 Q120.394 1366.33 126.205 1366.33 Z\" fill=\"#000000\" fill-rule=\"evenodd\" fill-opacity=\"1\" /><path clip-path=\"url(#clip880)\" d=\"M118.242 968.22 L125.88 968.22 L125.88 941.854 L117.57 943.521 L117.57 939.262 L125.834 937.595 L130.51 937.595 L130.51 968.22 L138.149 968.22 L138.149 972.155 L118.242 972.155 L118.242 968.22 Z\" fill=\"#000000\" fill-rule=\"evenodd\" fill-opacity=\"1\" /><path clip-path=\"url(#clip880)\" d=\"M121.83 538.857 L138.149 538.857 L138.149 542.792 L116.205 542.792 L116.205 538.857 Q118.867 536.102 123.45 531.473 Q128.056 526.82 129.237 525.477 Q131.482 522.954 132.362 521.218 Q133.265 519.459 133.265 517.769 Q133.265 515.014 131.32 513.278 Q129.399 511.542 126.297 511.542 Q124.098 511.542 121.644 512.306 Q119.214 513.07 116.436 514.621 L116.436 509.899 Q119.26 508.765 121.714 508.186 Q124.168 507.607 126.205 507.607 Q131.575 507.607 134.769 510.292 Q137.964 512.977 137.964 517.468 Q137.964 519.598 137.154 521.519 Q136.367 523.417 134.26 526.01 Q133.681 526.681 130.58 529.899 Q127.478 533.093 121.83 538.857 Z\" fill=\"#000000\" fill-rule=\"evenodd\" fill-opacity=\"1\" /><path clip-path=\"url(#clip880)\" d=\"M131.019 94.7949 Q134.376 95.5124 136.251 97.781 Q138.149 100.049 138.149 103.383 Q138.149 108.498 134.63 111.299 Q131.112 114.1 124.63 114.1 Q122.455 114.1 120.14 113.66 Q117.848 113.244 115.394 112.387 L115.394 107.873 Q117.339 109.008 119.654 109.586 Q121.968 110.165 124.492 110.165 Q128.89 110.165 131.181 108.429 Q133.496 106.693 133.496 103.383 Q133.496 100.327 131.343 98.6143 Q129.214 96.8782 125.394 96.8782 L121.367 96.8782 L121.367 93.0356 L125.58 93.0356 Q129.029 93.0356 130.857 91.6699 Q132.686 90.281 132.686 87.6884 Q132.686 85.0264 130.788 83.6144 Q128.913 82.1792 125.394 82.1792 Q123.473 82.1792 121.274 82.5959 Q119.075 83.0125 116.436 83.8921 L116.436 79.7255 Q119.098 78.9848 121.413 78.6144 Q123.751 78.244 125.811 78.244 Q131.135 78.244 134.237 80.6746 Q137.339 83.082 137.339 87.2023 Q137.339 90.0727 135.695 92.0634 Q134.052 94.031 131.019 94.7949 Z\" fill=\"#000000\" fill-rule=\"evenodd\" fill-opacity=\"1\" /><path clip-path=\"url(#clip880)\" d=\"M28.3562 753.434 L45.7028 766.324 L64.0042 752.765 L64.0042 759.672 L49.9996 770.048 L64.0042 780.424 L64.0042 787.331 L45.3526 773.486 L28.3562 786.154 L28.3562 779.247 L41.0558 769.794 L28.3562 760.341 L28.3562 753.434 Z\" fill=\"#000000\" fill-rule=\"evenodd\" fill-opacity=\"1\" /><path clip-path=\"url(#clip880)\" d=\"M74.8259 717.404 L79.3773 717.404 L79.3773 751.269 L74.8259 751.269 L74.8259 717.404 Z\" fill=\"#000000\" fill-rule=\"evenodd\" fill-opacity=\"1\" /><path clip-path=\"url(#clip880)\" d=\"M58.5933 705.532 L58.5933 683.093 L64.0042 683.093 L64.0042 713.266 L58.5933 713.266 Q54.8057 709.606 48.44 703.304 Q42.0425 696.97 40.1964 695.347 Q36.7271 692.259 34.34 691.05 Q31.921 689.809 29.5975 689.809 Q25.8099 689.809 23.4228 692.482 Q21.0356 695.124 21.0356 699.389 Q21.0356 702.413 22.086 705.786 Q23.1363 709.128 25.2688 712.948 L18.7758 712.948 Q17.2162 709.065 16.4205 705.691 Q15.6248 702.317 15.6248 699.516 Q15.6248 692.132 19.3169 687.74 Q23.009 683.347 29.1837 683.347 Q32.112 683.347 34.7537 684.461 Q37.3637 685.544 40.9285 688.44 Q41.8515 689.236 46.2757 693.501 Q50.668 697.766 58.5933 705.532 Z\" fill=\"#000000\" fill-rule=\"evenodd\" fill-opacity=\"1\" /><circle clip-path=\"url(#clip882)\" cx=\"235.808\" cy=\"954.875\" r=\"14\" fill=\"#009af9\" fill-rule=\"evenodd\" fill-opacity=\"1\" stroke=\"#000000\" stroke-opacity=\"1\" stroke-width=\"3.2\"/>\n<circle clip-path=\"url(#clip882)\" cx=\"1244.32\" cy=\"96.149\" r=\"14\" fill=\"#009af9\" fill-rule=\"evenodd\" fill-opacity=\"1\" stroke=\"#000000\" stroke-opacity=\"1\" stroke-width=\"3.2\"/>\n<circle clip-path=\"url(#clip882)\" cx=\"1916.67\" cy=\"1384.24\" r=\"14\" fill=\"#009af9\" fill-rule=\"evenodd\" fill-opacity=\"1\" stroke=\"#000000\" stroke-opacity=\"1\" stroke-width=\"3.2\"/>\n<circle clip-path=\"url(#clip882)\" cx=\"235.808\" cy=\"954.875\" r=\"14\" fill=\"#009af9\" fill-rule=\"evenodd\" fill-opacity=\"1\" stroke=\"#000000\" stroke-opacity=\"1\" stroke-width=\"3.2\"/>\n<polyline clip-path=\"url(#clip882)\" style=\"stroke:#e26f46; stroke-linecap:butt; stroke-linejoin:round; stroke-width:4; stroke-opacity:1; fill:none\" points=\"\n  235.808,954.875 239.06,946.172 245.545,929.524 255.246,905.688 268.143,875.421 284.219,839.481 303.453,798.626 325.829,753.612 351.327,705.198 379.928,654.141 \n  411.614,601.199 446.367,547.129 484.166,492.69 524.995,438.638 568.834,385.731 615.664,334.729 665.467,286.387 718.223,241.465 773.914,200.719 832.52,164.91 \n  894.023,134.793 958.405,111.128 1025.64,94.6728 1095.72,86.1857 1168.62,86.4249 1244.32,96.149 1322.81,116.116 1403.25,145.448 1484.85,183.266 1566.78,228.691 \n  1648.22,280.844 1728.36,338.848 1806.39,401.822 1881.48,468.89 1952.81,539.173 2019.58,611.791 2080.96,685.868 2136.13,760.524 2184.28,834.881 2224.6,908.062 \n  2256.25,979.188 2278.43,1047.38 2290.32,1111.76 2291.1,1171.45 2279.94,1225.58 2256.04,1273.26 2218.57,1313.61 2166.72,1345.77 2099.67,1368.84 2016.59,1381.96 \n  1916.67,1384.24 1799.09,1374.8 1665.61,1354.83 1518.01,1325.48 1358.05,1287.93 1187.49,1243.36 1008.1,1192.92 821.65,1137.8 629.901,1079.17 434.62,1018.19 \n  235.808,954.875 \n  \"/>\n<path clip-path=\"url(#clip880)\" d=\"\nM1795.41 248.629 L2280.14 248.629 L2280.14 93.1086 L1795.41 93.1086  Z\n  \" fill=\"#ffffff\" fill-rule=\"evenodd\" fill-opacity=\"1\"/>\n<polyline clip-path=\"url(#clip880)\" style=\"stroke:#000000; stroke-linecap:butt; stroke-linejoin:round; stroke-width:4; stroke-opacity:1; fill:none\" points=\"\n  1795.41,248.629 2280.14,248.629 2280.14,93.1086 1795.41,93.1086 1795.41,248.629 \n  \"/>\n<circle clip-path=\"url(#clip880)\" cx=\"1892.23\" cy=\"144.949\" r=\"23\" fill=\"#009af9\" fill-rule=\"evenodd\" fill-opacity=\"1\" stroke=\"#000000\" stroke-opacity=\"1\" stroke-width=\"5.12\"/>\n<path clip-path=\"url(#clip880)\" d=\"M1989.06 127.669 L1993.78 127.669 L2001.05 156.881 L2008.3 127.669 L2013.55 127.669 L2020.82 156.881 L2028.07 127.669 L2032.81 127.669 L2024.13 162.229 L2018.25 162.229 L2010.96 132.229 L2003.6 162.229 L1997.72 162.229 L1989.06 127.669 Z\" fill=\"#000000\" fill-rule=\"evenodd\" fill-opacity=\"1\" /><path clip-path=\"url(#clip880)\" d=\"M2047.58 149.196 Q2042.42 149.196 2040.43 150.377 Q2038.44 151.557 2038.44 154.405 Q2038.44 156.673 2039.92 158.016 Q2041.42 159.335 2043.99 159.335 Q2047.53 159.335 2049.66 156.835 Q2051.82 154.312 2051.82 150.145 L2051.82 149.196 L2047.58 149.196 M2056.07 147.437 L2056.07 162.229 L2051.82 162.229 L2051.82 158.293 Q2050.36 160.655 2048.18 161.789 Q2046.01 162.9 2042.86 162.9 Q2038.88 162.9 2036.51 160.678 Q2034.18 158.432 2034.18 154.682 Q2034.18 150.307 2037.09 148.085 Q2040.03 145.863 2045.84 145.863 L2051.82 145.863 L2051.82 145.446 Q2051.82 142.507 2049.87 140.909 Q2047.95 139.289 2044.45 139.289 Q2042.23 139.289 2040.13 139.821 Q2038.02 140.354 2036.08 141.419 L2036.08 137.483 Q2038.41 136.581 2040.61 136.141 Q2042.81 135.678 2044.89 135.678 Q2050.52 135.678 2053.3 138.594 Q2056.07 141.511 2056.07 147.437 Z\" fill=\"#000000\" fill-rule=\"evenodd\" fill-opacity=\"1\" /><path clip-path=\"url(#clip880)\" d=\"M2075.64 164.636 Q2073.83 169.266 2072.12 170.678 Q2070.4 172.09 2067.53 172.09 L2064.13 172.09 L2064.13 168.525 L2066.63 168.525 Q2068.39 168.525 2069.36 167.692 Q2070.33 166.858 2071.51 163.756 L2072.28 161.812 L2061.79 136.303 L2066.31 136.303 L2074.41 156.581 L2082.51 136.303 L2087.02 136.303 L2075.64 164.636 Z\" fill=\"#000000\" fill-rule=\"evenodd\" fill-opacity=\"1\" /><path clip-path=\"url(#clip880)\" d=\"M2097.02 158.34 L2097.02 172.09 L2092.74 172.09 L2092.74 136.303 L2097.02 136.303 L2097.02 140.238 Q2098.37 137.923 2100.4 136.812 Q2102.46 135.678 2105.31 135.678 Q2110.03 135.678 2112.97 139.428 Q2115.94 143.178 2115.94 149.289 Q2115.94 155.4 2112.97 159.15 Q2110.03 162.9 2105.31 162.9 Q2102.46 162.9 2100.4 161.789 Q2098.37 160.655 2097.02 158.34 M2111.51 149.289 Q2111.51 144.59 2109.57 141.928 Q2107.65 139.243 2104.27 139.243 Q2100.89 139.243 2098.95 141.928 Q2097.02 144.59 2097.02 149.289 Q2097.02 153.988 2098.95 156.673 Q2100.89 159.335 2104.27 159.335 Q2107.65 159.335 2109.57 156.673 Q2111.51 153.988 2111.51 149.289 Z\" fill=\"#000000\" fill-rule=\"evenodd\" fill-opacity=\"1\" /><path clip-path=\"url(#clip880)\" d=\"M2133.04 139.289 Q2129.62 139.289 2127.63 141.974 Q2125.63 144.636 2125.63 149.289 Q2125.63 153.942 2127.6 156.627 Q2129.59 159.289 2133.04 159.289 Q2136.44 159.289 2138.44 156.604 Q2140.43 153.918 2140.43 149.289 Q2140.43 144.682 2138.44 141.997 Q2136.44 139.289 2133.04 139.289 M2133.04 135.678 Q2138.6 135.678 2141.77 139.289 Q2144.94 142.9 2144.94 149.289 Q2144.94 155.655 2141.77 159.289 Q2138.6 162.9 2133.04 162.9 Q2127.46 162.9 2124.29 159.289 Q2121.14 155.655 2121.14 149.289 Q2121.14 142.9 2124.29 139.289 Q2127.46 135.678 2133.04 135.678 Z\" fill=\"#000000\" fill-rule=\"evenodd\" fill-opacity=\"1\" /><path clip-path=\"url(#clip880)\" d=\"M2152 136.303 L2156.26 136.303 L2156.26 162.229 L2152 162.229 L2152 136.303 M2152 126.21 L2156.26 126.21 L2156.26 131.604 L2152 131.604 L2152 126.21 Z\" fill=\"#000000\" fill-rule=\"evenodd\" fill-opacity=\"1\" /><path clip-path=\"url(#clip880)\" d=\"M2186.72 146.581 L2186.72 162.229 L2182.46 162.229 L2182.46 146.719 Q2182.46 143.039 2181.03 141.21 Q2179.59 139.382 2176.72 139.382 Q2173.27 139.382 2171.28 141.581 Q2169.29 143.78 2169.29 147.576 L2169.29 162.229 L2165.01 162.229 L2165.01 136.303 L2169.29 136.303 L2169.29 140.331 Q2170.82 137.993 2172.88 136.835 Q2174.96 135.678 2177.67 135.678 Q2182.14 135.678 2184.43 138.456 Q2186.72 141.21 2186.72 146.581 Z\" fill=\"#000000\" fill-rule=\"evenodd\" fill-opacity=\"1\" /><path clip-path=\"url(#clip880)\" d=\"M2199.43 128.942 L2199.43 136.303 L2208.2 136.303 L2208.2 139.613 L2199.43 139.613 L2199.43 153.687 Q2199.43 156.858 2200.29 157.761 Q2201.17 158.664 2203.83 158.664 L2208.2 158.664 L2208.2 162.229 L2203.83 162.229 Q2198.9 162.229 2197.02 160.4 Q2195.15 158.548 2195.15 153.687 L2195.15 139.613 L2192.02 139.613 L2192.02 136.303 L2195.15 136.303 L2195.15 128.942 L2199.43 128.942 Z\" fill=\"#000000\" fill-rule=\"evenodd\" fill-opacity=\"1\" /><path clip-path=\"url(#clip880)\" d=\"M2230.33 137.067 L2230.33 141.094 Q2228.53 140.169 2226.58 139.706 Q2224.64 139.243 2222.56 139.243 Q2219.38 139.243 2217.79 140.215 Q2216.21 141.187 2216.21 143.131 Q2216.21 144.613 2217.35 145.469 Q2218.48 146.303 2221.91 147.067 L2223.37 147.391 Q2227.9 148.363 2229.8 150.145 Q2231.72 151.905 2231.72 155.076 Q2231.72 158.687 2228.85 160.793 Q2226 162.9 2221 162.9 Q2218.92 162.9 2216.65 162.483 Q2214.41 162.09 2211.91 161.28 L2211.91 156.881 Q2214.27 158.108 2216.56 158.733 Q2218.85 159.335 2221.1 159.335 Q2224.11 159.335 2225.73 158.317 Q2227.35 157.275 2227.35 155.4 Q2227.35 153.664 2226.17 152.738 Q2225.01 151.812 2221.05 150.956 L2219.57 150.608 Q2215.61 149.775 2213.85 148.062 Q2212.09 146.326 2212.09 143.317 Q2212.09 139.659 2214.69 137.669 Q2217.28 135.678 2222.05 135.678 Q2224.41 135.678 2226.49 136.025 Q2228.57 136.372 2230.33 137.067 Z\" fill=\"#000000\" fill-rule=\"evenodd\" fill-opacity=\"1\" /><polyline clip-path=\"url(#clip880)\" style=\"stroke:#e26f46; stroke-linecap:butt; stroke-linejoin:round; stroke-width:4; stroke-opacity:1; fill:none\" points=\"\n  1819.61,196.789 1964.85,196.789 \n  \"/>\n<path clip-path=\"url(#clip880)\" d=\"M1989.06 179.509 L2018.3 179.509 L2018.3 183.444 L2006.03 183.444 L2006.03 214.069 L2001.33 214.069 L2001.33 183.444 L1989.06 183.444 L1989.06 179.509 Z\" fill=\"#000000\" fill-rule=\"evenodd\" fill-opacity=\"1\" /><path clip-path=\"url(#clip880)\" d=\"M2030.68 192.124 Q2029.96 191.708 2029.11 191.522 Q2028.27 191.314 2027.26 191.314 Q2023.64 191.314 2021.7 193.675 Q2019.78 196.013 2019.78 200.411 L2019.78 214.069 L2015.5 214.069 L2015.5 188.143 L2019.78 188.143 L2019.78 192.171 Q2021.12 189.809 2023.27 188.675 Q2025.43 187.518 2028.51 187.518 Q2028.95 187.518 2029.48 187.587 Q2030.01 187.634 2030.66 187.749 L2030.68 192.124 Z\" fill=\"#000000\" fill-rule=\"evenodd\" fill-opacity=\"1\" /><path clip-path=\"url(#clip880)\" d=\"M2046.93 201.036 Q2041.77 201.036 2039.78 202.217 Q2037.79 203.397 2037.79 206.245 Q2037.79 208.513 2039.27 209.856 Q2040.77 211.175 2043.34 211.175 Q2046.89 211.175 2049.01 208.675 Q2051.17 206.152 2051.17 201.985 L2051.17 201.036 L2046.93 201.036 M2055.43 199.277 L2055.43 214.069 L2051.17 214.069 L2051.17 210.133 Q2049.71 212.495 2047.53 213.629 Q2045.36 214.74 2042.21 214.74 Q2038.23 214.74 2035.87 212.518 Q2033.53 210.272 2033.53 206.522 Q2033.53 202.147 2036.45 199.925 Q2039.39 197.703 2045.2 197.703 L2051.17 197.703 L2051.17 197.286 Q2051.17 194.347 2049.22 192.749 Q2047.3 191.129 2043.81 191.129 Q2041.58 191.129 2039.48 191.661 Q2037.37 192.194 2035.43 193.259 L2035.43 189.323 Q2037.76 188.421 2039.96 187.981 Q2042.16 187.518 2044.25 187.518 Q2049.87 187.518 2052.65 190.434 Q2055.43 193.351 2055.43 199.277 Z\" fill=\"#000000\" fill-rule=\"evenodd\" fill-opacity=\"1\" /><path clip-path=\"url(#clip880)\" d=\"M2064.2 188.143 L2068.46 188.143 L2068.46 214.532 Q2068.46 219.485 2066.56 221.707 Q2064.69 223.93 2060.5 223.93 L2058.88 223.93 L2058.88 220.319 L2060.01 220.319 Q2062.44 220.319 2063.32 219.184 Q2064.2 218.073 2064.2 214.532 L2064.2 188.143 M2064.2 178.05 L2068.46 178.05 L2068.46 183.444 L2064.2 183.444 L2064.2 178.05 Z\" fill=\"#000000\" fill-rule=\"evenodd\" fill-opacity=\"1\" /><path clip-path=\"url(#clip880)\" d=\"M2099.55 200.041 L2099.55 202.124 L2079.96 202.124 Q2080.24 206.522 2082.6 208.837 Q2084.99 211.129 2089.22 211.129 Q2091.68 211.129 2093.97 210.527 Q2096.28 209.925 2098.55 208.721 L2098.55 212.749 Q2096.26 213.721 2093.85 214.231 Q2091.45 214.74 2088.97 214.74 Q2082.76 214.74 2079.13 211.129 Q2075.52 207.518 2075.52 201.36 Q2075.52 194.995 2078.95 191.268 Q2082.39 187.518 2088.23 187.518 Q2093.46 187.518 2096.49 190.897 Q2099.55 194.254 2099.55 200.041 M2095.29 198.791 Q2095.24 195.296 2093.32 193.212 Q2091.42 191.129 2088.27 191.129 Q2084.71 191.129 2082.56 193.143 Q2080.43 195.157 2080.1 198.814 L2095.29 198.791 Z\" fill=\"#000000\" fill-rule=\"evenodd\" fill-opacity=\"1\" /><path clip-path=\"url(#clip880)\" d=\"M2125.19 189.138 L2125.19 193.12 Q2123.39 192.124 2121.56 191.638 Q2119.76 191.129 2117.9 191.129 Q2113.76 191.129 2111.47 193.768 Q2109.18 196.384 2109.18 201.129 Q2109.18 205.874 2111.47 208.513 Q2113.76 211.129 2117.9 211.129 Q2119.76 211.129 2121.56 210.643 Q2123.39 210.133 2125.19 209.138 L2125.19 213.073 Q2123.41 213.907 2121.49 214.323 Q2119.59 214.74 2117.44 214.74 Q2111.58 214.74 2108.13 211.059 Q2104.69 207.379 2104.69 201.129 Q2104.69 194.786 2108.16 191.152 Q2111.65 187.518 2117.72 187.518 Q2119.69 187.518 2121.56 187.935 Q2123.44 188.328 2125.19 189.138 Z\" fill=\"#000000\" fill-rule=\"evenodd\" fill-opacity=\"1\" /><path clip-path=\"url(#clip880)\" d=\"M2136.82 180.782 L2136.82 188.143 L2145.59 188.143 L2145.59 191.453 L2136.82 191.453 L2136.82 205.527 Q2136.82 208.698 2137.67 209.601 Q2138.55 210.504 2141.21 210.504 L2145.59 210.504 L2145.59 214.069 L2141.21 214.069 Q2136.28 214.069 2134.41 212.24 Q2132.53 210.388 2132.53 205.527 L2132.53 191.453 L2129.41 191.453 L2129.41 188.143 L2132.53 188.143 L2132.53 180.782 L2136.82 180.782 Z\" fill=\"#000000\" fill-rule=\"evenodd\" fill-opacity=\"1\" /><path clip-path=\"url(#clip880)\" d=\"M2161.24 191.129 Q2157.81 191.129 2155.82 193.814 Q2153.83 196.476 2153.83 201.129 Q2153.83 205.782 2155.8 208.467 Q2157.79 211.129 2161.24 211.129 Q2164.64 211.129 2166.63 208.444 Q2168.62 205.758 2168.62 201.129 Q2168.62 196.522 2166.63 193.837 Q2164.64 191.129 2161.24 191.129 M2161.24 187.518 Q2166.79 187.518 2169.96 191.129 Q2173.13 194.74 2173.13 201.129 Q2173.13 207.495 2169.96 211.129 Q2166.79 214.74 2161.24 214.74 Q2155.66 214.74 2152.49 211.129 Q2149.34 207.495 2149.34 201.129 Q2149.34 194.74 2152.49 191.129 Q2155.66 187.518 2161.24 187.518 Z\" fill=\"#000000\" fill-rule=\"evenodd\" fill-opacity=\"1\" /><path clip-path=\"url(#clip880)\" d=\"M2195.22 192.124 Q2194.5 191.708 2193.64 191.522 Q2192.81 191.314 2191.79 191.314 Q2188.18 191.314 2186.24 193.675 Q2184.32 196.013 2184.32 200.411 L2184.32 214.069 L2180.03 214.069 L2180.03 188.143 L2184.32 188.143 L2184.32 192.171 Q2185.66 189.809 2187.81 188.675 Q2189.96 187.518 2193.04 187.518 Q2193.48 187.518 2194.01 187.587 Q2194.55 187.634 2195.19 187.749 L2195.22 192.124 Z\" fill=\"#000000\" fill-rule=\"evenodd\" fill-opacity=\"1\" /><path clip-path=\"url(#clip880)\" d=\"M2210.47 216.476 Q2208.67 221.106 2206.95 222.518 Q2205.24 223.93 2202.37 223.93 L2198.97 223.93 L2198.97 220.365 L2201.47 220.365 Q2203.23 220.365 2204.2 219.532 Q2205.17 218.698 2206.35 215.596 L2207.12 213.652 L2196.63 188.143 L2201.14 188.143 L2209.25 208.421 L2217.35 188.143 L2221.86 188.143 L2210.47 216.476 Z\" fill=\"#000000\" fill-rule=\"evenodd\" fill-opacity=\"1\" /></svg>\n",
      "text/html": [
       "<?xml version=\"1.0\" encoding=\"utf-8\"?>\n",
       "<svg xmlns=\"http://www.w3.org/2000/svg\" xmlns:xlink=\"http://www.w3.org/1999/xlink\" width=\"600\" height=\"400\" viewBox=\"0 0 2400 1600\">\n",
       "<defs>\n",
       "  <clipPath id=\"clip930\">\n",
       "    <rect x=\"0\" y=\"0\" width=\"2400\" height=\"1600\"/>\n",
       "  </clipPath>\n",
       "</defs>\n",
       "<path clip-path=\"url(#clip930)\" d=\"\n",
       "M0 1600 L2400 1600 L2400 0 L0 0  Z\n",
       "  \" fill=\"#ffffff\" fill-rule=\"evenodd\" fill-opacity=\"1\"/>\n",
       "<defs>\n",
       "  <clipPath id=\"clip931\">\n",
       "    <rect x=\"480\" y=\"0\" width=\"1681\" height=\"1600\"/>\n",
       "  </clipPath>\n",
       "</defs>\n",
       "<path clip-path=\"url(#clip930)\" d=\"\n",
       "M174.149 1423.18 L2352.76 1423.18 L2352.76 47.2441 L174.149 47.2441  Z\n",
       "  \" fill=\"#ffffff\" fill-rule=\"evenodd\" fill-opacity=\"1\"/>\n",
       "<defs>\n",
       "  <clipPath id=\"clip932\">\n",
       "    <rect x=\"174\" y=\"47\" width=\"2180\" height=\"1377\"/>\n",
       "  </clipPath>\n",
       "</defs>\n",
       "<polyline clip-path=\"url(#clip932)\" style=\"stroke:#000000; stroke-linecap:butt; stroke-linejoin:round; stroke-width:2; stroke-opacity:0.1; fill:none\" points=\"\n",
       "  235.808,1423.18 235.808,47.2441 \n",
       "  \"/>\n",
       "<polyline clip-path=\"url(#clip932)\" style=\"stroke:#000000; stroke-linecap:butt; stroke-linejoin:round; stroke-width:2; stroke-opacity:0.1; fill:none\" points=\"\n",
       "  571.98,1423.18 571.98,47.2441 \n",
       "  \"/>\n",
       "<polyline clip-path=\"url(#clip932)\" style=\"stroke:#000000; stroke-linecap:butt; stroke-linejoin:round; stroke-width:2; stroke-opacity:0.1; fill:none\" points=\"\n",
       "  908.152,1423.18 908.152,47.2441 \n",
       "  \"/>\n",
       "<polyline clip-path=\"url(#clip932)\" style=\"stroke:#000000; stroke-linecap:butt; stroke-linejoin:round; stroke-width:2; stroke-opacity:0.1; fill:none\" points=\"\n",
       "  1244.32,1423.18 1244.32,47.2441 \n",
       "  \"/>\n",
       "<polyline clip-path=\"url(#clip932)\" style=\"stroke:#000000; stroke-linecap:butt; stroke-linejoin:round; stroke-width:2; stroke-opacity:0.1; fill:none\" points=\"\n",
       "  1580.5,1423.18 1580.5,47.2441 \n",
       "  \"/>\n",
       "<polyline clip-path=\"url(#clip932)\" style=\"stroke:#000000; stroke-linecap:butt; stroke-linejoin:round; stroke-width:2; stroke-opacity:0.1; fill:none\" points=\"\n",
       "  1916.67,1423.18 1916.67,47.2441 \n",
       "  \"/>\n",
       "<polyline clip-path=\"url(#clip932)\" style=\"stroke:#000000; stroke-linecap:butt; stroke-linejoin:round; stroke-width:2; stroke-opacity:0.1; fill:none\" points=\"\n",
       "  2252.84,1423.18 2252.84,47.2441 \n",
       "  \"/>\n",
       "<polyline clip-path=\"url(#clip930)\" style=\"stroke:#000000; stroke-linecap:butt; stroke-linejoin:round; stroke-width:4; stroke-opacity:1; fill:none\" points=\"\n",
       "  174.149,1423.18 2352.76,1423.18 \n",
       "  \"/>\n",
       "<polyline clip-path=\"url(#clip930)\" style=\"stroke:#000000; stroke-linecap:butt; stroke-linejoin:round; stroke-width:4; stroke-opacity:1; fill:none\" points=\"\n",
       "  235.808,1423.18 235.808,1404.28 \n",
       "  \"/>\n",
       "<polyline clip-path=\"url(#clip930)\" style=\"stroke:#000000; stroke-linecap:butt; stroke-linejoin:round; stroke-width:4; stroke-opacity:1; fill:none\" points=\"\n",
       "  571.98,1423.18 571.98,1404.28 \n",
       "  \"/>\n",
       "<polyline clip-path=\"url(#clip930)\" style=\"stroke:#000000; stroke-linecap:butt; stroke-linejoin:round; stroke-width:4; stroke-opacity:1; fill:none\" points=\"\n",
       "  908.152,1423.18 908.152,1404.28 \n",
       "  \"/>\n",
       "<polyline clip-path=\"url(#clip930)\" style=\"stroke:#000000; stroke-linecap:butt; stroke-linejoin:round; stroke-width:4; stroke-opacity:1; fill:none\" points=\"\n",
       "  1244.32,1423.18 1244.32,1404.28 \n",
       "  \"/>\n",
       "<polyline clip-path=\"url(#clip930)\" style=\"stroke:#000000; stroke-linecap:butt; stroke-linejoin:round; stroke-width:4; stroke-opacity:1; fill:none\" points=\"\n",
       "  1580.5,1423.18 1580.5,1404.28 \n",
       "  \"/>\n",
       "<polyline clip-path=\"url(#clip930)\" style=\"stroke:#000000; stroke-linecap:butt; stroke-linejoin:round; stroke-width:4; stroke-opacity:1; fill:none\" points=\"\n",
       "  1916.67,1423.18 1916.67,1404.28 \n",
       "  \"/>\n",
       "<polyline clip-path=\"url(#clip930)\" style=\"stroke:#000000; stroke-linecap:butt; stroke-linejoin:round; stroke-width:4; stroke-opacity:1; fill:none\" points=\"\n",
       "  2252.84,1423.18 2252.84,1404.28 \n",
       "  \"/>\n",
       "<path clip-path=\"url(#clip930)\" d=\"M226.19 1481.64 L233.828 1481.64 L233.828 1455.28 L225.518 1456.95 L225.518 1452.69 L233.782 1451.02 L238.458 1451.02 L238.458 1481.64 L246.097 1481.64 L246.097 1485.58 L226.19 1485.58 L226.19 1481.64 Z\" fill=\"#000000\" fill-rule=\"evenodd\" fill-opacity=\"1\" /><path clip-path=\"url(#clip930)\" d=\"M566.632 1481.64 L582.952 1481.64 L582.952 1485.58 L561.007 1485.58 L561.007 1481.64 Q563.669 1478.89 568.253 1474.26 Q572.859 1469.61 574.04 1468.27 Q576.285 1465.74 577.165 1464.01 Q578.068 1462.25 578.068 1460.56 Q578.068 1457.8 576.123 1456.07 Q574.202 1454.33 571.1 1454.33 Q568.901 1454.33 566.447 1455.09 Q564.017 1455.86 561.239 1457.41 L561.239 1452.69 Q564.063 1451.55 566.517 1450.97 Q568.97 1450.39 571.007 1450.39 Q576.378 1450.39 579.572 1453.08 Q582.767 1455.77 582.767 1460.26 Q582.767 1462.39 581.956 1464.31 Q581.169 1466.2 579.063 1468.8 Q578.484 1469.47 575.382 1472.69 Q572.281 1475.88 566.632 1481.64 Z\" fill=\"#000000\" fill-rule=\"evenodd\" fill-opacity=\"1\" /><path clip-path=\"url(#clip930)\" d=\"M912.399 1466.95 Q915.756 1467.66 917.631 1469.93 Q919.529 1472.2 919.529 1475.53 Q919.529 1480.65 916.01 1483.45 Q912.492 1486.25 906.01 1486.25 Q903.835 1486.25 901.52 1485.81 Q899.228 1485.39 896.774 1484.54 L896.774 1480.02 Q898.719 1481.16 901.034 1481.74 Q903.348 1482.32 905.872 1482.32 Q910.27 1482.32 912.561 1480.58 Q914.876 1478.84 914.876 1475.53 Q914.876 1472.48 912.723 1470.77 Q910.594 1469.03 906.774 1469.03 L902.747 1469.03 L902.747 1465.19 L906.96 1465.19 Q910.409 1465.19 912.237 1463.82 Q914.066 1462.43 914.066 1459.84 Q914.066 1457.18 912.168 1455.77 Q910.293 1454.33 906.774 1454.33 Q904.853 1454.33 902.654 1454.75 Q900.455 1455.16 897.816 1456.04 L897.816 1451.88 Q900.478 1451.14 902.793 1450.77 Q905.131 1450.39 907.191 1450.39 Q912.515 1450.39 915.617 1452.83 Q918.719 1455.23 918.719 1459.35 Q918.719 1462.22 917.075 1464.21 Q915.432 1466.18 912.399 1466.95 Z\" fill=\"#000000\" fill-rule=\"evenodd\" fill-opacity=\"1\" /><path clip-path=\"url(#clip930)\" d=\"M1247.33 1455.09 L1235.53 1473.54 L1247.33 1473.54 L1247.33 1455.09 M1246.11 1451.02 L1251.99 1451.02 L1251.99 1473.54 L1256.92 1473.54 L1256.92 1477.43 L1251.99 1477.43 L1251.99 1485.58 L1247.33 1485.58 L1247.33 1477.43 L1231.73 1477.43 L1231.73 1472.92 L1246.11 1451.02 Z\" fill=\"#000000\" fill-rule=\"evenodd\" fill-opacity=\"1\" /><path clip-path=\"url(#clip930)\" d=\"M1570.77 1451.02 L1589.13 1451.02 L1589.13 1454.96 L1575.06 1454.96 L1575.06 1463.43 Q1576.07 1463.08 1577.09 1462.92 Q1578.11 1462.73 1579.13 1462.73 Q1584.92 1462.73 1588.3 1465.9 Q1591.68 1469.08 1591.68 1474.49 Q1591.68 1480.07 1588.2 1483.17 Q1584.73 1486.25 1578.41 1486.25 Q1576.24 1486.25 1573.97 1485.88 Q1571.72 1485.51 1569.32 1484.77 L1569.32 1480.07 Q1571.4 1481.2 1573.62 1481.76 Q1575.84 1482.32 1578.32 1482.32 Q1582.32 1482.32 1584.66 1480.21 Q1587 1478.1 1587 1474.49 Q1587 1470.88 1584.66 1468.77 Q1582.32 1466.67 1578.32 1466.67 Q1576.44 1466.67 1574.57 1467.08 Q1572.72 1467.5 1570.77 1468.38 L1570.77 1451.02 Z\" fill=\"#000000\" fill-rule=\"evenodd\" fill-opacity=\"1\" /><path clip-path=\"url(#clip930)\" d=\"M1917.07 1466.44 Q1913.92 1466.44 1912.07 1468.59 Q1910.24 1470.74 1910.24 1474.49 Q1910.24 1478.22 1912.07 1480.39 Q1913.92 1482.55 1917.07 1482.55 Q1920.22 1482.55 1922.05 1480.39 Q1923.9 1478.22 1923.9 1474.49 Q1923.9 1470.74 1922.05 1468.59 Q1920.22 1466.44 1917.07 1466.44 M1926.36 1451.78 L1926.36 1456.04 Q1924.6 1455.21 1922.79 1454.77 Q1921.01 1454.33 1919.25 1454.33 Q1914.62 1454.33 1912.17 1457.45 Q1909.73 1460.58 1909.39 1466.9 Q1910.75 1464.89 1912.81 1463.82 Q1914.87 1462.73 1917.35 1462.73 Q1922.56 1462.73 1925.57 1465.9 Q1928.6 1469.05 1928.6 1474.49 Q1928.6 1479.82 1925.45 1483.03 Q1922.3 1486.25 1917.07 1486.25 Q1911.08 1486.25 1907.91 1481.67 Q1904.73 1477.06 1904.73 1468.33 Q1904.73 1460.14 1908.62 1455.28 Q1912.51 1450.39 1919.06 1450.39 Q1920.82 1450.39 1922.61 1450.74 Q1924.41 1451.09 1926.36 1451.78 Z\" fill=\"#000000\" fill-rule=\"evenodd\" fill-opacity=\"1\" /><path clip-path=\"url(#clip930)\" d=\"M2241.73 1451.02 L2263.95 1451.02 L2263.95 1453.01 L2251.4 1485.58 L2246.52 1485.58 L2258.33 1454.96 L2241.73 1454.96 L2241.73 1451.02 Z\" fill=\"#000000\" fill-rule=\"evenodd\" fill-opacity=\"1\" /><path clip-path=\"url(#clip930)\" d=\"M1244.98 1532.4 L1232.09 1549.74 L1245.64 1568.04 L1238.74 1568.04 L1228.36 1554.04 L1217.99 1568.04 L1211.08 1568.04 L1224.92 1549.39 L1212.26 1532.4 L1219.16 1532.4 L1228.62 1545.1 L1238.07 1532.4 L1244.98 1532.4 Z\" fill=\"#000000\" fill-rule=\"evenodd\" fill-opacity=\"1\" /><path clip-path=\"url(#clip930)\" d=\"M1281.01 1578.87 L1281.01 1583.42 L1247.14 1583.42 L1247.14 1578.87 L1281.01 1578.87 Z\" fill=\"#000000\" fill-rule=\"evenodd\" fill-opacity=\"1\" /><path clip-path=\"url(#clip930)\" d=\"M1288.45 1562.63 L1298.96 1562.63 L1298.96 1526.38 L1287.53 1528.67 L1287.53 1522.82 L1298.89 1520.52 L1305.32 1520.52 L1305.32 1562.63 L1315.83 1562.63 L1315.83 1568.04 L1288.45 1568.04 L1288.45 1562.63 Z\" fill=\"#000000\" fill-rule=\"evenodd\" fill-opacity=\"1\" /><polyline clip-path=\"url(#clip932)\" style=\"stroke:#000000; stroke-linecap:butt; stroke-linejoin:round; stroke-width:2; stroke-opacity:0.1; fill:none\" points=\"\n",
       "  174.149,1384.24 2352.76,1384.24 \n",
       "  \"/>\n",
       "<polyline clip-path=\"url(#clip932)\" style=\"stroke:#000000; stroke-linecap:butt; stroke-linejoin:round; stroke-width:2; stroke-opacity:0.1; fill:none\" points=\"\n",
       "  174.149,954.875 2352.76,954.875 \n",
       "  \"/>\n",
       "<polyline clip-path=\"url(#clip932)\" style=\"stroke:#000000; stroke-linecap:butt; stroke-linejoin:round; stroke-width:2; stroke-opacity:0.1; fill:none\" points=\"\n",
       "  174.149,525.512 2352.76,525.512 \n",
       "  \"/>\n",
       "<polyline clip-path=\"url(#clip932)\" style=\"stroke:#000000; stroke-linecap:butt; stroke-linejoin:round; stroke-width:2; stroke-opacity:0.1; fill:none\" points=\"\n",
       "  174.149,96.149 2352.76,96.149 \n",
       "  \"/>\n",
       "<polyline clip-path=\"url(#clip930)\" style=\"stroke:#000000; stroke-linecap:butt; stroke-linejoin:round; stroke-width:4; stroke-opacity:1; fill:none\" points=\"\n",
       "  174.149,1423.18 174.149,47.2441 \n",
       "  \"/>\n",
       "<polyline clip-path=\"url(#clip930)\" style=\"stroke:#000000; stroke-linecap:butt; stroke-linejoin:round; stroke-width:4; stroke-opacity:1; fill:none\" points=\"\n",
       "  174.149,1384.24 193.047,1384.24 \n",
       "  \"/>\n",
       "<polyline clip-path=\"url(#clip930)\" style=\"stroke:#000000; stroke-linecap:butt; stroke-linejoin:round; stroke-width:4; stroke-opacity:1; fill:none\" points=\"\n",
       "  174.149,954.875 193.047,954.875 \n",
       "  \"/>\n",
       "<polyline clip-path=\"url(#clip930)\" style=\"stroke:#000000; stroke-linecap:butt; stroke-linejoin:round; stroke-width:4; stroke-opacity:1; fill:none\" points=\"\n",
       "  174.149,525.512 193.047,525.512 \n",
       "  \"/>\n",
       "<polyline clip-path=\"url(#clip930)\" style=\"stroke:#000000; stroke-linecap:butt; stroke-linejoin:round; stroke-width:4; stroke-opacity:1; fill:none\" points=\"\n",
       "  174.149,96.149 193.047,96.149 \n",
       "  \"/>\n",
       "<path clip-path=\"url(#clip930)\" d=\"M126.205 1370.04 Q122.593 1370.04 120.765 1373.6 Q118.959 1377.14 118.959 1384.27 Q118.959 1391.38 120.765 1394.94 Q122.593 1398.49 126.205 1398.49 Q129.839 1398.49 131.644 1394.94 Q133.473 1391.38 133.473 1384.27 Q133.473 1377.14 131.644 1373.6 Q129.839 1370.04 126.205 1370.04 M126.205 1366.33 Q132.015 1366.33 135.07 1370.94 Q138.149 1375.52 138.149 1384.27 Q138.149 1393 135.07 1397.61 Q132.015 1402.19 126.205 1402.19 Q120.394 1402.19 117.316 1397.61 Q114.26 1393 114.26 1384.27 Q114.26 1375.52 117.316 1370.94 Q120.394 1366.33 126.205 1366.33 Z\" fill=\"#000000\" fill-rule=\"evenodd\" fill-opacity=\"1\" /><path clip-path=\"url(#clip930)\" d=\"M118.242 968.22 L125.88 968.22 L125.88 941.854 L117.57 943.521 L117.57 939.262 L125.834 937.595 L130.51 937.595 L130.51 968.22 L138.149 968.22 L138.149 972.155 L118.242 972.155 L118.242 968.22 Z\" fill=\"#000000\" fill-rule=\"evenodd\" fill-opacity=\"1\" /><path clip-path=\"url(#clip930)\" d=\"M121.83 538.857 L138.149 538.857 L138.149 542.792 L116.205 542.792 L116.205 538.857 Q118.867 536.102 123.45 531.473 Q128.056 526.82 129.237 525.477 Q131.482 522.954 132.362 521.218 Q133.265 519.459 133.265 517.769 Q133.265 515.014 131.32 513.278 Q129.399 511.542 126.297 511.542 Q124.098 511.542 121.644 512.306 Q119.214 513.07 116.436 514.621 L116.436 509.899 Q119.26 508.765 121.714 508.186 Q124.168 507.607 126.205 507.607 Q131.575 507.607 134.769 510.292 Q137.964 512.977 137.964 517.468 Q137.964 519.598 137.154 521.519 Q136.367 523.417 134.26 526.01 Q133.681 526.681 130.58 529.899 Q127.478 533.093 121.83 538.857 Z\" fill=\"#000000\" fill-rule=\"evenodd\" fill-opacity=\"1\" /><path clip-path=\"url(#clip930)\" d=\"M131.019 94.7949 Q134.376 95.5124 136.251 97.781 Q138.149 100.049 138.149 103.383 Q138.149 108.498 134.63 111.299 Q131.112 114.1 124.63 114.1 Q122.455 114.1 120.14 113.66 Q117.848 113.244 115.394 112.387 L115.394 107.873 Q117.339 109.008 119.654 109.586 Q121.968 110.165 124.492 110.165 Q128.89 110.165 131.181 108.429 Q133.496 106.693 133.496 103.383 Q133.496 100.327 131.343 98.6143 Q129.214 96.8782 125.394 96.8782 L121.367 96.8782 L121.367 93.0356 L125.58 93.0356 Q129.029 93.0356 130.857 91.6699 Q132.686 90.281 132.686 87.6884 Q132.686 85.0264 130.788 83.6144 Q128.913 82.1792 125.394 82.1792 Q123.473 82.1792 121.274 82.5959 Q119.075 83.0125 116.436 83.8921 L116.436 79.7255 Q119.098 78.9848 121.413 78.6144 Q123.751 78.244 125.811 78.244 Q131.135 78.244 134.237 80.6746 Q137.339 83.082 137.339 87.2023 Q137.339 90.0727 135.695 92.0634 Q134.052 94.031 131.019 94.7949 Z\" fill=\"#000000\" fill-rule=\"evenodd\" fill-opacity=\"1\" /><path clip-path=\"url(#clip930)\" d=\"M28.3562 753.434 L45.7028 766.324 L64.0042 752.765 L64.0042 759.672 L49.9996 770.048 L64.0042 780.424 L64.0042 787.331 L45.3526 773.486 L28.3562 786.154 L28.3562 779.247 L41.0558 769.794 L28.3562 760.341 L28.3562 753.434 Z\" fill=\"#000000\" fill-rule=\"evenodd\" fill-opacity=\"1\" /><path clip-path=\"url(#clip930)\" d=\"M74.8259 717.404 L79.3773 717.404 L79.3773 751.269 L74.8259 751.269 L74.8259 717.404 Z\" fill=\"#000000\" fill-rule=\"evenodd\" fill-opacity=\"1\" /><path clip-path=\"url(#clip930)\" d=\"M58.5933 705.532 L58.5933 683.093 L64.0042 683.093 L64.0042 713.266 L58.5933 713.266 Q54.8057 709.606 48.44 703.304 Q42.0425 696.97 40.1964 695.347 Q36.7271 692.259 34.34 691.05 Q31.921 689.809 29.5975 689.809 Q25.8099 689.809 23.4228 692.482 Q21.0356 695.124 21.0356 699.389 Q21.0356 702.413 22.086 705.786 Q23.1363 709.128 25.2688 712.948 L18.7758 712.948 Q17.2162 709.065 16.4205 705.691 Q15.6248 702.317 15.6248 699.516 Q15.6248 692.132 19.3169 687.74 Q23.009 683.347 29.1837 683.347 Q32.112 683.347 34.7537 684.461 Q37.3637 685.544 40.9285 688.44 Q41.8515 689.236 46.2757 693.501 Q50.668 697.766 58.5933 705.532 Z\" fill=\"#000000\" fill-rule=\"evenodd\" fill-opacity=\"1\" /><circle clip-path=\"url(#clip932)\" cx=\"235.808\" cy=\"954.875\" r=\"14\" fill=\"#009af9\" fill-rule=\"evenodd\" fill-opacity=\"1\" stroke=\"#000000\" stroke-opacity=\"1\" stroke-width=\"3.2\"/>\n",
       "<circle clip-path=\"url(#clip932)\" cx=\"1244.32\" cy=\"96.149\" r=\"14\" fill=\"#009af9\" fill-rule=\"evenodd\" fill-opacity=\"1\" stroke=\"#000000\" stroke-opacity=\"1\" stroke-width=\"3.2\"/>\n",
       "<circle clip-path=\"url(#clip932)\" cx=\"1916.67\" cy=\"1384.24\" r=\"14\" fill=\"#009af9\" fill-rule=\"evenodd\" fill-opacity=\"1\" stroke=\"#000000\" stroke-opacity=\"1\" stroke-width=\"3.2\"/>\n",
       "<circle clip-path=\"url(#clip932)\" cx=\"235.808\" cy=\"954.875\" r=\"14\" fill=\"#009af9\" fill-rule=\"evenodd\" fill-opacity=\"1\" stroke=\"#000000\" stroke-opacity=\"1\" stroke-width=\"3.2\"/>\n",
       "<polyline clip-path=\"url(#clip932)\" style=\"stroke:#e26f46; stroke-linecap:butt; stroke-linejoin:round; stroke-width:4; stroke-opacity:1; fill:none\" points=\"\n",
       "  235.808,954.875 239.06,946.172 245.545,929.524 255.246,905.688 268.143,875.421 284.219,839.481 303.453,798.626 325.829,753.612 351.327,705.198 379.928,654.141 \n",
       "  411.614,601.199 446.367,547.129 484.166,492.69 524.995,438.638 568.834,385.731 615.664,334.729 665.467,286.387 718.223,241.465 773.914,200.719 832.52,164.91 \n",
       "  894.023,134.793 958.405,111.128 1025.64,94.6728 1095.72,86.1857 1168.62,86.4249 1244.32,96.149 1322.81,116.116 1403.25,145.448 1484.85,183.266 1566.78,228.691 \n",
       "  1648.22,280.844 1728.36,338.848 1806.39,401.822 1881.48,468.89 1952.81,539.173 2019.58,611.791 2080.96,685.868 2136.13,760.524 2184.28,834.881 2224.6,908.062 \n",
       "  2256.25,979.188 2278.43,1047.38 2290.32,1111.76 2291.1,1171.45 2279.94,1225.58 2256.04,1273.26 2218.57,1313.61 2166.72,1345.77 2099.67,1368.84 2016.59,1381.96 \n",
       "  1916.67,1384.24 1799.09,1374.8 1665.61,1354.83 1518.01,1325.48 1358.05,1287.93 1187.49,1243.36 1008.1,1192.92 821.65,1137.8 629.901,1079.17 434.62,1018.19 \n",
       "  235.808,954.875 \n",
       "  \"/>\n",
       "<path clip-path=\"url(#clip930)\" d=\"\n",
       "M1795.41 248.629 L2280.14 248.629 L2280.14 93.1086 L1795.41 93.1086  Z\n",
       "  \" fill=\"#ffffff\" fill-rule=\"evenodd\" fill-opacity=\"1\"/>\n",
       "<polyline clip-path=\"url(#clip930)\" style=\"stroke:#000000; stroke-linecap:butt; stroke-linejoin:round; stroke-width:4; stroke-opacity:1; fill:none\" points=\"\n",
       "  1795.41,248.629 2280.14,248.629 2280.14,93.1086 1795.41,93.1086 1795.41,248.629 \n",
       "  \"/>\n",
       "<circle clip-path=\"url(#clip930)\" cx=\"1892.23\" cy=\"144.949\" r=\"23\" fill=\"#009af9\" fill-rule=\"evenodd\" fill-opacity=\"1\" stroke=\"#000000\" stroke-opacity=\"1\" stroke-width=\"5.12\"/>\n",
       "<path clip-path=\"url(#clip930)\" d=\"M1989.06 127.669 L1993.78 127.669 L2001.05 156.881 L2008.3 127.669 L2013.55 127.669 L2020.82 156.881 L2028.07 127.669 L2032.81 127.669 L2024.13 162.229 L2018.25 162.229 L2010.96 132.229 L2003.6 162.229 L1997.72 162.229 L1989.06 127.669 Z\" fill=\"#000000\" fill-rule=\"evenodd\" fill-opacity=\"1\" /><path clip-path=\"url(#clip930)\" d=\"M2047.58 149.196 Q2042.42 149.196 2040.43 150.377 Q2038.44 151.557 2038.44 154.405 Q2038.44 156.673 2039.92 158.016 Q2041.42 159.335 2043.99 159.335 Q2047.53 159.335 2049.66 156.835 Q2051.82 154.312 2051.82 150.145 L2051.82 149.196 L2047.58 149.196 M2056.07 147.437 L2056.07 162.229 L2051.82 162.229 L2051.82 158.293 Q2050.36 160.655 2048.18 161.789 Q2046.01 162.9 2042.86 162.9 Q2038.88 162.9 2036.51 160.678 Q2034.18 158.432 2034.18 154.682 Q2034.18 150.307 2037.09 148.085 Q2040.03 145.863 2045.84 145.863 L2051.82 145.863 L2051.82 145.446 Q2051.82 142.507 2049.87 140.909 Q2047.95 139.289 2044.45 139.289 Q2042.23 139.289 2040.13 139.821 Q2038.02 140.354 2036.08 141.419 L2036.08 137.483 Q2038.41 136.581 2040.61 136.141 Q2042.81 135.678 2044.89 135.678 Q2050.52 135.678 2053.3 138.594 Q2056.07 141.511 2056.07 147.437 Z\" fill=\"#000000\" fill-rule=\"evenodd\" fill-opacity=\"1\" /><path clip-path=\"url(#clip930)\" d=\"M2075.64 164.636 Q2073.83 169.266 2072.12 170.678 Q2070.4 172.09 2067.53 172.09 L2064.13 172.09 L2064.13 168.525 L2066.63 168.525 Q2068.39 168.525 2069.36 167.692 Q2070.33 166.858 2071.51 163.756 L2072.28 161.812 L2061.79 136.303 L2066.31 136.303 L2074.41 156.581 L2082.51 136.303 L2087.02 136.303 L2075.64 164.636 Z\" fill=\"#000000\" fill-rule=\"evenodd\" fill-opacity=\"1\" /><path clip-path=\"url(#clip930)\" d=\"M2097.02 158.34 L2097.02 172.09 L2092.74 172.09 L2092.74 136.303 L2097.02 136.303 L2097.02 140.238 Q2098.37 137.923 2100.4 136.812 Q2102.46 135.678 2105.31 135.678 Q2110.03 135.678 2112.97 139.428 Q2115.94 143.178 2115.94 149.289 Q2115.94 155.4 2112.97 159.15 Q2110.03 162.9 2105.31 162.9 Q2102.46 162.9 2100.4 161.789 Q2098.37 160.655 2097.02 158.34 M2111.51 149.289 Q2111.51 144.59 2109.57 141.928 Q2107.65 139.243 2104.27 139.243 Q2100.89 139.243 2098.95 141.928 Q2097.02 144.59 2097.02 149.289 Q2097.02 153.988 2098.95 156.673 Q2100.89 159.335 2104.27 159.335 Q2107.65 159.335 2109.57 156.673 Q2111.51 153.988 2111.51 149.289 Z\" fill=\"#000000\" fill-rule=\"evenodd\" fill-opacity=\"1\" /><path clip-path=\"url(#clip930)\" d=\"M2133.04 139.289 Q2129.62 139.289 2127.63 141.974 Q2125.63 144.636 2125.63 149.289 Q2125.63 153.942 2127.6 156.627 Q2129.59 159.289 2133.04 159.289 Q2136.44 159.289 2138.44 156.604 Q2140.43 153.918 2140.43 149.289 Q2140.43 144.682 2138.44 141.997 Q2136.44 139.289 2133.04 139.289 M2133.04 135.678 Q2138.6 135.678 2141.77 139.289 Q2144.94 142.9 2144.94 149.289 Q2144.94 155.655 2141.77 159.289 Q2138.6 162.9 2133.04 162.9 Q2127.46 162.9 2124.29 159.289 Q2121.14 155.655 2121.14 149.289 Q2121.14 142.9 2124.29 139.289 Q2127.46 135.678 2133.04 135.678 Z\" fill=\"#000000\" fill-rule=\"evenodd\" fill-opacity=\"1\" /><path clip-path=\"url(#clip930)\" d=\"M2152 136.303 L2156.26 136.303 L2156.26 162.229 L2152 162.229 L2152 136.303 M2152 126.21 L2156.26 126.21 L2156.26 131.604 L2152 131.604 L2152 126.21 Z\" fill=\"#000000\" fill-rule=\"evenodd\" fill-opacity=\"1\" /><path clip-path=\"url(#clip930)\" d=\"M2186.72 146.581 L2186.72 162.229 L2182.46 162.229 L2182.46 146.719 Q2182.46 143.039 2181.03 141.21 Q2179.59 139.382 2176.72 139.382 Q2173.27 139.382 2171.28 141.581 Q2169.29 143.78 2169.29 147.576 L2169.29 162.229 L2165.01 162.229 L2165.01 136.303 L2169.29 136.303 L2169.29 140.331 Q2170.82 137.993 2172.88 136.835 Q2174.96 135.678 2177.67 135.678 Q2182.14 135.678 2184.43 138.456 Q2186.72 141.21 2186.72 146.581 Z\" fill=\"#000000\" fill-rule=\"evenodd\" fill-opacity=\"1\" /><path clip-path=\"url(#clip930)\" d=\"M2199.43 128.942 L2199.43 136.303 L2208.2 136.303 L2208.2 139.613 L2199.43 139.613 L2199.43 153.687 Q2199.43 156.858 2200.29 157.761 Q2201.17 158.664 2203.83 158.664 L2208.2 158.664 L2208.2 162.229 L2203.83 162.229 Q2198.9 162.229 2197.02 160.4 Q2195.15 158.548 2195.15 153.687 L2195.15 139.613 L2192.02 139.613 L2192.02 136.303 L2195.15 136.303 L2195.15 128.942 L2199.43 128.942 Z\" fill=\"#000000\" fill-rule=\"evenodd\" fill-opacity=\"1\" /><path clip-path=\"url(#clip930)\" d=\"M2230.33 137.067 L2230.33 141.094 Q2228.53 140.169 2226.58 139.706 Q2224.64 139.243 2222.56 139.243 Q2219.38 139.243 2217.79 140.215 Q2216.21 141.187 2216.21 143.131 Q2216.21 144.613 2217.35 145.469 Q2218.48 146.303 2221.91 147.067 L2223.37 147.391 Q2227.9 148.363 2229.8 150.145 Q2231.72 151.905 2231.72 155.076 Q2231.72 158.687 2228.85 160.793 Q2226 162.9 2221 162.9 Q2218.92 162.9 2216.65 162.483 Q2214.41 162.09 2211.91 161.28 L2211.91 156.881 Q2214.27 158.108 2216.56 158.733 Q2218.85 159.335 2221.1 159.335 Q2224.11 159.335 2225.73 158.317 Q2227.35 157.275 2227.35 155.4 Q2227.35 153.664 2226.17 152.738 Q2225.01 151.812 2221.05 150.956 L2219.57 150.608 Q2215.61 149.775 2213.85 148.062 Q2212.09 146.326 2212.09 143.317 Q2212.09 139.659 2214.69 137.669 Q2217.28 135.678 2222.05 135.678 Q2224.41 135.678 2226.49 136.025 Q2228.57 136.372 2230.33 137.067 Z\" fill=\"#000000\" fill-rule=\"evenodd\" fill-opacity=\"1\" /><polyline clip-path=\"url(#clip930)\" style=\"stroke:#e26f46; stroke-linecap:butt; stroke-linejoin:round; stroke-width:4; stroke-opacity:1; fill:none\" points=\"\n",
       "  1819.61,196.789 1964.85,196.789 \n",
       "  \"/>\n",
       "<path clip-path=\"url(#clip930)\" d=\"M1989.06 179.509 L2018.3 179.509 L2018.3 183.444 L2006.03 183.444 L2006.03 214.069 L2001.33 214.069 L2001.33 183.444 L1989.06 183.444 L1989.06 179.509 Z\" fill=\"#000000\" fill-rule=\"evenodd\" fill-opacity=\"1\" /><path clip-path=\"url(#clip930)\" d=\"M2030.68 192.124 Q2029.96 191.708 2029.11 191.522 Q2028.27 191.314 2027.26 191.314 Q2023.64 191.314 2021.7 193.675 Q2019.78 196.013 2019.78 200.411 L2019.78 214.069 L2015.5 214.069 L2015.5 188.143 L2019.78 188.143 L2019.78 192.171 Q2021.12 189.809 2023.27 188.675 Q2025.43 187.518 2028.51 187.518 Q2028.95 187.518 2029.48 187.587 Q2030.01 187.634 2030.66 187.749 L2030.68 192.124 Z\" fill=\"#000000\" fill-rule=\"evenodd\" fill-opacity=\"1\" /><path clip-path=\"url(#clip930)\" d=\"M2046.93 201.036 Q2041.77 201.036 2039.78 202.217 Q2037.79 203.397 2037.79 206.245 Q2037.79 208.513 2039.27 209.856 Q2040.77 211.175 2043.34 211.175 Q2046.89 211.175 2049.01 208.675 Q2051.17 206.152 2051.17 201.985 L2051.17 201.036 L2046.93 201.036 M2055.43 199.277 L2055.43 214.069 L2051.17 214.069 L2051.17 210.133 Q2049.71 212.495 2047.53 213.629 Q2045.36 214.74 2042.21 214.74 Q2038.23 214.74 2035.87 212.518 Q2033.53 210.272 2033.53 206.522 Q2033.53 202.147 2036.45 199.925 Q2039.39 197.703 2045.2 197.703 L2051.17 197.703 L2051.17 197.286 Q2051.17 194.347 2049.22 192.749 Q2047.3 191.129 2043.81 191.129 Q2041.58 191.129 2039.48 191.661 Q2037.37 192.194 2035.43 193.259 L2035.43 189.323 Q2037.76 188.421 2039.96 187.981 Q2042.16 187.518 2044.25 187.518 Q2049.87 187.518 2052.65 190.434 Q2055.43 193.351 2055.43 199.277 Z\" fill=\"#000000\" fill-rule=\"evenodd\" fill-opacity=\"1\" /><path clip-path=\"url(#clip930)\" d=\"M2064.2 188.143 L2068.46 188.143 L2068.46 214.532 Q2068.46 219.485 2066.56 221.707 Q2064.69 223.93 2060.5 223.93 L2058.88 223.93 L2058.88 220.319 L2060.01 220.319 Q2062.44 220.319 2063.32 219.184 Q2064.2 218.073 2064.2 214.532 L2064.2 188.143 M2064.2 178.05 L2068.46 178.05 L2068.46 183.444 L2064.2 183.444 L2064.2 178.05 Z\" fill=\"#000000\" fill-rule=\"evenodd\" fill-opacity=\"1\" /><path clip-path=\"url(#clip930)\" d=\"M2099.55 200.041 L2099.55 202.124 L2079.96 202.124 Q2080.24 206.522 2082.6 208.837 Q2084.99 211.129 2089.22 211.129 Q2091.68 211.129 2093.97 210.527 Q2096.28 209.925 2098.55 208.721 L2098.55 212.749 Q2096.26 213.721 2093.85 214.231 Q2091.45 214.74 2088.97 214.74 Q2082.76 214.74 2079.13 211.129 Q2075.52 207.518 2075.52 201.36 Q2075.52 194.995 2078.95 191.268 Q2082.39 187.518 2088.23 187.518 Q2093.46 187.518 2096.49 190.897 Q2099.55 194.254 2099.55 200.041 M2095.29 198.791 Q2095.24 195.296 2093.32 193.212 Q2091.42 191.129 2088.27 191.129 Q2084.71 191.129 2082.56 193.143 Q2080.43 195.157 2080.1 198.814 L2095.29 198.791 Z\" fill=\"#000000\" fill-rule=\"evenodd\" fill-opacity=\"1\" /><path clip-path=\"url(#clip930)\" d=\"M2125.19 189.138 L2125.19 193.12 Q2123.39 192.124 2121.56 191.638 Q2119.76 191.129 2117.9 191.129 Q2113.76 191.129 2111.47 193.768 Q2109.18 196.384 2109.18 201.129 Q2109.18 205.874 2111.47 208.513 Q2113.76 211.129 2117.9 211.129 Q2119.76 211.129 2121.56 210.643 Q2123.39 210.133 2125.19 209.138 L2125.19 213.073 Q2123.41 213.907 2121.49 214.323 Q2119.59 214.74 2117.44 214.74 Q2111.58 214.74 2108.13 211.059 Q2104.69 207.379 2104.69 201.129 Q2104.69 194.786 2108.16 191.152 Q2111.65 187.518 2117.72 187.518 Q2119.69 187.518 2121.56 187.935 Q2123.44 188.328 2125.19 189.138 Z\" fill=\"#000000\" fill-rule=\"evenodd\" fill-opacity=\"1\" /><path clip-path=\"url(#clip930)\" d=\"M2136.82 180.782 L2136.82 188.143 L2145.59 188.143 L2145.59 191.453 L2136.82 191.453 L2136.82 205.527 Q2136.82 208.698 2137.67 209.601 Q2138.55 210.504 2141.21 210.504 L2145.59 210.504 L2145.59 214.069 L2141.21 214.069 Q2136.28 214.069 2134.41 212.24 Q2132.53 210.388 2132.53 205.527 L2132.53 191.453 L2129.41 191.453 L2129.41 188.143 L2132.53 188.143 L2132.53 180.782 L2136.82 180.782 Z\" fill=\"#000000\" fill-rule=\"evenodd\" fill-opacity=\"1\" /><path clip-path=\"url(#clip930)\" d=\"M2161.24 191.129 Q2157.81 191.129 2155.82 193.814 Q2153.83 196.476 2153.83 201.129 Q2153.83 205.782 2155.8 208.467 Q2157.79 211.129 2161.24 211.129 Q2164.64 211.129 2166.63 208.444 Q2168.62 205.758 2168.62 201.129 Q2168.62 196.522 2166.63 193.837 Q2164.64 191.129 2161.24 191.129 M2161.24 187.518 Q2166.79 187.518 2169.96 191.129 Q2173.13 194.74 2173.13 201.129 Q2173.13 207.495 2169.96 211.129 Q2166.79 214.74 2161.24 214.74 Q2155.66 214.74 2152.49 211.129 Q2149.34 207.495 2149.34 201.129 Q2149.34 194.74 2152.49 191.129 Q2155.66 187.518 2161.24 187.518 Z\" fill=\"#000000\" fill-rule=\"evenodd\" fill-opacity=\"1\" /><path clip-path=\"url(#clip930)\" d=\"M2195.22 192.124 Q2194.5 191.708 2193.64 191.522 Q2192.81 191.314 2191.79 191.314 Q2188.18 191.314 2186.24 193.675 Q2184.32 196.013 2184.32 200.411 L2184.32 214.069 L2180.03 214.069 L2180.03 188.143 L2184.32 188.143 L2184.32 192.171 Q2185.66 189.809 2187.81 188.675 Q2189.96 187.518 2193.04 187.518 Q2193.48 187.518 2194.01 187.587 Q2194.55 187.634 2195.19 187.749 L2195.22 192.124 Z\" fill=\"#000000\" fill-rule=\"evenodd\" fill-opacity=\"1\" /><path clip-path=\"url(#clip930)\" d=\"M2210.47 216.476 Q2208.67 221.106 2206.95 222.518 Q2205.24 223.93 2202.37 223.93 L2198.97 223.93 L2198.97 220.365 L2201.47 220.365 Q2203.23 220.365 2204.2 219.532 Q2205.17 218.698 2206.35 215.596 L2207.12 213.652 L2196.63 188.143 L2201.14 188.143 L2209.25 208.421 L2217.35 188.143 L2221.86 188.143 L2210.47 216.476 Z\" fill=\"#000000\" fill-rule=\"evenodd\" fill-opacity=\"1\" /></svg>\n"
      ]
     },
     "metadata": {},
     "output_type": "display_data"
    }
   ],
   "source": [
    "using Plots\n",
    "\n",
    "scatter(xw[1,:].data, xw[2,:].data, label = \"Waypoints\")\n",
    "plot!(x_opt[1], x_opt[2], label = \"Trajectory\")\n",
    "xlabel!(\"x_1\")\n",
    "ylabel!(\"x_2\")"
   ]
  },
  {
   "cell_type": "markdown",
   "metadata": {},
   "source": [
    "We were able to express the model in its infinite form and `InfiniteOpt.jl` took care of the rest!"
   ]
  },
  {
   "cell_type": "markdown",
   "metadata": {},
   "source": [
    "### What did we just do?\n",
    "We will walk through each step of what we just did and learn about how `InfiniteOpt.jl` works.\n",
    "\n",
    "First, we created a model object using `InfiniteModel`:"
   ]
  },
  {
   "cell_type": "code",
   "execution_count": 7,
   "metadata": {},
   "outputs": [
    {
     "data": {
      "text/plain": [
       "An InfiniteOpt Model\n",
       "Feasibility problem with:\n",
       "Finite Parameters: 0\n",
       "Infinite Parameters: 0\n",
       "Variables: 0\n",
       "Derivatives: 0\n",
       "Measures: 0\n",
       "Optimizer model backend information: \n",
       "Model mode: AUTOMATIC\n",
       "CachingOptimizer state: EMPTY_OPTIMIZER\n",
       "Solver name: HiGHS"
      ]
     },
     "metadata": {},
     "output_type": "display_data"
    }
   ],
   "source": [
    "model = InfiniteModel(HiGHS.Optimizer)"
   ]
  },
  {
   "cell_type": "markdown",
   "metadata": {},
   "source": [
    "We provide the `InfiniteModel` with an optimizer (one supported by `JuMP`) that will ultimately be used by the optimizer model backend to solve the model. More on that later...\n",
    "\n",
    "Next, following our abstraction, we declare time $t \\in [0, 60]$ as an infinite parameter using `@infinite_parameter` which follows a syntax similar to `@variable`:"
   ]
  },
  {
   "cell_type": "code",
   "execution_count": 8,
   "metadata": {},
   "outputs": [
    {
     "data": {
      "text/latex": [
       "$$ t $$"
      ],
      "text/plain": [
       "t"
      ]
     },
     "metadata": {},
     "output_type": "display_data"
    }
   ],
   "source": [
    "@infinite_parameter(model, t ∈ [0, 60], num_supports = 61)"
   ]
  },
  {
   "cell_type": "markdown",
   "metadata": {},
   "source": [
    "The `num_supports` keyword tells the backend optimizer model we would like to use `61` support (discretization) points to solve the model. We discuss more about the backends and the arguments they take later on.\n",
    "\n",
    "Now that `t` is defined, let's add the infinite variables using `@variable`:"
   ]
  },
  {
   "cell_type": "code",
   "execution_count": 9,
   "metadata": {},
   "outputs": [
    {
     "data": {
      "text/plain": [
       "1-dimensional DenseAxisArray{GeneralVariableRef,1,...} with index sets:\n",
       "    Dimension 1, 1:2\n",
       "And data, a 2-element Vector{GeneralVariableRef}:\n",
       " u[1](t)\n",
       " u[2](t)"
      ]
     },
     "metadata": {},
     "output_type": "display_data"
    }
   ],
   "source": [
    "@variable(model, x[I], Infinite(t))\n",
    "@variable(model, v[I], Infinite(t))\n",
    "@variable(model, u[I], Infinite(t))"
   ]
  },
  {
   "cell_type": "markdown",
   "metadata": {},
   "source": [
    "Here, the syntax for `@variable` is exactly the same as what we learned for `JuMP`. The only extra thing we do is add the `Infinite` tag containing the infinite parameters the variable depends on.\n",
    "\n",
    "We define objective using `@objective` in like manner to `JuMP`:"
   ]
  },
  {
   "cell_type": "code",
   "execution_count": 10,
   "metadata": {},
   "outputs": [
    {
     "data": {
      "text/latex": [
       "$$ \\int_{t \\in [0, 60]}u_{1}(t)^2 + u_{2}(t)^2dt $$"
      ],
      "text/plain": [
       "integral{t in [0, 60]}[u[1](t)² + u[2](t)²]"
      ]
     },
     "metadata": {},
     "output_type": "display_data"
    }
   ],
   "source": [
    "@objective(model, Min, ∫(u[1]^2 + u[2]^2, t)) # ∫ is unicode from \\int"
   ]
  },
  {
   "cell_type": "markdown",
   "metadata": {},
   "source": [
    "Notice we are able to directly express the integral using `∫` (we can also use `integral`) with respect to the infinite parameter `t`. Its domain is inferred, but we can specify a subdomain and the approximation method we would like to use; more on that later.\n",
    "\n",
    "Now we define ODEs using `@constraint`, expressing the derivatives with `∂` (can also use `deriv`) using `JuMP`'s broadcasting syntax for convenience:"
   ]
  },
  {
   "cell_type": "code",
   "execution_count": 11,
   "metadata": {},
   "outputs": [
    {
     "data": {
      "text/plain": [
       "1-dimensional DenseAxisArray{InfOptConstraintRef,1,...} with index sets:\n",
       "    Dimension 1, 1:2\n",
       "And data, a 2-element Vector{InfOptConstraintRef}:\n",
       " d/dt[v[1](t)] - u[1](t) == 0.0, for all t in [0, 60]\n",
       " d/dt[v[2](t)] - u[2](t) == 0.0, for all t in [0, 60]"
      ]
     },
     "metadata": {},
     "output_type": "display_data"
    }
   ],
   "source": [
    "@constraint(model, ∂.(x, t) .== v)\n",
    "@constraint(model, ∂.(v, t) .== u)"
   ]
  },
  {
   "cell_type": "markdown",
   "metadata": {},
   "source": [
    "All the same constraint types and forms supported by `JuMP.jl`, are also supported in `InfiniteOpt.jl`!\n",
    "\n",
    "We also define the initial condition:"
   ]
  },
  {
   "cell_type": "code",
   "execution_count": 12,
   "metadata": {},
   "outputs": [
    {
     "data": {
      "text/plain": [
       "1-dimensional DenseAxisArray{InfOptConstraintRef,1,...} with index sets:\n",
       "    Dimension 1, 1:2\n",
       "And data, a 2-element Vector{InfOptConstraintRef}:\n",
       " v[1](0) == 0.0\n",
       " v[2](0) == 0.0"
      ]
     },
     "metadata": {},
     "output_type": "display_data"
    }
   ],
   "source": [
    "@constraint(model, [i ∈ I], v[i](0) == v0[i])"
   ]
  },
  {
   "cell_type": "markdown",
   "metadata": {},
   "source": [
    "Notice that we can enforce this point constraint by calling `v[i](0)`, this creates a point variable of `v[i](t)` at time 0.\n",
    "\n",
    "Next, we'll add the waypoint constraint:"
   ]
  },
  {
   "cell_type": "code",
   "execution_count": 14,
   "metadata": {},
   "outputs": [
    {
     "data": {
      "text/plain": [
       "2-dimensional DenseAxisArray{InfOptConstraintRef,2,...} with index sets:\n",
       "    Dimension 1, 1:2\n",
       "    Dimension 2, [0, 25, 50, 60]\n",
       "And data, a 2×4 Matrix{InfOptConstraintRef}:\n",
       " x[1](0) == 1.0  x[1](25) == 4.0  x[1](50) == 6.0  x[1](60) == 1.0\n",
       " x[2](0) == 1.0  x[2](25) == 3.0  x[2](50) == 0.0  x[2](60) == 1.0"
      ]
     },
     "metadata": {},
     "output_type": "display_data"
    }
   ],
   "source": [
    "@constraint(model, [i ∈ I, tw ∈ Dtw], x[i](tw) == xw[i, tw])"
   ]
  },
  {
   "cell_type": "markdown",
   "metadata": {},
   "source": [
    "Again we use the point variable syntax to enforce `x` at the waypoint time points `tw`.\n",
    "\n",
    "With our model defined, we can interrogate it via pretty printing it using `latex_formulation`:"
   ]
  },
  {
   "cell_type": "code",
   "execution_count": 15,
   "metadata": {},
   "outputs": [
    {
     "data": {
      "text/latex": [
       "$$ \\begin{aligned}\n",
       "\\min\\quad & \\int_{t \\in [0, 60]}u_{1}(t)^2 + u_{2}(t)^2dt\\\\\n",
       "\\text{Subject to} \\quad & \\frac{\\partial}{\\partial t}\\left[x_{1}(t)\\right] - v_{1}(t) = 0.0, \\quad\\forall t \\in [0, 60]\\\\\n",
       " & \\frac{\\partial}{\\partial t}\\left[x_{2}(t)\\right] - v_{2}(t) = 0.0, \\quad\\forall t \\in [0, 60]\\\\\n",
       " & \\frac{\\partial}{\\partial t}\\left[v_{1}(t)\\right] - u_{1}(t) = 0.0, \\quad\\forall t \\in [0, 60]\\\\\n",
       " & \\frac{\\partial}{\\partial t}\\left[v_{2}(t)\\right] - u_{2}(t) = 0.0, \\quad\\forall t \\in [0, 60]\\\\\n",
       " & v_{1}(0) = 0.0\\\\\n",
       " & v_{2}(0) = 0.0\\\\\n",
       " & x_{1}(0) = 1.0\\\\\n",
       " & x_{2}(0) = 1.0\\\\\n",
       " & x_{1}(25) = 4.0\\\\\n",
       " & x_{2}(25) = 3.0\\\\\n",
       " & x_{1}(50) = 6.0\\\\\n",
       " & x_{2}(50) = 0.0\\\\\n",
       " & x_{1}(60) = 1.0\\\\\n",
       " & x_{2}(60) = 1.0\\\\\n",
       "\\end{aligned} $$"
      ],
      "text/plain": [
       "$$ \\begin{aligned}\n",
       "\\min\\quad & \\int_{t \\in [0, 60]}u_{1}(t)^2 + u_{2}(t)^2dt\\\\\n",
       "\\text{Subject to} \\quad & \\frac{\\partial}{\\partial t}\\left[x_{1}(t)\\right] - v_{1}(t) = 0.0, \\quad\\forall t \\in [0, 60]\\\\\n",
       " & \\frac{\\partial}{\\partial t}\\left[x_{2}(t)\\right] - v_{2}(t) = 0.0, \\quad\\forall t \\in [0, 60]\\\\\n",
       " & \\frac{\\partial}{\\partial t}\\left[v_{1}(t)\\right] - u_{1}(t) = 0.0, \\quad\\forall t \\in [0, 60]\\\\\n",
       " & \\frac{\\partial}{\\partial t}\\left[v_{2}(t)\\right] - u_{2}(t) = 0.0, \\quad\\forall t \\in [0, 60]\\\\\n",
       " & v_{1}(0) = 0.0\\\\\n",
       " & v_{2}(0) = 0.0\\\\\n",
       " & x_{1}(0) = 1.0\\\\\n",
       " & x_{2}(0) = 1.0\\\\\n",
       " & x_{1}(25) = 4.0\\\\\n",
       " & x_{2}(25) = 3.0\\\\\n",
       " & x_{1}(50) = 6.0\\\\\n",
       " & x_{2}(50) = 0.0\\\\\n",
       " & x_{1}(60) = 1.0\\\\\n",
       " & x_{2}(60) = 1.0\\\\\n",
       "\\end{aligned} $$"
      ]
     },
     "metadata": {},
     "output_type": "display_data"
    }
   ],
   "source": [
    "latex_formulation(model)"
   ]
  },
  {
   "cell_type": "markdown",
   "metadata": {},
   "source": [
    "In contrast to working with finite-time models, we can feasibly print interpretable models for real-world problems since the infinite-dimensional form is typically much more compact.\n",
    "\n",
    "With the model all setup, we can optimize it via `optimize!`:"
   ]
  },
  {
   "cell_type": "code",
   "execution_count": 16,
   "metadata": {},
   "outputs": [
    {
     "name": "stdout",
     "output_type": "stream",
     "text": [
      "0, 249.000044, 116, 0.000000, 0.000000, 0, 0.000000, 0.000000\n",
      "496, 0.043758, 116, 0.023991, 0.000000, 0, 0.000000, 0.071913\n",
      "Model   status      : Optimal\n",
      "QP ASM    iterations: 496\n",
      "Objective value     :  4.3685296066e-02\n",
      "HiGHS run time      :          0.02\n"
     ]
    }
   ],
   "source": [
    "optimize!(model)"
   ]
  },
  {
   "cell_type": "markdown",
   "metadata": {},
   "source": [
    "Behind the scenes, our infinite-dimensional model was transformed into a `JuMP.jl` model (the optimizer model backend) via the default transformation method (direct transcription using the 61 supports specified above). We can take a quick sneak peak at the optimizer model:"
   ]
  },
  {
   "cell_type": "code",
   "execution_count": 17,
   "metadata": {},
   "outputs": [
    {
     "data": {
      "text/plain": [
       "A JuMP Model\n",
       "Minimization problem with:\n",
       "Variables: 610\n",
       "Objective function type: QuadExpr\n",
       "`AffExpr`-in-`MathOptInterface.EqualTo{Float64}`: 494 constraints\n",
       "Model mode: AUTOMATIC\n",
       "CachingOptimizer state: ATTACHED_OPTIMIZER\n",
       "Solver name: HiGHS"
      ]
     },
     "metadata": {},
     "output_type": "display_data"
    }
   ],
   "source": [
    "optimizer_model(model)"
   ]
  },
  {
   "cell_type": "markdown",
   "metadata": {},
   "source": [
    "It is indeed a `JuMP.jl` model that uses the `HiGHS` optimizer (it also has some extra stuff to help it integrate seamlessly with the `InfiniteModel`). Note that pretty printing this discrete model would be impractical.\n",
    "\n",
    "Finally, to complete this example we query the results using `value`:"
   ]
  },
  {
   "cell_type": "code",
   "execution_count": 18,
   "metadata": {},
   "outputs": [
    {
     "data": {
      "text/plain": [
       "1-dimensional DenseAxisArray{Vector{Float64},1,...} with index sets:\n",
       "    Dimension 1, 1:2\n",
       "And data, a 2-element Vector{Vector{Float64}}:\n",
       " [1.0, 1.0096738980281634, 1.0289666539247435, 1.0578231780081901, 1.0961883301050024, 1.144006918101388, 1.2012236960194884, 1.2677833616209226, 1.3436305535404203, 1.428709847952302  …  5.650238034895405, 5.253196766570277, 4.814130286582207, 4.338292419626459, 3.8309367460146624, 3.297316625992073, 2.7426852256306833, 2.172295544035541, 1.5914004416016192, 1.0]\n",
       " [1.0, 1.0202691735547387, 1.0590434927421362, 1.1145588804771736, 1.1850512083967695, 1.2687562939075985, 1.3639098964850567, 1.468747713311583, 1.5815053743425487, 1.7004184368879331  …  0.021971808732314156, 0.0684977913482211, 0.13684975714656547, 0.22429951418390093, 0.3281188655840728, 0.44557960489291154, 0.573953510614444, 0.7105123400650357, 0.8525278226818718, 1.0]"
      ]
     },
     "metadata": {},
     "output_type": "display_data"
    }
   ],
   "source": [
    "value.(x)"
   ]
  },
  {
   "cell_type": "markdown",
   "metadata": {},
   "source": [
    "Notice, we get a vector of values for each infinite variable `x[i](t)`. These correspond to the discrete time values used in the reformulation which we can also retrieve using `value`:"
   ]
  },
  {
   "cell_type": "code",
   "execution_count": 19,
   "metadata": {},
   "outputs": [
    {
     "data": {
      "text/plain": [
       "61-element Vector{Float64}:\n",
       "  0.0\n",
       "  1.0\n",
       "  2.0\n",
       "  3.0\n",
       "  4.0\n",
       "  5.0\n",
       "  6.0\n",
       "  7.0\n",
       "  8.0\n",
       "  9.0\n",
       "  ⋮\n",
       " 52.0\n",
       " 53.0\n",
       " 54.0\n",
       " 55.0\n",
       " 56.0\n",
       " 57.0\n",
       " 58.0\n",
       " 59.0\n",
       " 60.0"
      ]
     },
     "metadata": {},
     "output_type": "display_data"
    }
   ],
   "source": [
    "value(t)"
   ]
  },
  {
   "cell_type": "markdown",
   "metadata": {},
   "source": [
    "We can also make other queries as we typically do with `JuMP` models. For instance,"
   ]
  },
  {
   "cell_type": "code",
   "execution_count": 20,
   "metadata": {},
   "outputs": [
    {
     "name": "stdout",
     "output_type": "stream",
     "text": [
      "termination_status(model) = MathOptInterface.OPTIMAL\n",
      "primal_status(model) = MathOptInterface.FEASIBLE_POINT\n",
      "solve_time(model) = 0.023991107940673828\n",
      "objective_value(model) = 0.04368529606639673\n"
     ]
    }
   ],
   "source": [
    "@show termination_status(model)\n",
    "@show primal_status(model)\n",
    "@show solve_time(model)\n",
    "@show objective_value(model);"
   ]
  },
  {
   "cell_type": "markdown",
   "metadata": {},
   "source": [
    "## The Building Blocks of `InfiniteModel`s\n",
    "In this section, we go over the syntax for the modeling objects used in `InfiniteModel`s as per our unifying abstraction. \n",
    "\n",
    "Note that many of these constructs such as variables, expressions, objectives, constraints, etc. inherit all capabilities that `JuMP.jl`. `InfiniteOpt.jl` extends these to have additional capabilities needed for InfiniteOpt problems. Hence, our discussion will focus on these additional features.\n",
    "\n",
    "### Infinite Models\n",
    "The object behind it all, is the `InfiniteModel` itself. Typically, we will specify this with the optimizer we wish the default optimizer model backend (`TranscriptionOpt`) to use. We'll discuss optimizer models further below, but note that the following definitions are equivalent:"
   ]
  },
  {
   "cell_type": "code",
   "execution_count": 21,
   "metadata": {},
   "outputs": [],
   "source": [
    "model = InfiniteModel(HiGHS.Optimizer, add_bridges = false)\n",
    "\n",
    "model = InfiniteModel()\n",
    "set_optimizer_model(model, TranscriptionModel(HiGHS.Optimizer, add_bridges = false))"
   ]
  },
  {
   "cell_type": "markdown",
   "metadata": {},
   "source": [
    "A `TranscriptionModel` is an augmented `JuMP.Model`. Note that the arguments given to `InfiniteModel` are simply forwarded to the optimizer model. We can also provide the constructor of the optimizer backend directly: "
   ]
  },
  {
   "cell_type": "code",
   "execution_count": 22,
   "metadata": {},
   "outputs": [
    {
     "data": {
      "text/plain": [
       "An InfiniteOpt Model\n",
       "Feasibility problem with:\n",
       "Finite Parameters: 0\n",
       "Infinite Parameters: 0\n",
       "Variables: 0\n",
       "Derivatives: 0\n",
       "Measures: 0\n",
       "Optimizer model backend information: \n",
       "Model mode: AUTOMATIC\n",
       "CachingOptimizer state: EMPTY_OPTIMIZER\n",
       "Solver name: HiGHS"
      ]
     },
     "metadata": {},
     "output_type": "display_data"
    }
   ],
   "source": [
    "model = InfiniteModel(HiGHS.Optimizer, OptimizerModel = TranscriptionModel)"
   ]
  },
  {
   "cell_type": "markdown",
   "metadata": {},
   "source": [
    "This is not necessary in this case since `TranscriptionModel` is the default `OptimizerModel`.\n",
    "\n",
    "We can set the optimizer and attributes in like manner to `JuMP`:"
   ]
  },
  {
   "cell_type": "code",
   "execution_count": 34,
   "metadata": {},
   "outputs": [],
   "source": [
    "model = InfiniteModel()\n",
    "set_optimizer(model, HiGHS.Optimizer)\n",
    "set_silent(model)\n",
    "set_optimizer_attribute(model, \"presolve\", \"on\")"
   ]
  },
  {
   "cell_type": "markdown",
   "metadata": {},
   "source": [
    "### Finite Parameters\n",
    "As we saw, `JuMP.jl` has limited support for using changeable parameters. `InfiniteOpt.jl` provides finite parameters whose values can be changed and which can be used in any expression. \n",
    "\n",
    "These are created via `@finite_parameter` which follows a similar syntax to `JuMP.jl`'s `@NLparameter`:"
   ]
  },
  {
   "cell_type": "code",
   "execution_count": 35,
   "metadata": {},
   "outputs": [
    {
     "data": {
      "text/plain": [
       "2-element Vector{GeneralVariableRef}:\n",
       " ps[1]\n",
       " ps[2]"
      ]
     },
     "metadata": {},
     "output_type": "display_data"
    }
   ],
   "source": [
    "@finite_parameter(model, p == 42)\n",
    "@finite_parameter(model, ps[i ∈ 1:2] == i)"
   ]
  },
  {
   "cell_type": "markdown",
   "metadata": {},
   "source": [
    "However, unlike `@NLexpression`, these parameters can be used anywhere in the model. We can query and modify the values with `value` and `set_value`, respectively:"
   ]
  },
  {
   "cell_type": "code",
   "execution_count": 36,
   "metadata": {},
   "outputs": [
    {
     "name": "stdout",
     "output_type": "stream",
     "text": [
      "value(p) = 42.0\n",
      "value(p) = 10.0\n"
     ]
    }
   ],
   "source": [
    "@show value(p)\n",
    "\n",
    "set_value(p, 10)\n",
    "\n",
    "@show value(p);"
   ]
  },
  {
   "cell_type": "markdown",
   "metadata": {},
   "source": [
    "We can also delete parameters from the model:"
   ]
  },
  {
   "cell_type": "code",
   "execution_count": 37,
   "metadata": {},
   "outputs": [],
   "source": [
    "delete(model, ps[1])"
   ]
  },
  {
   "cell_type": "markdown",
   "metadata": {},
   "source": [
    "For more information (including anonymous definition) see https://pulsipher.github.io/InfiniteOpt.jl/stable/guide/finite_parameter/"
   ]
  },
  {
   "cell_type": "markdown",
   "metadata": {},
   "source": [
    "### Infinite Parameters\n",
    "Infinite parameters serve as the core entity for defining infinite-dimensional modeling objects. They parameterize the domain of the problem (called the infinite domain). These are defined via `@infinite_parameter`:"
   ]
  },
  {
   "cell_type": "code",
   "execution_count": 38,
   "metadata": {},
   "outputs": [
    {
     "data": {
      "text/latex": [
       "$$ t $$"
      ],
      "text/plain": [
       "t"
      ]
     },
     "metadata": {},
     "output_type": "display_data"
    }
   ],
   "source": [
    "@infinite_parameter(model, t ∈ [0, 10])"
   ]
  },
  {
   "cell_type": "markdown",
   "metadata": {},
   "source": [
    "This will follow the syntax of `infinite_parameter(s)` in `infinite_domain`. In optimal control, we will typically be concerned time `t`, but we can also define other domain types like spatial position $x \\in [-1, 1]^2$:"
   ]
  },
  {
   "cell_type": "code",
   "execution_count": 39,
   "metadata": {},
   "outputs": [
    {
     "data": {
      "text/plain": [
       "2-element Vector{GeneralVariableRef}:\n",
       " x[1]\n",
       " x[2]"
      ]
     },
     "metadata": {},
     "output_type": "display_data"
    }
   ],
   "source": [
    "@infinite_parameter(model, x[1:2] in [-1, 1], independent = true, num_supports = 42, derivative_method = OrthogonalCollocation(3))"
   ]
  },
  {
   "cell_type": "markdown",
   "metadata": {},
   "source": [
    "Notice we can pass some keyword arguments as well:\n",
    "- `independent` indicates whether the parameters are independent such that their domain is computed via the Cartesian product\n",
    "- `num_supports` is an argument for the optimizer model indicating how many supports we'd like to use\n",
    "- `derivative_method` is another optimizer model argument indicating how we want to approximate the derivatives that depend on these parameters.\n",
    "\n",
    "We can also define random parameters with any distribution from `Distributions.jl`. For instance,"
   ]
  },
  {
   "cell_type": "code",
   "execution_count": 40,
   "metadata": {},
   "outputs": [
    {
     "data": {
      "text/plain": [
       "4-element Vector{GeneralVariableRef}:\n",
       " ξ[1]\n",
       " ξ[2]\n",
       " ξ[3]\n",
       " ξ[4]"
      ]
     },
     "metadata": {},
     "output_type": "display_data"
    }
   ],
   "source": [
    "using Distributions\n",
    "\n",
    "@infinite_parameter(model, ξ[1:4] ~ Dirichlet(4, 1), num_supports = 1000)"
   ]
  },
  {
   "cell_type": "markdown",
   "metadata": {},
   "source": [
    "This enables us to tackle stochastic programs as well!\n",
    "\n",
    "We can also do some optimizer model related changes after definition. For instance:"
   ]
  },
  {
   "cell_type": "code",
   "execution_count": 41,
   "metadata": {},
   "outputs": [],
   "source": [
    "add_supports(t, [0, 0.3, 4, 10])\n",
    "set_derivative_method(t, FiniteDifference(Backward()))"
   ]
  },
  {
   "cell_type": "markdown",
   "metadata": {},
   "source": [
    "Finally, we can delete infinite parameters if we want to:"
   ]
  },
  {
   "cell_type": "code",
   "execution_count": 42,
   "metadata": {},
   "outputs": [],
   "source": [
    "delete(model, ξ)"
   ]
  },
  {
   "cell_type": "markdown",
   "metadata": {},
   "source": [
    "#### Exercise: Create an Infinite Parameter\n",
    "**Problem**\n",
    "- Create an infinite parameter $\\ell \\in [-1, 1]$\n",
    "- Specify that it should use 10 supports"
   ]
  },
  {
   "cell_type": "code",
   "execution_count": 43,
   "metadata": {},
   "outputs": [
    {
     "data": {
      "text/latex": [
       "$$ ℓ $$"
      ],
      "text/plain": [
       "ℓ"
      ]
     },
     "metadata": {},
     "output_type": "display_data"
    }
   ],
   "source": [
    "# PUT CODE HERE\n",
    "@infinite_parameter(model, ℓ ∈ [-1, 1], num_supports = 10)"
   ]
  },
  {
   "cell_type": "markdown",
   "metadata": {},
   "source": [
    "For more information (including anonymous definition) see https://pulsipher.github.io/InfiniteOpt.jl/stable/guide/parameter/"
   ]
  },
  {
   "cell_type": "markdown",
   "metadata": {},
   "source": [
    "### Parameter Functions\n",
    "Sometimes we may wish to embed some arbitrary Julia function of infinite parameters into our model. This is often the case with setpoints in optimal control and experimental data in parameter estimation.\n",
    "\n",
    "While it is sometimes possible to represent these as explicit algebraic expressions, it is not always convenient or possible. To this end we provide, parameter functions via `@parameter_function` which follows a \n",
    "`JuMP`-like syntax:"
   ]
  },
  {
   "cell_type": "code",
   "execution_count": 44,
   "metadata": {},
   "outputs": [
    {
     "data": {
      "text/latex": [
       "$$ mysetpoint(t) $$"
      ],
      "text/plain": [
       "mysetpoint(t)"
      ]
     },
     "metadata": {},
     "output_type": "display_data"
    }
   ],
   "source": [
    "function setpoint(t)\n",
    "    if t <= 2\n",
    "        return 1.2\n",
    "    elseif t <= 5\n",
    "        return 3.0\n",
    "    elseif t <= 7\n",
    "        return 1.6\n",
    "    else\n",
    "        return 3.5\n",
    "    end\n",
    "end\n",
    "\n",
    "@parameter_function(model, mysetpoint == setpoint(t))"
   ]
  },
  {
   "cell_type": "markdown",
   "metadata": {},
   "source": [
    "We can then use `mysetpoint` in any expression in `InfiniteOpt.jl`, and it will be handled appropriately when the model is transformed. Note that functions must return a scalar number.\n",
    "\n",
    "Sometimes it is also convenient to use the functional definition API `parameter_function` with a Julia `do` block:"
   ]
  },
  {
   "cell_type": "code",
   "execution_count": 45,
   "metadata": {},
   "outputs": [
    {
     "data": {
      "text/latex": [
       "$$ setpoint(t) $$"
      ],
      "text/plain": [
       "setpoint(t)"
      ]
     },
     "metadata": {},
     "output_type": "display_data"
    }
   ],
   "source": [
    "mysetpoint = parameter_function(t, name = \"setpoint\") do t\n",
    "    if t <= 5\n",
    "        return 2.0\n",
    "    else \n",
    "        return 10.2\n",
    "    end\n",
    " end"
   ]
  },
  {
   "cell_type": "markdown",
   "metadata": {},
   "source": [
    "We can also define a collection of parameter functions that depend on some parent function:"
   ]
  },
  {
   "cell_type": "code",
   "execution_count": 46,
   "metadata": {},
   "outputs": [
    {
     "data": {
      "text/plain": [
       "3-element Vector{GeneralVariableRef}:\n",
       " pfunc[1](t)\n",
       " pfunc[2](t)\n",
       " pfunc[3](t)"
      ]
     },
     "metadata": {},
     "output_type": "display_data"
    }
   ],
   "source": [
    "parent(t, a) = sin(t)^a\n",
    "\n",
    "@parameter_function(model, pfunc[i = 1:3] == t -> parent(t, i))"
   ]
  },
  {
   "cell_type": "markdown",
   "metadata": {},
   "source": [
    "For more information (including anonymous definition) see https://pulsipher.github.io/InfiniteOpt.jl/stable/guide/expression/#par_func_docs."
   ]
  },
  {
   "cell_type": "markdown",
   "metadata": {},
   "source": [
    "### Variables\n",
    "All variables can be made with `@variable` just like any `JuMP.jl` variable, the only difference is that we'll add an appropriate \"tag\" to it.\n",
    "\n",
    "Let's begin with the most common: infinite variables.\n",
    "\n",
    "These use the `Infinite` tag as we have already seen:"
   ]
  },
  {
   "cell_type": "code",
   "execution_count": 47,
   "metadata": {},
   "outputs": [
    {
     "data": {
      "text/latex": [
       "$$ y(t) $$"
      ],
      "text/plain": [
       "y(t)"
      ]
     },
     "metadata": {},
     "output_type": "display_data"
    }
   ],
   "source": [
    "@variable(model, y >= 0, Infinite(t))"
   ]
  },
  {
   "cell_type": "markdown",
   "metadata": {},
   "source": [
    "Notice we can add bounds and conditions like normal.\n",
    "\n",
    "Uniquely, with infinite variables we can provide a start (guess) that a function with the same input dimensions as the variable. For instance:"
   ]
  },
  {
   "cell_type": "code",
   "execution_count": 48,
   "metadata": {},
   "outputs": [
    {
     "data": {
      "text/plain": [
       "2-element Vector{GeneralVariableRef}:\n",
       " w[1](t)\n",
       " w[2](t)"
      ]
     },
     "metadata": {},
     "output_type": "display_data"
    }
   ],
   "source": [
    "@variable(model, -1 <= w[i = 1:2] <= 1, Infinite(t), start = sin)\n",
    "model[:w] # macro objects are registered like they are in JuMP"
   ]
  },
  {
   "cell_type": "markdown",
   "metadata": {},
   "source": [
    "Each $w_i(t)$ is set with an initial guess trajectory of $\\sin(t)$.\n",
    "\n",
    "Next, semi-infinite variables correspond to infinite variables whose domain is partially evaluated. We can define these using the `SemiInfinite` tag or via our functional syntax:"
   ]
  },
  {
   "cell_type": "code",
   "execution_count": 49,
   "metadata": {},
   "outputs": [
    {
     "data": {
      "text/latex": [
       "$$ q0 $$"
      ],
      "text/plain": [
       "q0"
      ]
     },
     "metadata": {},
     "output_type": "display_data"
    }
   ],
   "source": [
    "@variable(model, q, Infinite(t, x)) # an infinite variable \n",
    "\n",
    "@variable(model, q0, SemiInfinite(q, 0, x)) # macro definition\n",
    "\n",
    "q0 = q(0, x) # functional definition"
   ]
  },
  {
   "cell_type": "markdown",
   "metadata": {},
   "source": [
    "Here `q0` acts as an alias Julia variable. Note that simply invoking the functional syntax at different time point will have intuitive printing:"
   ]
  },
  {
   "cell_type": "code",
   "execution_count": 50,
   "metadata": {},
   "outputs": [
    {
     "data": {
      "text/latex": [
       "$$ q(1, [x[1], x[2]]) $$"
      ],
      "text/plain": [
       "q(1, [x[1], x[2]])"
      ]
     },
     "metadata": {},
     "output_type": "display_data"
    }
   ],
   "source": [
    "q(1, x)"
   ]
  },
  {
   "cell_type": "markdown",
   "metadata": {},
   "source": [
    "Similarly, we can define point variables using the convenient functional syntax:"
   ]
  },
  {
   "cell_type": "code",
   "execution_count": 51,
   "metadata": {},
   "outputs": [
    {
     "data": {
      "text/latex": [
       "$$ y(10) $$"
      ],
      "text/plain": [
       "y(10)"
      ]
     },
     "metadata": {},
     "output_type": "display_data"
    }
   ],
   "source": [
    "q(0, [-1, 1])\n",
    "y(10)"
   ]
  },
  {
   "cell_type": "markdown",
   "metadata": {},
   "source": [
    "Alternatively, we can use `@variable` with the `Point` tag:"
   ]
  },
  {
   "cell_type": "code",
   "execution_count": 52,
   "metadata": {},
   "outputs": [
    {
     "data": {
      "text/latex": [
       "$$ y0 $$"
      ],
      "text/plain": [
       "y0"
      ]
     },
     "metadata": {},
     "output_type": "display_data"
    }
   ],
   "source": [
    "@variable(model, y0, Point(y, 0))"
   ]
  },
  {
   "cell_type": "markdown",
   "metadata": {},
   "source": [
    "Finally, we can define finite variables by simply using the `@variable` as one normally would in `JuMP.jl`: "
   ]
  },
  {
   "cell_type": "code",
   "execution_count": 53,
   "metadata": {},
   "outputs": [
    {
     "data": {
      "text/latex": [
       "$$ z $$"
      ],
      "text/plain": [
       "z"
      ]
     },
     "metadata": {},
     "output_type": "display_data"
    }
   ],
   "source": [
    "@variable(model, 0 ≤ z ≤ 4, Int)"
   ]
  },
  {
   "cell_type": "markdown",
   "metadata": {},
   "source": [
    "Moreover, variables can be modified/queried/deleted in like manner to those in `JuMP.jl` with the same functions. Some examples include:\n",
    "- `set_lower_bound`\n",
    "- `fix`\n",
    "- `set_binary`\n",
    "- `UpperBoundRef`\n",
    "- `set_start_value`\n",
    "- `delete`\n",
    "\n",
    "The only exception is that for infinite variables and derivatives the start values are queried/modified via `start_value_function` and `set_start_value_function`.\n",
    "\n",
    "We can also query the infinite parameters that a variable depends on via `parameter_refs`:"
   ]
  },
  {
   "cell_type": "code",
   "execution_count": 54,
   "metadata": {},
   "outputs": [
    {
     "data": {
      "text/plain": [
       "(t, GeneralVariableRef[x[1], x[2]])"
      ]
     },
     "metadata": {},
     "output_type": "display_data"
    }
   ],
   "source": [
    "parameter_refs(q)"
   ]
  },
  {
   "cell_type": "markdown",
   "metadata": {},
   "source": [
    "#### Exercise: Create Variables\n",
    "**Problem**\n",
    "- Add a variable $v(\\ell) \\in \\{0, 1\\}^2$\n",
    "- Create a point variable $v_1(-1)$"
   ]
  },
  {
   "cell_type": "code",
   "execution_count": 55,
   "metadata": {},
   "outputs": [
    {
     "data": {
      "text/latex": [
       "$$ v_{1}(-1) $$"
      ],
      "text/plain": [
       "v[1](-1)"
      ]
     },
     "metadata": {},
     "output_type": "display_data"
    }
   ],
   "source": [
    "# PUT CODE HERE\n",
    "@variable(model, v[1:2], Infinite(ℓ), Bin)\n",
    "v[1](-1)"
   ]
  },
  {
   "cell_type": "markdown",
   "metadata": {},
   "source": [
    "For more information (including anonymous definitions) see https://pulsipher.github.io/InfiniteOpt.jl/stable/guide/variable/."
   ]
  },
  {
   "cell_type": "markdown",
   "metadata": {},
   "source": [
    "### Differential Operators\n",
    "Differential operators capture how infinite variables vary with respect to infinite parameters. `InfiniteOpt.jl` currently supports derivative operators.\n",
    "\n",
    "These can be defined via `deriv` (alternatively, `∂` produced with `\\partial`):"
   ]
  },
  {
   "cell_type": "code",
   "execution_count": 56,
   "metadata": {},
   "outputs": [
    {
     "data": {
      "text/latex": [
       "$$ \\frac{\\partial}{\\partial t}\\left[y(t)\\right] $$"
      ],
      "text/plain": [
       "d/dt[y(t)]"
      ]
     },
     "metadata": {},
     "output_type": "display_data"
    }
   ],
   "source": [
    "∂(y, t) # make a first order derivative"
   ]
  },
  {
   "cell_type": "markdown",
   "metadata": {},
   "source": [
    "This can even operate directly on affine/quadratic expressions:"
   ]
  },
  {
   "cell_type": "code",
   "execution_count": 57,
   "metadata": {},
   "outputs": [
    {
     "data": {
      "text/latex": [
       "$$ 2 \\frac{\\partial}{\\partial t}\\left[y(t)\\right]\\times z - 2 \\frac{\\partial}{\\partial t}\\left[y(t)\\right]\\times y(t) + 4 \\frac{\\partial}{\\partial t}\\left[y(t)\\right] $$"
      ],
      "text/plain": [
       "2 d/dt[y(t)]*z - 2 d/dt[y(t)]*y(t) + 4 d/dt[y(t)]"
      ]
     },
     "metadata": {},
     "output_type": "display_data"
    }
   ],
   "source": [
    "∂(2y * z - y^2 + 4y - z + 2, t)"
   ]
  },
  {
   "cell_type": "markdown",
   "metadata": {},
   "source": [
    "Here the proper symbolic calculus rules are respected. We could even (unnecessarily) input an expression of infinite parameters:"
   ]
  },
  {
   "cell_type": "code",
   "execution_count": 58,
   "metadata": {},
   "outputs": [
    {
     "data": {
      "text/latex": [
       "$$ 6 t + z - 3 $$"
      ],
      "text/plain": [
       "6 t + z - 3"
      ]
     },
     "metadata": {},
     "output_type": "display_data"
    }
   ],
   "source": [
    "∂(3t^2 + z * t - 3t + 4, t)"
   ]
  },
  {
   "cell_type": "markdown",
   "metadata": {},
   "source": [
    "General nonlinear expressions however are not supported, but this can be added if there is enough interest:"
   ]
  },
  {
   "cell_type": "code",
   "execution_count": 59,
   "metadata": {},
   "outputs": [
    {
     "ename": "ErrorException",
     "evalue": "Unsupported expression type NLPExpr for derivative definition.",
     "output_type": "error",
     "traceback": [
      "Unsupported expression type NLPExpr for derivative definition.\n",
      "\n",
      "Stacktrace:\n",
      "  [1] error(s::String)\n",
      "    @ Base .\\error.jl:33\n",
      "  [2] _build_deriv_expr(expr::NLPExpr, pref::GeneralVariableRef)\n",
      "    @ InfiniteOpt C:\\Users\\bbgui\\.julia\\packages\\InfiniteOpt\\GRGsL\\src\\derivatives.jl:397\n",
      "  [3] _recursive_deriv_build(expr::NLPExpr, prefs::Tuple{GeneralVariableRef})\n",
      "    @ InfiniteOpt C:\\Users\\bbgui\\.julia\\packages\\InfiniteOpt\\GRGsL\\src\\derivatives.jl:406\n",
      "  [4] deriv(expr::NLPExpr, prefs::GeneralVariableRef)\n",
      "    @ InfiniteOpt C:\\Users\\bbgui\\.julia\\packages\\InfiniteOpt\\GRGsL\\src\\derivatives.jl:445\n",
      "  [5] ∂(expr::NLPExpr, prefs::GeneralVariableRef)\n",
      "    @ InfiniteOpt C:\\Users\\bbgui\\.julia\\packages\\InfiniteOpt\\GRGsL\\src\\derivatives.jl:512\n",
      "  [6] top-level scope\n",
      "    @ c:\\Users\\bbgui\\Documents\\InfiniteOptTutorials\\short_course\\completed_exercises\\4-infiniteopt_basics.ipynb:1\n",
      "  [7] eval\n",
      "    @ .\\boot.jl:373 [inlined]\n",
      "  [8] include_string(mapexpr::typeof(REPL.softscope), mod::Module, code::String, filename::String)\n",
      "    @ Base .\\loading.jl:1196\n",
      "  [9] #invokelatest#2\n",
      "    @ .\\essentials.jl:716 [inlined]\n",
      " [10] invokelatest\n",
      "    @ .\\essentials.jl:714 [inlined]\n",
      " [11] (::VSCodeServer.var\"#164#165\"{VSCodeServer.NotebookRunCellArguments, String})()\n",
      "    @ VSCodeServer c:\\Users\\bbgui\\.vscode\\extensions\\julialang.language-julia-1.6.17\\scripts\\packages\\VSCodeServer\\src\\serve_notebook.jl:19\n",
      " [12] withpath(f::VSCodeServer.var\"#164#165\"{VSCodeServer.NotebookRunCellArguments, String}, path::String)\n",
      "    @ VSCodeServer c:\\Users\\bbgui\\.vscode\\extensions\\julialang.language-julia-1.6.17\\scripts\\packages\\VSCodeServer\\src\\repl.jl:184\n",
      " [13] notebook_runcell_request(conn::VSCodeServer.JSONRPC.JSONRPCEndpoint{Base.PipeEndpoint, Base.PipeEndpoint}, params::VSCodeServer.NotebookRunCellArguments)\n",
      "    @ VSCodeServer c:\\Users\\bbgui\\.vscode\\extensions\\julialang.language-julia-1.6.17\\scripts\\packages\\VSCodeServer\\src\\serve_notebook.jl:13\n",
      " [14] dispatch_msg(x::VSCodeServer.JSONRPC.JSONRPCEndpoint{Base.PipeEndpoint, Base.PipeEndpoint}, dispatcher::VSCodeServer.JSONRPC.MsgDispatcher, msg::Dict{String, Any})\n",
      "    @ VSCodeServer.JSONRPC c:\\Users\\bbgui\\.vscode\\extensions\\julialang.language-julia-1.6.17\\scripts\\packages\\JSONRPC\\src\\typed.jl:67\n",
      " [15] serve_notebook(pipename::String, outputchannel_logger::Base.CoreLogging.SimpleLogger; crashreporting_pipename::String)\n",
      "    @ VSCodeServer c:\\Users\\bbgui\\.vscode\\extensions\\julialang.language-julia-1.6.17\\scripts\\packages\\VSCodeServer\\src\\serve_notebook.jl:136\n",
      " [16] top-level scope\n",
      "    @ c:\\Users\\bbgui\\.vscode\\extensions\\julialang.language-julia-1.6.17\\scripts\\notebook\\notebook.jl:32\n",
      " [17] include(mod::Module, _path::String)\n",
      "    @ Base .\\Base.jl:418\n",
      " [18] exec_options(opts::Base.JLOptions)\n",
      "    @ Base .\\client.jl:292\n",
      " [19] _start()\n",
      "    @ Base .\\client.jl:495"
     ]
    }
   ],
   "source": [
    "∂(sin(y)^3, t)"
   ]
  },
  {
   "cell_type": "markdown",
   "metadata": {},
   "source": [
    "Despite the error, notice that we just made a nonlinear expression without an `@NLexpression` macro, we'll talk more about that in the next section. \n",
    "\n",
    "To more efficiently parse large expression inputs and/or specify higher-order derivatives we can use `@deriv` (`@∂`):"
   ]
  },
  {
   "cell_type": "code",
   "execution_count": 60,
   "metadata": {},
   "outputs": [
    {
     "data": {
      "text/latex": [
       "$$ \\frac{\\partial}{\\partial x_{1}}\\left[\\frac{\\partial}{\\partial t}\\left[\\frac{\\partial}{\\partial t}\\left[q(t, x)\\right]\\right]\\right] $$"
      ],
      "text/plain": [
       "d/dx[1][d/dt[d/dt[q(t, x)]]]"
      ]
     },
     "metadata": {},
     "output_type": "display_data"
    }
   ],
   "source": [
    "@∂(q, t^2, x[1])"
   ]
  },
  {
   "cell_type": "markdown",
   "metadata": {},
   "source": [
    "Note the derivative operators are applied recursively. Note, that a pending development will preserve higher-order derivatives. \n",
    "\n",
    "We can also define derivatives via `@variable` with the `Deriv` tag if we want:"
   ]
  },
  {
   "cell_type": "code",
   "execution_count": 61,
   "metadata": {},
   "outputs": [
    {
     "data": {
      "text/latex": [
       "$$ dy(t) $$"
      ],
      "text/plain": [
       "dy(t)"
      ]
     },
     "metadata": {},
     "output_type": "display_data"
    }
   ],
   "source": [
    "@variable(model, 0 <= dy <= 1, Deriv(y, t), start = 4)"
   ]
  },
  {
   "cell_type": "markdown",
   "metadata": {},
   "source": [
    "This allows us to convenient create an alias Julia variable, add bounds, and an initial guess value if wanted. We can also apply the same modification/query functions to derivatives as we can to infinite variables. For instance:"
   ]
  },
  {
   "cell_type": "code",
   "execution_count": 62,
   "metadata": {},
   "outputs": [],
   "source": [
    "fix(dy, 0, force = true)\n",
    "set_lower_bound(∂(q, t), 42)"
   ]
  },
  {
   "cell_type": "markdown",
   "metadata": {},
   "source": [
    "We can also create semi-infinite and/or point derivatives using the functional syntax or `@variable`:"
   ]
  },
  {
   "cell_type": "code",
   "execution_count": 63,
   "metadata": {},
   "outputs": [
    {
     "data": {
      "text/latex": [
       "$$ \\frac{\\partial}{\\partial x_{1}}\\left[q(t, x)\\right](0, [x[1], x[2]]) $$"
      ],
      "text/plain": [
       "d/dx[1][q(t, x)](0, [x[1], x[2]])"
      ]
     },
     "metadata": {},
     "output_type": "display_data"
    }
   ],
   "source": [
    "dy(0)\n",
    "∂(q, x[1])(0, x)"
   ]
  },
  {
   "cell_type": "markdown",
   "metadata": {},
   "source": [
    "#### Exercise: Create a Derivative\n",
    "**Problem**\n",
    "- Add $\\frac{\\partial^2}{\\partial t^2}\\left[4q^2(t, x) + q(t, x)\\right]$"
   ]
  },
  {
   "cell_type": "code",
   "execution_count": 64,
   "metadata": {},
   "outputs": [
    {
     "data": {
      "text/latex": [
       "$$ 8 \\frac{\\partial}{\\partial t}\\left[\\frac{\\partial}{\\partial t}\\left[q(t, x)\\right]\\right]\\times q(t, x) + 8 \\frac{\\partial}{\\partial t}\\left[q(t, x)\\right]^2 + \\frac{\\partial}{\\partial t}\\left[\\frac{\\partial}{\\partial t}\\left[q(t, x)\\right]\\right] $$"
      ],
      "text/plain": [
       "8 d/dt[d/dt[q(t, x)]]*q(t, x) + 8 d/dt[q(t, x)]² + d/dt[d/dt[q(t, x)]]"
      ]
     },
     "metadata": {},
     "output_type": "display_data"
    }
   ],
   "source": [
    "# PUT CODE HERE\n",
    "@deriv(4q^2 + q, t^2)"
   ]
  },
  {
   "cell_type": "markdown",
   "metadata": {},
   "source": [
    "For more information see https://pulsipher.github.io/InfiniteOpt.jl/stable/guide/derivative/."
   ]
  },
  {
   "cell_type": "markdown",
   "metadata": {},
   "source": [
    "### Expressions\n",
    "`InfiniteOpt.jl` inherits the same expression syntax as `JuMP.jl`. Hence, for affine/quadratic expressions we can use `@expression` as normal:"
   ]
  },
  {
   "cell_type": "code",
   "execution_count": 65,
   "metadata": {},
   "outputs": [
    {
     "data": {
      "text/latex": [
       "$$ q(t, x)^2 + y(t) - 3 $$"
      ],
      "text/plain": [
       "q(t, x)² + y(t) - 3"
      ]
     },
     "metadata": {},
     "output_type": "display_data"
    }
   ],
   "source": [
    "@expression(model, my_expr, q^2 + y - 3)"
   ]
  },
  {
   "cell_type": "markdown",
   "metadata": {},
   "source": [
    "We can also define expressions outside of macros (not recommended):"
   ]
  },
  {
   "cell_type": "code",
   "execution_count": 66,
   "metadata": {},
   "outputs": [
    {
     "data": {
      "text/latex": [
       "$$ q(t, x)^2 + y(t) - 3 $$"
      ],
      "text/plain": [
       "q(t, x)² + y(t) - 3"
      ]
     },
     "metadata": {},
     "output_type": "display_data"
    }
   ],
   "source": [
    "my_expr = q^2 + y - 3 # defining outside macros is not as performant"
   ]
  },
  {
   "cell_type": "markdown",
   "metadata": {},
   "source": [
    "One key difference with `InfiniteOpt.jl` vs. `JuMP.jl` is how we handle general nonlinear expressions. `InfiniteOpt.jl`'s nonlinear expressions permit the following:\n",
    "- define nonlinear expressions outside of macros\n",
    "- define expressions in the normal macros (not the `@NL` macros)\n",
    "- can use linear algebra operations\n",
    "\n",
    "For instance:"
   ]
  },
  {
   "cell_type": "code",
   "execution_count": 67,
   "metadata": {},
   "outputs": [
    {
     "data": {
      "text/latex": [
       "$$ sin(y(t))^2 / q(t, x) $$"
      ],
      "text/plain": [
       "sin(y(t))^2 / q(t, x)"
      ]
     },
     "metadata": {},
     "output_type": "display_data"
    }
   ],
   "source": [
    "@expression(model, nl_expr, sin(y)^2 / q)\n",
    "nl_expr = sin(y)^2 / q"
   ]
  },
  {
   "cell_type": "markdown",
   "metadata": {},
   "source": [
    "Let's see some linear algebra with nonlinear expressions:"
   ]
  },
  {
   "cell_type": "code",
   "execution_count": 68,
   "metadata": {},
   "outputs": [
    {
     "data": {
      "text/plain": [
       "2-element Vector{NLPExpr}:\n",
       " 0 + W[1,1] * (Q[1,1]*v[1](ℓ) + Q[1,2]*v[2](ℓ)) + W[1,2] * (Q[2,1]*v[1](ℓ) + Q[2,2]*v[2](ℓ))\n",
       " 0 + W[2,1] * (Q[1,1]*v[1](ℓ) + Q[1,2]*v[2](ℓ)) + W[2,2] * (Q[2,1]*v[1](ℓ) + Q[2,2]*v[2](ℓ))"
      ]
     },
     "metadata": {},
     "output_type": "display_data"
    }
   ],
   "source": [
    "@variable(model, Q[1:2, 1:2]); @variable(model, W[1:2, 1:2]);\n",
    "\n",
    "@expression(model, W * Q * v)"
   ]
  },
  {
   "cell_type": "markdown",
   "metadata": {},
   "source": [
    "We support all the same native nonlinear functions as `JuMP.jl` with 3 caveats:\n",
    "- Functions from `SpecialFunctions.jl` can only be used if `using SpecialFunctions` is included first\n",
    "- The `ifelse` function must be specified `InfiniteOpt.ifelse`\n",
    "- The logic operators `&` and `|` must be used instead of `&&` and `||` when defining a nonlinear expression.\n",
    "\n",
    "For instance:"
   ]
  },
  {
   "cell_type": "code",
   "execution_count": 69,
   "metadata": {},
   "outputs": [
    {
     "name": "stdout",
     "output_type": "stream",
     "text": [
      "y ^ 2.3 * gamma(y) = y(t)^2.3 * gamma(y(t))\n",
      "InfiniteOpt.ifelse((y <= 0) | (y >= 3), y ^ 2.3, exp(y)) = ifelse(y(t) <= 0 || y(t) >= 3, y(t)^2.3, exp(y(t)))"
     ]
    },
    {
     "name": "stdout",
     "output_type": "stream",
     "text": [
      "\n"
     ]
    }
   ],
   "source": [
    "using SpecialFunctions\n",
    "\n",
    "@show y^2.3 * gamma(y)\n",
    "@show InfiniteOpt.ifelse((y <= 0) | (y >= 3), y^2.3, exp(y));"
   ]
  },
  {
   "cell_type": "markdown",
   "metadata": {},
   "source": [
    "We can query all the registered nonlinear functions via `all_registered_functions`:"
   ]
  },
  {
   "cell_type": "code",
   "execution_count": 70,
   "metadata": {},
   "outputs": [
    {
     "data": {
      "text/plain": [
       "83-element Vector{Function}:\n",
       " digamma (generic function with 6 methods)\n",
       " / (generic function with 179 methods)\n",
       " expm1 (generic function with 15 methods)\n",
       " == (generic function with 266 methods)\n",
       " airyaiprime (generic function with 10 methods)\n",
       " exp2 (generic function with 15 methods)\n",
       " > (generic function with 27 methods)\n",
       " acos (generic function with 19 methods)\n",
       " erfcinv (generic function with 5 methods)\n",
       " cotd (generic function with 8 methods)\n",
       " ⋮\n",
       " abs2 (generic function with 13 methods)\n",
       " log1p (generic function with 16 methods)\n",
       " acoth (generic function with 11 methods)\n",
       " bessely1 (generic function with 10 methods)\n",
       " gamma (generic function with 9 methods)\n",
       " atand (generic function with 9 methods)\n",
       " rad2deg (generic function with 10 methods)\n",
       " + (generic function with 379 methods)\n",
       " * (generic function with 624 methods)"
      ]
     },
     "metadata": {},
     "output_type": "display_data"
    }
   ],
   "source": [
    "all_registered_functions(model)"
   ]
  },
  {
   "cell_type": "markdown",
   "metadata": {},
   "source": [
    "Like `JuMP.jl` we can register unsupported functions. Here we use `@register`:"
   ]
  },
  {
   "cell_type": "code",
   "execution_count": 71,
   "metadata": {},
   "outputs": [
    {
     "data": {
      "text/latex": [
       "$$ myfunc(y(t)) $$"
      ],
      "text/plain": [
       "myfunc(y(t))"
      ]
     },
     "metadata": {},
     "output_type": "display_data"
    }
   ],
   "source": [
    "myfunc(a) = logerfcx(a) # functions from other packages must be wrapped\n",
    "@register(model, myfunc(a)) # `a` is an arbitrary symbol to indicate the argument structure\n",
    "myfunc(y)"
   ]
  },
  {
   "cell_type": "markdown",
   "metadata": {},
   "source": [
    "Here auto-differentiation is implied, but the gradient and the hessian functions can be given explicitly if wanted following `JuMP.jl`'s syntax.\n",
    "\n",
    "For more information, see https://pulsipher.github.io/InfiniteOpt.jl/stable/guide/expression/."
   ]
  },
  {
   "cell_type": "markdown",
   "metadata": {},
   "source": [
    "### Measure Operators\n",
    "Measure operators summarize an infinite variable/expression over a particular infinite parameter. `InfiniteOpt.jl` features a generic measure API, but more commonly users will use integrals and expectations.\n",
    "\n",
    "Integrals and expectations can be defined with `integral` (`∫` from `\\int`) and `expect` (`𝔼` from `\\bbE`):"
   ]
  },
  {
   "cell_type": "code",
   "execution_count": 72,
   "metadata": {},
   "outputs": [
    {
     "data": {
      "text/latex": [
       "$$ \\int_{t \\in [0, 10]}q(t, x)*t - sin(q(t, x))dt $$"
      ],
      "text/plain": [
       "integral{t in [0, 10]}[q(t, x)*t - sin(q(t, x))]"
      ]
     },
     "metadata": {},
     "output_type": "display_data"
    }
   ],
   "source": [
    "𝔼(q * y + y, t) \n",
    "∫(q * t - sin(q), t)"
   ]
  },
  {
   "cell_type": "markdown",
   "metadata": {},
   "source": [
    "Notice that the integral uses the full domain of the infinite parameter by default. We can truncate the domain by specifying the bounds:"
   ]
  },
  {
   "cell_type": "code",
   "execution_count": 73,
   "metadata": {},
   "outputs": [
    {
     "data": {
      "text/latex": [
       "$$ \\int_{t \\in [0, 5]}q(t, x)dt $$"
      ],
      "text/plain": [
       "integral{t in [0, 5]}[q(t, x)]"
      ]
     },
     "metadata": {},
     "output_type": "display_data"
    }
   ],
   "source": [
    "∫(q, t, 0, 5)"
   ]
  },
  {
   "cell_type": "markdown",
   "metadata": {},
   "source": [
    "The expectation uses the appropriate pdf with random infinite parameters. With other infinite parameters (e.g., $t$) the default pdf is $\\frac{1}{ub - lb}$, but we can specify a different one via the `pdf` keyword argument:"
   ]
  },
  {
   "cell_type": "code",
   "execution_count": 74,
   "metadata": {},
   "outputs": [
    {
     "data": {
      "text/latex": [
       "$$ \\mathbb{E}_{t \\in [0, 10]}\\left[y(t)\\right] $$"
      ],
      "text/plain": [
       "E{t in [0, 10]}[y(t)]"
      ]
     },
     "metadata": {},
     "output_type": "display_data"
    }
   ],
   "source": [
    "𝔼(y, t, pdf = t -> exp(-t)) # here the pdf acts as a discount factor"
   ]
  },
  {
   "cell_type": "markdown",
   "metadata": {},
   "source": [
    "This introduces the notion of a time-valued pdf and expectation, we'll discuss this more later. \n",
    "\n",
    "Similarly, we can add a weighting function (mapping the infinite parameter to a scalar) to integrals via the `weight_func` argument:"
   ]
  },
  {
   "cell_type": "code",
   "execution_count": 75,
   "metadata": {},
   "outputs": [
    {
     "data": {
      "text/latex": [
       "$$ \\int_{t \\in [0, 10]}y(t)dt $$"
      ],
      "text/plain": [
       "integral{t in [0, 10]}[y(t)]"
      ]
     },
     "metadata": {},
     "output_type": "display_data"
    }
   ],
   "source": [
    "∫(y, t, weight_func = t -> t^2)"
   ]
  },
  {
   "cell_type": "markdown",
   "metadata": {},
   "source": [
    "For increased efficiency with handling expressions, we also provide `@integral`, `@∫`, `@expect`, and `@𝔼`."
   ]
  },
  {
   "cell_type": "markdown",
   "metadata": {},
   "source": [
    "#### Exercise: Differentiate an Integral\n",
    "**Problem**\n",
    "- Define $\\frac{\\partial}{\\partial x_1}\\left[\\int_{t \\in [0, 10]} q(t, x)^2 dt\\right]$"
   ]
  },
  {
   "cell_type": "code",
   "execution_count": 76,
   "metadata": {},
   "outputs": [
    {
     "data": {
      "text/latex": [
       "$$ \\frac{\\partial}{\\partial x_{1}}\\left[\\int_{t \\in [0, 10]}q(t, x)^2dt\\right] $$"
      ],
      "text/plain": [
       "d/dx[1][integral{t in [0, 10]}[q(t, x)²]]"
      ]
     },
     "metadata": {},
     "output_type": "display_data"
    }
   ],
   "source": [
    "# PUT CODE HERE \n",
    "∂(∫(q^2, t), x[1])"
   ]
  },
  {
   "cell_type": "markdown",
   "metadata": {},
   "source": [
    "We will discuss the approximation schemes for these in the transformation section.\n",
    "\n",
    "For more information see https://pulsipher.github.io/InfiniteOpt.jl/stable/guide/measure/."
   ]
  },
  {
   "cell_type": "markdown",
   "metadata": {},
   "source": [
    "### Objectives\n",
    "We define objectives using `@objective` like normal, typically these will contain measures that scalarize the cost function to be well-posed:"
   ]
  },
  {
   "cell_type": "code",
   "execution_count": 77,
   "metadata": {},
   "outputs": [
    {
     "data": {
      "text/latex": [
       "$$ \\int_{t \\in [0, 10]}sin(y(t))dt $$"
      ],
      "text/plain": [
       "integral{t in [0, 10]}[sin(y(t))]"
      ]
     },
     "metadata": {},
     "output_type": "display_data"
    }
   ],
   "source": [
    "@objective(model, Min, ∫(sin(y), t))"
   ]
  },
  {
   "cell_type": "markdown",
   "metadata": {},
   "source": [
    "Note that we can embed nonlinear expressions directly without using `@NLobjective`. \n",
    "\n",
    "One common mistake, is defining objectives without a fully reduced cost function (i.e., we don't measure all the infinite parameters):"
   ]
  },
  {
   "cell_type": "code",
   "execution_count": 78,
   "metadata": {},
   "outputs": [
    {
     "ename": "ErrorException",
     "evalue": "Objective function cannot contain infinite parameters/variables.",
     "output_type": "error",
     "traceback": [
      "Objective function cannot contain infinite parameters/variables.\n",
      "\n",
      "Stacktrace:\n",
      "  [1] error(s::String)\n",
      "    @ Base .\\error.jl:33\n",
      "  [2] set_objective_function(model::InfiniteModel, func::GeneralVariableRef)\n",
      "    @ InfiniteOpt C:\\Users\\bbgui\\.julia\\packages\\InfiniteOpt\\GRGsL\\src\\objective.jl:102\n",
      "  [3] set_objective(model::InfiniteModel, sense::MathOptInterface.OptimizationSense, func::GeneralVariableRef)\n",
      "    @ InfiniteOpt C:\\Users\\bbgui\\.julia\\packages\\InfiniteOpt\\GRGsL\\src\\objective.jl:195\n",
      "  [4] macro expansion\n",
      "    @ C:\\Users\\bbgui\\.julia\\packages\\JuMP\\0C6kd\\src\\macros.jl:1277 [inlined]\n",
      "  [5] top-level scope\n",
      "    @ c:\\Users\\bbgui\\Documents\\InfiniteOptTutorials\\short_course\\completed_exercises\\4-infiniteopt_basics.ipynb:1\n",
      "  [6] eval\n",
      "    @ .\\boot.jl:373 [inlined]\n",
      "  [7] include_string(mapexpr::typeof(REPL.softscope), mod::Module, code::String, filename::String)\n",
      "    @ Base .\\loading.jl:1196\n",
      "  [8] #invokelatest#2\n",
      "    @ .\\essentials.jl:716 [inlined]\n",
      "  [9] invokelatest\n",
      "    @ .\\essentials.jl:714 [inlined]\n",
      " [10] (::VSCodeServer.var\"#164#165\"{VSCodeServer.NotebookRunCellArguments, String})()\n",
      "    @ VSCodeServer c:\\Users\\bbgui\\.vscode\\extensions\\julialang.language-julia-1.6.17\\scripts\\packages\\VSCodeServer\\src\\serve_notebook.jl:19\n",
      " [11] withpath(f::VSCodeServer.var\"#164#165\"{VSCodeServer.NotebookRunCellArguments, String}, path::String)\n",
      "    @ VSCodeServer c:\\Users\\bbgui\\.vscode\\extensions\\julialang.language-julia-1.6.17\\scripts\\packages\\VSCodeServer\\src\\repl.jl:184\n",
      " [12] notebook_runcell_request(conn::VSCodeServer.JSONRPC.JSONRPCEndpoint{Base.PipeEndpoint, Base.PipeEndpoint}, params::VSCodeServer.NotebookRunCellArguments)\n",
      "    @ VSCodeServer c:\\Users\\bbgui\\.vscode\\extensions\\julialang.language-julia-1.6.17\\scripts\\packages\\VSCodeServer\\src\\serve_notebook.jl:13\n",
      " [13] dispatch_msg(x::VSCodeServer.JSONRPC.JSONRPCEndpoint{Base.PipeEndpoint, Base.PipeEndpoint}, dispatcher::VSCodeServer.JSONRPC.MsgDispatcher, msg::Dict{String, Any})\n",
      "    @ VSCodeServer.JSONRPC c:\\Users\\bbgui\\.vscode\\extensions\\julialang.language-julia-1.6.17\\scripts\\packages\\JSONRPC\\src\\typed.jl:67\n",
      " [14] serve_notebook(pipename::String, outputchannel_logger::Base.CoreLogging.SimpleLogger; crashreporting_pipename::String)\n",
      "    @ VSCodeServer c:\\Users\\bbgui\\.vscode\\extensions\\julialang.language-julia-1.6.17\\scripts\\packages\\VSCodeServer\\src\\serve_notebook.jl:136\n",
      " [15] top-level scope\n",
      "    @ c:\\Users\\bbgui\\.vscode\\extensions\\julialang.language-julia-1.6.17\\scripts\\notebook\\notebook.jl:32\n",
      " [16] include(mod::Module, _path::String)\n",
      "    @ Base .\\Base.jl:418\n",
      " [17] exec_options(opts::Base.JLOptions)\n",
      "    @ Base .\\client.jl:292\n",
      " [18] _start()\n",
      "    @ Base .\\client.jl:495"
     ]
    }
   ],
   "source": [
    "@objective(model, Min, ∫(q, t))"
   ]
  },
  {
   "cell_type": "markdown",
   "metadata": {},
   "source": [
    "Let's try that again:"
   ]
  },
  {
   "cell_type": "code",
   "execution_count": 79,
   "metadata": {},
   "outputs": [
    {
     "data": {
      "text/latex": [
       "$$ \\int_{t \\in [0, 10]}\\int_{x \\in [-1, 1]^2}q(t, x)dxdt $$"
      ],
      "text/plain": [
       "integral{t in [0, 10]}[integral{x in [-1, 1]^2}[q(t, x)]]"
      ]
     },
     "metadata": {},
     "output_type": "display_data"
    }
   ],
   "source": [
    "@objective(model, Min, ∫(∫(q, x), t))"
   ]
  },
  {
   "cell_type": "markdown",
   "metadata": {},
   "source": [
    "We can query/modify objectives just like one can in `JuMP.jl`.\n",
    "\n",
    "For more information, see https://pulsipher.github.io/InfiniteOpt.jl/stable/guide/objective/."
   ]
  },
  {
   "cell_type": "markdown",
   "metadata": {},
   "source": [
    "### Constraints\n",
    "Constraints are created in `InfiniteOpt.jl` using `@constraint`, `@NLconstraint` is not needed nor supported.\n",
    "\n",
    "Let's try some out:"
   ]
  },
  {
   "cell_type": "code",
   "execution_count": 80,
   "metadata": {},
   "outputs": [
    {
     "data": {
      "text/latex": [
       "$ 5 z\\times y(t) + q(t, x)^2 \\leq 3.0, \\quad\\forall t \\in [0, 10], x_{1} \\in [-1, 1], x_{2} \\in [-1, 1] $"
      ],
      "text/plain": [
       "5 z*y(t) + q(t, x)² <= 3.0, for all t in [0, 10], x[1] in [-1, 1], x[2] in [-1, 1]"
      ]
     },
     "metadata": {},
     "output_type": "display_data"
    }
   ],
   "source": [
    "@constraint(model, sin(y) + z <= 0)\n",
    "@constraint(model, Q >= 0, PSDCone()) # all the special constraints from JuMP\n",
    "@constraint(model, [i ∈ 1:2], v[i]^2 + 5z >= 0) \n",
    "@constraint(model, sin.(v).^3 .== 0) # nonlinear broadcasting\n",
    "@constraint(model, 5z * y + q^2 <= 3)"
   ]
  },
  {
   "cell_type": "markdown",
   "metadata": {},
   "source": [
    "Note that while it is possible to create nonlinear vector constraints in `InfiniteOpt.jl`, these are not currently supported by any transformation backend.\n",
    "\n",
    "Commonly, we wish to enforce point constraints (e.g., boundary conditions), this can be accomplished using our functional point variable syntax:"
   ]
  },
  {
   "cell_type": "code",
   "execution_count": 81,
   "metadata": {},
   "outputs": [
    {
     "data": {
      "text/latex": [
       "initial : $ y0 = 42.0 $"
      ],
      "text/plain": [
       "initial : y0 == 42.0"
      ]
     },
     "metadata": {},
     "output_type": "display_data"
    }
   ],
   "source": [
    "@constraint(model, initial, y(0) == 42)"
   ]
  },
  {
   "cell_type": "markdown",
   "metadata": {},
   "source": [
    "We can also define constraints whose domain is restricted to a portion of the infinite domain by adding `DomainRestrictions`:"
   ]
  },
  {
   "cell_type": "code",
   "execution_count": 82,
   "metadata": {},
   "outputs": [
    {
     "data": {
      "text/latex": [
       "$ y(t) + 2 z \\leq 0.0, \\quad\\forall t \\in [2, 5] $"
      ],
      "text/plain": [
       "y(t) + 2 z <= 0.0, for all t in [2, 5]"
      ]
     },
     "metadata": {},
     "output_type": "display_data"
    }
   ],
   "source": [
    "@constraint(model, y + 2z ≤ 0, DomainRestrictions(t => [2, 5]))"
   ]
  },
  {
   "cell_type": "markdown",
   "metadata": {},
   "source": [
    "For now this is limited to ranges, but development is underway to accept arbitrary logic. \n",
    "\n",
    "We can query/modify/delete constraints just like we can in `JuMP.jl` using the same methods. For instance:"
   ]
  },
  {
   "cell_type": "code",
   "execution_count": 83,
   "metadata": {},
   "outputs": [],
   "source": [
    "delete(model, initial)"
   ]
  },
  {
   "cell_type": "markdown",
   "metadata": {},
   "source": [
    "#### Exercise: Constraints\n",
    "**Problem**\n",
    "- Add $\\sum_{i \\in \\{1, 2\\}} \\tan(v_i(\\ell)) \\geq 42, \\; \\forall \\ell \\in [0, 1]$"
   ]
  },
  {
   "cell_type": "code",
   "execution_count": 86,
   "metadata": {},
   "outputs": [
    {
     "data": {
      "text/latex": [
       "$ (tan(v[1](ℓ)) + tan(v[2](ℓ))) - 42 \\geq 0.0, \\quad\\forall ℓ \\in [0, 1] $"
      ],
      "text/plain": [
       "(tan(v[1](ℓ)) + tan(v[2](ℓ))) - 42 >= 0.0, for all ℓ in [0, 1]"
      ]
     },
     "metadata": {},
     "output_type": "display_data"
    }
   ],
   "source": [
    "# PUT CODE HERE\n",
    "@constraint(model, sum(tan(v[i]) for i ∈ 1:2) ≥ 42, DomainRestrictions(ℓ => [0, 1]))"
   ]
  },
  {
   "cell_type": "markdown",
   "metadata": {},
   "source": [
    "For more information, see https://pulsipher.github.io/InfiniteOpt.jl/stable/guide/constraint/."
   ]
  },
  {
   "cell_type": "markdown",
   "metadata": {},
   "source": [
    "## Transformations and Solution\n",
    "`InfiniteOpt` is based on a transformation paradigm. This is used to solve `InfiniteModel`s. In this section, we will highlight how this is done.\n",
    "\n",
    "### The Optimizer Model Framework\n",
    "As we highlighted above, `InfiniteModel`s contain an optimizer model backend (an augmented `JuMP.Model`) that is ultimately used to solve the infinite models.\n",
    "\n",
    "![transform](figures/transformation.png)\n",
    "\n",
    "Optimizer models store the transformed version of an `InfiniteModel` that can be handled by `JuMP.jl`. Moreover, they contain mapping information to support seamless interaction with `InfiniteModel`s.\n",
    "\n",
    "Optimizer models are queried via `optimizer_model` and are populated whenever `build_optimizer_model!` is called:"
   ]
  },
  {
   "cell_type": "code",
   "execution_count": 87,
   "metadata": {},
   "outputs": [
    {
     "name": "stdout",
     "output_type": "stream",
     "text": [
      "optimizer_model(model) = A JuMP Model\n",
      "Feasibility problem with:\n",
      "Variables: 0\n",
      "Model mode: AUTOMATIC\n",
      "CachingOptimizer state: EMPTY_OPTIMIZER\n",
      "Solver name: HiGHS\n",
      "\n",
      "optimizer_model(model) = A JuMP Model\n",
      "Minimization problem with:\n",
      "Variables: 3\n",
      "Objective function type: AffExpr\n",
      "`VariableRef`-in-`MathOptInterface.GreaterThan{Float64}`: 3 constraints\n",
      "Model mode: AUTOMATIC\n",
      "CachingOptimizer state: EMPTY_OPTIMIZER\n",
      "Solver name: HiGHS\n"
     ]
    },
    {
     "data": {
      "text/latex": [
       "$$ \\begin{aligned}\n",
       "\\min\\quad & 0.25 y(support: 1) + 0.5 y(support: 2) + 0.25 y(support: 3)\\\\\n",
       "\\text{Subject to} \\quad & y(support: 1) \\geq 0.0\\\\\n",
       " & y(support: 2) \\geq 0.0\\\\\n",
       " & y(support: 3) \\geq 0.0\\\\\n",
       "\\end{aligned} $$"
      ],
      "text/plain": [
       "$$ \\begin{aligned}\n",
       "\\min\\quad & 0.25 y(support: 1) + 0.5 y(support: 2) + 0.25 y(support: 3)\\\\\n",
       "\\text{Subject to} \\quad & y(support: 1) \\geq 0.0\\\\\n",
       " & y(support: 2) \\geq 0.0\\\\\n",
       " & y(support: 3) \\geq 0.0\\\\\n",
       "\\end{aligned} $$"
      ]
     },
     "metadata": {},
     "output_type": "display_data"
    }
   ],
   "source": [
    "model = InfiniteModel(HiGHS.Optimizer)\n",
    "@show optimizer_model(model)\n",
    "println()\n",
    "\n",
    "@infinite_parameter(model, t ∈ [0, 1], num_supports = 3)\n",
    "@variable(model, y ≥ 0, Infinite(t))\n",
    "@objective(model, Min, ∫(y, t))\n",
    "\n",
    "build_optimizer_model!(model)\n",
    "\n",
    "@show optimizer_model(model)\n",
    "\n",
    "latex_formulation(optimizer_model(model))"
   ]
  },
  {
   "cell_type": "markdown",
   "metadata": {},
   "source": [
    "We'll discuss the particulars of what the `TranscriptionModel` backend transformation below, but here we can see how the model is transformed and stored in the optimizer model.\n",
    "\n",
    "Currently, we are working on generalizing this paradigm to accept arbitrary transformation backends (not just `JuMP.Model`s). See https://github.com/pulsipher/InfiniteOpt.jl/pull/248 to track the progress on this."
   ]
  },
  {
   "cell_type": "markdown",
   "metadata": {},
   "source": [
    "### Direct Transcription via `TranscriptionOpt`\n",
    "The default optimizer model backend in `InfiniteOpt.jl` is `TranscriptionOpt` which can apply a suite of discretization techniques to transform `InfiniteModel`s. These all fall under the umbrella of direct transcription. This principal is illustrated below:\n",
    "\n",
    "![transcription](../figures/transcription.png)\n",
    "\n",
    "The general methodology for applying direct transcription is the following:\n",
    "1. Define supports (discretization points) for each infinite parameter\n",
    "2. Add any additional supports needed for derivative/integral approximation (e.g., collocation points)\n",
    "3. Generate the appropriate transcription variables\n",
    "4. Expand measures via an appropriate approximation scheme (e.g., trapezoid rule)\n",
    "5. Replace remaining infinite variables with transcription variables over each support combination\n",
    "6. Transcribe infinite constraints over all support combinations they depend on\n",
    "7. Add on auxiliary derivative approximation equations for derivative variables\n",
    "\n",
    "For instance, consider the simple space-time model:\n",
    "$$\n",
    "\\begin{aligned}\n",
    "\t&&\\min_{y(t), g(t, x)} &&& \\int_0^{10} y^2(t) dt \\\\\n",
    "\t&&\\text{s.t.} &&& y(0) = 1 \\\\\n",
    "\t&&&&& \\int_{x \\in [-1, 1]^2} \\frac{\\partial g(t, x)}{\\partial t} dx = 42, && \\forall t \\in [0, 10] \\\\\n",
    "  &&&&& 3g(t, x) + 2y^2(t) \\leq 2, && \\forall t \\in T, \\ x \\in [-1, 1]^2. \\\\\n",
    "\\end{aligned}\n",
    "$$\n",
    "Define supports for the infinite parameters $t$ and $x$:\n",
    "$$\n",
    "t \\in \\{0, 10\\}, \\;\\;\\;\\;\\; x \\in \\{[-1, -1]^T, [-1, 1]^T, [1, -1]^T, [1, 1]^T\\}\n",
    "$$\n",
    "Now we expand the integral measures via a trapezoid rule:\n",
    "$$\n",
    "\\begin{aligned}\n",
    "\t&&\\min_{y(t), g(t, x)} &&& 5y^2(0) + 5y^2(10) \\\\\n",
    "\t&&\\text{s.t.} &&& y(0) = 1 \\\\\n",
    "  &&&&& g(0, x) = 0 \\\\\n",
    "\t&&&&& \\frac{\\partial g(t, [-1, -1])}{\\partial t} + \\frac{\\partial g(t, [-1, 1])}{\\partial t} + \\frac{\\partial g(t, [1, -1])}{\\partial t} + \\frac{\\partial g(t, [1, 1])}{\\partial t} = 42, && \\forall t \\in [0, 10] \\\\\n",
    "  &&&&& 3g(t, x) + 2y^2(t) \\leq 2, && \\forall t \\in T, \\ x \\in [-1, 1]^2. \\\\\n",
    "\\end{aligned}\n",
    "$$\n",
    "Now we need to transcribe the remaining infinite variables and constraints:\n",
    "$$\n",
    "\\begin{aligned}\n",
    "\t&&\\min_{y(t), g(t, x)} &&& 5y^2(0) + 5y^2(10) \\\\\n",
    "\t&&\\text{s.t.} &&& y(0) = 1 \\\\\n",
    "  &&&&& g(0, [-1, -1]) = 0 \\\\\n",
    "  &&&&& g(0, [-1, 1]) = 0 \\\\\n",
    "  &&&&& g(0, [1, -1]) = 0 \\\\\n",
    "  &&&&& g(0, [1, 1]) = 0 \\\\\n",
    "\t&&&&& \\frac{\\partial g(0, [-1, -1])}{\\partial t} + \\frac{\\partial g(0, [-1, 1])}{\\partial t} + \\frac{\\partial g(0, [1, -1])}{\\partial t} + \\frac{\\partial g(0, [1, 1])}{\\partial t} = 42\\\\\n",
    "  &&&&& \\frac{\\partial g(10, [-1, -1])}{\\partial t} + \\frac{\\partial g(10, [-1, 1])}{\\partial t} + \\frac{\\partial g(10, [1, -1])}{\\partial t} + \\frac{\\partial g(10, [1, 1])}{\\partial t} = 42\\\\\n",
    "  &&&&& 3g(0, [-1, -1]) + 2y^2(0) \\leq 2 \\\\\n",
    "  &&&&& 3g(0, [-1, 1]) + 2y^2(0) \\leq 2 \\\\\n",
    "  &&&&& \\vdots \\\\\n",
    "  &&&&& 3g(10, [1, 1]) + 2y^2(10) \\leq 2.\n",
    "\\end{aligned}\n",
    "$$\n",
    "Finally, we tag on the auxiliary derivative variable equations determined by backward finite difference:\n",
    "$$\n",
    "\\begin{aligned}\n",
    "&&& g(10, [-1, -1]) = g(0, [-1, -1]) + 10\\frac{\\partial g(10, [-1, -1])}{\\partial t} \\\\\n",
    "&&& g(10, [-1, 1]) = g(0, [-1, 1]) + 10\\frac{\\partial g(10, [-1, 1])}{\\partial t} \\\\\n",
    "&&& g(10, [1, -1]) = g(0, [1, -1]) + 10\\frac{\\partial g(10, [1, -1])}{\\partial t} \\\\\n",
    "&&& g(10, [1, 1]) = g(0, [1, 1]) + 10\\frac{\\partial g(10, [1, 1])}{\\partial t}\n",
    "\\end{aligned}\n",
    "$$\n",
    "\n",
    "Let's see how `InfiniteOpt.jl` does:"
   ]
  },
  {
   "cell_type": "code",
   "execution_count": 88,
   "metadata": {},
   "outputs": [
    {
     "data": {
      "text/latex": [
       "$$ \\begin{aligned}\n",
       "\\min\\quad & \\int_{t \\in [0, 10]}y(t)^2dt\\\\\n",
       "\\text{Subject to} \\quad & y(0) = 1.0\\\\\n",
       " & g(0, [x[1], x[2]]) = 0.0, \\quad\\forall x_{1} \\in [-1, 1], x_{2} \\in [-1, 1]\\\\\n",
       " & \\int_{x_{2} \\in [-1, 1]}\\int_{x_{1} \\in [-1, 1]}\\frac{\\partial}{\\partial t}\\left[g(t, x)\\right]dxdx = 42.0, \\quad\\forall t \\in [0, 10]\\\\\n",
       " & y(t)^2 + 3 g(t, x) \\leq 2.0, \\quad\\forall t \\in [0, 10], x_{1} \\in [-1, 1], x_{2} \\in [-1, 1]\\\\\n",
       "\\end{aligned} $$"
      ],
      "text/plain": [
       "$$ \\begin{aligned}\n",
       "\\min\\quad & \\int_{t \\in [0, 10]}y(t)^2dt\\\\\n",
       "\\text{Subject to} \\quad & y(0) = 1.0\\\\\n",
       " & g(0, [x[1], x[2]]) = 0.0, \\quad\\forall x_{1} \\in [-1, 1], x_{2} \\in [-1, 1]\\\\\n",
       " & \\int_{x_{2} \\in [-1, 1]}\\int_{x_{1} \\in [-1, 1]}\\frac{\\partial}{\\partial t}\\left[g(t, x)\\right]dxdx = 42.0, \\quad\\forall t \\in [0, 10]\\\\\n",
       " & y(t)^2 + 3 g(t, x) \\leq 2.0, \\quad\\forall t \\in [0, 10], x_{1} \\in [-1, 1], x_{2} \\in [-1, 1]\\\\\n",
       "\\end{aligned} $$"
      ]
     },
     "metadata": {},
     "output_type": "display_data"
    }
   ],
   "source": [
    "# Initialize model\n",
    "inf_model = InfiniteModel()\n",
    "\n",
    "# Define parameters and supports\n",
    "@infinite_parameter(inf_model, t in [0, 10], supports = [0, 10])\n",
    "@infinite_parameter(inf_model, x[1:2] in [-1, 1], supports = [-1, 1], independent = true)\n",
    "\n",
    "# Define variables\n",
    "@variable(inf_model, y, Infinite(t))\n",
    "@variable(inf_model, g, Infinite(t, x))\n",
    "\n",
    "# Set the objective\n",
    "@objective(inf_model, Min, ∫(y^2, t))\n",
    "\n",
    "# Define the constraints\n",
    "@constraint(inf_model, y(0) == 1)\n",
    "@constraint(inf_model, con, g(0, x) == 0)\n",
    "@constraint(inf_model, ∫(∫(∂(g, t), x[1]), x[2]) == 42)\n",
    "@constraint(inf_model, 3g + y^2 <= 2)\n",
    "\n",
    "# Print the infinite model\n",
    "latex_formulation(inf_model)"
   ]
  },
  {
   "cell_type": "code",
   "execution_count": 89,
   "metadata": {},
   "outputs": [
    {
     "data": {
      "text/latex": [
       "$$ \\begin{aligned}\n",
       "\\min\\quad & 5 y(support: 1)^2 + 5 y(support: 2)^2\\\\\n",
       "\\text{Subject to} \\quad & y(support: 1) = 1.0\\\\\n",
       " & g(support: 1) = 0.0\\\\\n",
       " & g(support: 3) = 0.0\\\\\n",
       " & g(support: 5) = 0.0\\\\\n",
       " & g(support: 7) = 0.0\\\\\n",
       " & d/dt[g(t, x)](support: 1) + d/dt[g(t, x)](support: 3) + d/dt[g(t, x)](support: 5) + d/dt[g(t, x)](support: 7) = 42.0\\\\\n",
       " & d/dt[g(t, x)](support: 2) + d/dt[g(t, x)](support: 4) + d/dt[g(t, x)](support: 6) + d/dt[g(t, x)](support: 8) = 42.0\\\\\n",
       " & g(support: 1) - g(support: 2) + 10 d/dt[g(t, x)](support: 2) = 0.0\\\\\n",
       " & g(support: 3) - g(support: 4) + 10 d/dt[g(t, x)](support: 4) = 0.0\\\\\n",
       " & g(support: 5) - g(support: 6) + 10 d/dt[g(t, x)](support: 6) = 0.0\\\\\n",
       " & g(support: 7) - g(support: 8) + 10 d/dt[g(t, x)](support: 8) = 0.0\\\\\n",
       " & y(support: 1)^2 + 3 g(support: 1) \\leq 2.0\\\\\n",
       " & y(support: 2)^2 + 3 g(support: 2) \\leq 2.0\\\\\n",
       " & y(support: 1)^2 + 3 g(support: 3) \\leq 2.0\\\\\n",
       " & y(support: 2)^2 + 3 g(support: 4) \\leq 2.0\\\\\n",
       " & y(support: 1)^2 + 3 g(support: 5) \\leq 2.0\\\\\n",
       " & y(support: 2)^2 + 3 g(support: 6) \\leq 2.0\\\\\n",
       " & y(support: 1)^2 + 3 g(support: 7) \\leq 2.0\\\\\n",
       " & y(support: 2)^2 + 3 g(support: 8) \\leq 2.0\\\\\n",
       "\\end{aligned} $$"
      ],
      "text/plain": [
       "$$ \\begin{aligned}\n",
       "\\min\\quad & 5 y(support: 1)^2 + 5 y(support: 2)^2\\\\\n",
       "\\text{Subject to} \\quad & y(support: 1) = 1.0\\\\\n",
       " & g(support: 1) = 0.0\\\\\n",
       " & g(support: 3) = 0.0\\\\\n",
       " & g(support: 5) = 0.0\\\\\n",
       " & g(support: 7) = 0.0\\\\\n",
       " & d/dt[g(t, x)](support: 1) + d/dt[g(t, x)](support: 3) + d/dt[g(t, x)](support: 5) + d/dt[g(t, x)](support: 7) = 42.0\\\\\n",
       " & d/dt[g(t, x)](support: 2) + d/dt[g(t, x)](support: 4) + d/dt[g(t, x)](support: 6) + d/dt[g(t, x)](support: 8) = 42.0\\\\\n",
       " & g(support: 1) - g(support: 2) + 10 d/dt[g(t, x)](support: 2) = 0.0\\\\\n",
       " & g(support: 3) - g(support: 4) + 10 d/dt[g(t, x)](support: 4) = 0.0\\\\\n",
       " & g(support: 5) - g(support: 6) + 10 d/dt[g(t, x)](support: 6) = 0.0\\\\\n",
       " & g(support: 7) - g(support: 8) + 10 d/dt[g(t, x)](support: 8) = 0.0\\\\\n",
       " & y(support: 1)^2 + 3 g(support: 1) \\leq 2.0\\\\\n",
       " & y(support: 2)^2 + 3 g(support: 2) \\leq 2.0\\\\\n",
       " & y(support: 1)^2 + 3 g(support: 3) \\leq 2.0\\\\\n",
       " & y(support: 2)^2 + 3 g(support: 4) \\leq 2.0\\\\\n",
       " & y(support: 1)^2 + 3 g(support: 5) \\leq 2.0\\\\\n",
       " & y(support: 2)^2 + 3 g(support: 6) \\leq 2.0\\\\\n",
       " & y(support: 1)^2 + 3 g(support: 7) \\leq 2.0\\\\\n",
       " & y(support: 2)^2 + 3 g(support: 8) \\leq 2.0\\\\\n",
       "\\end{aligned} $$"
      ]
     },
     "metadata": {},
     "output_type": "display_data"
    }
   ],
   "source": [
    "build_optimizer_model!(inf_model)\n",
    "\n",
    "opt_model = optimizer_model(inf_model)\n",
    "latex_formulation(opt_model)"
   ]
  },
  {
   "cell_type": "markdown",
   "metadata": {},
   "source": [
    "This exactly matches what we did by hand! The support combinations are computed automatically. We can determine their values via `supports`:"
   ]
  },
  {
   "cell_type": "code",
   "execution_count": 90,
   "metadata": {},
   "outputs": [
    {
     "name": "stdout",
     "output_type": "stream",
     "text": [
      "supports(y) = Tuple[(0.0,), (10.0,)]\n"
     ]
    },
    {
     "data": {
      "text/plain": [
       "8-element Vector{Tuple}:\n",
       " (0.0, [-1.0, -1.0])\n",
       " (10.0, [-1.0, -1.0])\n",
       " (0.0, [1.0, -1.0])\n",
       " (10.0, [1.0, -1.0])\n",
       " (0.0, [-1.0, 1.0])\n",
       " (10.0, [-1.0, 1.0])\n",
       " (0.0, [1.0, 1.0])\n",
       " (10.0, [1.0, 1.0])"
      ]
     },
     "metadata": {},
     "output_type": "display_data"
    }
   ],
   "source": [
    "@show supports(y)\n",
    "\n",
    "supports(g)"
   ]
  },
  {
   "cell_type": "markdown",
   "metadata": {},
   "source": [
    "The tuple order corresponds to the infinite parameters of each, which we can check via `parameter_refs`:"
   ]
  },
  {
   "cell_type": "code",
   "execution_count": 91,
   "metadata": {},
   "outputs": [
    {
     "name": "stdout",
     "output_type": "stream",
     "text": [
      "parameter_refs(y) = (t,)\n",
      "parameter_refs(g) = (t, GeneralVariableRef[x[1], x[2]])\n"
     ]
    }
   ],
   "source": [
    "@show parameter_refs(y)\n",
    "\n",
    "@show parameter_refs(g);"
   ]
  },
  {
   "cell_type": "markdown",
   "metadata": {},
   "source": [
    "A `TranscriptionModel` is not just a regular `JuMP.Model`:"
   ]
  },
  {
   "cell_type": "code",
   "execution_count": 92,
   "metadata": {},
   "outputs": [
    {
     "name": "stdout",
     "output_type": "stream",
     "text": [
      "is_transcription_model(opt_model) = true\n",
      "is_transcription_model(Model()) = false\n"
     ]
    }
   ],
   "source": [
    "@show is_transcription_model(opt_model)\n",
    "@show is_transcription_model(Model());"
   ]
  },
  {
   "cell_type": "markdown",
   "metadata": {},
   "source": [
    "This is because a `TranscriptionModel` also contains transcription data, so we can map `inf_model` to `opt_model` behind the scenes:"
   ]
  },
  {
   "cell_type": "code",
   "execution_count": 93,
   "metadata": {},
   "outputs": [
    {
     "data": {
      "text/plain": [
       "TranscriptionData"
      ]
     },
     "metadata": {},
     "output_type": "display_data"
    }
   ],
   "source": [
    "typeof(transcription_data(opt_model))"
   ]
  },
  {
   "cell_type": "markdown",
   "metadata": {},
   "source": [
    "We can access these mappings via `transcription_variable`, `transcription_expression`, and `transcription_constraint`:"
   ]
  },
  {
   "cell_type": "code",
   "execution_count": 94,
   "metadata": {},
   "outputs": [
    {
     "name": "stdout",
     "output_type": "stream",
     "text": [
      "transcription_variable(y) = VariableRef[y(support: 1), y(support: 2)]\n",
      "transcription_expression(y ^ 2 + 2) = AbstractJuMPScalar[y(support: 1)² + 2, y(support: 2)² + 2]\n"
     ]
    },
    {
     "data": {
      "text/plain": [
       "4-element Vector{ConstraintRef}:\n",
       " con(support: 1) : g(support: 1) == 0.0\n",
       " con(support: 2) : g(support: 3) == 0.0\n",
       " con(support: 3) : g(support: 5) == 0.0\n",
       " con(support: 4) : g(support: 7) == 0.0"
      ]
     },
     "metadata": {},
     "output_type": "display_data"
    }
   ],
   "source": [
    "@show transcription_variable(y)\n",
    "@show transcription_expression(y^2 + 2)\n",
    "transcription_constraint(con)"
   ]
  },
  {
   "cell_type": "markdown",
   "metadata": {},
   "source": [
    "#### Integral Approximations\n",
    "A wide variety of integral approximations (14 in total) are currently supported. These include:\n",
    "- Trapezoid rule (default)\n",
    "- Gaussian quadrature\n",
    "- Monte Carlo sampling\n",
    "\n",
    "The full list is provided at https://pulsipher.github.io/InfiniteOpt.jl/stable/guide/measure/#Evaluation-Methods.\n",
    "\n",
    "Let's try specifying an integral that uses an appropriate Gauss quadrature scheme:"
   ]
  },
  {
   "cell_type": "code",
   "execution_count": 95,
   "metadata": {},
   "outputs": [
    {
     "data": {
      "text/latex": [
       "$$ \\int_{t \\in [0, 1]}y(t)dt $$"
      ],
      "text/plain": [
       "integral{t in [0, 1]}[y(t)]"
      ]
     },
     "metadata": {},
     "output_type": "display_data"
    }
   ],
   "source": [
    "model = InfiniteModel()\n",
    "@infinite_parameter(model, t ∈ [0, 1])\n",
    "@variable(model, y, Infinite(t))\n",
    "\n",
    "my_int = ∫(y, t, eval_method = Quadrature(), num_nodes = 4)"
   ]
  },
  {
   "cell_type": "markdown",
   "metadata": {},
   "source": [
    "That's it, `InfiniteOpt.jl` has a sophisticated support management system to properly keep track of where all supports come from and where they will be needed for transcription. \n",
    "\n",
    "We can interrogate what the approximation will look like using `expand`:"
   ]
  },
  {
   "cell_type": "code",
   "execution_count": 96,
   "metadata": {},
   "outputs": [
    {
     "data": {
      "text/latex": [
       "$$ 0.08333333333333333 y(0) + 0.41666666666666663 y(0.27639320225) + 0.41666666666666663 y(0.72360679775) + 0.08333333333333333 y(1) $$"
      ],
      "text/plain": [
       "0.08333333333333333 y(0) + 0.41666666666666663 y(0.27639320225) + 0.41666666666666663 y(0.72360679775) + 0.08333333333333333 y(1)"
      ]
     },
     "metadata": {},
     "output_type": "display_data"
    }
   ],
   "source": [
    "expand(my_int)"
   ]
  },
  {
   "cell_type": "markdown",
   "metadata": {},
   "source": [
    "Note that `expand` should be avoided with models you intent to solve, since point/semi-infinite variables are added to the model prematurely to facilitate the preview. This is only intended as a method for curious users."
   ]
  },
  {
   "cell_type": "markdown",
   "metadata": {},
   "source": [
    "#### Derivative Approximations\n",
    "For consistency, derivative approximation methods are associated with the infinite parameters the derivatives depend on. We can specify them when adding infinite parameters or later on via `set_derivative_method`. Currently, 4 such methods are supported:\n",
    "- Forward finite difference\n",
    "- Central finite difference\n",
    "- Backward finite difference (default)\n",
    "- Orthogonal collocation over finite elements with Lobatto quadrature\n",
    "\n",
    "To set orthogonal collocation with 3 nodes per finite element, we would write:"
   ]
  },
  {
   "cell_type": "code",
   "execution_count": 97,
   "metadata": {},
   "outputs": [],
   "source": [
    "model = InfiniteModel()\n",
    "@infinite_parameter(model, t ∈ [0, 1], num_supports = 3, derivative_method = OrthogonalCollocation(3))\n",
    "@variable(model, y, Infinite(t))\n",
    "\n",
    "@constraint(model, ∂(y, t) >= 0)\n",
    "@constraint(model, y(0) == 0);"
   ]
  },
  {
   "cell_type": "markdown",
   "metadata": {},
   "source": [
    "This will use 3 supports to construct the finite element boundaries (giving 2 finite elements). Later on collocation points will be added (1 extra per element). We can preview the derivative approximations via `evaluate_all_derivatives!` and `derivative_constraints`:"
   ]
  },
  {
   "cell_type": "code",
   "execution_count": 98,
   "metadata": {},
   "outputs": [
    {
     "data": {
      "text/plain": [
       "4-element Vector{InfOptConstraintRef}:\n",
       " 0.375 d/dt[y(t)](0.25) - 0.125 d/dt[y(t)](0.5) - y(0.25) + y(0) == 0.0\n",
       " 0.5 d/dt[y(t)](0.25) - y(0.5) + y(0) == 0.0\n",
       " 0.375 d/dt[y(t)](0.75) - 0.125 d/dt[y(t)](1) - y(0.75) + y(0.5) == 0.0\n",
       " 0.5 d/dt[y(t)](0.75) - y(1) + y(0.5) == 0.0"
      ]
     },
     "metadata": {},
     "output_type": "display_data"
    }
   ],
   "source": [
    "evaluate_all_derivatives!(model)\n",
    "derivative_constraints(∂(y, t))"
   ]
  },
  {
   "cell_type": "markdown",
   "metadata": {},
   "source": [
    "Again, these modify `model` in place and should not be used with models we actually want to solve.\n",
    "\n",
    "For more information, see https://pulsipher.github.io/InfiniteOpt.jl/stable/guide/derivative/#Derivative-Evaluation."
   ]
  },
  {
   "cell_type": "markdown",
   "metadata": {},
   "source": [
    "### Transcription Solutions\n",
    "Querying the solution of an `InfiniteModel` is done in similar manner to `JuMP` models.\n",
    "\n",
    "Let's begin by creating and solving a model:"
   ]
  },
  {
   "cell_type": "code",
   "execution_count": 99,
   "metadata": {},
   "outputs": [],
   "source": [
    "model = InfiniteModel(HiGHS.Optimizer)\n",
    "set_silent(model)\n",
    "@infinite_parameter(model, t in [0, 10], num_supports = 10)\n",
    "@variable(model, y >= 0, Infinite(t))\n",
    "@variable(model, z >= 0)\n",
    "@objective(model, Min, 2z)\n",
    "@constraint(model, c1, z >= y)\n",
    "@constraint(model, c2, y(0) == 42)\n",
    "optimize!(model)"
   ]
  },
  {
   "cell_type": "markdown",
   "metadata": {},
   "source": [
    "We can do all the model based queries in exactly the same way to `JuMP`:"
   ]
  },
  {
   "cell_type": "code",
   "execution_count": 100,
   "metadata": {},
   "outputs": [
    {
     "name": "stdout",
     "output_type": "stream",
     "text": [
      "termination_status(model) = MathOptInterface.OPTIMAL\n",
      "primal_status(model) = MathOptInterface.FEASIBLE_POINT\n",
      "dual_status(model) = MathOptInterface.FEASIBLE_POINT\n",
      "has_values(model) = true\n",
      "objective_value(model) = 84.0\n",
      "solve_time(model) = 0.008040189743041992\n"
     ]
    }
   ],
   "source": [
    "@show termination_status(model)\n",
    "@show primal_status(model)\n",
    "@show dual_status(model)\n",
    "@show has_values(model)\n",
    "@show objective_value(model)\n",
    "@show solve_time(model);"
   ]
  },
  {
   "cell_type": "markdown",
   "metadata": {},
   "source": [
    "We can query the values of the variables and constraints using `value`"
   ]
  },
  {
   "cell_type": "code",
   "execution_count": 101,
   "metadata": {},
   "outputs": [
    {
     "name": "stdout",
     "output_type": "stream",
     "text": [
      "value(z) = 42.0\n",
      "value(y) = [42.0, 0.0, 0.0, 0.0, 0.0, 0.0, 0.0, 0.0, 0.0, 0.0]\n",
      "value(c1) = [0.0, 42.0, 42.0, 42.0, 42.0, 42.0, 42.0, 42.0, 42.0, 42.0]\n",
      "value(c2) = 42.0\n"
     ]
    }
   ],
   "source": [
    "@show value(z)\n",
    "@show value(y)\n",
    "@show value(c1)\n",
    "@show value(c2);"
   ]
  },
  {
   "cell_type": "markdown",
   "metadata": {},
   "source": [
    "These correspond to the values of the transcription variables/constraints.\n",
    "\n",
    "We can also query the constraints as normal with methods like `dual` and `shadow_price`:"
   ]
  },
  {
   "cell_type": "code",
   "execution_count": 102,
   "metadata": {},
   "outputs": [
    {
     "name": "stdout",
     "output_type": "stream",
     "text": [
      "shadow_price(c1) = [-2.0, -0.0, -0.0, -0.0, -0.0, -0.0, -0.0, -0.0, -0.0, -0.0]\n",
      "shadow_price(c2) = -2.0\n"
     ]
    }
   ],
   "source": [
    "@show shadow_price(c1)\n",
    "@show shadow_price(c2);"
   ]
  },
  {
   "cell_type": "markdown",
   "metadata": {},
   "source": [
    "For linear models, we can even get the sensitivity report:"
   ]
  },
  {
   "cell_type": "code",
   "execution_count": 103,
   "metadata": {},
   "outputs": [
    {
     "name": "stdout",
     "output_type": "stream",
     "text": [
      "report[c2] = (-42.0, Inf)\n"
     ]
    },
    {
     "data": {
      "text/plain": [
       "10-element Vector{Tuple{Float64, Float64}}:\n",
       " (-42.0, Inf)\n",
       " (-Inf, 42.0)\n",
       " (-Inf, 42.0)\n",
       " (-Inf, 42.0)\n",
       " (-Inf, 42.0)\n",
       " (-Inf, 42.0)\n",
       " (-Inf, 42.0)\n",
       " (-Inf, 42.0)\n",
       " (-Inf, 42.0)\n",
       " (-Inf, 42.0)"
      ]
     },
     "metadata": {},
     "output_type": "display_data"
    }
   ],
   "source": [
    "report = lp_sensitivity_report(model)\n",
    "@show report[c2]\n",
    "report[c1]"
   ]
  },
  {
   "cell_type": "markdown",
   "metadata": {},
   "source": [
    "We can also interrogate the transcription model directly:"
   ]
  },
  {
   "cell_type": "code",
   "execution_count": 104,
   "metadata": {},
   "outputs": [
    {
     "data": {
      "text/plain": [
       "* Solver : HiGHS\n",
       "\n",
       "* Status\n",
       "  Termination status : OPTIMAL\n",
       "  Primal status      : FEASIBLE_POINT\n",
       "  Dual status        : FEASIBLE_POINT\n",
       "  Message from the solver:\n",
       "  \"kHighsModelStatusOptimal\"\n",
       "\n",
       "* Candidate solution\n",
       "  Objective value      : 8.40000e+01\n",
       "  Objective bound      : 0.00000e+00\n",
       "  Relative gap         : Inf\n",
       "  Dual objective value : 8.40000e+01\n",
       "\n",
       "* Work counters\n",
       "  Solve time (sec)   : 8.04019e-03\n",
       "  Simplex iterations : 0\n",
       "  Barrier iterations : 0\n",
       "  Node count         : -1\n"
      ]
     },
     "metadata": {},
     "output_type": "display_data"
    }
   ],
   "source": [
    "solution_summary(transcription_model(model))"
   ]
  },
  {
   "cell_type": "markdown",
   "metadata": {},
   "source": [
    "### Other Solution Approaches\n",
    "As we will discuss in the last module today, `InfiniteOpt.jl` is modular and new transformation approaches can readily be added.\n",
    "\n",
    "Currently, `TranscriptionOpt` is the only backend available. "
   ]
  }
 ],
 "metadata": {
  "kernelspec": {
   "display_name": "Julia 1.7.1",
   "language": "julia",
   "name": "julia-1.7"
  },
  "language_info": {
   "file_extension": ".jl",
   "mimetype": "application/julia",
   "name": "julia",
   "version": "1.7.1"
  },
  "orig_nbformat": 4
 },
 "nbformat": 4,
 "nbformat_minor": 2
}
