{
 "cells": [
  {
   "cell_type": "markdown",
   "metadata": {},
   "source": [
    "# InfiniteOpt.jl: Deployment Tools\n",
    "To conclude our tutorials, we'll highlight how we can use `InfiniteOpt.jl` to deploy innovative techniques for infinite-dimensional optimization to help drive/accelerate research and to promote the accessibility of advanced solution methods.\n",
    "\n",
    "Note the upcoming `v0.6` will make for an even better and more general extension API.\n",
    "\n",
    "## Resources\n",
    "The primary place to learn more is our website: https://pulsipher.github.io/InfiniteOpt.jl/stable/develop/extensions/\n",
    "\n",
    "We provide templates, tutorials, and manuals to get you going.\n",
    "\n",
    "Also reach out via the forum for more help: https://github.com/pulsipher/InfiniteOpt.jl/discussions\n",
    "\n",
    "## Modeling Objects"
   ]
  },
  {
   "cell_type": "markdown",
   "metadata": {},
   "source": [
    "## Measure and Derivative Approximations"
   ]
  },
  {
   "cell_type": "markdown",
   "metadata": {},
   "source": [
    "## Optimizer Models"
   ]
  }
 ],
 "metadata": {
  "language_info": {
   "name": "python"
  },
  "orig_nbformat": 4
 },
 "nbformat": 4,
 "nbformat_minor": 2
}
