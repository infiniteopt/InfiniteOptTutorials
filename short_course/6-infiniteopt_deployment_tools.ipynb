{
 "cells": [
  {
   "cell_type": "markdown",
   "metadata": {},
   "source": [
    "# InfiniteOpt.jl: Deployment Tools\n",
    "To conclude our tutorials, we'll highlight how we can use `InfiniteOpt.jl` to deploy innovative techniques for infinite-dimensional optimization to help drive/accelerate research and to promote the accessibility of advanced solution methods.\n",
    "\n",
    "Note the upcoming `v0.6` will make for an even better and more general extension API.\n",
    "\n",
    "## Resources\n",
    "The primary place to learn more is our website: https://pulsipher.github.io/InfiniteOpt.jl/stable/develop/extensions/\n",
    "\n",
    "We provide templates, tutorials, and manuals to get you going.\n",
    "\n",
    "Also reach out via the forum for more help: https://github.com/pulsipher/InfiniteOpt.jl/discussions\n",
    "\n",
    "## Modeling Objects\n",
    "The principle motivation for `InfiniteOpt.jl` is to provide a flexible API to capture general InfiniteOpt problems. Accordingly, there is opportunity to add modeling objects not natively included.\n",
    "\n",
    "### Infinite Domains\n",
    "Infinite domains fall under 2 classes in `InfiniteOpt.jl`:\n",
    "- Domains for scalar infinite parameters under the `InfiniteScalarDomain` abstract type\n",
    "- Domains for multivariate infinite parameters under the `InfiniteArrayDomain` abstract type\n",
    "\n",
    "Natively, we support:\n",
    "- Interval domains $[lb, ub]$ (bounds can be $\\pm\\infty$) via `IntervalDomain`\n",
    "- Univariate distribution co-domains via `UniDistributionDomain`\n",
    "- Multivariate distribution co-domains via `MultiDistributionDomain`\n",
    "- Combinations of scalar domains via `CollectionDomain`\n",
    "\n",
    "Adding a new domain type is a simple as defining a new struct. Let's try it out by making a type for disjoint domains $[lb_1, ub_1] \\cup [lb_2, ub_2]$:"
   ]
  },
  {
   "cell_type": "code",
   "execution_count": null,
   "metadata": {},
   "outputs": [],
   "source": [
    "using InfiniteOpt\n",
    "\n",
    "struct DisjointDomain <: InfiniteOpt.InfiniteScalarDomain\n",
    "    lb1::Float64\n",
    "    ub1::Float64\n",
    "    lb2::Float64\n",
    "    ub2::Float64\n",
    "    # constructor\n",
    "    function DisjointDomain(lb1::Real, ub1::Real, lb2::Real, ub2::Real)\n",
    "        if lb1 > ub1 || lb2 > ub2 || ub1 > lb2\n",
    "            error(\"Invalid bounds\")\n",
    "        end\n",
    "        return new(convert(Float64, lb1), convert(Float64, ub1),\n",
    "                   convert(Float64, lb2), convert(Float64, ub2))\n",
    "    end\n",
    "end"
   ]
  },
  {
   "cell_type": "markdown",
   "metadata": {},
   "source": [
    "Now we can define an infinite parameter with this new infinite domain type:"
   ]
  },
  {
   "cell_type": "code",
   "execution_count": null,
   "metadata": {},
   "outputs": [],
   "source": [
    "model = InfiniteModel()\n",
    "@infinite_parameter(model, s ∈ DisjointDomain(0, 1, 3, 4))"
   ]
  },
  {
   "cell_type": "markdown",
   "metadata": {},
   "source": [
    "Now we can represent InfiniteOpt problems with disjoint domains. To complete such an extension, we'll need to define a few functions InfiniteOpt problems with disjoint domains can be transformed. \n",
    "\n",
    "To the docs: https://pulsipher.github.io/InfiniteOpt.jl/stable/develop/extensions/#Infinite-Domains."
   ]
  },
  {
   "cell_type": "markdown",
   "metadata": {},
   "source": [
    "### Measure Operators\n",
    "Currently, the abstraction for measure operators stores 2 things:\n",
    "- The expression to be measured\n",
    "- A generic data field inherited from `MeasureData` to define what the measure is.\n",
    "\n",
    "Hence, defining new measure types is as simple as making a new `MeasureData` type.\n",
    "\n",
    "To the docs: https://pulsipher.github.io/InfiniteOpt.jl/stable/develop/extensions/#meas_data_ext.\n",
    "\n",
    "Note that currently, the measure API is intertwined with the transformation API. This will be decoupled and simplified in `v0.6`."
   ]
  },
  {
   "cell_type": "markdown",
   "metadata": {},
   "source": [
    "## Measure and Derivative Approximations\n",
    "With the ability to represent generally represent InfiniteOpt problems, we wish to add ways to approximate them.\n",
    "\n",
    "Without the need to write a whole new backend, we can extend a few functions to define new approximation methods. Note that this interface is currently in `InfiniteOpt.jl`, but will be transferred to `TranscriptionOpt` once it is fully decoupled from `InfiniteOpt.jl` in `v0.6`.\n",
    "\n",
    "### Derivatives\n",
    "We can extend how derivatives are approximated by simply creating 1 struct and extending 1 function, that's it!\n",
    "\n",
    "To the docs: https://pulsipher.github.io/InfiniteOpt.jl/stable/develop/extensions/#Derivative-Evaluation-Methods."
   ]
  },
  {
   "cell_type": "markdown",
   "metadata": {},
   "source": [
    "### Measures\n",
    "We can extend how measures are approximated. There are 3 ways to do this:\n",
    "- Create a `DiscreteMeasureData` object (easiest, but least robust)\n",
    "- For integrals, define a new evaluation method (similar to derivative approximations)\n",
    "- Create a new `MeasureData` type and define how to approximate it\n",
    "\n",
    "These are all documented in the extension documentation. Let's try the easiest one for now.\n",
    "\n",
    "`DiscreteMeasureData` assumes a measure approximation of the form:\n",
    "$$\n",
    "\\sum_{i \\in I} \\alpha_i f(\\tau_i) w(\\tau_i)\n",
    "$$\n",
    "where $\\alpha_i$ are coefficients, $w(\\cdot)$ is a weighting function, and $i \\in I$ indexes the support points. Let's make a simple approximation that uses uniformly spaced supports $\\tau_i$ with $\\alpha_i = \\frac{ub - lb}{|I|}$:"
   ]
  },
  {
   "cell_type": "code",
   "execution_count": null,
   "metadata": {},
   "outputs": [],
   "source": [
    "function uniform_grid(param, num_supports)\n",
    "    lb = lower_bound(param)\n",
    "    ub = upper_bound(param)\n",
    "    supps = collect(LinRange(lb, ub, num_supports))\n",
    "    coeffs = ones(num_supports) / num_supports * (ub - lb)\n",
    "    return DiscreteMeasureData(param, coeffs, supps, lower_bound = lb, upper_bound = ub)\n",
    "end"
   ]
  },
  {
   "cell_type": "markdown",
   "metadata": {},
   "source": [
    "Now let's try it out:"
   ]
  },
  {
   "cell_type": "code",
   "execution_count": null,
   "metadata": {},
   "outputs": [],
   "source": [
    "model = InfiniteModel()\n",
    "@infinite_parameter(model, t in [0, 5])\n",
    "@variable(model, y, Infinite(t))\n",
    "\n",
    "tdata = uniform_grid(t, 6)\n",
    "y_meas = measure(y, tdata)"
   ]
  },
  {
   "cell_type": "markdown",
   "metadata": {},
   "source": [
    "We can preview the approximation via `expand`:"
   ]
  },
  {
   "cell_type": "code",
   "execution_count": null,
   "metadata": {},
   "outputs": [],
   "source": [
    "expand(y_meas)"
   ]
  },
  {
   "cell_type": "markdown",
   "metadata": {},
   "source": [
    "## Optimizer Models\n",
    "Finally, we discuss how to implement new transformation/solution methods via the optimizer model API.\n",
    "\n",
    "Note that if you wish to make a solution/transformation backend that doesn't use `JuMP.jl`, the new API with `v0.6` will make this possible.\n",
    "\n",
    "This will require some more time to write than the above extensions, but we provide a template and guide to make this straightforward: https://pulsipher.github.io/InfiniteOpt.jl/stable/develop/extensions/#extend_optimizer_model. \n",
    "\n",
    "If you plan to do this, please reach out first on the forum: https://github.com/pulsipher/InfiniteOpt.jl/discussions.\n",
    "\n",
    "### Simple Example: Steady-State\n",
    "For a lightweight example, consider transforming a dynamic model to a steady-state one. Let's walk through an extension to implement this.\n",
    "\n",
    "First, we need to create an augmented `JuMP.Model` to work as our backend:"
   ]
  },
  {
   "cell_type": "code",
   "execution_count": null,
   "metadata": {},
   "outputs": [],
   "source": [
    "mutable struct SteadyStateData\n",
    "    # variable and constraint mapping\n",
    "    infvar_to_svar::Dict{GeneralVariableRef, VariableRef}\n",
    "    infconstr_to_sconstr::Dict{InfOptConstraintRef, ConstraintRef}\n",
    "    # constructor\n",
    "    function SteadyStateData()\n",
    "        return new(Dict{GeneralVariableRef, VariableRef}(),\n",
    "                   Dict{InfOptConstraintRef, ConstraintRef}())\n",
    "    end\n",
    "end\n",
    "\n",
    "const SSKey = :SSData # Unique indenifier for the model\n",
    "\n",
    "function SteadyStateModel(args...; kwargs...)\n",
    "    # initialize the JuMP Model\n",
    "    model = Model(args...; kwargs...)\n",
    "    model.ext[SSKey] = SteadyStateData()\n",
    "    return model\n",
    "end\n",
    "\n",
    "function steady_state_data(model::Model)\n",
    "    haskey(model.ext, SSKey) || error(\"Model is not a SteadyStateModel.\")\n",
    "    return model.ext[SSKey]\n",
    "end"
   ]
  },
  {
   "cell_type": "markdown",
   "metadata": {},
   "source": [
    "With this, we can now define an `InfiniteModel` to use a steady-state model backend:"
   ]
  },
  {
   "cell_type": "code",
   "execution_count": null,
   "metadata": {},
   "outputs": [],
   "source": [
    "using HiGHS\n",
    "\n",
    "model = InfiniteModel(HiGHS.Optimizer, OptimizerModel = SteadyStateModel)\n",
    "\n",
    "@infinite_parameter(model, t ∈ [0, 1])\n",
    "@variable(model, y[1:2] >= 0, Infinite(t))\n",
    "@variable(model, z)\n",
    "@objective(model, Min, z + ∫(y[1] + y[2], t))\n",
    "@constraint(model, c1, 2y[1] - z <= 42)\n",
    "@constraint(model, c2, ∂(y[1], t) == 4y[2] - 12)\n",
    "\n",
    "latex_formulation(model)"
   ]
  },
  {
   "cell_type": "markdown",
   "metadata": {},
   "source": [
    "To apply the transform and solve the model, we'll need to extend the `build_optimizer_model!` function:"
   ]
  },
  {
   "cell_type": "code",
   "execution_count": null,
   "metadata": {},
   "outputs": [],
   "source": [
    "## Make dispatch methods for converting InfiniteOpt expressions (assume no infinite/finite parameters, parameter functions, NLP, etc. for simplicity)\n",
    "# GeneralVariableRef\n",
    "function _make_expression(opt_model::Model, expr::GeneralVariableRef)\n",
    "    return _make_expression(opt_model, expr, index(expr))\n",
    "end\n",
    "# DecisionVariableRef\n",
    "function _make_expression(\n",
    "    opt_model::Model, \n",
    "    expr::GeneralVariableRef, \n",
    "    ::Union{InfiniteVariableIndex, FiniteVariableIndex}\n",
    "    )\n",
    "    return steady_state_data(opt_model).infvar_to_svar[expr]\n",
    "end\n",
    "# DerivativeRef\n",
    "function _make_expression(\n",
    "    opt_model::Model, \n",
    "    expr::GeneralVariableRef, \n",
    "    ::DerivativeIndex\n",
    "    )\n",
    "    return 0.0\n",
    "end\n",
    "# MeasureRef --> assume is integral\n",
    "function _make_expression(\n",
    "    opt_model::Model, \n",
    "    expr::GeneralVariableRef,\n",
    "    ::MeasureIndex\n",
    "    )\n",
    "    return _make_expression(opt_model, measure_function(expr))\n",
    "end\n",
    "# AffExpr/QuadExpr\n",
    "function _make_expression(opt_model::Model, expr::Union{GenericAffExpr, GenericQuadExpr})\n",
    "    return map_expression(v -> _make_expression(opt_model, v), expr)\n",
    "end\n",
    "\n",
    "# Implement the transformation (disclaimer: this makes a few simplifying assumptions)\n",
    "function InfiniteOpt.build_optimizer_model!(model::InfiniteModel, key::Val{SSKey})\n",
    "    # TODO check that `model` is a dynamic model\n",
    "    # clear the model for a build/rebuild\n",
    "    ss_model = InfiniteOpt.clear_optimizer_model_build!(model)\n",
    "\n",
    "    # add variables\n",
    "    for vref in all_variables(model)\n",
    "        if index(vref) isa InfiniteVariableIndex\n",
    "            start = NaN # easy hack\n",
    "        else\n",
    "            start = start_value(vref)\n",
    "            start = isnothing(start) ? NaN : start\n",
    "        end\n",
    "        lb = has_lower_bound(vref) ? lower_bound(vref) : NaN\n",
    "        ub = has_upper_bound(vref) ? upper_bound(vref) : NaN\n",
    "        new_vref = @variable(ss_model, base_name = name(vref), lower_bound = lb, upper_bound = ub, start = start)\n",
    "        steady_state_data(ss_model).infvar_to_svar[vref] = new_vref\n",
    "    end\n",
    "\n",
    "    # add the objective\n",
    "    obj_func = _make_expression(ss_model, objective_function(model))\n",
    "    set_objective(ss_model, objective_sense(model), obj_func)\n",
    "\n",
    "    # add the constraints\n",
    "    for cref in all_constraints(model, Union{GenericAffExpr, GenericQuadExpr})\n",
    "        constr = constraint_object(cref)\n",
    "        new_func = _make_expression(ss_model, constr.func)\n",
    "        new_constr = build_constraint(error, new_func, constr.set)\n",
    "        new_cref = add_constraint(ss_model, new_constr, name(cref))\n",
    "        steady_state_data(ss_model).infconstr_to_sconstr[cref] = new_cref\n",
    "    end\n",
    "\n",
    "    # update the status --> or we get an infinite loop!\n",
    "    set_optimizer_model_ready(model, true)\n",
    "    return\n",
    "end"
   ]
  },
  {
   "cell_type": "markdown",
   "metadata": {},
   "source": [
    "Now our `InfiniteModel` can be transformed and solved. Let's transform it first and see what happens:"
   ]
  },
  {
   "cell_type": "code",
   "execution_count": null,
   "metadata": {},
   "outputs": [],
   "source": [
    "build_optimizer_model!(model)\n",
    "latex_formulation(optimizer_model(model))"
   ]
  },
  {
   "cell_type": "markdown",
   "metadata": {},
   "source": [
    "It works, now let's optimize it:"
   ]
  },
  {
   "cell_type": "code",
   "execution_count": null,
   "metadata": {},
   "outputs": [],
   "source": [
    "optimize!(model)"
   ]
  },
  {
   "cell_type": "markdown",
   "metadata": {},
   "source": [
    "Now the final step is we need to use the mappings stored in `SteadyStateData` to enable solution queries. In this case, all we have to do is extend the following functions:"
   ]
  },
  {
   "cell_type": "code",
   "execution_count": null,
   "metadata": {},
   "outputs": [],
   "source": [
    "function InfiniteOpt.optimizer_model_variable(\n",
    "    vref::GeneralVariableRef,\n",
    "    key::Val{SSKey}\n",
    "    )\n",
    "    model = optimizer_model(JuMP.owner_model(vref))\n",
    "    map_dict = steady_state_data(model).infvar_to_svar\n",
    "    haskey(map_dict, vref) || error(\"Variable $vref not used in the optimizer model.\")\n",
    "    return map_dict[vref]\n",
    "end\n",
    "\n",
    "function InfiniteOpt.optimizer_model_expression(\n",
    "    expr::JuMP.AbstractJuMPScalar,\n",
    "    key::Val{SSKey}\n",
    "    )\n",
    "    model = optimizer_model(InfiniteOpt._model_from_expr(expr))\n",
    "    return _make_expression(model, expr)\n",
    "end\n",
    "\n",
    "function InfiniteOpt.optimizer_model_constraint(\n",
    "    cref::InfOptConstraintRef,\n",
    "    key::Val{SSKey}\n",
    "    )\n",
    "    model = optimizer_model(JuMP.owner_model(cref))\n",
    "    map_dict = steady_state_data(model).infconstr_to_sconstr\n",
    "    haskey(map_dict, cref) || error(\"Constraint $cref not used in the optimizer model.\")\n",
    "    return map_dict[cref]\n",
    "end"
   ]
  },
  {
   "cell_type": "markdown",
   "metadata": {},
   "source": [
    "Now we can make all the typical queries!"
   ]
  },
  {
   "cell_type": "code",
   "execution_count": null,
   "metadata": {},
   "outputs": [],
   "source": [
    "@show termination_status(model)\n",
    "@show primal_status(model)\n",
    "@show solve_time(model)\n",
    "@show objective_value(model)\n",
    "@show value.(y)\n",
    "@show value(z)\n",
    "@show value(c1)\n",
    "@show dual(c2);"
   ]
  }
 ],
 "metadata": {
  "kernelspec": {
   "display_name": "Julia 1.7.1",
   "language": "julia",
   "name": "julia-1.7"
  },
  "language_info": {
   "file_extension": ".jl",
   "mimetype": "application/julia",
   "name": "julia",
   "version": "1.7.1"
  },
  "orig_nbformat": 4
 },
 "nbformat": 4,
 "nbformat_minor": 2
}
