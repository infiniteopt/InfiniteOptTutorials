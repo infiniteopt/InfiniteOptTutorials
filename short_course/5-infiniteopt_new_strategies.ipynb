{
 "cells": [
  {
   "cell_type": "markdown",
   "metadata": {},
   "source": [
    "# `InfiniteOpt.jl`: New Formulation Strategies\n",
    "Now that we are familiar with `InfiniteOpt.jl`, let's discuss how its unifying abstraction enables new formulation techniques.\n",
    "\n",
    "![abstract](figures/abstract.png)"
   ]
  },
  {
   "cell_type": "markdown",
   "metadata": {},
   "source": [
    "## Case Study: Pandemic Control\n",
    "To have a motivating example to work with and get some practice, let's consider a pandemic control problem.\n",
    "\n",
    "### Formulation\n",
    "We wish to determine optimal social distancing policy to control spread of a contagion and minimize the economic impact of doing so. We'll model the spread of the virus through a given population using the SEIR Model which considers 4 population subsets that follow:\n",
    "$$\n",
    "\\text{Susceptible} \\rightarrow \\text{Exposed} \\rightarrow \\text{Infectious} \\rightarrow \\text{Recovered}\n",
    "$$\n",
    "The formulation is given by:\n",
    "$$\n",
    "\\begin{aligned}\n",
    "&&\\min_{} &&& \\int_{t \\in \\mathcal{D}_{t}} u(t) dt \\\\\n",
    "&& \\text{s.t.} &&& \\frac{d s(t)}{d t} = (u(t) - 1)\\beta s(i)i(t), && t \\in \\mathcal{D}_{t} \\\\\n",
    "&&&&& \\frac{d e(t)}{d t} = (1 - u(t))\\beta s(t)i(t) - \\xi e(t), && t \\in \\mathcal{D}_{t} \\\\\n",
    "&&&&& \\frac{d i(t)}{dl t} = \\xi e(t) - \\gamma i(t), && t \\in \\mathcal{D}_{t} \\\\\n",
    "&&&&& \\frac{d r(t)}{d t} = \\gamma i(t), && t \\in \\mathcal{D}_{t} \\\\\n",
    "&&&&& i(t) \\leq i_{max}, && t \\in \\mathcal{D}_{t} \\\\\n",
    "&&&&& u(t) \\in [0, 0.8], && t \\in \\mathcal{D}_{t} \\\\\n",
    "&&&&& s(t),e(t),i(t),r(t) \\in [0, 1], && t \\in \\mathcal{D}_{t} \\\\\n",
    "&&&&& s(0) = s_0, e(0) = e_0, i(0) = i_0, r(0) = r_0\n",
    "\\end{aligned}\n",
    "$$\n",
    "Here $s(t)$, $e(t)$, $i(t)$, and $r(t)$ are state variables. The control variable $u(t)$ seeks to enforce an isolation policy on the population.\n",
    "\n",
    "### Exercise: Implement it!\n",
    "**Problem**\n",
    "- Complete the model below"
   ]
  },
  {
   "cell_type": "code",
   "execution_count": null,
   "metadata": {},
   "outputs": [],
   "source": [
    "using InfiniteOpt, Ipopt\n",
    "\n",
    "# Set the parameters\n",
    "γ = 0.303\n",
    "β = 0.727\n",
    "N = 1e5\n",
    "ξ = 0.3\n",
    "i_max = 0.02\n",
    "extra_ts = [0.001, 0.002, 0.004, 0.008, 0.02, 0.04, 0.08, 0.2, 0.4, 0.8]\n",
    "e0 = 1 / N\n",
    "i0 = 0\n",
    "r0 = 0\n",
    "s0 = 1 - e0;"
   ]
  },
  {
   "cell_type": "code",
   "execution_count": null,
   "metadata": {},
   "outputs": [],
   "source": [
    "# Define the model with the Ipopt optimizer\n",
    "model =  InfiniteModel(Ipopt.Optimizer)# Finish\n",
    "set_time_limit_sec(model, 10)\n",
    "\n",
    "# Add the infinite parameter\n",
    "@infinite_parameter(model, t ∈ [0, 200], num_supports = 101) # t ∈ [0, 200] with 101 supports\n",
    "add_supports(t, extra_ts)\n",
    "\n",
    "# Add the variables\n",
    "@variable(model, 0 ≤ s ≤ 1, Infinite(t)) # 0 ≤ s(t) ≤ 1\n",
    "@variable(model, 0 ≤ e ≤ 1, Infinite(t)) # 0 ≤ e(t) ≤ 1\n",
    "@variable(model, 0 ≤ i ≤ i_max, Infinite(t)) # 0 ≤ i(t) ≤ i_max\n",
    "@variable(model, 0 ≤ r ≤ 1, Infinite(t)) # 0 ≤ r(t) ≤ 1\n",
    "@variable(model, 0 ≤ u ≤ 0.8, Infinite(t), start = 0.5) # 0 ≤ u(t) ≤ 0.8 with guess of 0.5\n",
    "\n",
    "# Add the objective\n",
    "@objective(model, Min, ∫(u, t)) # minimize ∫_{t ∈ [0, 200]} u(t) dt\n",
    "\n",
    "# Add the initial conditions\n",
    "fix(s(0), s0, force = true) # add s(0)\n",
    "fix(e(0), e0, force = true) # add e(0)\n",
    "fix(i(0), i0, force = true) # add i(0)\n",
    "fix(r(0), r0, force = true) # add r(0)\n",
    "\n",
    "# Define the SEIR equations\n",
    "@constraint(model, ∂(s, t) == -(1 - u) * β * s * i) # d/dt[s(t)] = -(1 - u(t))βs(t)i(t)\n",
    "@constraint(model, ∂(e, t) == (1 - u) * β * s * i - ξ * e) # d/dt[e(t)] = (1 - u(t))βs(t)i(t) - ξe(t)\n",
    "@constraint(model, ∂(i, t) == ξ * e - γ * i) # d/dt[i(t)] = ξe(t) - γi(t)\n",
    "@constraint(model, ∂(r, t) == γ * i) # d/dt[r(t)] = γi(t)\n",
    "\n",
    "# Print the model \n",
    "latex_formulation(model)"
   ]
  },
  {
   "cell_type": "code",
   "execution_count": null,
   "metadata": {},
   "outputs": [],
   "source": [
    "optimize!(model)"
   ]
  },
  {
   "cell_type": "code",
   "execution_count": null,
   "metadata": {},
   "outputs": [],
   "source": [
    "using Plots\n",
    "\n",
    "function plot_solution(model)\n",
    "    has_values(model) || error(\"No solution!\")\n",
    "\n",
    "    # Get the solution\n",
    "    s_opt = value(s) * 100 # values of s(t) * 100\n",
    "    i_opt = value(e) * 100 # values of e(t) * 100\n",
    "    e_opt = value(i) * 100 # values of i(t) * 100\n",
    "    r_opt = value(r) * 100 # values of r(t) * 100\n",
    "    u_opt = value(u) # values of u(t)\n",
    "    ts = value(t) # values of t\n",
    "\n",
    "    # Plot s(t) and r(t)\n",
    "    p1 = plot(ts, s_opt, label = \"s(t)\", linecolor = :blue)\n",
    "    plot!(ts, r_opt, label = \"r(t)\", linecolor = :red)\n",
    "    ylabel!(\"Pop. (%)\")\n",
    "    xlabel!(\"Time (Days)\")\n",
    "\n",
    "    # Plot e(t) and i(t)\n",
    "    p2 = plot(ts, e_opt, label = \"e(t)\", linecolor = :blue)\n",
    "    plot!(ts, i_opt, label = \"i(t)\", linecolor = :red)\n",
    "    ylabel!(\"Pop. (%)\")\n",
    "    xlabel!(\"Time (Days)\")\n",
    "\n",
    "    # Plot u(t)\n",
    "    p3 = plot(ts, u_opt, linecolor = :orange, label = \"u(t)\", ylims = (-0.02, 1.02))\n",
    "    xlabel!(\"Time (Days)\")\n",
    "    ylabel!(\"Distancing Ratio\")\n",
    "\n",
    "    return plot(p1, p2, p3, layout = (3,1))\n",
    "end\n",
    "\n",
    "plot_solution(model)"
   ]
  },
  {
   "cell_type": "markdown",
   "metadata": {},
   "source": [
    "## Dynamic Risk Measures\n",
    "Following our unifying abstraction, we can transfer concepts from one field of optimization to another. We'll see how this is the case with transferring risk measures from stochastic optimization to dynamic optimization.\n",
    "\n",
    "### Time-Valued Expectations\n",
    "Recall that `InfiniteOpt.jl` natively provides integral and expectation measures. What if we tried changing the objective function in the above example to use `𝔼` instead of `∫`?"
   ]
  },
  {
   "cell_type": "code",
   "execution_count": null,
   "metadata": {},
   "outputs": [],
   "source": [
    "@objective(model, Min, 𝔼(u, t))\n",
    "\n",
    "optimize!(model)\n",
    "\n",
    "plot_solution(model)"
   ]
  },
  {
   "cell_type": "markdown",
   "metadata": {},
   "source": [
    "We get the same solution, but why? Let's look at the math. The expectation measure in time is:\n",
    "$$\n",
    "\\mathbb{E}_t[u(t)] = \\int_{t_0}^{t_f} u(t) p(t) dt\n",
    "$$\n",
    "where $p(t)$ is the time-valued pdf function which by default is $p(t) = \\frac{1}{t_f - t_0}$. Hence, this is scaled by a constant $\\frac{1}{t_f - t_0}$, but is otherwise equivalent to the integral.\n",
    "\n",
    "However, we can choose other pdfs. Let's try $p(t) = \\exp(-t)$ and see what happens:"
   ]
  },
  {
   "cell_type": "code",
   "execution_count": null,
   "metadata": {},
   "outputs": [],
   "source": [
    "@objective(model, Min, 𝔼(u, t, pdf = t -> exp(-t)))\n",
    "\n",
    "optimize!(model)\n",
    "\n",
    "plot_solution(model)"
   ]
  },
  {
   "cell_type": "markdown",
   "metadata": {},
   "source": [
    "The answer is different! Now the emphasis is placed on the beginning of the trajectory which leads to a new shape. Our choice of measure helps shape the optimal trajectories.\n",
    "\n",
    "We can envision adapting other pdfs from distributions to a time context and shaping the trajectories in other ways. \n",
    "\n",
    "#### Exercise: Varying pdfs\n",
    "**Problem**\n",
    "- Vary the pdf and see what happens\n",
    "- Try $p(t) = \\exp(-(t - 100)^2)$\n",
    "- Try $p(t) = t$\n",
    "- Try something else"
   ]
  },
  {
   "cell_type": "code",
   "execution_count": null,
   "metadata": {},
   "outputs": [],
   "source": [
    "p(t) = # PUT FUNCTION HERE\n",
    "\n",
    "@objective(model, Min, 𝔼(u, t, pdf = p))\n",
    "\n",
    "optimize!(model)\n",
    "\n",
    "plot_solution(model)"
   ]
  },
  {
   "cell_type": "markdown",
   "metadata": {},
   "source": [
    "A key observation is that expectations are one kind of *risk measure* from stochastic optimization. If this one works for time functions, what about other risk measures?"
   ]
  },
  {
   "cell_type": "markdown",
   "metadata": {},
   "source": [
    "### Mean-Variance Measures\n",
    "Another risk measure is the mean-variance measure which using a time-valued expectation becomes:\n",
    "$$\n",
    "\\mathbb{E}\\text{-}\\mathbb{V}_t[u(t)] = \\mathbb{E}_t[u(t)] + \\lambda \\mathbb{E}_t\\left[(u(t) - \\mathbb{E}_t[u(t)])^2\\right]\n",
    "$$\n",
    "where $\\lambda \\in \\mathbb{R}_+$ is a tradeoff parameter. Let's see what this does to our problem:"
   ]
  },
  {
   "cell_type": "code",
   "execution_count": null,
   "metadata": {},
   "outputs": [],
   "source": [
    "λ = 10 # try varying the value\n",
    "@objective(model, Min, 𝔼(u, t) + λ * 𝔼((u - 𝔼(u, t))^2, t))\n",
    "\n",
    "optimize!(model)\n",
    "\n",
    "plot_solution(model)"
   ]
  },
  {
   "cell_type": "markdown",
   "metadata": {},
   "source": [
    "The variance term has the effect of smoothing our control trajectory. We can imagine what varying the pdf might do, but we'll save that for another day."
   ]
  },
  {
   "cell_type": "markdown",
   "metadata": {},
   "source": [
    "### Conditional-Value-at-Risk (CVaR)\n",
    "One very popular risk measure is CVaR, because it penalizes high costs (not the low ones) in contrast to mean-variance which penalizes both. CVaR is defined:\n",
    "$$\n",
    "\\text{CVaR}_t(u(t); \\alpha) = \\underset{z \\in \\mathbb{R}}{\\text{inf}}\\left\\{z + \\frac{1}{1-\\alpha} \\mathbb{E}_t[\\text{max}(0, u(t) - z)] \\right\\}\n",
    "$$\n",
    "where $\\alpha \\in [0, 1)$ what fraction of peak values are penalized. For a minimization problem, this can be reformulated into:\n",
    "$$\n",
    "\\begin{aligned}\n",
    "&&\\min &&& z + \\frac{1}{1-\\alpha} \\mathbb{E}_t[q(t)] \\\\\n",
    "&&\\text{s.t.} &&& q(t) \\geq u(t) - z, && t \\in \\mathcal{D}_t\\\\\n",
    "&&&&& q(t) \\geq 0, && t \\in \\mathcal{D}_t\\\\\n",
    "\\end{aligned}\n",
    "$$\n",
    "Let's implement it:"
   ]
  },
  {
   "cell_type": "code",
   "execution_count": null,
   "metadata": {},
   "outputs": [],
   "source": [
    "@finite_parameter(model, α == 0)\n",
    "@variable(model, z)\n",
    "@variable(model, q ≥ 0, Infinite(t))\n",
    "@objective(model, Min, z + 1 / (1 - α) * 𝔼(q, t))\n",
    "@constraint(model, q ≥ u - z)\n",
    "\n",
    "optimize!(model)\n",
    "\n",
    "plot_solution(model)"
   ]
  },
  {
   "cell_type": "markdown",
   "metadata": {},
   "source": [
    "Ok, $\\alpha = 0$ gave us the same result as using the integral.\n",
    "\n",
    "#### Exercise: CVaR\n",
    "**Problem**\n",
    "- Vary the value of $\\alpha$ and see the effects"
   ]
  },
  {
   "cell_type": "code",
   "execution_count": null,
   "metadata": {},
   "outputs": [],
   "source": [
    "set_value(α, 0) # change the value\n",
    "\n",
    "optimize!(model)\n",
    "\n",
    "plot_solution(model)"
   ]
  }
 ],
 "metadata": {
  "kernelspec": {
   "display_name": "Julia 1.7.1",
   "language": "julia",
   "name": "julia-1.7"
  },
  "language_info": {
   "file_extension": ".jl",
   "mimetype": "application/julia",
   "name": "julia",
   "version": "1.7.1"
  },
  "orig_nbformat": 4
 },
 "nbformat": 4,
 "nbformat_minor": 2
}
