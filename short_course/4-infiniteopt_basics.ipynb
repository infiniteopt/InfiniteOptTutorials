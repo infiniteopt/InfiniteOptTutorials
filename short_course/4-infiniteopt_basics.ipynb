{
 "cells": [
  {
   "cell_type": "markdown",
   "metadata": {},
   "source": [
    "# `InfiniteOpt.jl`: The Basics\n",
    "Now that we are familiarized with Julia and `JuMP.jl`, let's talk about how `InfiniteOpt.jl` builds upon `JuMP.jl` to allow us to intuitively model infinite-dimensional optimization problems.\n",
    "\n",
    "## Resources\n",
    "Again, there is only so much that we can cover in a tutorial. Helpful resources include:\n",
    "- The documentation: https://pulsipher.github.io/InfiniteOpt.jl/stable/.\n",
    "- The paper: https://www.sciencedirect.com/science/article/pii/S0098135421003458?via%3Dihub \n",
    "- The open-source paper: https://arxiv.org/abs/2106.12689\n",
    "- The `InfiniteOpt.jl` forum: https://github.com/pulsipher/InfiniteOpt.jl/discussions"
   ]
  },
  {
   "cell_type": "markdown",
   "metadata": {},
   "source": [
    "## Optimal Control in `JuMP.jl`\n",
    "To motivate `InfiniteOpt.jl`, let's consider modeling a simple optimal control problem in `JuMP.jl`.\n",
    "\n",
    "### The Formulation\n",
    "We'll take a look at a trajectory control problem:\n",
    "$$\n",
    "\\begin{aligned}\n",
    "&&\\underset{x(t), v(t), u(t)}{\\text{min}} &&& \\int_{t \\in \\mathcal{D}_t} ||u(t)||_2^2 dt  \\\\\n",
    "&&\\text{s.t.} &&& v(0) = v0\\\\\n",
    "&&&&& \\frac{dx}{dt} = v(t), && t \\in \\mathcal{D}_t\\\\\n",
    "&&&&& \\frac{dv}{dt} = u(t), && t \\in \\mathcal{D}_t\\\\\n",
    "&&&&& x(t_j) = xw_j, && j \\in J\n",
    "\\end{aligned}\n",
    "$$\n",
    "Here position $x(t) \\in \\mathbb{R}^2$ and velocity $v(t) \\in \\mathbb{R}^2$ are state variables. The control variable $u(t) \\in \\mathbb{R}^2$ controls the acceleration (thrust) of the vehicle. Here we wish to plan a path that passes through all the waypoints $xw_i$ and minimizes the thrust used.\n",
    "\n",
    "We cannot directly model this with `JuMP.jl` because the variables are functions of time $t$ and the formulation contains an integrals/derivatives. This is an infinite-dimensional problem.\n",
    "\n",
    "### Discretize\n",
    "We can transform it into a finite optimization `JuMP.jl` can handle by discretizing the variables over time and applying appropriate approximations to the integral/derivatives. \n",
    "\n",
    "We will transform the model via:\n",
    "- let $\\mathcal{D}_t = [0, T]$ and choose $n$ time steps such that $\\Delta t = \\frac{T}{n}$\n",
    "- discretize each infinite variable (e.g., $\\{x_t: t \\in \\{0, 1, \\dots, n\\}$)\n",
    "- replace the integral with a sum over time\n",
    "- approximate the derivatives via implicit Euler\n",
    "\n",
    "With these steps, we obtain:\n",
    "$$\n",
    "\\begin{aligned}\n",
    "&&\\underset{x_t, v_t, u_t}{\\text{min}} &&& \\sum_{t \\in \\{1, \\dots, n\\}} u_{1,t}^2 + u_{2,t}^2  \\\\\n",
    "&&\\text{s.t.} &&& x_{i,t+1} = x_{i,t} + \\Delta t v_{i,t+1}, && i \\in I, t \\in \\{0, 1, \\dots, n-1\\}\\\\\n",
    "&&&&& v_{i,t+1} = v_{i,t} + \\Delta t u_{i,t+1}, && i \\in I, t \\in \\{0, 1, \\dots, n-1\\}\\\\\n",
    "&&&&& x_{i,t} = xw_{i,t}, && i \\in I, t \\in Tw \\\\\n",
    "&&&&& v_{i,0} = v0_i, && i \\in I \\\\\n",
    "\\end{aligned}\n",
    "$$\n",
    "\n",
    "This is a discrete time model that we can formulate with `JuMP.jl`, let's try it out!"
   ]
  },
  {
   "cell_type": "markdown",
   "metadata": {},
   "source": [
    "### Exercise: Optimal Control in `JuMP.jl`\n",
    "**Problem**\n",
    "- Implement the above model in `JuMP.jl`\n",
    "- Add variables\n",
    "- Add the objective\n",
    "- Add the constraints"
   ]
  },
  {
   "cell_type": "code",
   "execution_count": null,
   "metadata": {},
   "outputs": [],
   "source": [
    "using JuMP, HiGHS\n",
    "\n",
    "# Set the parameters\n",
    "n = 60\n",
    "Δt = 60 / n \n",
    "I = 1:2\n",
    "v0 = zeros(2)\n",
    "\n",
    "# Set the waypoint data\n",
    "p = [1 4 6 1; 1 3 0 1]\n",
    "Tw = [0, 25, 50, 60]\n",
    "xw = JuMP.Containers.DenseAxisArray(p, I, Tw)\n",
    "\n",
    "# Define the model\n",
    "model = Model(HiGHS.Optimizer)\n",
    "\n",
    "# PUT CODE HERE\n",
    "\n",
    "\n",
    "# Optimize the model\n",
    "optimize!(model)\n",
    "\n",
    "# Get the results\n",
    "if has_values(model)\n",
    "    x_opt = value.(x)\n",
    "end\n"
   ]
  },
  {
   "cell_type": "code",
   "execution_count": null,
   "metadata": {},
   "outputs": [],
   "source": [
    "using Plots\n",
    "\n",
    "scatter(xw[1,:].data, xw[2,:].data, label = \"Waypoints\")\n",
    "plot!(x_opt[1, :].data, x_opt[2, :].data, label = \"Trajectory\")\n",
    "xlabel!(\"x_1\")\n",
    "ylabel!(\"x_2\")"
   ]
  },
  {
   "cell_type": "markdown",
   "metadata": {},
   "source": [
    "This works for this simple case, but we can start to think about some limitations:\n",
    "- What if we want to implement a non-uniform grid?\n",
    "- What about implementing (and switching between) derivative approximations (e.g., orthogonal collocation)?\n",
    "- What about higher fidelity integral approximations?\n",
    "- What about managing differing grid point between varied integral/derivative approximation schemes?\n",
    "- What if we want to solve our model without discretization?\n",
    "- What if we want to add uncertainty and/or PDE constraints?\n",
    "\n",
    "We could resolve the majority of the above points by manually deriving a finite formulation for `JuMP.jl` each time, but this is cumbersome and prone to error. Hence, it is common to define the model once in discrete time and call it good.\n",
    "\n",
    "However, characterizing models in discretized forms makes it likely for us to miss the insights we can gain from the infinite-dimensional form of the problem."
   ]
  },
  {
   "cell_type": "markdown",
   "metadata": {},
   "source": [
    "### Modeling in `InfiniteOpt.jl`\n",
    "`InfiniteOpt.jl` is built upon our unifying abstraction for infinite-dimensional optimization. Moreover, it leverages `JuMP`'s architecture to have an intuitive interface.\n",
    "\n",
    "Let's model the hovercraft optimal control problem in its native infinite-dimensional form using `InfiniteOpt.jl`:"
   ]
  },
  {
   "cell_type": "code",
   "execution_count": null,
   "metadata": {},
   "outputs": [],
   "source": [
    "using InfiniteOpt, HiGHS\n",
    "\n",
    "# Set the parameters\n",
    "v0 = zeros(2)\n",
    "I = 1:2\n",
    "p = [1 4 6 1; 1 3 0 1]\n",
    "Tw = [0, 25, 50, 60]\n",
    "xw = JuMP.Containers.DenseAxisArray(p, I, Tw)\n",
    "\n",
    "# Create the model\n",
    "model = InfiniteModel(HiGHS.Optimizer)\n",
    "@infinite_parameter(model, t ∈ [0, 60], num_supports = 61)\n",
    "@variable(model, x[I], Infinite(t))\n",
    "@variable(model, v[I], Infinite(t))\n",
    "@variable(model, u[I], Infinite(t))\n",
    "@objective(model, Min, ∫(u[1]^2 + u[2]^2, t))\n",
    "@constraint(model, ∂.(x, t) .== v)\n",
    "@constraint(model, ∂.(v, t) .== u)\n",
    "@constraint(model, [i ∈ I], v[i](0) == v0[i])\n",
    "@constraint(model, [i = I, j = Tw], x[i](j) == xw[i, j])\n",
    "\n",
    "# Optimize the model\n",
    "optimize!(model)\n",
    "\n",
    "# Get the results\n",
    "if has_values(model)\n",
    "    x_opt = value.(x)\n",
    "end\n"
   ]
  },
  {
   "cell_type": "code",
   "execution_count": null,
   "metadata": {},
   "outputs": [],
   "source": [
    "using Plots\n",
    "\n",
    "scatter(xw[1,:].data, xw[2,:].data, label = \"Waypoints\")\n",
    "plot!(x_opt[1], x_opt[2], label = \"Trajectory\")\n",
    "xlabel!(\"x_1\")\n",
    "ylabel!(\"x_2\")"
   ]
  },
  {
   "cell_type": "markdown",
   "metadata": {},
   "source": [
    "We were able to express the model in its infinite form and `InfiniteOpt.jl` took care of the rest!\n",
    "\n",
    "Below we will walk through each step of what we just did and learn about how `InfiniteOpt.jl` works."
   ]
  },
  {
   "cell_type": "markdown",
   "metadata": {},
   "source": [
    "## Modeling in `InfiniteOpt.jl`\n",
    "We will walk through each step of what we just did and learn about how `InfiniteOpt.jl` works.\n",
    "\n",
    "### Infinite Models\n"
   ]
  }
 ],
 "metadata": {
  "kernelspec": {
   "display_name": "Julia 1.7.1",
   "language": "julia",
   "name": "julia-1.7"
  },
  "language_info": {
   "file_extension": ".jl",
   "mimetype": "application/julia",
   "name": "julia",
   "version": "1.7.1"
  },
  "orig_nbformat": 4
 },
 "nbformat": 4,
 "nbformat_minor": 2
}
